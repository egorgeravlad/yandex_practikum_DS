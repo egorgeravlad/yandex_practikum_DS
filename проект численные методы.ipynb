{
 "cells": [
  {
   "cell_type": "markdown",
   "metadata": {},
   "source": [
    "<div class=\"alert alert-block alert-info\">\n",
    "<b>Комментарий ревьюера:</b>\n",
    "\n",
    "Мне понравился твой проект! Спасибо за качественную работу)\n",
    "</div>"
   ]
  },
  {
   "cell_type": "markdown",
   "metadata": {},
   "source": [
    "Привет, Егор!)\n",
    "<br> Меня зовут Дуолан 👋 Буду проверять твой проект. Давай вместе доведем его до идеала 😉\n",
    "<br> Дальнейшее общение будет происходить на «ты», если это не вызывает никаких проблем.\n",
    "<br> Желательно реагировать на каждый мой комментарий («исправил», «не понятно как исправить ошибку», ...)\n",
    "<br> Пожалуйста, не удаляй мои комментарии, они будут необходимы для повторного ревью.\n",
    "\n",
    "Комментарии будут в <font color='green'>зеленой</font>, <font color='blue'>синей</font> или <font color='red'>красной</font> рамках:\n",
    "\n",
    "<div class=\"alert alert-block alert-success\">\n",
    "<b>✔️ Успех:</b> Если все сделано отлично\n",
    "</div>\n",
    "\n",
    "<div class=\"alert alert-block alert-warning\">\n",
    "<b>⚠️ Совет:</b> Если можно немного улучшить\n",
    "</div>\n",
    "\n",
    "<div class=\"alert alert-block alert-danger\">\n",
    "<b>❌ Замечание:</b> Если требуются исправления\n",
    "</div>\n",
    "\n",
    "Работа не может быть принята с красными комментариями.\n",
    "\n",
    "-------------------\n",
    "\n",
    "Будет очень хорошо, если ты будешь помечать свои действия следующим образом:\n",
    "\n",
    "<div class=\"alert alert-block alert-info\">\n",
    "<b>Комментарий студента:</b> Дуолан, привет. Спасибо)\n",
    "</div>\n",
    "\n",
    "<div class=\"alert alert-block alert-info\">\n",
    "<b>Изменения:</b> Были внесены следующие изменения ...\n",
    "</div>"
   ]
  },
  {
   "cell_type": "markdown",
   "metadata": {},
   "source": [
    "# Определение стоимости автомобилей"
   ]
  },
  {
   "cell_type": "markdown",
   "metadata": {},
   "source": [
    "Сервис по продаже автомобилей с пробегом «Не бит, не крашен» разрабатывает приложение для привлечения новых клиентов. В нём можно быстро узнать рыночную стоимость своего автомобиля. Для нашей работы заказчиком предоставлены исторические данные: технические характеристики, комплектации и цены автомобилей. \n",
    "\n",
    "**Цели и задачи проекта:** \n",
    "- необходимо построить модель для определения рыночной стоимости автомобиля в новом приложении. \n",
    "\n",
    "**Заказчику важны:**\n",
    "\n",
    "- качество предсказания;\n",
    "- скорость предсказания;\n",
    "- время обучения.\n",
    "\n",
    "**Описание данных**\n",
    "\n",
    "*Признаки*\n",
    "- DateCrawled — дата скачивания анкеты из базы\n",
    "- VehicleType — тип автомобильного кузова\n",
    "- RegistrationYear — год регистрации автомобиля\n",
    "- Gearbox — тип коробки передач\n",
    "- Power — мощность (л. с.)\n",
    "- Model — модель автомобиля\n",
    "- Kilometer — пробег (км)\n",
    "- RegistrationMonth — месяц регистрации автомобиля\n",
    "- FuelType — тип топлива\n",
    "- Brand — марка автомобиля\n",
    "- Repaired — была машина в ремонте или нет\n",
    "- DateCreated — дата создания анкеты\n",
    "- NumberOfPictures — количество фотографий автомобиля\n",
    "- PostalCode — почтовый индекс владельца анкеты (пользователя)\n",
    "- LastSeen — дата последней активности пользователя\n",
    "\n",
    "*Целевой признак*\n",
    "- Price — цена (евро)\n",
    "\n",
    "**План работы:**\n",
    "- Изучить данные. Заполнить пропущенные значения и обработать аномалии в столбцах. Избавиться от неинформативных столбцов\n",
    "- Подготовить выборки для обучения моделей.\n",
    "- Обучить разные модели, одна из которых — LightGBM, а вторая без бустинга - Дерево решений.\n",
    "- Проанализировать время обучения, время предсказания и качество моделей.\n",
    "- Рекомендовать лучшую модель по критериям заказчика и проверить её качество на тестовой выборке.\n",
    "\n",
    "**Примечания от заказчика:**\n",
    "- Использовать метрику RMSE для оценки моделей\n",
    "- Значение метрики RMSE должно быть меньше 2500"
   ]
  },
  {
   "cell_type": "markdown",
   "metadata": {},
   "source": [
    "<div class=\"alert alert-block alert-warning\">\n",
    "<b>⚠️ Совет:</b> \n",
    "\n",
    "Важно чтобы в проектах было подробное описание: когда потенциальные работодатели будут смотреть твой проект в портфолио, им нужно будет понимать задачу, чтобы можно было оценить её решение. Вот что можно добавить:\n",
    "    \n",
    "* Описание целей и задачи проекта\n",
    "* Описание данных\n",
    "* План работы\n",
    "\n",
    "И рекомендую писать введение от первого лица множественного числа. Так работа выглядит более самостоятельной)\n",
    "</div>"
   ]
  },
  {
   "cell_type": "markdown",
   "metadata": {},
   "source": [
    "<div class=\"alert alert-block alert-info\">\n",
    "<b>Комментарий студента:</b> Спасибо, согласен. Поправил\n",
    "</div>"
   ]
  },
  {
   "cell_type": "markdown",
   "metadata": {},
   "source": [
    "<div class=\"alert alert-block alert-success\">\n",
    "<b>V2 ✔️ Успешно исправлено</b>\n",
    "</div>"
   ]
  },
  {
   "cell_type": "markdown",
   "metadata": {},
   "source": [
    "## Подготовка данных"
   ]
  },
  {
   "cell_type": "markdown",
   "metadata": {},
   "source": [
    "### Импорт библиотек"
   ]
  },
  {
   "cell_type": "code",
   "execution_count": 105,
   "metadata": {},
   "outputs": [],
   "source": [
    "import pandas as pd\n",
    "import numpy as np\n",
    "\n",
    "import seaborn as sns\n",
    "import matplotlib.pyplot as plt\n",
    "from statistics import mode\n",
    "\n",
    "from sklearn.model_selection import train_test_split\n",
    "from sklearn.metrics import mean_squared_error\n",
    "from sklearn.preprocessing import StandardScaler\n",
    "from sklearn.preprocessing import OrdinalEncoder\n",
    "from sklearn.tree import DecisionTreeRegressor\n",
    "from sklearn.ensemble import RandomForestRegressor\n",
    "from sklearn.linear_model import LinearRegression\n",
    "\n",
    "from catboost import CatBoostClassifier\n",
    "from lightgbm import LGBMRegressor\n",
    "from catboost import Pool, cv\n",
    "from sklearn.model_selection import RepeatedKFold\n",
    "\n",
    "from sklearn.metrics import make_scorer\n",
    "from sklearn.model_selection import GridSearchCV\n",
    "from sklearn.dummy import DummyRegressor\n",
    "from sklearn.pipeline import make_pipeline\n",
    "from sklearn.model_selection import cross_val_score"
   ]
  },
  {
   "cell_type": "code",
   "execution_count": 96,
   "metadata": {},
   "outputs": [
    {
     "name": "stdout",
     "output_type": "stream",
     "text": [
      "Collecting tabulate\n",
      "  Downloading tabulate-0.9.0-py3-none-any.whl (35 kB)\n",
      "Installing collected packages: tabulate\n",
      "Successfully installed tabulate-0.9.0\n",
      "Note: you may need to restart the kernel to use updated packages.\n"
     ]
    }
   ],
   "source": [
    "pip install tabulate"
   ]
  },
  {
   "cell_type": "code",
   "execution_count": 2,
   "metadata": {},
   "outputs": [],
   "source": [
    "try:\n",
    "    df = pd.read_csv('/datasets/autos.csv')\n",
    "except:\n",
    "    df = pd.read_csv('/https://code.s3.yandex.net/datasets/autos.csv')"
   ]
  },
  {
   "cell_type": "code",
   "execution_count": 3,
   "metadata": {},
   "outputs": [
    {
     "name": "stdout",
     "output_type": "stream",
     "text": [
      "Requirement already satisfied: pandas-profiling==2.7.1 in /opt/conda/lib/python3.9/site-packages (2.7.1)\n",
      "Requirement already satisfied: scipy>=1.4.1 in /opt/conda/lib/python3.9/site-packages (from pandas-profiling==2.7.1) (1.9.1)\n",
      "Requirement already satisfied: phik>=0.9.10 in /opt/conda/lib/python3.9/site-packages (from pandas-profiling==2.7.1) (0.12.2)\n",
      "Requirement already satisfied: astropy>=4.0 in /opt/conda/lib/python3.9/site-packages (from pandas-profiling==2.7.1) (5.1.1)\n",
      "Requirement already satisfied: pandas!=1.0.0,!=1.0.1,!=1.0.2,>=0.25.3 in /opt/conda/lib/python3.9/site-packages (from pandas-profiling==2.7.1) (1.2.4)\n",
      "Requirement already satisfied: joblib in /opt/conda/lib/python3.9/site-packages (from pandas-profiling==2.7.1) (1.1.0)\n",
      "Requirement already satisfied: missingno>=0.4.2 in /opt/conda/lib/python3.9/site-packages (from pandas-profiling==2.7.1) (0.5.1)\n",
      "Requirement already satisfied: tqdm>=4.43.0 in /opt/conda/lib/python3.9/site-packages (from pandas-profiling==2.7.1) (4.61.2)\n",
      "Requirement already satisfied: jinja2>=2.11.1 in /opt/conda/lib/python3.9/site-packages (from pandas-profiling==2.7.1) (3.0.1)\n",
      "Requirement already satisfied: confuse>=1.0.0 in /opt/conda/lib/python3.9/site-packages (from pandas-profiling==2.7.1) (2.0.0)\n",
      "Requirement already satisfied: htmlmin>=0.1.12 in /opt/conda/lib/python3.9/site-packages (from pandas-profiling==2.7.1) (0.1.12)\n",
      "Requirement already satisfied: tangled-up-in-unicode>=0.0.4 in /opt/conda/lib/python3.9/site-packages (from pandas-profiling==2.7.1) (0.2.0)\n",
      "Requirement already satisfied: visions[type_image_path]==0.4.1 in /opt/conda/lib/python3.9/site-packages (from pandas-profiling==2.7.1) (0.4.1)\n",
      "Requirement already satisfied: matplotlib>=3.2.0 in /opt/conda/lib/python3.9/site-packages (from pandas-profiling==2.7.1) (3.3.4)\n",
      "Requirement already satisfied: numpy>=1.16.0 in /opt/conda/lib/python3.9/site-packages (from pandas-profiling==2.7.1) (1.21.1)\n",
      "Requirement already satisfied: requests>=2.23.0 in /opt/conda/lib/python3.9/site-packages (from pandas-profiling==2.7.1) (2.25.1)\n",
      "Requirement already satisfied: ipywidgets>=7.5.1 in /opt/conda/lib/python3.9/site-packages (from pandas-profiling==2.7.1) (7.6.3)\n",
      "Requirement already satisfied: networkx>=2.4 in /opt/conda/lib/python3.9/site-packages (from visions[type_image_path]==0.4.1->pandas-profiling==2.7.1) (2.8.8)\n",
      "Requirement already satisfied: attrs>=19.3.0 in /opt/conda/lib/python3.9/site-packages (from visions[type_image_path]==0.4.1->pandas-profiling==2.7.1) (21.2.0)\n",
      "Requirement already satisfied: Pillow in /opt/conda/lib/python3.9/site-packages (from visions[type_image_path]==0.4.1->pandas-profiling==2.7.1) (8.4.0)\n",
      "Requirement already satisfied: imagehash in /opt/conda/lib/python3.9/site-packages (from visions[type_image_path]==0.4.1->pandas-profiling==2.7.1) (4.3.1)\n",
      "Requirement already satisfied: pyerfa>=2.0 in /opt/conda/lib/python3.9/site-packages (from astropy>=4.0->pandas-profiling==2.7.1) (2.0.0.1)\n",
      "Requirement already satisfied: PyYAML>=3.13 in /opt/conda/lib/python3.9/site-packages (from astropy>=4.0->pandas-profiling==2.7.1) (6.0)\n",
      "Requirement already satisfied: packaging>=19.0 in /opt/conda/lib/python3.9/site-packages (from astropy>=4.0->pandas-profiling==2.7.1) (21.3)\n",
      "Requirement already satisfied: ipykernel>=4.5.1 in /opt/conda/lib/python3.9/site-packages (from ipywidgets>=7.5.1->pandas-profiling==2.7.1) (6.0.1)\n",
      "Requirement already satisfied: ipython>=4.0.0 in /opt/conda/lib/python3.9/site-packages (from ipywidgets>=7.5.1->pandas-profiling==2.7.1) (7.25.0)\n",
      "Requirement already satisfied: jupyterlab-widgets>=1.0.0 in /opt/conda/lib/python3.9/site-packages (from ipywidgets>=7.5.1->pandas-profiling==2.7.1) (3.0.2)\n",
      "Requirement already satisfied: nbformat>=4.2.0 in /opt/conda/lib/python3.9/site-packages (from ipywidgets>=7.5.1->pandas-profiling==2.7.1) (5.1.3)\n",
      "Requirement already satisfied: traitlets>=4.3.1 in /opt/conda/lib/python3.9/site-packages (from ipywidgets>=7.5.1->pandas-profiling==2.7.1) (5.0.5)\n",
      "Requirement already satisfied: widgetsnbextension~=3.5.0 in /opt/conda/lib/python3.9/site-packages (from ipywidgets>=7.5.1->pandas-profiling==2.7.1) (3.5.2)\n",
      "Requirement already satisfied: debugpy>=1.0.0 in /opt/conda/lib/python3.9/site-packages (from ipykernel>=4.5.1->ipywidgets>=7.5.1->pandas-profiling==2.7.1) (1.3.0)\n",
      "Requirement already satisfied: tornado>=4.2 in /opt/conda/lib/python3.9/site-packages (from ipykernel>=4.5.1->ipywidgets>=7.5.1->pandas-profiling==2.7.1) (6.1)\n",
      "Requirement already satisfied: jupyter-client in /opt/conda/lib/python3.9/site-packages (from ipykernel>=4.5.1->ipywidgets>=7.5.1->pandas-profiling==2.7.1) (6.1.12)\n",
      "Requirement already satisfied: matplotlib-inline in /opt/conda/lib/python3.9/site-packages (from ipython>=4.0.0->ipywidgets>=7.5.1->pandas-profiling==2.7.1) (0.1.2)\n",
      "Requirement already satisfied: pygments in /opt/conda/lib/python3.9/site-packages (from ipython>=4.0.0->ipywidgets>=7.5.1->pandas-profiling==2.7.1) (2.9.0)\n",
      "Requirement already satisfied: setuptools>=18.5 in /opt/conda/lib/python3.9/site-packages (from ipython>=4.0.0->ipywidgets>=7.5.1->pandas-profiling==2.7.1) (49.6.0.post20210108)\n",
      "Requirement already satisfied: jedi>=0.16 in /opt/conda/lib/python3.9/site-packages (from ipython>=4.0.0->ipywidgets>=7.5.1->pandas-profiling==2.7.1) (0.18.0)\n",
      "Requirement already satisfied: prompt-toolkit!=3.0.0,!=3.0.1,<3.1.0,>=2.0.0 in /opt/conda/lib/python3.9/site-packages (from ipython>=4.0.0->ipywidgets>=7.5.1->pandas-profiling==2.7.1) (3.0.19)\n",
      "Requirement already satisfied: decorator in /opt/conda/lib/python3.9/site-packages (from ipython>=4.0.0->ipywidgets>=7.5.1->pandas-profiling==2.7.1) (5.0.9)\n",
      "Requirement already satisfied: backcall in /opt/conda/lib/python3.9/site-packages (from ipython>=4.0.0->ipywidgets>=7.5.1->pandas-profiling==2.7.1) (0.2.0)\n",
      "Requirement already satisfied: pickleshare in /opt/conda/lib/python3.9/site-packages (from ipython>=4.0.0->ipywidgets>=7.5.1->pandas-profiling==2.7.1) (0.7.5)\n",
      "Requirement already satisfied: pexpect>4.3 in /opt/conda/lib/python3.9/site-packages (from ipython>=4.0.0->ipywidgets>=7.5.1->pandas-profiling==2.7.1) (4.8.0)\n",
      "Requirement already satisfied: parso<0.9.0,>=0.8.0 in /opt/conda/lib/python3.9/site-packages (from jedi>=0.16->ipython>=4.0.0->ipywidgets>=7.5.1->pandas-profiling==2.7.1) (0.8.2)\n",
      "Requirement already satisfied: MarkupSafe>=2.0 in /opt/conda/lib/python3.9/site-packages (from jinja2>=2.11.1->pandas-profiling==2.7.1) (2.1.1)\n",
      "Requirement already satisfied: cycler>=0.10 in /opt/conda/lib/python3.9/site-packages (from matplotlib>=3.2.0->pandas-profiling==2.7.1) (0.11.0)\n",
      "Requirement already satisfied: kiwisolver>=1.0.1 in /opt/conda/lib/python3.9/site-packages (from matplotlib>=3.2.0->pandas-profiling==2.7.1) (1.4.4)\n",
      "Requirement already satisfied: python-dateutil>=2.1 in /opt/conda/lib/python3.9/site-packages (from matplotlib>=3.2.0->pandas-profiling==2.7.1) (2.8.1)\n",
      "Requirement already satisfied: pyparsing!=2.0.4,!=2.1.2,!=2.1.6,>=2.0.3 in /opt/conda/lib/python3.9/site-packages (from matplotlib>=3.2.0->pandas-profiling==2.7.1) (2.4.7)\n",
      "Requirement already satisfied: seaborn in /opt/conda/lib/python3.9/site-packages (from missingno>=0.4.2->pandas-profiling==2.7.1) (0.11.1)\n",
      "Requirement already satisfied: ipython-genutils in /opt/conda/lib/python3.9/site-packages (from nbformat>=4.2.0->ipywidgets>=7.5.1->pandas-profiling==2.7.1) (0.2.0)\n",
      "Requirement already satisfied: jsonschema!=2.5.0,>=2.4 in /opt/conda/lib/python3.9/site-packages (from nbformat>=4.2.0->ipywidgets>=7.5.1->pandas-profiling==2.7.1) (3.2.0)\n",
      "Requirement already satisfied: jupyter-core in /opt/conda/lib/python3.9/site-packages (from nbformat>=4.2.0->ipywidgets>=7.5.1->pandas-profiling==2.7.1) (4.7.1)\n",
      "Requirement already satisfied: pyrsistent>=0.14.0 in /opt/conda/lib/python3.9/site-packages (from jsonschema!=2.5.0,>=2.4->nbformat>=4.2.0->ipywidgets>=7.5.1->pandas-profiling==2.7.1) (0.17.3)\n",
      "Requirement already satisfied: six>=1.11.0 in /opt/conda/lib/python3.9/site-packages (from jsonschema!=2.5.0,>=2.4->nbformat>=4.2.0->ipywidgets>=7.5.1->pandas-profiling==2.7.1) (1.16.0)\n",
      "Requirement already satisfied: pytz>=2017.3 in /opt/conda/lib/python3.9/site-packages (from pandas!=1.0.0,!=1.0.1,!=1.0.2,>=0.25.3->pandas-profiling==2.7.1) (2021.1)\n",
      "Requirement already satisfied: ptyprocess>=0.5 in /opt/conda/lib/python3.9/site-packages (from pexpect>4.3->ipython>=4.0.0->ipywidgets>=7.5.1->pandas-profiling==2.7.1) (0.7.0)\n",
      "Requirement already satisfied: wcwidth in /opt/conda/lib/python3.9/site-packages (from prompt-toolkit!=3.0.0,!=3.0.1,<3.1.0,>=2.0.0->ipython>=4.0.0->ipywidgets>=7.5.1->pandas-profiling==2.7.1) (0.2.5)\n",
      "Requirement already satisfied: idna<3,>=2.5 in /opt/conda/lib/python3.9/site-packages (from requests>=2.23.0->pandas-profiling==2.7.1) (2.10)\n",
      "Requirement already satisfied: certifi>=2017.4.17 in /opt/conda/lib/python3.9/site-packages (from requests>=2.23.0->pandas-profiling==2.7.1) (2022.6.15)\n",
      "Requirement already satisfied: chardet<5,>=3.0.2 in /opt/conda/lib/python3.9/site-packages (from requests>=2.23.0->pandas-profiling==2.7.1) (4.0.0)\n",
      "Requirement already satisfied: urllib3<1.27,>=1.21.1 in /opt/conda/lib/python3.9/site-packages (from requests>=2.23.0->pandas-profiling==2.7.1) (1.26.6)\n",
      "Requirement already satisfied: notebook>=4.4.1 in /opt/conda/lib/python3.9/site-packages (from widgetsnbextension~=3.5.0->ipywidgets>=7.5.1->pandas-profiling==2.7.1) (6.4.0)\n",
      "Requirement already satisfied: terminado>=0.8.3 in /opt/conda/lib/python3.9/site-packages (from notebook>=4.4.1->widgetsnbextension~=3.5.0->ipywidgets>=7.5.1->pandas-profiling==2.7.1) (0.10.1)\n",
      "Requirement already satisfied: Send2Trash>=1.5.0 in /opt/conda/lib/python3.9/site-packages (from notebook>=4.4.1->widgetsnbextension~=3.5.0->ipywidgets>=7.5.1->pandas-profiling==2.7.1) (1.7.1)\n",
      "Requirement already satisfied: prometheus-client in /opt/conda/lib/python3.9/site-packages (from notebook>=4.4.1->widgetsnbextension~=3.5.0->ipywidgets>=7.5.1->pandas-profiling==2.7.1) (0.11.0)\n",
      "Requirement already satisfied: pyzmq>=17 in /opt/conda/lib/python3.9/site-packages (from notebook>=4.4.1->widgetsnbextension~=3.5.0->ipywidgets>=7.5.1->pandas-profiling==2.7.1) (22.1.0)\n",
      "Requirement already satisfied: argon2-cffi in /opt/conda/lib/python3.9/site-packages (from notebook>=4.4.1->widgetsnbextension~=3.5.0->ipywidgets>=7.5.1->pandas-profiling==2.7.1) (20.1.0)\n",
      "Requirement already satisfied: nbconvert in /opt/conda/lib/python3.9/site-packages (from notebook>=4.4.1->widgetsnbextension~=3.5.0->ipywidgets>=7.5.1->pandas-profiling==2.7.1) (6.1.0)\n",
      "Requirement already satisfied: cffi>=1.0.0 in /opt/conda/lib/python3.9/site-packages (from argon2-cffi->notebook>=4.4.1->widgetsnbextension~=3.5.0->ipywidgets>=7.5.1->pandas-profiling==2.7.1) (1.14.5)\n",
      "Requirement already satisfied: pycparser in /opt/conda/lib/python3.9/site-packages (from cffi>=1.0.0->argon2-cffi->notebook>=4.4.1->widgetsnbextension~=3.5.0->ipywidgets>=7.5.1->pandas-profiling==2.7.1) (2.20)\n",
      "Requirement already satisfied: PyWavelets in /opt/conda/lib/python3.9/site-packages (from imagehash->visions[type_image_path]==0.4.1->pandas-profiling==2.7.1) (1.4.1)\n",
      "Requirement already satisfied: bleach in /opt/conda/lib/python3.9/site-packages (from nbconvert->notebook>=4.4.1->widgetsnbextension~=3.5.0->ipywidgets>=7.5.1->pandas-profiling==2.7.1) (3.3.0)\n",
      "Requirement already satisfied: mistune<2,>=0.8.1 in /opt/conda/lib/python3.9/site-packages (from nbconvert->notebook>=4.4.1->widgetsnbextension~=3.5.0->ipywidgets>=7.5.1->pandas-profiling==2.7.1) (0.8.4)\n",
      "Requirement already satisfied: nbclient<0.6.0,>=0.5.0 in /opt/conda/lib/python3.9/site-packages (from nbconvert->notebook>=4.4.1->widgetsnbextension~=3.5.0->ipywidgets>=7.5.1->pandas-profiling==2.7.1) (0.5.3)\n",
      "Requirement already satisfied: entrypoints>=0.2.2 in /opt/conda/lib/python3.9/site-packages (from nbconvert->notebook>=4.4.1->widgetsnbextension~=3.5.0->ipywidgets>=7.5.1->pandas-profiling==2.7.1) (0.3)\n",
      "Requirement already satisfied: defusedxml in /opt/conda/lib/python3.9/site-packages (from nbconvert->notebook>=4.4.1->widgetsnbextension~=3.5.0->ipywidgets>=7.5.1->pandas-profiling==2.7.1) (0.7.1)\n",
      "Requirement already satisfied: jupyterlab-pygments in /opt/conda/lib/python3.9/site-packages (from nbconvert->notebook>=4.4.1->widgetsnbextension~=3.5.0->ipywidgets>=7.5.1->pandas-profiling==2.7.1) (0.1.2)\n",
      "Requirement already satisfied: testpath in /opt/conda/lib/python3.9/site-packages (from nbconvert->notebook>=4.4.1->widgetsnbextension~=3.5.0->ipywidgets>=7.5.1->pandas-profiling==2.7.1) (0.5.0)\n",
      "Requirement already satisfied: pandocfilters>=1.4.1 in /opt/conda/lib/python3.9/site-packages (from nbconvert->notebook>=4.4.1->widgetsnbextension~=3.5.0->ipywidgets>=7.5.1->pandas-profiling==2.7.1) (1.4.2)\n",
      "Requirement already satisfied: async-generator in /opt/conda/lib/python3.9/site-packages (from nbclient<0.6.0,>=0.5.0->nbconvert->notebook>=4.4.1->widgetsnbextension~=3.5.0->ipywidgets>=7.5.1->pandas-profiling==2.7.1) (1.10)\n",
      "Requirement already satisfied: nest-asyncio in /opt/conda/lib/python3.9/site-packages (from nbclient<0.6.0,>=0.5.0->nbconvert->notebook>=4.4.1->widgetsnbextension~=3.5.0->ipywidgets>=7.5.1->pandas-profiling==2.7.1) (1.5.1)\n",
      "Requirement already satisfied: webencodings in /opt/conda/lib/python3.9/site-packages (from bleach->nbconvert->notebook>=4.4.1->widgetsnbextension~=3.5.0->ipywidgets>=7.5.1->pandas-profiling==2.7.1) (0.5.1)\n"
     ]
    }
   ],
   "source": [
    "!pip install pandas-profiling==2.7.1"
   ]
  },
  {
   "cell_type": "code",
   "execution_count": 98,
   "metadata": {},
   "outputs": [],
   "source": [
    "from tabulate import tabulate\n",
    "from pandas_profiling import ProfileReport"
   ]
  },
  {
   "cell_type": "markdown",
   "metadata": {},
   "source": [
    "<div class=\"alert alert-block alert-success\">\n",
    "<b>✔️ Успех:</b>\n",
    "\n",
    "Импорт выглядит отлично 👍\n",
    "</div>"
   ]
  },
  {
   "cell_type": "markdown",
   "metadata": {},
   "source": [
    "### Знакомство с датасетом"
   ]
  },
  {
   "cell_type": "code",
   "execution_count": 5,
   "metadata": {},
   "outputs": [],
   "source": [
    "# ProfileReport(df)"
   ]
  },
  {
   "cell_type": "markdown",
   "metadata": {},
   "source": [
    "**Множество пропусков и нестыковок. Будем поэтапно проводить обработку.**\n",
    "\n",
    "- VehicleType (пропуски значений)\n",
    "- Gearbox (пропуски значений)\n",
    "- Power (вбросы и нули)\n",
    "- Model (пропуски значений)\n",
    "- Kilometer (все ок)\n",
    "- Brand (все ок)\n",
    "- FuelType (пропуски значений)\n",
    "- Repaired (пропуски)\n",
    "- RegistrationYear (вбросы)\n",
    "\n",
    "Столбцы, которые не нужны для обучения модели:\n",
    "- DateCrawled\n",
    "- DateCreated\n",
    "- NumberOfPictures\n",
    "- PostalCode\n",
    "- LastSeen\n",
    "- RegistrationMonth (от 0 до 12, получается 13 месяцев)\n"
   ]
  },
  {
   "cell_type": "markdown",
   "metadata": {},
   "source": [
    "<div class=\"alert alert-block alert-success\">\n",
    "<b>✔️ Успех:</b>\n",
    "\n",
    "Ты хорошо владеешь методами первичного анализа данных 👍 Спасибо за информативный вывод)\n",
    "</div>"
   ]
  },
  {
   "cell_type": "markdown",
   "metadata": {},
   "source": [
    "### Тип данных -  даты и power"
   ]
  },
  {
   "cell_type": "markdown",
   "metadata": {},
   "source": [
    "Типа столбцов с датами нужно привести вместо object к datetime. Эти столбцы не пригодятся для обучения модели, но возможно понадобятся для подготовки датасета"
   ]
  },
  {
   "cell_type": "code",
   "execution_count": 6,
   "metadata": {},
   "outputs": [
    {
     "name": "stdout",
     "output_type": "stream",
     "text": [
      "<class 'pandas.core.frame.DataFrame'>\n",
      "RangeIndex: 354369 entries, 0 to 354368\n",
      "Data columns (total 3 columns):\n",
      " #   Column       Non-Null Count   Dtype         \n",
      "---  ------       --------------   -----         \n",
      " 0   DateCrawled  354369 non-null  datetime64[ns]\n",
      " 1   DateCreated  354369 non-null  datetime64[ns]\n",
      " 2   LastSeen     354369 non-null  datetime64[ns]\n",
      "dtypes: datetime64[ns](3)\n",
      "memory usage: 8.1 MB\n"
     ]
    }
   ],
   "source": [
    "df['DateCrawled'] = pd.to_datetime(df['DateCrawled'], format='%Y.%m.%d %H:%M:%S')\n",
    "df['DateCreated'] = pd.to_datetime(df['DateCreated'], format='%Y.%m.%d %H:%M:%S')\n",
    "df['LastSeen'] = pd.to_datetime(df['LastSeen'], format='%Y.%m.%d %H:%M:%S')\n",
    "\n",
    "df[['DateCrawled', 'DateCreated',\n",
    "       'LastSeen']].info()"
   ]
  },
  {
   "cell_type": "code",
   "execution_count": 7,
   "metadata": {},
   "outputs": [
    {
     "name": "stdout",
     "output_type": "stream",
     "text": [
      "<class 'pandas.core.frame.DataFrame'>\n",
      "RangeIndex: 354369 entries, 0 to 354368\n",
      "Data columns (total 1 columns):\n",
      " #   Column  Non-Null Count   Dtype  \n",
      "---  ------  --------------   -----  \n",
      " 0   Power   354369 non-null  float64\n",
      "dtypes: float64(1)\n",
      "memory usage: 2.7 MB\n"
     ]
    }
   ],
   "source": [
    "df['Power'] = df['Power'].astype('float')\n",
    "df[['Power']].info()"
   ]
  },
  {
   "cell_type": "markdown",
   "metadata": {},
   "source": [
    "<div class=\"alert alert-block alert-success\">\n",
    "<b>✔️ Успех:</b> 👍\n",
    "</div>"
   ]
  },
  {
   "cell_type": "markdown",
   "metadata": {},
   "source": [
    "### Цена"
   ]
  },
  {
   "cell_type": "markdown",
   "metadata": {},
   "source": [
    "Столбец с ценой имеет слишком много нулевых значений"
   ]
  },
  {
   "cell_type": "code",
   "execution_count": 8,
   "metadata": {},
   "outputs": [
    {
     "data": {
      "image/png": "[encoded data removed]",
      "text/plain": [
       "<Figure size 576x396 with 1 Axes>"
      ]
     },
     "metadata": {},
     "output_type": "display_data"
    }
   ],
   "source": [
    "sns.histplot(df['Price']);"
   ]
  },
  {
   "cell_type": "markdown",
   "metadata": {},
   "source": [
    "В дальнейшем все отфильтрованные значения будем помещать в новый датасет. Удалили строки, где цена меньше 100 евро. "
   ]
  },
  {
   "cell_type": "code",
   "execution_count": 9,
   "metadata": {},
   "outputs": [
    {
     "data": {
      "text/plain": [
       "0.9624289935067684"
      ]
     },
     "execution_count": 9,
     "metadata": {},
     "output_type": "execute_result"
    }
   ],
   "source": [
    "df_filtered = df.drop(df[df['Price']<100].index, axis=0)\n",
    "df_filtered.shape[0]/df.shape[0]"
   ]
  },
  {
   "cell_type": "markdown",
   "metadata": {},
   "source": [
    "<div class=\"alert alert-block alert-success\">\n",
    "<b>✔️ Успех:</b>\n",
    "\n",
    "В данных остались машины только с адекватной ценой 👍\n",
    "</div>"
   ]
  },
  {
   "cell_type": "markdown",
   "metadata": {},
   "source": [
    "### Тип кузова"
   ]
  },
  {
   "cell_type": "markdown",
   "metadata": {},
   "source": [
    "Займемся пропусками значений в столбце с типом кузова. Попытаемся заменить пропуски самым часто встречаюшимся значением кузова у бренда. В отдельной переменной сохраним таблицу с самым часто встречающимся значением (mode) типа кузова по бренду. А затем через цикл заполним пропуски в столбце с типом кузова значениями соответствующие индексу (бренд) новой переменной "
   ]
  },
  {
   "cell_type": "code",
   "execution_count": 10,
   "metadata": {},
   "outputs": [
    {
     "data": {
      "text/html": [
       "<div>\n",
       "<style scoped>\n",
       "    .dataframe tbody tr th:only-of-type {\n",
       "        vertical-align: middle;\n",
       "    }\n",
       "\n",
       "    .dataframe tbody tr th {\n",
       "        vertical-align: top;\n",
       "    }\n",
       "\n",
       "    .dataframe thead th {\n",
       "        text-align: right;\n",
       "    }\n",
       "</style>\n",
       "<table border=\"1\" class=\"dataframe\">\n",
       "  <thead>\n",
       "    <tr style=\"text-align: right;\">\n",
       "      <th></th>\n",
       "      <th>VehicleType</th>\n",
       "    </tr>\n",
       "    <tr>\n",
       "      <th>Brand</th>\n",
       "      <th></th>\n",
       "    </tr>\n",
       "  </thead>\n",
       "  <tbody>\n",
       "    <tr>\n",
       "      <th>alfa_romeo</th>\n",
       "      <td>sedan</td>\n",
       "    </tr>\n",
       "    <tr>\n",
       "      <th>audi</th>\n",
       "      <td>wagon</td>\n",
       "    </tr>\n",
       "    <tr>\n",
       "      <th>bmw</th>\n",
       "      <td>sedan</td>\n",
       "    </tr>\n",
       "    <tr>\n",
       "      <th>chevrolet</th>\n",
       "      <td>small</td>\n",
       "    </tr>\n",
       "    <tr>\n",
       "      <th>chrysler</th>\n",
       "      <td>bus</td>\n",
       "    </tr>\n",
       "    <tr>\n",
       "      <th>citroen</th>\n",
       "      <td>small</td>\n",
       "    </tr>\n",
       "    <tr>\n",
       "      <th>dacia</th>\n",
       "      <td>wagon</td>\n",
       "    </tr>\n",
       "    <tr>\n",
       "      <th>daewoo</th>\n",
       "      <td>small</td>\n",
       "    </tr>\n",
       "    <tr>\n",
       "      <th>daihatsu</th>\n",
       "      <td>small</td>\n",
       "    </tr>\n",
       "    <tr>\n",
       "      <th>fiat</th>\n",
       "      <td>small</td>\n",
       "    </tr>\n",
       "    <tr>\n",
       "      <th>ford</th>\n",
       "      <td>small</td>\n",
       "    </tr>\n",
       "    <tr>\n",
       "      <th>honda</th>\n",
       "      <td>sedan</td>\n",
       "    </tr>\n",
       "    <tr>\n",
       "      <th>hyundai</th>\n",
       "      <td>small</td>\n",
       "    </tr>\n",
       "    <tr>\n",
       "      <th>jaguar</th>\n",
       "      <td>sedan</td>\n",
       "    </tr>\n",
       "    <tr>\n",
       "      <th>jeep</th>\n",
       "      <td>suv</td>\n",
       "    </tr>\n",
       "  </tbody>\n",
       "</table>\n",
       "</div>"
      ],
      "text/plain": [
       "           VehicleType\n",
       "Brand                 \n",
       "alfa_romeo       sedan\n",
       "audi             wagon\n",
       "bmw              sedan\n",
       "chevrolet        small\n",
       "chrysler           bus\n",
       "citroen          small\n",
       "dacia            wagon\n",
       "daewoo           small\n",
       "daihatsu         small\n",
       "fiat             small\n",
       "ford             small\n",
       "honda            sedan\n",
       "hyundai          small\n",
       "jaguar           sedan\n",
       "jeep               suv"
      ]
     },
     "execution_count": 10,
     "metadata": {},
     "output_type": "execute_result"
    }
   ],
   "source": [
    "brand_type_pivot = df_filtered.pivot_table(index='Brand', values=['VehicleType'], aggfunc=lambda x: x.mode())\n",
    "brand_type_pivot.head(15)"
   ]
  },
  {
   "cell_type": "code",
   "execution_count": 11,
   "metadata": {},
   "outputs": [
    {
     "data": {
      "text/plain": [
       "array([nan, 'coupe', 'suv', 'small', 'sedan', 'convertible', 'bus',\n",
       "       'wagon', 'other'], dtype=object)"
      ]
     },
     "execution_count": 11,
     "metadata": {},
     "output_type": "execute_result"
    }
   ],
   "source": [
    "#значение nan присутствует\n",
    "df_filtered['VehicleType'].unique()"
   ]
  },
  {
   "cell_type": "code",
   "execution_count": 12,
   "metadata": {},
   "outputs": [
    {
     "data": {
      "text/plain": [
       "array(['sedan', 'coupe', 'suv', 'small', 'convertible', 'bus', 'wagon',\n",
       "       'other'], dtype=object)"
      ]
     },
     "execution_count": 12,
     "metadata": {},
     "output_type": "execute_result"
    }
   ],
   "source": [
    "for t in df_filtered['Brand'].unique():\n",
    "    df_filtered.loc[(df_filtered['Brand'] == t) & (df_filtered['VehicleType'].isna()), 'VehicleType'] = \\\n",
    "    brand_type_pivot[brand_type_pivot.index == t].values[0, 0]\n",
    "\n",
    "df_filtered['VehicleType'].unique() "
   ]
  },
  {
   "cell_type": "code",
   "execution_count": 13,
   "metadata": {},
   "outputs": [
    {
     "data": {
      "text/plain": [
       "0"
      ]
     },
     "execution_count": 13,
     "metadata": {},
     "output_type": "execute_result"
    }
   ],
   "source": [
    "df_filtered['VehicleType'].isna().sum()"
   ]
  },
  {
   "cell_type": "markdown",
   "metadata": {},
   "source": [
    "Пропуски заменены."
   ]
  },
  {
   "cell_type": "markdown",
   "metadata": {},
   "source": [
    "<div class=\"alert alert-block alert-success\">\n",
    "<b>✔️ Успех:</b>\n",
    "\n",
    "Согласен с таким заполнением 👍\n",
    "</div>"
   ]
  },
  {
   "cell_type": "markdown",
   "metadata": {},
   "source": [
    "### Коробка передач"
   ]
  },
  {
   "cell_type": "markdown",
   "metadata": {},
   "source": [
    "Обработаем пропуски в столбце с коробками передач"
   ]
  },
  {
   "cell_type": "code",
   "execution_count": 14,
   "metadata": {},
   "outputs": [
    {
     "name": "stderr",
     "output_type": "stream",
     "text": [
      "/opt/conda/lib/python3.9/site-packages/seaborn/_decorators.py:36: FutureWarning: Pass the following variable as a keyword arg: x. From version 0.12, the only valid positional argument will be `data`, and passing other arguments without an explicit keyword will result in an error or misinterpretation.\n",
      "  warnings.warn(\n"
     ]
    },
    {
     "data": {
      "text/html": [
       "<div>\n",
       "<style scoped>\n",
       "    .dataframe tbody tr th:only-of-type {\n",
       "        vertical-align: middle;\n",
       "    }\n",
       "\n",
       "    .dataframe tbody tr th {\n",
       "        vertical-align: top;\n",
       "    }\n",
       "\n",
       "    .dataframe thead th {\n",
       "        text-align: right;\n",
       "    }\n",
       "</style>\n",
       "<table border=\"1\" class=\"dataframe\">\n",
       "  <thead>\n",
       "    <tr style=\"text-align: right;\">\n",
       "      <th></th>\n",
       "      <th>DateCrawled</th>\n",
       "      <th>Price</th>\n",
       "      <th>VehicleType</th>\n",
       "      <th>RegistrationYear</th>\n",
       "      <th>Gearbox</th>\n",
       "      <th>Power</th>\n",
       "      <th>Model</th>\n",
       "      <th>Kilometer</th>\n",
       "      <th>RegistrationMonth</th>\n",
       "      <th>FuelType</th>\n",
       "      <th>Brand</th>\n",
       "      <th>Repaired</th>\n",
       "      <th>DateCreated</th>\n",
       "      <th>NumberOfPictures</th>\n",
       "      <th>PostalCode</th>\n",
       "      <th>LastSeen</th>\n",
       "    </tr>\n",
       "  </thead>\n",
       "  <tbody>\n",
       "    <tr>\n",
       "      <th>15</th>\n",
       "      <td>2016-03-11 21:39:15</td>\n",
       "      <td>450</td>\n",
       "      <td>small</td>\n",
       "      <td>1910</td>\n",
       "      <td>NaN</td>\n",
       "      <td>0.0</td>\n",
       "      <td>ka</td>\n",
       "      <td>5000</td>\n",
       "      <td>0</td>\n",
       "      <td>petrol</td>\n",
       "      <td>ford</td>\n",
       "      <td>NaN</td>\n",
       "      <td>2016-03-11</td>\n",
       "      <td>0</td>\n",
       "      <td>24148</td>\n",
       "      <td>2016-03-19 08:46:47</td>\n",
       "    </tr>\n",
       "    <tr>\n",
       "      <th>16</th>\n",
       "      <td>2016-04-01 12:46:46</td>\n",
       "      <td>300</td>\n",
       "      <td>sedan</td>\n",
       "      <td>2016</td>\n",
       "      <td>NaN</td>\n",
       "      <td>60.0</td>\n",
       "      <td>polo</td>\n",
       "      <td>150000</td>\n",
       "      <td>0</td>\n",
       "      <td>petrol</td>\n",
       "      <td>volkswagen</td>\n",
       "      <td>NaN</td>\n",
       "      <td>2016-04-01</td>\n",
       "      <td>0</td>\n",
       "      <td>38871</td>\n",
       "      <td>2016-04-01 12:46:46</td>\n",
       "    </tr>\n",
       "    <tr>\n",
       "      <th>32</th>\n",
       "      <td>2016-03-15 20:59:01</td>\n",
       "      <td>245</td>\n",
       "      <td>sedan</td>\n",
       "      <td>1994</td>\n",
       "      <td>NaN</td>\n",
       "      <td>0.0</td>\n",
       "      <td>golf</td>\n",
       "      <td>150000</td>\n",
       "      <td>2</td>\n",
       "      <td>petrol</td>\n",
       "      <td>volkswagen</td>\n",
       "      <td>no</td>\n",
       "      <td>2016-03-15</td>\n",
       "      <td>0</td>\n",
       "      <td>44145</td>\n",
       "      <td>2016-03-17 18:17:43</td>\n",
       "    </tr>\n",
       "    <tr>\n",
       "      <th>37</th>\n",
       "      <td>2016-03-28 17:50:15</td>\n",
       "      <td>1500</td>\n",
       "      <td>small</td>\n",
       "      <td>2016</td>\n",
       "      <td>NaN</td>\n",
       "      <td>0.0</td>\n",
       "      <td>kangoo</td>\n",
       "      <td>150000</td>\n",
       "      <td>1</td>\n",
       "      <td>gasoline</td>\n",
       "      <td>renault</td>\n",
       "      <td>no</td>\n",
       "      <td>2016-03-28</td>\n",
       "      <td>0</td>\n",
       "      <td>46483</td>\n",
       "      <td>2016-03-30 09:18:02</td>\n",
       "    </tr>\n",
       "    <tr>\n",
       "      <th>69</th>\n",
       "      <td>2016-04-01 11:56:40</td>\n",
       "      <td>1200</td>\n",
       "      <td>coupe</td>\n",
       "      <td>2001</td>\n",
       "      <td>NaN</td>\n",
       "      <td>0.0</td>\n",
       "      <td>astra</td>\n",
       "      <td>150000</td>\n",
       "      <td>0</td>\n",
       "      <td>NaN</td>\n",
       "      <td>opel</td>\n",
       "      <td>NaN</td>\n",
       "      <td>2016-04-01</td>\n",
       "      <td>0</td>\n",
       "      <td>47249</td>\n",
       "      <td>2016-04-07 08:46:07</td>\n",
       "    </tr>\n",
       "  </tbody>\n",
       "</table>\n",
       "</div>"
      ],
      "text/plain": [
       "           DateCrawled  Price VehicleType  RegistrationYear Gearbox  Power  \\\n",
       "15 2016-03-11 21:39:15    450       small              1910     NaN    0.0   \n",
       "16 2016-04-01 12:46:46    300       sedan              2016     NaN   60.0   \n",
       "32 2016-03-15 20:59:01    245       sedan              1994     NaN    0.0   \n",
       "37 2016-03-28 17:50:15   1500       small              2016     NaN    0.0   \n",
       "69 2016-04-01 11:56:40   1200       coupe              2001     NaN    0.0   \n",
       "\n",
       "     Model  Kilometer  RegistrationMonth  FuelType       Brand Repaired  \\\n",
       "15      ka       5000                  0    petrol        ford      NaN   \n",
       "16    polo     150000                  0    petrol  volkswagen      NaN   \n",
       "32    golf     150000                  2    petrol  volkswagen       no   \n",
       "37  kangoo     150000                  1  gasoline     renault       no   \n",
       "69   astra     150000                  0       NaN        opel      NaN   \n",
       "\n",
       "   DateCreated  NumberOfPictures  PostalCode            LastSeen  \n",
       "15  2016-03-11                 0       24148 2016-03-19 08:46:47  \n",
       "16  2016-04-01                 0       38871 2016-04-01 12:46:46  \n",
       "32  2016-03-15                 0       44145 2016-03-17 18:17:43  \n",
       "37  2016-03-28                 0       46483 2016-03-30 09:18:02  \n",
       "69  2016-04-01                 0       47249 2016-04-07 08:46:07  "
      ]
     },
     "execution_count": 14,
     "metadata": {},
     "output_type": "execute_result"
    },
    {
     "data": {
      "image/png": "[encoded data removed]",
      "text/plain": [
       "<Figure size 576x396 with 1 Axes>"
      ]
     },
     "metadata": {},
     "output_type": "display_data"
    }
   ],
   "source": [
    "#вывели строки, где пропуски в Gearbox. Видим, что в основном это должны быть ручные коробки передач. \n",
    "\n",
    "sns.countplot(df_filtered['Gearbox']);\n",
    "df_filtered[df_filtered['Gearbox'].isna()].head()"
   ]
  },
  {
   "cell_type": "code",
   "execution_count": 15,
   "metadata": {},
   "outputs": [
    {
     "data": {
      "text/plain": [
       "manual    276388\n",
       "auto       64667\n",
       "Name: Gearbox, dtype: int64"
      ]
     },
     "execution_count": 15,
     "metadata": {},
     "output_type": "execute_result"
    }
   ],
   "source": [
    "df_filtered['Gearbox'] = df_filtered['Gearbox'].fillna('manual')\n",
    "df_filtered['Gearbox'].isna().sum()\n",
    "df_filtered['Gearbox'].value_counts()"
   ]
  },
  {
   "cell_type": "markdown",
   "metadata": {},
   "source": [
    "<div class=\"alert alert-block alert-success\">\n",
    "<b>✔️ Успех:</b>\n",
    "\n",
    "Согласен с таким заполнением 👍\n",
    "</div>"
   ]
  },
  {
   "cell_type": "markdown",
   "metadata": {},
   "source": [
    "### Модель"
   ]
  },
  {
   "cell_type": "code",
   "execution_count": 16,
   "metadata": {},
   "outputs": [
    {
     "data": {
      "text/html": [
       "<div>\n",
       "<style scoped>\n",
       "    .dataframe tbody tr th:only-of-type {\n",
       "        vertical-align: middle;\n",
       "    }\n",
       "\n",
       "    .dataframe tbody tr th {\n",
       "        vertical-align: top;\n",
       "    }\n",
       "\n",
       "    .dataframe thead th {\n",
       "        text-align: right;\n",
       "    }\n",
       "</style>\n",
       "<table border=\"1\" class=\"dataframe\">\n",
       "  <thead>\n",
       "    <tr style=\"text-align: right;\">\n",
       "      <th></th>\n",
       "      <th>DateCrawled</th>\n",
       "      <th>Price</th>\n",
       "      <th>VehicleType</th>\n",
       "      <th>RegistrationYear</th>\n",
       "      <th>Gearbox</th>\n",
       "      <th>Power</th>\n",
       "      <th>Model</th>\n",
       "      <th>Kilometer</th>\n",
       "      <th>RegistrationMonth</th>\n",
       "      <th>FuelType</th>\n",
       "      <th>Brand</th>\n",
       "      <th>Repaired</th>\n",
       "      <th>DateCreated</th>\n",
       "      <th>NumberOfPictures</th>\n",
       "      <th>PostalCode</th>\n",
       "      <th>LastSeen</th>\n",
       "    </tr>\n",
       "  </thead>\n",
       "  <tbody>\n",
       "    <tr>\n",
       "      <th>1</th>\n",
       "      <td>2016-03-24 10:58:45</td>\n",
       "      <td>18300</td>\n",
       "      <td>coupe</td>\n",
       "      <td>2011</td>\n",
       "      <td>manual</td>\n",
       "      <td>190.0</td>\n",
       "      <td>NaN</td>\n",
       "      <td>125000</td>\n",
       "      <td>5</td>\n",
       "      <td>gasoline</td>\n",
       "      <td>audi</td>\n",
       "      <td>yes</td>\n",
       "      <td>2016-03-24</td>\n",
       "      <td>0</td>\n",
       "      <td>66954</td>\n",
       "      <td>2016-04-07 01:46:50</td>\n",
       "    </tr>\n",
       "    <tr>\n",
       "      <th>81</th>\n",
       "      <td>2016-04-03 12:56:45</td>\n",
       "      <td>350</td>\n",
       "      <td>small</td>\n",
       "      <td>1997</td>\n",
       "      <td>manual</td>\n",
       "      <td>54.0</td>\n",
       "      <td>NaN</td>\n",
       "      <td>150000</td>\n",
       "      <td>3</td>\n",
       "      <td>NaN</td>\n",
       "      <td>fiat</td>\n",
       "      <td>yes</td>\n",
       "      <td>2016-04-03</td>\n",
       "      <td>0</td>\n",
       "      <td>45665</td>\n",
       "      <td>2016-04-05 11:47:13</td>\n",
       "    </tr>\n",
       "    <tr>\n",
       "      <th>135</th>\n",
       "      <td>2016-03-27 20:51:23</td>\n",
       "      <td>1450</td>\n",
       "      <td>sedan</td>\n",
       "      <td>1992</td>\n",
       "      <td>manual</td>\n",
       "      <td>136.0</td>\n",
       "      <td>NaN</td>\n",
       "      <td>150000</td>\n",
       "      <td>0</td>\n",
       "      <td>NaN</td>\n",
       "      <td>audi</td>\n",
       "      <td>no</td>\n",
       "      <td>2016-03-27</td>\n",
       "      <td>0</td>\n",
       "      <td>38709</td>\n",
       "      <td>2016-04-05 20:17:31</td>\n",
       "    </tr>\n",
       "    <tr>\n",
       "      <th>151</th>\n",
       "      <td>2016-03-27 20:47:22</td>\n",
       "      <td>6799</td>\n",
       "      <td>small</td>\n",
       "      <td>2009</td>\n",
       "      <td>manual</td>\n",
       "      <td>60.0</td>\n",
       "      <td>NaN</td>\n",
       "      <td>20000</td>\n",
       "      <td>5</td>\n",
       "      <td>petrol</td>\n",
       "      <td>volkswagen</td>\n",
       "      <td>no</td>\n",
       "      <td>2016-03-27</td>\n",
       "      <td>0</td>\n",
       "      <td>89077</td>\n",
       "      <td>2016-03-27 20:47:22</td>\n",
       "    </tr>\n",
       "    <tr>\n",
       "      <th>160</th>\n",
       "      <td>2016-03-19 19:49:15</td>\n",
       "      <td>500</td>\n",
       "      <td>small</td>\n",
       "      <td>1999</td>\n",
       "      <td>manual</td>\n",
       "      <td>0.0</td>\n",
       "      <td>NaN</td>\n",
       "      <td>150000</td>\n",
       "      <td>0</td>\n",
       "      <td>petrol</td>\n",
       "      <td>renault</td>\n",
       "      <td>no</td>\n",
       "      <td>2016-03-19</td>\n",
       "      <td>0</td>\n",
       "      <td>26969</td>\n",
       "      <td>2016-04-01 11:17:48</td>\n",
       "    </tr>\n",
       "  </tbody>\n",
       "</table>\n",
       "</div>"
      ],
      "text/plain": [
       "            DateCrawled  Price VehicleType  RegistrationYear Gearbox  Power  \\\n",
       "1   2016-03-24 10:58:45  18300       coupe              2011  manual  190.0   \n",
       "81  2016-04-03 12:56:45    350       small              1997  manual   54.0   \n",
       "135 2016-03-27 20:51:23   1450       sedan              1992  manual  136.0   \n",
       "151 2016-03-27 20:47:22   6799       small              2009  manual   60.0   \n",
       "160 2016-03-19 19:49:15    500       small              1999  manual    0.0   \n",
       "\n",
       "    Model  Kilometer  RegistrationMonth  FuelType       Brand Repaired  \\\n",
       "1     NaN     125000                  5  gasoline        audi      yes   \n",
       "81    NaN     150000                  3       NaN        fiat      yes   \n",
       "135   NaN     150000                  0       NaN        audi       no   \n",
       "151   NaN      20000                  5    petrol  volkswagen       no   \n",
       "160   NaN     150000                  0    petrol     renault       no   \n",
       "\n",
       "    DateCreated  NumberOfPictures  PostalCode            LastSeen  \n",
       "1    2016-03-24                 0       66954 2016-04-07 01:46:50  \n",
       "81   2016-04-03                 0       45665 2016-04-05 11:47:13  \n",
       "135  2016-03-27                 0       38709 2016-04-05 20:17:31  \n",
       "151  2016-03-27                 0       89077 2016-03-27 20:47:22  \n",
       "160  2016-03-19                 0       26969 2016-04-01 11:17:48  "
      ]
     },
     "execution_count": 16,
     "metadata": {},
     "output_type": "execute_result"
    }
   ],
   "source": [
    "df_filtered[df_filtered['Model'].isna()].head()"
   ]
  },
  {
   "cell_type": "code",
   "execution_count": 17,
   "metadata": {},
   "outputs": [
    {
     "data": {
      "text/html": [
       "<div>\n",
       "<style scoped>\n",
       "    .dataframe tbody tr th:only-of-type {\n",
       "        vertical-align: middle;\n",
       "    }\n",
       "\n",
       "    .dataframe tbody tr th {\n",
       "        vertical-align: top;\n",
       "    }\n",
       "\n",
       "    .dataframe thead th {\n",
       "        text-align: right;\n",
       "    }\n",
       "</style>\n",
       "<table border=\"1\" class=\"dataframe\">\n",
       "  <thead>\n",
       "    <tr style=\"text-align: right;\">\n",
       "      <th></th>\n",
       "      <th>Model</th>\n",
       "    </tr>\n",
       "    <tr>\n",
       "      <th>Brand</th>\n",
       "      <th></th>\n",
       "    </tr>\n",
       "  </thead>\n",
       "  <tbody>\n",
       "    <tr>\n",
       "      <th>alfa_romeo</th>\n",
       "      <td>156</td>\n",
       "    </tr>\n",
       "    <tr>\n",
       "      <th>audi</th>\n",
       "      <td>a4</td>\n",
       "    </tr>\n",
       "    <tr>\n",
       "      <th>bmw</th>\n",
       "      <td>3er</td>\n",
       "    </tr>\n",
       "    <tr>\n",
       "      <th>chevrolet</th>\n",
       "      <td>other</td>\n",
       "    </tr>\n",
       "    <tr>\n",
       "      <th>chrysler</th>\n",
       "      <td>other</td>\n",
       "    </tr>\n",
       "  </tbody>\n",
       "</table>\n",
       "</div>"
      ],
      "text/plain": [
       "            Model\n",
       "Brand            \n",
       "alfa_romeo    156\n",
       "audi           a4\n",
       "bmw           3er\n",
       "chevrolet   other\n",
       "chrysler    other"
      ]
     },
     "execution_count": 17,
     "metadata": {},
     "output_type": "execute_result"
    }
   ],
   "source": [
    "model_type_pivot = df_filtered.pivot_table(index='Brand', values=['Model'], aggfunc=lambda x: x.mode())\n",
    "model_type_pivot.head()"
   ]
  },
  {
   "cell_type": "code",
   "execution_count": 18,
   "metadata": {},
   "outputs": [
    {
     "data": {
      "text/plain": [
       "17033"
      ]
     },
     "execution_count": 18,
     "metadata": {},
     "output_type": "execute_result"
    }
   ],
   "source": [
    "df_filtered['Model'].value_counts() \n",
    "df_filtered['Model'].isna().sum()"
   ]
  },
  {
   "cell_type": "code",
   "execution_count": 19,
   "metadata": {},
   "outputs": [
    {
     "data": {
      "text/plain": [
       "array(['golf', nan, 'grand', 'fabia', '3er', '2_reihe', 'c_max',\n",
       "       '3_reihe', 'passat', 'navara', 'ka', 'polo', 'twingo', 'a_klasse',\n",
       "       'scirocco', '5er', 'meriva', 'arosa', 'other', 'c4', 'civic',\n",
       "       'transporter', 'punto', 'e_klasse', 'clio', 'kadett', 'kangoo',\n",
       "       'one', 'fortwo', '1er', 'b_klasse', 'signum', 'astra', 'a8',\n",
       "       'jetta', 'fiesta', 'c_klasse', 'micra', 'vito', 'sprinter', '156',\n",
       "       'escort', 'forester', 'xc_reihe', 'scenic', 'a4', 'a1', 'insignia',\n",
       "       'combo', 'focus', 'tt', 'corsa', 'a6', 'jazz', 'omega', 'slk',\n",
       "       '7er', '80', '147', '100', 'z_reihe', 'sportage', 'sorento', 'v40',\n",
       "       'ibiza', 'mustang', 'eos', 'touran', 'getz', 'a3', 'almera',\n",
       "       'megane', 'lupo', 'r19', 'zafira', 'caddy', 'mondeo', 'cordoba',\n",
       "       'colt', 'impreza', 'vectra', 'berlingo', 'tiguan', 'i_reihe',\n",
       "       'espace', 'sharan', '6_reihe', 'panda', 'up', 'seicento', 'ceed',\n",
       "       '5_reihe', 'yeti', 'octavia', 'mii', 'rx_reihe', '6er', 'modus',\n",
       "       'fox', 'matiz', 'beetle', 'c1', 'rio', 'touareg', 'logan',\n",
       "       'spider', 'cuore', 's_max', 'a2', 'galaxy', 'c3', 'viano',\n",
       "       's_klasse', '1_reihe', 'avensis', 'roomster', 'sl', 'kaefer',\n",
       "       'santa', 'cooper', 'leon', '4_reihe', 'a5', '500', 'laguna',\n",
       "       'ptcruiser', 'clk', 'primera', 'x_reihe', 'exeo', '159', 'transit',\n",
       "       'juke', 'qashqai', 'carisma', 'accord', 'corolla', 'lanos',\n",
       "       'phaeton', 'verso', 'swift', 'rav', 'picanto', 'boxster', 'kalos',\n",
       "       'superb', 'stilo', 'alhambra', 'roadster', 'ypsilon', 'cayenne',\n",
       "       'galant', 'justy', '90', 'sirion', 'crossfire', 'agila', 'duster',\n",
       "       'cr_reihe', 'v50', 'mx_reihe', 'c_reihe', 'v_klasse', 'm_klasse',\n",
       "       'yaris', 'c5', 'aygo', 'cc', 'carnival', 'fusion', '911', 'bora',\n",
       "       'forfour', 'cl', 'tigra', '300c', 'spark', 'v70', 'kuga', 'x_type',\n",
       "       'ducato', 's_type', 'x_trail', 'toledo', 'altea', 'voyager',\n",
       "       'calibra', 'bravo', 'antara', 'tucson', 'citigo', 'jimny',\n",
       "       'wrangler', 'lybra', 'q7', 'lancer', 'captiva', 'c2', 'discovery',\n",
       "       'freelander', 'sandero', 'note', '900', 'cherokee', 'clubman',\n",
       "       'samara', 'defender', '601', 'cx_reihe', 'legacy', 'pajero',\n",
       "       'auris', 'niva', 's60', 'm_reihe', 'nubira', 'vivaro', 'g_klasse',\n",
       "       'lodgy', '850', 'range_rover', 'q3', 'serie_2', 'glk', 'charade',\n",
       "       'croma', 'outlander', 'doblo', 'musa', 'move', '9000', 'v60',\n",
       "       'aveo', '200', '145', 'b_max', 'range_rover_sport', 'terios',\n",
       "       'rangerover', 'q5', 'range_rover_evoque', 'materia', 'delta', 'gl',\n",
       "       'kalina', 'amarok', 'elefantino', 'i3', 'kappa', 'serie_3',\n",
       "       'serie_1'], dtype=object)"
      ]
     },
     "execution_count": 19,
     "metadata": {},
     "output_type": "execute_result"
    }
   ],
   "source": [
    "for t in df_filtered['Brand'].unique():\n",
    "    df_filtered.loc[(df_filtered['Brand'] == t) & (df_filtered['Model']=='NaN'), 'Model'] = \\\n",
    "    model_type_pivot[model_type_pivot.index == t].values[0, 0]\n",
    "\n",
    "df_filtered['Model'].unique() "
   ]
  },
  {
   "cell_type": "code",
   "execution_count": 20,
   "metadata": {},
   "outputs": [
    {
     "data": {
      "text/plain": [
       "17033"
      ]
     },
     "execution_count": 20,
     "metadata": {},
     "output_type": "execute_result"
    }
   ],
   "source": [
    "df_filtered['Model'].isna().sum()"
   ]
  },
  {
   "cell_type": "code",
   "execution_count": 21,
   "metadata": {},
   "outputs": [
    {
     "data": {
      "text/plain": [
       "golf     28086\n",
       "other    23500\n",
       "3er      19074\n",
       "polo     12511\n",
       "corsa    12039\n",
       "Name: Model, dtype: int64"
      ]
     },
     "execution_count": 21,
     "metadata": {},
     "output_type": "execute_result"
    }
   ],
   "source": [
    "df_filtered['Model'].value_counts().head()"
   ]
  },
  {
   "cell_type": "markdown",
   "metadata": {},
   "source": [
    "К сожалению, не все значения удалось заменить. Присвоим оставшимся пропускам второе распространенное значение other"
   ]
  },
  {
   "cell_type": "code",
   "execution_count": 22,
   "metadata": {},
   "outputs": [
    {
     "data": {
      "text/plain": [
       "0"
      ]
     },
     "execution_count": 22,
     "metadata": {},
     "output_type": "execute_result"
    }
   ],
   "source": [
    "df_filtered['Model'] = df_filtered['Model'].fillna('other')\n",
    "df_filtered['Model'].isna().sum()"
   ]
  },
  {
   "cell_type": "markdown",
   "metadata": {},
   "source": [
    "<div class=\"alert alert-block alert-success\">\n",
    "<b>✔️ Успех:</b>\n",
    "\n",
    "Согласен с таким заполнением 👍\n",
    "</div>"
   ]
  },
  {
   "cell_type": "markdown",
   "metadata": {},
   "source": [
    "### Мощность"
   ]
  },
  {
   "cell_type": "markdown",
   "metadata": {},
   "source": [
    "Обработаем нулевые значения и вбросы похожим способом: сделаем сводную таблицу с медианой по значению столбца Модели и заменим через циклы вбросы нулевые и слишком большие цифры"
   ]
  },
  {
   "cell_type": "code",
   "execution_count": 23,
   "metadata": {},
   "outputs": [
    {
     "data": {
      "text/html": [
       "<div>\n",
       "<style scoped>\n",
       "    .dataframe tbody tr th:only-of-type {\n",
       "        vertical-align: middle;\n",
       "    }\n",
       "\n",
       "    .dataframe tbody tr th {\n",
       "        vertical-align: top;\n",
       "    }\n",
       "\n",
       "    .dataframe thead th {\n",
       "        text-align: right;\n",
       "    }\n",
       "</style>\n",
       "<table border=\"1\" class=\"dataframe\">\n",
       "  <thead>\n",
       "    <tr style=\"text-align: right;\">\n",
       "      <th></th>\n",
       "      <th>DateCrawled</th>\n",
       "      <th>Price</th>\n",
       "      <th>VehicleType</th>\n",
       "      <th>RegistrationYear</th>\n",
       "      <th>Gearbox</th>\n",
       "      <th>Power</th>\n",
       "      <th>Model</th>\n",
       "      <th>Kilometer</th>\n",
       "      <th>RegistrationMonth</th>\n",
       "      <th>FuelType</th>\n",
       "      <th>Brand</th>\n",
       "      <th>Repaired</th>\n",
       "      <th>DateCreated</th>\n",
       "      <th>NumberOfPictures</th>\n",
       "      <th>PostalCode</th>\n",
       "      <th>LastSeen</th>\n",
       "    </tr>\n",
       "  </thead>\n",
       "  <tbody>\n",
       "    <tr>\n",
       "      <th>219584</th>\n",
       "      <td>2016-03-09 15:43:53</td>\n",
       "      <td>4300</td>\n",
       "      <td>coupe</td>\n",
       "      <td>1999</td>\n",
       "      <td>auto</td>\n",
       "      <td>20000.0</td>\n",
       "      <td>clk</td>\n",
       "      <td>150000</td>\n",
       "      <td>1</td>\n",
       "      <td>petrol</td>\n",
       "      <td>mercedes_benz</td>\n",
       "      <td>no</td>\n",
       "      <td>2016-03-09</td>\n",
       "      <td>0</td>\n",
       "      <td>19406</td>\n",
       "      <td>2016-03-30 08:47:08</td>\n",
       "    </tr>\n",
       "    <tr>\n",
       "      <th>299180</th>\n",
       "      <td>2016-03-09 08:53:11</td>\n",
       "      <td>1500</td>\n",
       "      <td>wagon</td>\n",
       "      <td>1997</td>\n",
       "      <td>manual</td>\n",
       "      <td>19312.0</td>\n",
       "      <td>5er</td>\n",
       "      <td>150000</td>\n",
       "      <td>1</td>\n",
       "      <td>NaN</td>\n",
       "      <td>bmw</td>\n",
       "      <td>no</td>\n",
       "      <td>2016-03-09</td>\n",
       "      <td>0</td>\n",
       "      <td>21129</td>\n",
       "      <td>2016-04-07 11:44:34</td>\n",
       "    </tr>\n",
       "    <tr>\n",
       "      <th>114106</th>\n",
       "      <td>2016-04-03 07:36:21</td>\n",
       "      <td>9999</td>\n",
       "      <td>sedan</td>\n",
       "      <td>2006</td>\n",
       "      <td>manual</td>\n",
       "      <td>19211.0</td>\n",
       "      <td>1er</td>\n",
       "      <td>125000</td>\n",
       "      <td>0</td>\n",
       "      <td>gasoline</td>\n",
       "      <td>bmw</td>\n",
       "      <td>NaN</td>\n",
       "      <td>2016-04-03</td>\n",
       "      <td>0</td>\n",
       "      <td>45964</td>\n",
       "      <td>2016-04-07 10:16:10</td>\n",
       "    </tr>\n",
       "    <tr>\n",
       "      <th>132485</th>\n",
       "      <td>2016-03-25 14:55:49</td>\n",
       "      <td>2100</td>\n",
       "      <td>wagon</td>\n",
       "      <td>2001</td>\n",
       "      <td>manual</td>\n",
       "      <td>19208.0</td>\n",
       "      <td>5er</td>\n",
       "      <td>150000</td>\n",
       "      <td>5</td>\n",
       "      <td>NaN</td>\n",
       "      <td>bmw</td>\n",
       "      <td>yes</td>\n",
       "      <td>2016-03-25</td>\n",
       "      <td>0</td>\n",
       "      <td>59556</td>\n",
       "      <td>2016-03-30 05:16:18</td>\n",
       "    </tr>\n",
       "    <tr>\n",
       "      <th>63986</th>\n",
       "      <td>2016-03-28 11:49:56</td>\n",
       "      <td>3250</td>\n",
       "      <td>sedan</td>\n",
       "      <td>2001</td>\n",
       "      <td>auto</td>\n",
       "      <td>17932.0</td>\n",
       "      <td>omega</td>\n",
       "      <td>150000</td>\n",
       "      <td>6</td>\n",
       "      <td>petrol</td>\n",
       "      <td>opel</td>\n",
       "      <td>NaN</td>\n",
       "      <td>2016-03-28</td>\n",
       "      <td>0</td>\n",
       "      <td>86641</td>\n",
       "      <td>2016-04-06 14:17:21</td>\n",
       "    </tr>\n",
       "  </tbody>\n",
       "</table>\n",
       "</div>"
      ],
      "text/plain": [
       "               DateCrawled  Price VehicleType  RegistrationYear Gearbox  \\\n",
       "219584 2016-03-09 15:43:53   4300       coupe              1999    auto   \n",
       "299180 2016-03-09 08:53:11   1500       wagon              1997  manual   \n",
       "114106 2016-04-03 07:36:21   9999       sedan              2006  manual   \n",
       "132485 2016-03-25 14:55:49   2100       wagon              2001  manual   \n",
       "63986  2016-03-28 11:49:56   3250       sedan              2001    auto   \n",
       "\n",
       "          Power  Model  Kilometer  RegistrationMonth  FuelType          Brand  \\\n",
       "219584  20000.0    clk     150000                  1    petrol  mercedes_benz   \n",
       "299180  19312.0    5er     150000                  1       NaN            bmw   \n",
       "114106  19211.0    1er     125000                  0  gasoline            bmw   \n",
       "132485  19208.0    5er     150000                  5       NaN            bmw   \n",
       "63986   17932.0  omega     150000                  6    petrol           opel   \n",
       "\n",
       "       Repaired DateCreated  NumberOfPictures  PostalCode            LastSeen  \n",
       "219584       no  2016-03-09                 0       19406 2016-03-30 08:47:08  \n",
       "299180       no  2016-03-09                 0       21129 2016-04-07 11:44:34  \n",
       "114106      NaN  2016-04-03                 0       45964 2016-04-07 10:16:10  \n",
       "132485      yes  2016-03-25                 0       59556 2016-03-30 05:16:18  \n",
       "63986       NaN  2016-03-28                 0       86641 2016-04-06 14:17:21  "
      ]
     },
     "execution_count": 23,
     "metadata": {},
     "output_type": "execute_result"
    }
   ],
   "source": [
    "df_filtered.sort_values(by='Power', ascending=False).head()"
   ]
  },
  {
   "cell_type": "code",
   "execution_count": 24,
   "metadata": {},
   "outputs": [
    {
     "data": {
      "image/png": "[encoded data removed]",
      "text/plain": [
       "<Figure size 576x396 with 1 Axes>"
      ]
     },
     "metadata": {},
     "output_type": "display_data"
    }
   ],
   "source": [
    "df_filtered['Power'].hist();"
   ]
  },
  {
   "cell_type": "code",
   "execution_count": 25,
   "metadata": {},
   "outputs": [
    {
     "data": {
      "text/html": [
       "<div>\n",
       "<style scoped>\n",
       "    .dataframe tbody tr th:only-of-type {\n",
       "        vertical-align: middle;\n",
       "    }\n",
       "\n",
       "    .dataframe tbody tr th {\n",
       "        vertical-align: top;\n",
       "    }\n",
       "\n",
       "    .dataframe thead th {\n",
       "        text-align: right;\n",
       "    }\n",
       "</style>\n",
       "<table border=\"1\" class=\"dataframe\">\n",
       "  <thead>\n",
       "    <tr style=\"text-align: right;\">\n",
       "      <th></th>\n",
       "      <th>Power</th>\n",
       "    </tr>\n",
       "    <tr>\n",
       "      <th>Model</th>\n",
       "      <th></th>\n",
       "    </tr>\n",
       "  </thead>\n",
       "  <tbody>\n",
       "    <tr>\n",
       "      <th>samara</th>\n",
       "      <td>0.0</td>\n",
       "    </tr>\n",
       "    <tr>\n",
       "      <th>serie_1</th>\n",
       "      <td>0.0</td>\n",
       "    </tr>\n",
       "    <tr>\n",
       "      <th>601</th>\n",
       "      <td>26.0</td>\n",
       "    </tr>\n",
       "    <tr>\n",
       "      <th>kaefer</th>\n",
       "      <td>34.0</td>\n",
       "    </tr>\n",
       "    <tr>\n",
       "      <th>move</th>\n",
       "      <td>42.0</td>\n",
       "    </tr>\n",
       "  </tbody>\n",
       "</table>\n",
       "</div>"
      ],
      "text/plain": [
       "         Power\n",
       "Model         \n",
       "samara     0.0\n",
       "serie_1    0.0\n",
       "601       26.0\n",
       "kaefer    34.0\n",
       "move      42.0"
      ]
     },
     "execution_count": 25,
     "metadata": {},
     "output_type": "execute_result"
    }
   ],
   "source": [
    "power_type_pivot = df_filtered.pivot_table(index='Model', values='Power', aggfunc=lambda x: x.median())\n",
    "power_type_pivot.sort_values(by='Power',ascending=False).head()\n",
    "power_type_pivot.sort_values(by='Power',ascending=True).head()\n",
    "#power_type_pivot.describe()"
   ]
  },
  {
   "cell_type": "code",
   "execution_count": 26,
   "metadata": {},
   "outputs": [
    {
     "data": {
      "text/plain": [
       "0             0.0\n",
       "85120         0.0\n",
       "28694         0.0\n",
       "85112         0.0\n",
       "241669        0.0\n",
       "           ...   \n",
       "63986     17932.0\n",
       "132485    19208.0\n",
       "114106    19211.0\n",
       "299180    19312.0\n",
       "219584    20000.0\n",
       "Name: Power, Length: 341055, dtype: float64"
      ]
     },
     "execution_count": 26,
     "metadata": {},
     "output_type": "execute_result"
    }
   ],
   "source": [
    "df_filtered['Power'].sort_values(ascending=True)"
   ]
  },
  {
   "cell_type": "code",
   "execution_count": 27,
   "metadata": {},
   "outputs": [
    {
     "data": {
      "text/plain": [
       "35062"
      ]
     },
     "execution_count": 27,
     "metadata": {},
     "output_type": "execute_result"
    }
   ],
   "source": [
    "#35 тыс нулевых значений, которые нет смысла просто удалять\n",
    "df_filtered[df_filtered['Power']==0]['Power'].count()"
   ]
  },
  {
   "cell_type": "code",
   "execution_count": 28,
   "metadata": {},
   "outputs": [
    {
     "data": {
      "text/plain": [
       "1464"
      ]
     },
     "execution_count": 28,
     "metadata": {},
     "output_type": "execute_result"
    }
   ],
   "source": [
    "df_filtered[df_filtered['Power']>340]['Power'].count()"
   ]
  },
  {
   "cell_type": "code",
   "execution_count": 29,
   "metadata": {},
   "outputs": [
    {
     "data": {
      "image/png": "[encoded data removed]",
      "text/plain": [
       "<Figure size 576x396 with 1 Axes>"
      ]
     },
     "metadata": {},
     "output_type": "display_data"
    }
   ],
   "source": [
    "for t in df_filtered['Model'].unique():\n",
    "    df_filtered.loc[(df_filtered['Model'] == t)&(df_filtered['Power']< 26), 'Power'] = \\\n",
    "    power_type_pivot[power_type_pivot.index == t].values[0, 0]\n",
    "\n",
    "df_filtered['Power'].hist();"
   ]
  },
  {
   "cell_type": "code",
   "execution_count": 30,
   "metadata": {},
   "outputs": [
    {
     "data": {
      "text/plain": [
       "7"
      ]
     },
     "execution_count": 30,
     "metadata": {},
     "output_type": "execute_result"
    }
   ],
   "source": [
    "#почему-то осталось все равно 7 значений нулевых - удалим эти строки\n",
    "df_filtered[df_filtered['Power']==0]['Power'].count()"
   ]
  },
  {
   "cell_type": "code",
   "execution_count": 31,
   "metadata": {},
   "outputs": [
    {
     "data": {
      "text/plain": [
       "0     98.0\n",
       "1    190.0\n",
       "2    163.0\n",
       "3     75.0\n",
       "4     69.0\n",
       "Name: Power, dtype: float64"
      ]
     },
     "execution_count": 31,
     "metadata": {},
     "output_type": "execute_result"
    }
   ],
   "source": [
    "df_filtered['Power'].head()"
   ]
  },
  {
   "cell_type": "code",
   "execution_count": 32,
   "metadata": {},
   "outputs": [
    {
     "data": {
      "text/plain": [
       "(341055,)"
      ]
     },
     "execution_count": 32,
     "metadata": {},
     "output_type": "execute_result"
    }
   ],
   "source": [
    "df_filtered['Power'].shape"
   ]
  },
  {
   "cell_type": "code",
   "execution_count": 33,
   "metadata": {},
   "outputs": [
    {
     "data": {
      "text/plain": [
       "(341048,)"
      ]
     },
     "execution_count": 33,
     "metadata": {},
     "output_type": "execute_result"
    }
   ],
   "source": [
    "df_filtered = df_filtered.query('Power != 0')\n",
    "df_filtered['Power'].shape"
   ]
  },
  {
   "cell_type": "code",
   "execution_count": 34,
   "metadata": {},
   "outputs": [
    {
     "data": {
      "text/plain": [
       "0"
      ]
     },
     "execution_count": 34,
     "metadata": {},
     "output_type": "execute_result"
    }
   ],
   "source": [
    "df_filtered[df_filtered['Power']==0]['Power'].count()"
   ]
  },
  {
   "cell_type": "code",
   "execution_count": 35,
   "metadata": {},
   "outputs": [
    {
     "data": {
      "image/png": "[encoded data removed]",
      "text/plain": [
       "<Figure size 576x396 with 1 Axes>"
      ]
     },
     "metadata": {},
     "output_type": "display_data"
    }
   ],
   "source": [
    "#обработаем через такой же цикл значения-вбросы - выше 340л.с.\n",
    "for t in df_filtered['Model'].unique():\n",
    "    df_filtered.loc[(df_filtered['Model'] == t)&(df_filtered['Power'] > 340), 'Power'] = \\\n",
    "    power_type_pivot[power_type_pivot.index == t].values[0, 0]\n",
    "\n",
    "df_filtered['Power'].hist();"
   ]
  },
  {
   "cell_type": "code",
   "execution_count": 36,
   "metadata": {},
   "outputs": [
    {
     "data": {
      "text/plain": [
       "88"
      ]
     },
     "execution_count": 36,
     "metadata": {},
     "output_type": "execute_result"
    }
   ],
   "source": [
    "df_filtered[df_filtered['Power']>340]['Power'].count()"
   ]
  },
  {
   "cell_type": "code",
   "execution_count": 37,
   "metadata": {},
   "outputs": [
    {
     "data": {
      "text/plain": [
       "0"
      ]
     },
     "execution_count": 37,
     "metadata": {},
     "output_type": "execute_result"
    }
   ],
   "source": [
    "#те сбросы, которые не получилось заменить через цикл, удалим\n",
    "\n",
    "df_filtered = df_filtered.query('Power < 340')\n",
    "df_filtered[df_filtered['Power']>340]['Power'].count()"
   ]
  },
  {
   "cell_type": "code",
   "execution_count": 38,
   "metadata": {},
   "outputs": [
    {
     "data": {
      "text/html": [
       "<div>\n",
       "<style scoped>\n",
       "    .dataframe tbody tr th:only-of-type {\n",
       "        vertical-align: middle;\n",
       "    }\n",
       "\n",
       "    .dataframe tbody tr th {\n",
       "        vertical-align: top;\n",
       "    }\n",
       "\n",
       "    .dataframe thead th {\n",
       "        text-align: right;\n",
       "    }\n",
       "</style>\n",
       "<table border=\"1\" class=\"dataframe\">\n",
       "  <thead>\n",
       "    <tr style=\"text-align: right;\">\n",
       "      <th></th>\n",
       "      <th>DateCrawled</th>\n",
       "      <th>Price</th>\n",
       "      <th>VehicleType</th>\n",
       "      <th>RegistrationYear</th>\n",
       "      <th>Gearbox</th>\n",
       "      <th>Power</th>\n",
       "      <th>Model</th>\n",
       "      <th>Kilometer</th>\n",
       "      <th>RegistrationMonth</th>\n",
       "      <th>FuelType</th>\n",
       "      <th>Brand</th>\n",
       "      <th>Repaired</th>\n",
       "      <th>DateCreated</th>\n",
       "      <th>NumberOfPictures</th>\n",
       "      <th>PostalCode</th>\n",
       "      <th>LastSeen</th>\n",
       "    </tr>\n",
       "  </thead>\n",
       "  <tbody>\n",
       "    <tr>\n",
       "      <th>20067</th>\n",
       "      <td>2016-03-22 08:52:13</td>\n",
       "      <td>600</td>\n",
       "      <td>sedan</td>\n",
       "      <td>1988</td>\n",
       "      <td>manual</td>\n",
       "      <td>26.0</td>\n",
       "      <td>601</td>\n",
       "      <td>5000</td>\n",
       "      <td>0</td>\n",
       "      <td>NaN</td>\n",
       "      <td>trabant</td>\n",
       "      <td>NaN</td>\n",
       "      <td>2016-03-22</td>\n",
       "      <td>0</td>\n",
       "      <td>1558</td>\n",
       "      <td>2016-03-25 00:45:57</td>\n",
       "    </tr>\n",
       "    <tr>\n",
       "      <th>118657</th>\n",
       "      <td>2016-03-28 09:32:12</td>\n",
       "      <td>3333</td>\n",
       "      <td>sedan</td>\n",
       "      <td>1970</td>\n",
       "      <td>manual</td>\n",
       "      <td>26.0</td>\n",
       "      <td>601</td>\n",
       "      <td>50000</td>\n",
       "      <td>6</td>\n",
       "      <td>other</td>\n",
       "      <td>trabant</td>\n",
       "      <td>no</td>\n",
       "      <td>2016-03-28</td>\n",
       "      <td>0</td>\n",
       "      <td>35644</td>\n",
       "      <td>2016-04-06 05:17:18</td>\n",
       "    </tr>\n",
       "    <tr>\n",
       "      <th>307370</th>\n",
       "      <td>2016-03-20 20:50:56</td>\n",
       "      <td>990</td>\n",
       "      <td>sedan</td>\n",
       "      <td>1987</td>\n",
       "      <td>manual</td>\n",
       "      <td>26.0</td>\n",
       "      <td>601</td>\n",
       "      <td>10000</td>\n",
       "      <td>12</td>\n",
       "      <td>petrol</td>\n",
       "      <td>trabant</td>\n",
       "      <td>no</td>\n",
       "      <td>2016-03-20</td>\n",
       "      <td>0</td>\n",
       "      <td>27404</td>\n",
       "      <td>2016-03-22 00:45:03</td>\n",
       "    </tr>\n",
       "  </tbody>\n",
       "</table>\n",
       "</div>"
      ],
      "text/plain": [
       "               DateCrawled  Price VehicleType  RegistrationYear Gearbox  \\\n",
       "20067  2016-03-22 08:52:13    600       sedan              1988  manual   \n",
       "118657 2016-03-28 09:32:12   3333       sedan              1970  manual   \n",
       "307370 2016-03-20 20:50:56    990       sedan              1987  manual   \n",
       "\n",
       "        Power Model  Kilometer  RegistrationMonth FuelType    Brand Repaired  \\\n",
       "20067    26.0   601       5000                  0      NaN  trabant      NaN   \n",
       "118657   26.0   601      50000                  6    other  trabant       no   \n",
       "307370   26.0   601      10000                 12   petrol  trabant       no   \n",
       "\n",
       "       DateCreated  NumberOfPictures  PostalCode            LastSeen  \n",
       "20067   2016-03-22                 0        1558 2016-03-25 00:45:57  \n",
       "118657  2016-03-28                 0       35644 2016-04-06 05:17:18  \n",
       "307370  2016-03-20                 0       27404 2016-03-22 00:45:03  "
      ]
     },
     "execution_count": 38,
     "metadata": {},
     "output_type": "execute_result"
    }
   ],
   "source": [
    "df_filtered.sort_values(by='Power',ascending=True).head(3)"
   ]
  },
  {
   "cell_type": "code",
   "execution_count": 39,
   "metadata": {},
   "outputs": [
    {
     "data": {
      "text/html": [
       "<div>\n",
       "<style scoped>\n",
       "    .dataframe tbody tr th:only-of-type {\n",
       "        vertical-align: middle;\n",
       "    }\n",
       "\n",
       "    .dataframe tbody tr th {\n",
       "        vertical-align: top;\n",
       "    }\n",
       "\n",
       "    .dataframe thead th {\n",
       "        text-align: right;\n",
       "    }\n",
       "</style>\n",
       "<table border=\"1\" class=\"dataframe\">\n",
       "  <thead>\n",
       "    <tr style=\"text-align: right;\">\n",
       "      <th></th>\n",
       "      <th>DateCrawled</th>\n",
       "      <th>Price</th>\n",
       "      <th>VehicleType</th>\n",
       "      <th>RegistrationYear</th>\n",
       "      <th>Gearbox</th>\n",
       "      <th>Power</th>\n",
       "      <th>Model</th>\n",
       "      <th>Kilometer</th>\n",
       "      <th>RegistrationMonth</th>\n",
       "      <th>FuelType</th>\n",
       "      <th>Brand</th>\n",
       "      <th>Repaired</th>\n",
       "      <th>DateCreated</th>\n",
       "      <th>NumberOfPictures</th>\n",
       "      <th>PostalCode</th>\n",
       "      <th>LastSeen</th>\n",
       "    </tr>\n",
       "  </thead>\n",
       "  <tbody>\n",
       "    <tr>\n",
       "      <th>208196</th>\n",
       "      <td>2016-03-25 18:54:52</td>\n",
       "      <td>10800</td>\n",
       "      <td>coupe</td>\n",
       "      <td>2007</td>\n",
       "      <td>manual</td>\n",
       "      <td>339.0</td>\n",
       "      <td>astra</td>\n",
       "      <td>150000</td>\n",
       "      <td>2</td>\n",
       "      <td>petrol</td>\n",
       "      <td>opel</td>\n",
       "      <td>no</td>\n",
       "      <td>2016-03-25</td>\n",
       "      <td>0</td>\n",
       "      <td>47506</td>\n",
       "      <td>2016-04-07 01:17:59</td>\n",
       "    </tr>\n",
       "    <tr>\n",
       "      <th>93609</th>\n",
       "      <td>2016-03-19 13:52:05</td>\n",
       "      <td>12999</td>\n",
       "      <td>coupe</td>\n",
       "      <td>2002</td>\n",
       "      <td>manual</td>\n",
       "      <td>338.0</td>\n",
       "      <td>3er</td>\n",
       "      <td>150000</td>\n",
       "      <td>8</td>\n",
       "      <td>petrol</td>\n",
       "      <td>bmw</td>\n",
       "      <td>no</td>\n",
       "      <td>2016-03-19</td>\n",
       "      <td>0</td>\n",
       "      <td>74572</td>\n",
       "      <td>2016-03-19 13:52:05</td>\n",
       "    </tr>\n",
       "    <tr>\n",
       "      <th>279609</th>\n",
       "      <td>2016-03-16 12:56:37</td>\n",
       "      <td>12999</td>\n",
       "      <td>coupe</td>\n",
       "      <td>2002</td>\n",
       "      <td>manual</td>\n",
       "      <td>338.0</td>\n",
       "      <td>3er</td>\n",
       "      <td>150000</td>\n",
       "      <td>8</td>\n",
       "      <td>petrol</td>\n",
       "      <td>bmw</td>\n",
       "      <td>no</td>\n",
       "      <td>2016-03-16</td>\n",
       "      <td>0</td>\n",
       "      <td>74572</td>\n",
       "      <td>2016-03-16 13:42:15</td>\n",
       "    </tr>\n",
       "  </tbody>\n",
       "</table>\n",
       "</div>"
      ],
      "text/plain": [
       "               DateCrawled  Price VehicleType  RegistrationYear Gearbox  \\\n",
       "208196 2016-03-25 18:54:52  10800       coupe              2007  manual   \n",
       "93609  2016-03-19 13:52:05  12999       coupe              2002  manual   \n",
       "279609 2016-03-16 12:56:37  12999       coupe              2002  manual   \n",
       "\n",
       "        Power  Model  Kilometer  RegistrationMonth FuelType Brand Repaired  \\\n",
       "208196  339.0  astra     150000                  2   petrol  opel       no   \n",
       "93609   338.0    3er     150000                  8   petrol   bmw       no   \n",
       "279609  338.0    3er     150000                  8   petrol   bmw       no   \n",
       "\n",
       "       DateCreated  NumberOfPictures  PostalCode            LastSeen  \n",
       "208196  2016-03-25                 0       47506 2016-04-07 01:17:59  \n",
       "93609   2016-03-19                 0       74572 2016-03-19 13:52:05  \n",
       "279609  2016-03-16                 0       74572 2016-03-16 13:42:15  "
      ]
     },
     "execution_count": 39,
     "metadata": {},
     "output_type": "execute_result"
    }
   ],
   "source": [
    "df_filtered.sort_values(by='Power',ascending=False).head(3)"
   ]
  },
  {
   "cell_type": "code",
   "execution_count": 40,
   "metadata": {},
   "outputs": [
    {
     "data": {
      "text/plain": [
       "20067      26.0\n",
       "118657     26.0\n",
       "307370     26.0\n",
       "14823      26.0\n",
       "107757     26.0\n",
       "          ...  \n",
       "162628    338.0\n",
       "237896    338.0\n",
       "279609    338.0\n",
       "93609     338.0\n",
       "208196    339.0\n",
       "Name: Power, Length: 340688, dtype: float64"
      ]
     },
     "execution_count": 40,
     "metadata": {},
     "output_type": "execute_result"
    }
   ],
   "source": [
    "df_filtered['Power'].sort_values(ascending=True)\n"
   ]
  },
  {
   "cell_type": "markdown",
   "metadata": {},
   "source": [
    "36526 строчек не подходили из-за вбросов и нулевых значений. Из них мы удалили только лишь 95, а остальные вбросы заменили медианой по модели"
   ]
  },
  {
   "cell_type": "markdown",
   "metadata": {},
   "source": [
    "<div class=\"alert alert-block alert-success\">\n",
    "<b>✔️ Успех:</b>\n",
    "\n",
    "Мощность ограничили 👍\n",
    "</div>"
   ]
  },
  {
   "cell_type": "markdown",
   "metadata": {},
   "source": [
    "### Тип топлива"
   ]
  },
  {
   "cell_type": "markdown",
   "metadata": {},
   "source": [
    "Пропуски попробуем заменить через способ, который мы применяли в предыдущих столбцах - по моде (самое часто встречающее значение по значению другого столбца). Еще могу ошибаться, но gasoline и petrol означают одно и то же, но с разным переводом. Только если все-таки есть разница и может быть важна для модели она из-за региона производителя марки."
   ]
  },
  {
   "cell_type": "code",
   "execution_count": 41,
   "metadata": {},
   "outputs": [
    {
     "name": "stdout",
     "output_type": "stream",
     "text": [
      "<class 'pandas.core.frame.DataFrame'>\n",
      "Int64Index: 340688 entries, 0 to 354368\n",
      "Data columns (total 1 columns):\n",
      " #   Column    Non-Null Count   Dtype \n",
      "---  ------    --------------   ----- \n",
      " 0   FuelType  312359 non-null  object\n",
      "dtypes: object(1)\n",
      "memory usage: 5.2+ MB\n"
     ]
    },
    {
     "data": {
      "text/plain": [
       "(electric        87\n",
       " other          153\n",
       " hybrid         226\n",
       " cng            549\n",
       " lpg           5121\n",
       " gasoline     96932\n",
       " petrol      209291\n",
       " Name: FuelType, dtype: int64,\n",
       " None)"
      ]
     },
     "execution_count": 41,
     "metadata": {},
     "output_type": "execute_result"
    }
   ],
   "source": [
    "df_filtered['FuelType'].value_counts(ascending=True), df_filtered[['FuelType']].info()"
   ]
  },
  {
   "cell_type": "code",
   "execution_count": 42,
   "metadata": {},
   "outputs": [
    {
     "data": {
      "text/plain": [
       "28329"
      ]
     },
     "execution_count": 42,
     "metadata": {},
     "output_type": "execute_result"
    }
   ],
   "source": [
    "df_filtered['FuelType'].isna().sum()"
   ]
  },
  {
   "cell_type": "code",
   "execution_count": 43,
   "metadata": {},
   "outputs": [
    {
     "data": {
      "text/plain": [
       "array(['petrol', 'gasoline', nan, 'lpg', 'other', 'hybrid', 'cng',\n",
       "       'electric'], dtype=object)"
      ]
     },
     "execution_count": 43,
     "metadata": {},
     "output_type": "execute_result"
    }
   ],
   "source": [
    "df_filtered['FuelType'].unique()"
   ]
  },
  {
   "cell_type": "markdown",
   "metadata": {},
   "source": [
    "Выведем строки, где есть пропуски, и потом возьмем одну из моделей, где есть заполнение для проверки. "
   ]
  },
  {
   "cell_type": "code",
   "execution_count": 44,
   "metadata": {},
   "outputs": [
    {
     "data": {
      "text/html": [
       "<div>\n",
       "<style scoped>\n",
       "    .dataframe tbody tr th:only-of-type {\n",
       "        vertical-align: middle;\n",
       "    }\n",
       "\n",
       "    .dataframe tbody tr th {\n",
       "        vertical-align: top;\n",
       "    }\n",
       "\n",
       "    .dataframe thead th {\n",
       "        text-align: right;\n",
       "    }\n",
       "</style>\n",
       "<table border=\"1\" class=\"dataframe\">\n",
       "  <thead>\n",
       "    <tr style=\"text-align: right;\">\n",
       "      <th></th>\n",
       "      <th>DateCrawled</th>\n",
       "      <th>Price</th>\n",
       "      <th>VehicleType</th>\n",
       "      <th>RegistrationYear</th>\n",
       "      <th>Gearbox</th>\n",
       "      <th>Power</th>\n",
       "      <th>Model</th>\n",
       "      <th>Kilometer</th>\n",
       "      <th>RegistrationMonth</th>\n",
       "      <th>FuelType</th>\n",
       "      <th>Brand</th>\n",
       "      <th>Repaired</th>\n",
       "      <th>DateCreated</th>\n",
       "      <th>NumberOfPictures</th>\n",
       "      <th>PostalCode</th>\n",
       "      <th>LastSeen</th>\n",
       "    </tr>\n",
       "  </thead>\n",
       "  <tbody>\n",
       "    <tr>\n",
       "      <th>9</th>\n",
       "      <td>2016-03-17 10:53:50</td>\n",
       "      <td>999</td>\n",
       "      <td>small</td>\n",
       "      <td>1998</td>\n",
       "      <td>manual</td>\n",
       "      <td>101.0</td>\n",
       "      <td>golf</td>\n",
       "      <td>150000</td>\n",
       "      <td>0</td>\n",
       "      <td>NaN</td>\n",
       "      <td>volkswagen</td>\n",
       "      <td>NaN</td>\n",
       "      <td>2016-03-17</td>\n",
       "      <td>0</td>\n",
       "      <td>27472</td>\n",
       "      <td>2016-03-31 17:17:06</td>\n",
       "    </tr>\n",
       "    <tr>\n",
       "      <th>13</th>\n",
       "      <td>2016-03-21 21:37:40</td>\n",
       "      <td>2500</td>\n",
       "      <td>wagon</td>\n",
       "      <td>2004</td>\n",
       "      <td>manual</td>\n",
       "      <td>131.0</td>\n",
       "      <td>passat</td>\n",
       "      <td>150000</td>\n",
       "      <td>2</td>\n",
       "      <td>NaN</td>\n",
       "      <td>volkswagen</td>\n",
       "      <td>no</td>\n",
       "      <td>2016-03-21</td>\n",
       "      <td>0</td>\n",
       "      <td>90762</td>\n",
       "      <td>2016-03-23 02:50:54</td>\n",
       "    </tr>\n",
       "    <tr>\n",
       "      <th>26</th>\n",
       "      <td>2016-03-10 19:38:18</td>\n",
       "      <td>5555</td>\n",
       "      <td>small</td>\n",
       "      <td>2017</td>\n",
       "      <td>manual</td>\n",
       "      <td>125.0</td>\n",
       "      <td>c4</td>\n",
       "      <td>125000</td>\n",
       "      <td>4</td>\n",
       "      <td>NaN</td>\n",
       "      <td>citroen</td>\n",
       "      <td>no</td>\n",
       "      <td>2016-03-10</td>\n",
       "      <td>0</td>\n",
       "      <td>31139</td>\n",
       "      <td>2016-03-16 09:16:46</td>\n",
       "    </tr>\n",
       "  </tbody>\n",
       "</table>\n",
       "</div>"
      ],
      "text/plain": [
       "           DateCrawled  Price VehicleType  RegistrationYear Gearbox  Power  \\\n",
       "9  2016-03-17 10:53:50    999       small              1998  manual  101.0   \n",
       "13 2016-03-21 21:37:40   2500       wagon              2004  manual  131.0   \n",
       "26 2016-03-10 19:38:18   5555       small              2017  manual  125.0   \n",
       "\n",
       "     Model  Kilometer  RegistrationMonth FuelType       Brand Repaired  \\\n",
       "9     golf     150000                  0      NaN  volkswagen      NaN   \n",
       "13  passat     150000                  2      NaN  volkswagen       no   \n",
       "26      c4     125000                  4      NaN     citroen       no   \n",
       "\n",
       "   DateCreated  NumberOfPictures  PostalCode            LastSeen  \n",
       "9   2016-03-17                 0       27472 2016-03-31 17:17:06  \n",
       "13  2016-03-21                 0       90762 2016-03-23 02:50:54  \n",
       "26  2016-03-10                 0       31139 2016-03-16 09:16:46  "
      ]
     },
     "execution_count": 44,
     "metadata": {},
     "output_type": "execute_result"
    }
   ],
   "source": [
    "df_filtered[df_filtered['FuelType'].isna()].head(3)"
   ]
  },
  {
   "cell_type": "code",
   "execution_count": 45,
   "metadata": {},
   "outputs": [
    {
     "data": {
      "text/html": [
       "<div>\n",
       "<style scoped>\n",
       "    .dataframe tbody tr th:only-of-type {\n",
       "        vertical-align: middle;\n",
       "    }\n",
       "\n",
       "    .dataframe tbody tr th {\n",
       "        vertical-align: top;\n",
       "    }\n",
       "\n",
       "    .dataframe thead th {\n",
       "        text-align: right;\n",
       "    }\n",
       "</style>\n",
       "<table border=\"1\" class=\"dataframe\">\n",
       "  <thead>\n",
       "    <tr style=\"text-align: right;\">\n",
       "      <th></th>\n",
       "      <th>DateCrawled</th>\n",
       "      <th>Price</th>\n",
       "      <th>VehicleType</th>\n",
       "      <th>RegistrationYear</th>\n",
       "      <th>Gearbox</th>\n",
       "      <th>Power</th>\n",
       "      <th>Model</th>\n",
       "      <th>Kilometer</th>\n",
       "      <th>RegistrationMonth</th>\n",
       "      <th>FuelType</th>\n",
       "      <th>Brand</th>\n",
       "      <th>Repaired</th>\n",
       "      <th>DateCreated</th>\n",
       "      <th>NumberOfPictures</th>\n",
       "      <th>PostalCode</th>\n",
       "      <th>LastSeen</th>\n",
       "    </tr>\n",
       "  </thead>\n",
       "  <tbody>\n",
       "    <tr>\n",
       "      <th>307</th>\n",
       "      <td>2016-03-31 14:39:03</td>\n",
       "      <td>2300</td>\n",
       "      <td>coupe</td>\n",
       "      <td>2006</td>\n",
       "      <td>manual</td>\n",
       "      <td>88.0</td>\n",
       "      <td>c4</td>\n",
       "      <td>150000</td>\n",
       "      <td>6</td>\n",
       "      <td>petrol</td>\n",
       "      <td>citroen</td>\n",
       "      <td>no</td>\n",
       "      <td>2016-03-31</td>\n",
       "      <td>0</td>\n",
       "      <td>49565</td>\n",
       "      <td>2016-04-05 18:46:30</td>\n",
       "    </tr>\n",
       "  </tbody>\n",
       "</table>\n",
       "</div>"
      ],
      "text/plain": [
       "            DateCrawled  Price VehicleType  RegistrationYear Gearbox  Power  \\\n",
       "307 2016-03-31 14:39:03   2300       coupe              2006  manual   88.0   \n",
       "\n",
       "    Model  Kilometer  RegistrationMonth FuelType    Brand Repaired  \\\n",
       "307    c4     150000                  6   petrol  citroen       no   \n",
       "\n",
       "    DateCreated  NumberOfPictures  PostalCode            LastSeen  \n",
       "307  2016-03-31                 0       49565 2016-04-05 18:46:30  "
      ]
     },
     "execution_count": 45,
     "metadata": {},
     "output_type": "execute_result"
    }
   ],
   "source": [
    "df_filtered[(df_filtered['Model']=='c4')&(df_filtered['FuelType'].notna())].head(1)"
   ]
  },
  {
   "cell_type": "markdown",
   "metadata": {},
   "source": [
    "Делаем заполнение по моде"
   ]
  },
  {
   "cell_type": "code",
   "execution_count": 46,
   "metadata": {},
   "outputs": [
    {
     "data": {
      "text/html": [
       "<div>\n",
       "<style scoped>\n",
       "    .dataframe tbody tr th:only-of-type {\n",
       "        vertical-align: middle;\n",
       "    }\n",
       "\n",
       "    .dataframe tbody tr th {\n",
       "        vertical-align: top;\n",
       "    }\n",
       "\n",
       "    .dataframe thead th {\n",
       "        text-align: right;\n",
       "    }\n",
       "</style>\n",
       "<table border=\"1\" class=\"dataframe\">\n",
       "  <thead>\n",
       "    <tr style=\"text-align: right;\">\n",
       "      <th></th>\n",
       "      <th>FuelType</th>\n",
       "    </tr>\n",
       "    <tr>\n",
       "      <th>Brand</th>\n",
       "      <th></th>\n",
       "    </tr>\n",
       "  </thead>\n",
       "  <tbody>\n",
       "    <tr>\n",
       "      <th>alfa_romeo</th>\n",
       "      <td>petrol</td>\n",
       "    </tr>\n",
       "    <tr>\n",
       "      <th>audi</th>\n",
       "      <td>petrol</td>\n",
       "    </tr>\n",
       "    <tr>\n",
       "      <th>bmw</th>\n",
       "      <td>petrol</td>\n",
       "    </tr>\n",
       "    <tr>\n",
       "      <th>chevrolet</th>\n",
       "      <td>petrol</td>\n",
       "    </tr>\n",
       "    <tr>\n",
       "      <th>chrysler</th>\n",
       "      <td>petrol</td>\n",
       "    </tr>\n",
       "  </tbody>\n",
       "</table>\n",
       "</div>"
      ],
      "text/plain": [
       "           FuelType\n",
       "Brand              \n",
       "alfa_romeo   petrol\n",
       "audi         petrol\n",
       "bmw          petrol\n",
       "chevrolet    petrol\n",
       "chrysler     petrol"
      ]
     },
     "execution_count": 46,
     "metadata": {},
     "output_type": "execute_result"
    }
   ],
   "source": [
    "fuel_type_pivot = df_filtered.pivot_table(index='Brand', values='FuelType', aggfunc=lambda x: x.mode())\n",
    "fuel_type_pivot.head()"
   ]
  },
  {
   "cell_type": "code",
   "execution_count": 47,
   "metadata": {},
   "outputs": [
    {
     "data": {
      "image/png": "[encoded data removed]",
      "text/plain": [
       "<Figure size 576x396 with 1 Axes>"
      ]
     },
     "metadata": {},
     "output_type": "display_data"
    }
   ],
   "source": [
    "for t in df_filtered['Brand'].unique():\n",
    "    df_filtered.loc[(df_filtered['Brand'] == t)&(df_filtered['FuelType'].isna()), 'FuelType'] = \\\n",
    "    fuel_type_pivot[fuel_type_pivot.index == t].values[0, 0]\n",
    "\n",
    "df_filtered['FuelType'].hist();"
   ]
  },
  {
   "cell_type": "code",
   "execution_count": 48,
   "metadata": {},
   "outputs": [
    {
     "data": {
      "text/plain": [
       "(array(['petrol', 'gasoline', 'lpg', 'other', 'hybrid', 'cng', 'electric'],\n",
       "       dtype=object),\n",
       " 0)"
      ]
     },
     "execution_count": 48,
     "metadata": {},
     "output_type": "execute_result"
    }
   ],
   "source": [
    "df_filtered['FuelType'].unique(), df_filtered['FuelType'].isna().sum() \n"
   ]
  },
  {
   "cell_type": "markdown",
   "metadata": {},
   "source": [
    "<div class=\"alert alert-block alert-success\">\n",
    "<b>✔️ Успех:</b>\n",
    "\n",
    "Согласен с таким заполнением 👍\n",
    "</div>"
   ]
  },
  {
   "cell_type": "markdown",
   "metadata": {},
   "source": [
    "### Ремонт"
   ]
  },
  {
   "cell_type": "code",
   "execution_count": 49,
   "metadata": {},
   "outputs": [
    {
     "data": {
      "text/plain": [
       "(array([nan, 'yes', 'no'], dtype=object), 64309)"
      ]
     },
     "execution_count": 49,
     "metadata": {},
     "output_type": "execute_result"
    }
   ],
   "source": [
    "df_filtered['Repaired'].unique(), df_filtered['Repaired'].isna().sum() "
   ]
  },
  {
   "cell_type": "code",
   "execution_count": 50,
   "metadata": {},
   "outputs": [],
   "source": [
    "df_filtered['Repaired'] = df_filtered['Repaired'].fillna('no')"
   ]
  },
  {
   "cell_type": "code",
   "execution_count": 51,
   "metadata": {},
   "outputs": [
    {
     "data": {
      "text/plain": [
       "(array(['no', 'yes'], dtype=object), 0)"
      ]
     },
     "execution_count": 51,
     "metadata": {},
     "output_type": "execute_result"
    }
   ],
   "source": [
    "df_filtered['Repaired'].unique(), df_filtered['Repaired'].isna().sum() "
   ]
  },
  {
   "cell_type": "markdown",
   "metadata": {},
   "source": [
    "<div class=\"alert alert-block alert-success\">\n",
    "<b>✔️ Успех:</b>\n",
    "\n",
    "Согласен с таким заполнением 👍\n",
    "</div>"
   ]
  },
  {
   "cell_type": "markdown",
   "metadata": {},
   "source": [
    "### Год регистрации"
   ]
  },
  {
   "cell_type": "markdown",
   "metadata": {},
   "source": [
    "При знакомстве с данными видели вбросы и годы от 1000 до 9999"
   ]
  },
  {
   "cell_type": "code",
   "execution_count": 52,
   "metadata": {},
   "outputs": [
    {
     "data": {
      "text/plain": [
       "66198     1000\n",
       "71459     1000\n",
       "189722    1000\n",
       "213499    1000\n",
       "79120     1000\n",
       "          ... \n",
       "200525    9999\n",
       "28965     9999\n",
       "217111    9999\n",
       "17271     9999\n",
       "128677    9999\n",
       "Name: RegistrationYear, Length: 340688, dtype: int64"
      ]
     },
     "execution_count": 52,
     "metadata": {},
     "output_type": "execute_result"
    }
   ],
   "source": [
    "df_filtered['RegistrationYear'].sort_values()"
   ]
  },
  {
   "cell_type": "code",
   "execution_count": 53,
   "metadata": {},
   "outputs": [
    {
     "data": {
      "text/plain": [
       "316279   2016-04-07\n",
       "Name: DateCreated, dtype: datetime64[ns]"
      ]
     },
     "execution_count": 53,
     "metadata": {},
     "output_type": "execute_result"
    }
   ],
   "source": [
    "df_filtered['DateCreated'].sort_values(ascending=False).head(1)"
   ]
  },
  {
   "cell_type": "markdown",
   "metadata": {},
   "source": [
    "Последняя анкета значится 2016 годом, значит машин моложе не должно быть"
   ]
  },
  {
   "cell_type": "code",
   "execution_count": 54,
   "metadata": {},
   "outputs": [
    {
     "data": {
      "text/plain": [
       "145"
      ]
     },
     "execution_count": 54,
     "metadata": {},
     "output_type": "execute_result"
    }
   ],
   "source": [
    "\n",
    "df_filtered[df_filtered['RegistrationYear']<1950]['RegistrationYear'].count()"
   ]
  },
  {
   "cell_type": "code",
   "execution_count": 55,
   "metadata": {},
   "outputs": [
    {
     "data": {
      "image/png": "[encoded data removed]",
      "text/plain": [
       "<Figure size 576x396 with 1 Axes>"
      ]
     },
     "metadata": {},
     "output_type": "display_data"
    }
   ],
   "source": [
    "reg_filtered = df_filtered.query('1950 < RegistrationYear < 2016')\n",
    "reg_filtered['RegistrationYear'].hist();"
   ]
  },
  {
   "cell_type": "code",
   "execution_count": 56,
   "metadata": {},
   "outputs": [
    {
     "data": {
      "text/plain": [
       "13682"
      ]
     },
     "execution_count": 56,
     "metadata": {},
     "output_type": "execute_result"
    }
   ],
   "source": [
    "df_filtered[df_filtered['RegistrationYear']>2016]['RegistrationYear'].count()"
   ]
  },
  {
   "cell_type": "code",
   "execution_count": 57,
   "metadata": {},
   "outputs": [
    {
     "data": {
      "text/plain": [
       "(340688, 16)"
      ]
     },
     "execution_count": 57,
     "metadata": {},
     "output_type": "execute_result"
    }
   ],
   "source": [
    "df_filtered.shape"
   ]
  },
  {
   "cell_type": "markdown",
   "metadata": {},
   "source": [
    "Строчек после 2016 года много, но заменить их никак не удасться, придется удалить."
   ]
  },
  {
   "cell_type": "code",
   "execution_count": 58,
   "metadata": {},
   "outputs": [
    {
     "data": {
      "text/plain": [
       "(326847, 16)"
      ]
     },
     "execution_count": 58,
     "metadata": {},
     "output_type": "execute_result"
    }
   ],
   "source": [
    "df_filtered = df_filtered.query('1950 < RegistrationYear < 2017')\n",
    "df_filtered.shape"
   ]
  },
  {
   "cell_type": "markdown",
   "metadata": {},
   "source": [
    "<div class=\"alert alert-block alert-success\">\n",
    "<b>✔️ Успех:</b>\n",
    "\n",
    "Молодец, что для верхней границы используешь дату скачивания анкеты 👍\n",
    "</div>"
   ]
  },
  {
   "cell_type": "markdown",
   "metadata": {},
   "source": [
    "### Лишние столбцы"
   ]
  },
  {
   "cell_type": "markdown",
   "metadata": {},
   "source": [
    "Неинформативные столбцы уберем, обновим датафрейм, указав только нужны столбцы"
   ]
  },
  {
   "cell_type": "code",
   "execution_count": 59,
   "metadata": {},
   "outputs": [
    {
     "data": {
      "text/plain": [
       "Index(['DateCrawled', 'Price', 'VehicleType', 'RegistrationYear', 'Gearbox',\n",
       "       'Power', 'Model', 'Kilometer', 'RegistrationMonth', 'FuelType', 'Brand',\n",
       "       'Repaired', 'DateCreated', 'NumberOfPictures', 'PostalCode',\n",
       "       'LastSeen'],\n",
       "      dtype='object')"
      ]
     },
     "execution_count": 59,
     "metadata": {},
     "output_type": "execute_result"
    }
   ],
   "source": [
    "df_filtered.columns"
   ]
  },
  {
   "cell_type": "code",
   "execution_count": 60,
   "metadata": {},
   "outputs": [
    {
     "data": {
      "text/plain": [
       "(Index(['Price', 'VehicleType', 'RegistrationYear', 'Gearbox', 'Power', 'Model',\n",
       "        'Kilometer', 'FuelType', 'Brand', 'Repaired'],\n",
       "       dtype='object'),\n",
       " (326847, 10))"
      ]
     },
     "execution_count": 60,
     "metadata": {},
     "output_type": "execute_result"
    }
   ],
   "source": [
    "df_filtered = df_filtered[['Price', 'VehicleType', 'RegistrationYear', 'Gearbox',\n",
    "       'Power', 'Model', 'Kilometer', 'FuelType', 'Brand',\n",
    "       'Repaired']]\n",
    "df_filtered.columns, df_filtered.shape"
   ]
  },
  {
   "cell_type": "code",
   "execution_count": 61,
   "metadata": {},
   "outputs": [
    {
     "name": "stdout",
     "output_type": "stream",
     "text": [
      "Было мегабайт: 45.0 | Стало мегабайт: 29.0\n"
     ]
    }
   ],
   "source": [
    "print('Было мегабайт:',(df.memory_usage(index=True).sum()/1000000).round(), '|',\n",
    "      'Стало мегабайт:',\n",
    "     (df_filtered.memory_usage(index=True).sum()/1000000).round())"
   ]
  },
  {
   "cell_type": "markdown",
   "metadata": {},
   "source": [
    "**Вывод по 1 этапу**\n",
    "\n",
    "Познакомились с данными. Было много пропусков, нулевых значений и вбросов. Там, где прослеживалась логика для замены - заменили значения. В основном с помощью mode или median по значениям на основе заполненных других столбцов. \n",
    "\n",
    "Неинформативные столбцы не будем использовать в дальнейшем. В итоге сократился датасет и имеем данные без аномалий для дальнейшей работы"
   ]
  },
  {
   "cell_type": "markdown",
   "metadata": {},
   "source": [
    "<div class=\"alert alert-block alert-success\">\n",
    "<b>✔️ Успех:</b>\n",
    "\n",
    "Удалить неинформативные признаки - хорошее решение 👍\n",
    "</div>"
   ]
  },
  {
   "cell_type": "markdown",
   "metadata": {},
   "source": [
    "## Обучение моделей"
   ]
  },
  {
   "cell_type": "markdown",
   "metadata": {},
   "source": [
    "Модели, с которыми будем работать:\n",
    "\n",
    "- DecisionTreeRegressor\n",
    "- LGBMRegressor (бустинг)\n",
    "\n",
    "Необходимо обучить и попробовать разные гиперпараметры"
   ]
  },
  {
   "cell_type": "markdown",
   "metadata": {},
   "source": [
    "### DecisionTreeRegressor"
   ]
  },
  {
   "cell_type": "code",
   "execution_count": 62,
   "metadata": {},
   "outputs": [],
   "source": [
    "#функция расчета rmse\n",
    "def rmse(test,predict):\n",
    "    return ((mean_squared_error(test,predict))**0.5).round(2)"
   ]
  },
  {
   "cell_type": "code",
   "execution_count": 63,
   "metadata": {},
   "outputs": [],
   "source": [
    "custom_score = make_scorer(rmse, greater_is_better=True)"
   ]
  },
  {
   "cell_type": "code",
   "execution_count": 64,
   "metadata": {},
   "outputs": [],
   "source": [
    "# df_ohe = pd.get_dummies(df_filtered, drop_first=True)\n",
    "# df_ohe.head()\n",
    "# df_ohe.info()"
   ]
  },
  {
   "cell_type": "markdown",
   "metadata": {},
   "source": [
    "<div class=\"alert alert-block alert-success\">\n",
    "<b>✔️ Успех:</b> \n",
    "\n",
    "Для линейных моделей прямое кодирование отлично подойдет 👍\n",
    "</div>"
   ]
  },
  {
   "cell_type": "markdown",
   "metadata": {},
   "source": [
    "<div class=\"alert alert-block alert-danger\">\n",
    "<b>❌ Замечание:</b>\n",
    "\n",
    "Кодировать данные стоит после разбиения. Так у нас не будет утечки данных.\n",
    "\n",
    "Подробнее об этом можно прочитать здесь https://datascience.stackexchange.com/questions/108663/why-label-encoding-before-split-is-data-leakage\n",
    "  \n",
    "Суть в том, что в предобработке данных мы не должны заглядывать в тестовую выборку. Когда кодировщик fit-ится на всей выборке, там ведь есть и тестовая выборка, поэтому это называют утечкой или подглядыванием. \n",
    "\n",
    "P.S. после прямого кодирования кол-во столбцов в выборках может отличаться. Тогда лишние признаки можно удалить\n",
    "</div>"
   ]
  },
  {
   "cell_type": "markdown",
   "metadata": {},
   "source": [
    "<div class=\"alert alert-block alert-info\">\n",
    "<b>Комментарий студента:</b> Понял, спасибо. Убираю. Но ниже комментарий про то что надо использовать порядковое кодирование для дерева решений. Тогда я просто получается принимаю к сведению что прямое надо делать после разбивки и работаю с порядковым? \n",
    "    \n",
    "    Но сделал бы так: после ячейки с разделением выборки:\n",
    "    features_train = pd.get_dummies(features_train, drop_first=True)\n",
    "    features_test = pd.get_dummies(features_test, drop_first=True)\n",
    "\n",
    "    features_train.shape, features_test.shape, target_train.shape, target_test.shape\n",
    "    #приравняем количество столбцов в выборках\n",
    "\n",
    "    features_train = features_train[features_test.columns]\n",
    "    features_train.shape, features_test.shape, target_train.shape, target_test.shape\n",
    "    \n",
    "</div>"
   ]
  },
  {
   "cell_type": "markdown",
   "metadata": {},
   "source": [
    "<div class=\"alert alert-block alert-info\">\n",
    "<b>Изменения:</b> Вот порядковое кодирование ниже\n",
    "</div>"
   ]
  },
  {
   "cell_type": "markdown",
   "metadata": {},
   "source": [
    "<div class=\"alert alert-block alert-success\">\n",
    "<b>V2 ✔️ Успешно исправлено</b>\n",
    "\n",
    "Оба кодирования стоит сделать после разбиения\n",
    "    \n",
    "- features_train_ohe, features_test_ohe  - для линейных моделей\n",
    "- features_train_oe, features_test_oe - для моделей, основанных на деревьях решений\n",
    "</div>"
   ]
  },
  {
   "cell_type": "code",
   "execution_count": 65,
   "metadata": {},
   "outputs": [],
   "source": [
    "np.random.seed(12345)"
   ]
  },
  {
   "cell_type": "code",
   "execution_count": 66,
   "metadata": {},
   "outputs": [
    {
     "data": {
      "text/plain": [
       "((245135, 9), (81712, 9), (245135,), (81712,))"
      ]
     },
     "execution_count": 66,
     "metadata": {},
     "output_type": "execute_result"
    }
   ],
   "source": [
    "features = df_filtered.drop('Price', axis=1)\n",
    "target = df_filtered['Price']\n",
    "\n",
    "# вот добавляю порядковое кодирование\n",
    "enc = OrdinalEncoder()\n",
    "features[['VehicleType', 'Gearbox','Model', 'FuelType', 'Brand','Repaired']] = enc.fit_transform(features[['VehicleType', 'Gearbox','Model', 'FuelType', 'Brand','Repaired']])\n",
    "\n",
    "features_train, features_test, target_train, target_test = train_test_split(\n",
    "    features, target, test_size=0.25)\n",
    "\n",
    "features_train.shape, features_test.shape, target_train.shape, target_test.shape"
   ]
  },
  {
   "cell_type": "markdown",
   "metadata": {},
   "source": [
    "<div class=\"alert alert-block alert-success\">\n",
    "<b>✔️ Успех:</b> \n",
    "\n",
    "Данные поделены верно, пропорции выбраны адекватные 👍\n",
    "</div>"
   ]
  },
  {
   "cell_type": "code",
   "execution_count": 70,
   "metadata": {},
   "outputs": [],
   "source": [
    "model_DTR = make_pipeline(DecisionTreeRegressor())\n",
    "#model_DTR = make_pipeline(StandardScaler(),DecisionTreeRegressor())\n",
    "#model_RFR = make_pipeline(RandomForestRegressor())"
   ]
  },
  {
   "cell_type": "code",
   "execution_count": 71,
   "metadata": {},
   "outputs": [],
   "source": [
    "params_DT= {\"decisiontreeregressor__max_depth\":range(2, 8)}\n",
    "# params_RF = {\"randomforestregressor__n_estimators\":range(100, 150, 50),\n",
    "#              \"randomforestregressor__max_depth\":range(2, 4)}"
   ]
  },
  {
   "cell_type": "code",
   "execution_count": 72,
   "metadata": {},
   "outputs": [],
   "source": [
    "grid_DT = GridSearchCV(model_DTR,param_grid = params_DT,scoring=custom_score)\n",
    "#grid_RF = GridSearchCV(model_RFR,param_grid = params_RF,scoring=custom_score)"
   ]
  },
  {
   "cell_type": "code",
   "execution_count": 73,
   "metadata": {},
   "outputs": [
    {
     "name": "stdout",
     "output_type": "stream",
     "text": [
      "CPU times: user 5.62 s, sys: 8.38 ms, total: 5.63 s\n",
      "Wall time: 5.64 s\n"
     ]
    },
    {
     "data": {
      "text/plain": [
       "GridSearchCV(estimator=Pipeline(steps=[('decisiontreeregressor',\n",
       "                                        DecisionTreeRegressor())]),\n",
       "             param_grid={'decisiontreeregressor__max_depth': range(2, 8)},\n",
       "             scoring=make_scorer(rmse))"
      ]
     },
     "execution_count": 73,
     "metadata": {},
     "output_type": "execute_result"
    }
   ],
   "source": [
    "%%time\n",
    "grid_DT.fit(features_train,target_train)"
   ]
  },
  {
   "cell_type": "code",
   "execution_count": 74,
   "metadata": {},
   "outputs": [
    {
     "name": "stdout",
     "output_type": "stream",
     "text": [
      "Pipeline(steps=[('decisiontreeregressor', DecisionTreeRegressor(max_depth=2))])\n",
      "3189.892\n"
     ]
    }
   ],
   "source": [
    "print(grid_DT.best_estimator_)\n",
    "print(grid_DT.best_score_)"
   ]
  },
  {
   "cell_type": "code",
   "execution_count": 75,
   "metadata": {},
   "outputs": [
    {
     "name": "stdout",
     "output_type": "stream",
     "text": [
      "CPU times: user 9.95 ms, sys: 3.9 ms, total: 13.9 ms\n",
      "Wall time: 16.4 ms\n"
     ]
    },
    {
     "data": {
      "text/plain": [
       "array([10863.05426413,  2131.5698508 , 10863.05426413, ...,\n",
       "        6007.49301397,  6007.49301397,  2131.5698508 ])"
      ]
     },
     "execution_count": 75,
     "metadata": {},
     "output_type": "execute_result"
    }
   ],
   "source": [
    "%%time\n",
    "grid_DT.predict(features_train)"
   ]
  },
  {
   "cell_type": "code",
   "execution_count": 76,
   "metadata": {},
   "outputs": [],
   "source": [
    "#%%time\n",
    "\n",
    "#grid_RF.fit(features_train,target_train)"
   ]
  },
  {
   "cell_type": "code",
   "execution_count": 77,
   "metadata": {},
   "outputs": [],
   "source": [
    "# print(grid_RF.best_estimator_)\n",
    "# print(grid_RF.best_score_)"
   ]
  },
  {
   "cell_type": "markdown",
   "metadata": {},
   "source": [
    "<div class=\"alert alert-block alert-danger\">\n",
    "<b>❌ Замечание:</b>\n",
    "\n",
    "Для моделей, основанных на деревьях решений, лучше использовать порядковое кодирование (OrdinalEncoder). Это должно ускорить их работу. Так как при большом количестве признаков, модель будет долго искать оптимальный сплит.\n",
    "\n",
    "В этой кодировке важно преобразовать только категориальные признаки. Если этого не сделать, то целевая переменная тоже закодируется и метрики будут неадекватными.\n",
    "</div>"
   ]
  },
  {
   "cell_type": "markdown",
   "metadata": {},
   "source": [
    "<div class=\"alert alert-block alert-info\">\n",
    "<b>Комментарий студента:</b> Убрал прямое, поставил порядковое.\n",
    "</div>"
   ]
  },
  {
   "cell_type": "markdown",
   "metadata": {},
   "source": [
    "<div class=\"alert alert-block alert-success\">\n",
    "<b>V2 ✔️ Успешно исправлено</b>\n",
    "</div>"
   ]
  },
  {
   "cell_type": "markdown",
   "metadata": {},
   "source": [
    "CatBoost - хотел попробовать. но ядро юпитера падает, даже удаляя переменные - не помогает. "
   ]
  },
  {
   "cell_type": "code",
   "execution_count": 78,
   "metadata": {},
   "outputs": [],
   "source": [
    "# del df_ohe\n",
    "# del features, target, features_train, features_test, target_train, target_test"
   ]
  },
  {
   "cell_type": "code",
   "execution_count": 79,
   "metadata": {},
   "outputs": [],
   "source": [
    "# df_CAT = df_filtered.copy()\n",
    "# df_CAT.info()"
   ]
  },
  {
   "cell_type": "code",
   "execution_count": 80,
   "metadata": {},
   "outputs": [],
   "source": [
    "# features_CAT = df_CAT.drop('Price', axis=1)\n",
    "# target_CAT = df_CAT['Price']\n",
    "\n",
    "# features_CAT_train, features_CAT_test, target_CAT_train, target_CAT_test = train_test_split(\n",
    "#     features_CAT, target_CAT, test_size=0.25)"
   ]
  },
  {
   "cell_type": "code",
   "execution_count": 81,
   "metadata": {},
   "outputs": [],
   "source": [
    "# model_CAT = CatBoostClassifier(iterations=30, depth=3)"
   ]
  },
  {
   "cell_type": "code",
   "execution_count": 82,
   "metadata": {},
   "outputs": [],
   "source": [
    "# cat_features = ['VehicleType', 'Gearbox','Model', 'FuelType', 'Brand','Repaired']"
   ]
  },
  {
   "cell_type": "code",
   "execution_count": 83,
   "metadata": {},
   "outputs": [],
   "source": [
    "# %%time\n",
    "# model_CAT.fit(features_CAT_train, target_CAT_train, cat_features=cat_features, verbose=10)"
   ]
  },
  {
   "cell_type": "code",
   "execution_count": 84,
   "metadata": {},
   "outputs": [],
   "source": [
    "# grid = {'learning_rate': [0.03, 0.1],\n",
    "#         'depth': [4, 6, 10],\n",
    "#         'l2_leaf_reg': [1, 3, 5, 7, 9]}\n",
    "\n",
    "# grid_search_result = model_CAT.grid_search(grid, \n",
    "#                                        X=features_CAT_train, \n",
    "#                                        y=target_CAT_train, \n",
    "#                                        plot=True)\n"
   ]
  },
  {
   "cell_type": "code",
   "execution_count": 85,
   "metadata": {},
   "outputs": [],
   "source": [
    "#model_CAT.predict(features_valid)"
   ]
  },
  {
   "cell_type": "markdown",
   "metadata": {},
   "source": [
    "### LGBMRegressor"
   ]
  },
  {
   "cell_type": "code",
   "execution_count": 86,
   "metadata": {},
   "outputs": [],
   "source": [
    "df_LGBM = df_filtered.copy()"
   ]
  },
  {
   "cell_type": "code",
   "execution_count": 87,
   "metadata": {},
   "outputs": [],
   "source": [
    "# df_LGBM = pd.get_dummies(df_LGBM_not_ohe, drop_first=True)"
   ]
  },
  {
   "cell_type": "markdown",
   "metadata": {},
   "source": [
    "<div class=\"alert alert-block alert-warning\">\n",
    "<b>⚠️ Совет:</b>\n",
    "\n",
    "У бустингов под капотом есть возможность кодировать категориальные признаки:\n",
    " \n",
    "1. CatBoost. Нужно категориальные признаки передать в параметр `cat_features`.\n",
    "2. LightGBM. Нужно изменить тип данных категориальных признаков с `object` на `category`.\n",
    "</div>"
   ]
  },
  {
   "cell_type": "markdown",
   "metadata": {},
   "source": [
    "<div class=\"alert alert-block alert-info\">\n",
    "<b>Комментарий студента:</b> Спасибо. Про CatBoost знал. А вот у LGBM не нашел, где под капотом можно установить. но попробую порядкое кодирование здесь тоже\n",
    "</div>"
   ]
  },
  {
   "cell_type": "markdown",
   "metadata": {},
   "source": [
    "<div class=\"alert alert-block alert-success\">\n",
    "<b>V2 ✔️ Успешно исправлено</b>\n",
    "</div>"
   ]
  },
  {
   "cell_type": "code",
   "execution_count": 88,
   "metadata": {},
   "outputs": [],
   "source": [
    "features_LGBM = df_LGBM.drop('Price', axis=1)\n",
    "target_LGBM = df_LGBM['Price']\n",
    "\n",
    "enc = OrdinalEncoder()\n",
    "features_LGBM[['VehicleType', 'Gearbox','Model', 'FuelType', 'Brand','Repaired']] = enc.fit_transform(features_LGBM[['VehicleType', 'Gearbox','Model', 'FuelType', 'Brand','Repaired']])\n",
    "\n",
    "features_LGBM_train, features_LGBM_test, target_LGBM_train, target_LGBM_test = train_test_split(\n",
    "    features_LGBM, target_LGBM, test_size=0.25)"
   ]
  },
  {
   "cell_type": "code",
   "execution_count": 89,
   "metadata": {
    "scrolled": true
   },
   "outputs": [
    {
     "name": "stdout",
     "output_type": "stream",
     "text": [
      "[1]\tvalid_0's rmse: 4187.41\tvalid_0's l2: 1.75344e+07\n",
      "[2]\tvalid_0's rmse: 3909.4\tvalid_0's l2: 1.52834e+07\n",
      "[3]\tvalid_0's rmse: 3665.69\tvalid_0's l2: 1.34373e+07\n",
      "[4]\tvalid_0's rmse: 3451.49\tvalid_0's l2: 1.19128e+07\n",
      "[5]\tvalid_0's rmse: 3264.52\tvalid_0's l2: 1.06571e+07\n",
      "[6]\tvalid_0's rmse: 3098.52\tvalid_0's l2: 9.60085e+06\n",
      "[7]\tvalid_0's rmse: 2955.94\tvalid_0's l2: 8.73761e+06\n",
      "[8]\tvalid_0's rmse: 2830.2\tvalid_0's l2: 8.01006e+06\n",
      "[9]\tvalid_0's rmse: 2723.9\tvalid_0's l2: 7.41961e+06\n",
      "[10]\tvalid_0's rmse: 2629.41\tvalid_0's l2: 6.9138e+06\n",
      "[11]\tvalid_0's rmse: 2548.49\tvalid_0's l2: 6.49481e+06\n",
      "[12]\tvalid_0's rmse: 2479.3\tvalid_0's l2: 6.14692e+06\n",
      "[13]\tvalid_0's rmse: 2415.09\tvalid_0's l2: 5.83267e+06\n",
      "[14]\tvalid_0's rmse: 2360.63\tvalid_0's l2: 5.57256e+06\n",
      "[15]\tvalid_0's rmse: 2309.27\tvalid_0's l2: 5.33271e+06\n",
      "[16]\tvalid_0's rmse: 2264.56\tvalid_0's l2: 5.12821e+06\n",
      "[17]\tvalid_0's rmse: 2228.12\tvalid_0's l2: 4.9645e+06\n",
      "[18]\tvalid_0's rmse: 2194.1\tvalid_0's l2: 4.81407e+06\n",
      "[19]\tvalid_0's rmse: 2161.61\tvalid_0's l2: 4.67255e+06\n",
      "[20]\tvalid_0's rmse: 2134.59\tvalid_0's l2: 4.5565e+06\n",
      "CPU times: user 3.9 s, sys: 16.7 ms, total: 3.92 s\n",
      "Wall time: 3.96 s\n"
     ]
    },
    {
     "data": {
      "text/plain": [
       "LGBMRegressor(n_estimators=20, objective='regression')"
      ]
     },
     "execution_count": 89,
     "metadata": {},
     "output_type": "execute_result"
    }
   ],
   "source": [
    "%%time\n",
    "model_LGBM_rmse = LGBMRegressor(objective=\"regression\", n_estimators=20)\n",
    "model_LGBM_rmse.fit(features_LGBM_train, target_LGBM_train, eval_set=[(features_LGBM_test, target_LGBM_test),], eval_metric=\"rmse\")\n",
    "\n"
   ]
  },
  {
   "cell_type": "code",
   "execution_count": 90,
   "metadata": {},
   "outputs": [
    {
     "name": "stdout",
     "output_type": "stream",
     "text": [
      "CPU times: user 306 ms, sys: 0 ns, total: 306 ms\n",
      "Wall time: 299 ms\n"
     ]
    },
    {
     "data": {
      "text/plain": [
       "array([3367.27291463, 2335.753143  , 4139.60088779, ..., 1491.65573776,\n",
       "       5147.39713313, 1450.36791448])"
      ]
     },
     "execution_count": 90,
     "metadata": {},
     "output_type": "execute_result"
    }
   ],
   "source": [
    "%%time\n",
    "model_LGBM_rmse.predict(features_LGBM_train)"
   ]
  },
  {
   "cell_type": "markdown",
   "metadata": {},
   "source": [
    "## Анализ моделей"
   ]
  },
  {
   "cell_type": "markdown",
   "metadata": {},
   "source": [
    "<div class=\"alert alert-block alert-danger\">\n",
    "<b>❌ Замечание:</b>\n",
    "\n",
    "В сравнении нужно смотреть отдельно на время обучения и время предсказания для каждой модели.\n",
    "    \n",
    "Если валидациционной выборки нет, то анализ моделей должен выглядеть так:\n",
    "\n",
    "1. RMSE вычисляется с помощью кросс-валидации на тренировочной выборке\n",
    "2. Время обучения = время model.fit(X_train, y_train)\n",
    "3. Время предсказания = model.predict(X_train)\n",
    "</div>"
   ]
  },
  {
   "cell_type": "markdown",
   "metadata": {},
   "source": [
    "<div class=\"alert alert-block alert-info\">\n",
    "<b>Изменения:</b> Сделаю таблицу, в которую добавлю значения \n",
    "</div>"
   ]
  },
  {
   "cell_type": "markdown",
   "metadata": {},
   "source": [
    "<div class=\"alert alert-block alert-success\">\n",
    "<b>V2 ✔️ Успешно исправлено</b>\n",
    "</div>"
   ]
  },
  {
   "cell_type": "code",
   "execution_count": 102,
   "metadata": {},
   "outputs": [
    {
     "name": "stdout",
     "output_type": "stream",
     "text": [
      "+-----------------------+------------+----------------+---------+\n",
      "|                       | Обучение   | Предсказание   |    RMSE |\n",
      "+=======================+============+================+=========+\n",
      "| DecisionTreeRegressor | 5.64 s     | 16.4 ms        | 3189.89 |\n",
      "+-----------------------+------------+----------------+---------+\n",
      "| LGBMRegressor         | 3.96 s     | 299 ms         | 2134.59 |\n",
      "+-----------------------+------------+----------------+---------+\n"
     ]
    }
   ],
   "source": [
    "a = [\n",
    "    ['DecisionTreeRegressor','5.64 s', '16.4 ms', 3189.892],\n",
    "    ['LGBMRegressor','3.96 s', '299 ms', 2134.59]\n",
    "]\n",
    "head=['Обучение','Предсказание','RMSE']\n",
    "print(tabulate(a, headers=head, tablefmt=\"grid\"))"
   ]
  },
  {
   "cell_type": "markdown",
   "metadata": {},
   "source": [
    "LGBMRegressor обучается быстрее и дает лучше результат RMSE, чем DecisionTreeRegressor. Но предсказаывает модель с градиентным бустингом дольше.\n",
    "Рузультат качества модели дерево решений: 3189.892. С этой моделью мы не можем добиться заданной планки метрики - ниже 2500."
   ]
  },
  {
   "cell_type": "markdown",
   "metadata": {},
   "source": [
    "<div class=\"alert alert-block alert-warning\">\n",
    "<b>⚠️ Совет:</b>\n",
    "\n",
    "Приятно было бы видеть результаты в информативной таблице\n",
    "</div>"
   ]
  },
  {
   "cell_type": "markdown",
   "metadata": {},
   "source": [
    "<div class=\"alert alert-block alert-info\">\n",
    "<b>Комментарий студента:</b> Сделал)\n",
    "</div>"
   ]
  },
  {
   "cell_type": "markdown",
   "metadata": {},
   "source": [
    "<div class=\"alert alert-block alert-success\">\n",
    "<b>V2 ✔️ Успешно исправлено</b>\n",
    "</div>"
   ]
  },
  {
   "cell_type": "markdown",
   "metadata": {},
   "source": [
    "<div class=\"alert alert-block alert-success\">\n",
    "<b>✔️ Успех:</b>\n",
    "\n",
    "Вывод соответствует анализу 👍 Значит рекомендуем заказчику LGBM\n",
    "</div>"
   ]
  },
  {
   "cell_type": "markdown",
   "metadata": {},
   "source": [
    "# Тестирование лучшей модели"
   ]
  },
  {
   "cell_type": "markdown",
   "metadata": {},
   "source": [
    "Проверим на тестовой выборке LGBMRegressor."
   ]
  },
  {
   "cell_type": "code",
   "execution_count": 91,
   "metadata": {},
   "outputs": [
    {
     "name": "stdout",
     "output_type": "stream",
     "text": [
      "CPU times: user 112 ms, sys: 706 µs, total: 113 ms\n",
      "Wall time: 186 ms\n"
     ]
    }
   ],
   "source": [
    "%%time\n",
    "\n",
    "pred_LGBM = model_LGBM_rmse.predict(features_LGBM_test)"
   ]
  },
  {
   "cell_type": "code",
   "execution_count": 92,
   "metadata": {},
   "outputs": [
    {
     "data": {
      "text/plain": [
       "2134.59"
      ]
     },
     "execution_count": 92,
     "metadata": {},
     "output_type": "execute_result"
    }
   ],
   "source": [
    "rmse(target_LGBM_test,pred_LGBM)"
   ]
  },
  {
   "cell_type": "markdown",
   "metadata": {},
   "source": [
    "<div class=\"alert alert-block alert-success\">\n",
    "<b>✔️ Успех:</b>\n",
    "\n",
    "Отличный результат 👍 \n",
    "</div>"
   ]
  },
  {
   "cell_type": "markdown",
   "metadata": {},
   "source": [
    "**Общий вывод**\n",
    "\n",
    "Больший объем работы над проектом пришлось на предобработку данных. Множество пропусков и вбросов в данных датасета обрабатывали с помощью часто встречающихся значений или медианой.\n",
    "\n",
    "Далее обучили 2 модели - с бустингом и без. Нас интересовало время на обучение и его качество. Модель с градиентным бустингом LightGBM показала себя лучше. Модель проверена на тестовой выборке - **RMSE = 2134**\n"
   ]
  },
  {
   "cell_type": "markdown",
   "metadata": {},
   "source": [
    "# <font color='orange'>Общее впечатление</font>\n",
    "* Этот проект выполнен очень хорошо\n",
    "* Видно, что приложено много усилий\n",
    "* Молодец, что структурируешь ноутбук, приятно проверять такие работы\n",
    "* У тебя чистый и лаконичный код\n",
    "* Мне было интересно читать твои промежуточные выводы\n",
    "* Твой уровень подачи материала находится на высоком уровне\n",
    "* Исправь, пожалуйста, мои замечания. Затем отправляй на повторную проверку\n",
    "* Жду новую версию проекта 👋"
   ]
  },
  {
   "cell_type": "markdown",
   "metadata": {},
   "source": [
    "<div class=\"alert alert-block alert-info\">\n",
    "<b>Комментарий студента:</b> Дуолан, спасибо большое за внимание и советы )\n",
    "</div>"
   ]
  },
  {
   "cell_type": "markdown",
   "metadata": {},
   "source": [
    "# <font color='orange'>2. Общее впечатление</font>\n",
    "* Спасибо за быстрое внесение правок\n",
    "* Теперь проект выглядит лучше )\n",
    "* Критических замечаний нет\n",
    "* Молодец, отличная работа!\n",
    "* Надеюсь, ревью было полезным\n",
    "* Удачи в дальнейшем обучении 👋"
   ]
  },
  {
   "cell_type": "markdown",
   "metadata": {},
   "source": [
    "# <font color='orange'>Рекомендации 🔥</font>\n",
    "* Доступное объяснение про работу градиентного бустинга https://www.youtube.com/watch?v=ZNJ3lKyI-EY&t=995s\n",
    "* После просмотра видео можешь почитать статью про ансамбли и бустинги https://habr.com/ru/company/ods/blog/645887/\n",
    "* Подбор гиперпараметров для CatBoost https://habr.com/ru/company/otus/blog/527554/\n",
    "* Подбор гиперпараметров для LightGBM https://programmersought.com/article/40776531516/\n",
    "* Разумные способы кодирования категориальных данных для машинного обучения https://machinelearningmastery.ru/smarter-ways-to-encode-categorical-data-for-machine-learning-part-1-of-3-6dca2f71b159/\n",
    "* Статья про \"непонятную\" метрику ROC-AUC https://dyakonov.org/2017/07/28/auc-roc-площадь-под-кривой-ошибок/\n",
    "* Хочешь подтянуть математику для DS?) https://academy.stepik.org/math-for-data-science\n",
    "* Результы обучения моделей можно визуализировать 😎 https://www.datatechnotes.com/2019/08/elasticnet-regression-example-in-python.html\n",
    "* В нашем деле нужно быть всегда в курсе всех новинок, новостей и тд, вот тут публикуют новости в области DS: https://www.infoq.com/data-analysis/news/\n",
    "* Всем аналитикам данных рекомендую книгу Даниела Канемана \"Думай медленно, решай быстро\""
   ]
  },
  {
   "cell_type": "markdown",
   "metadata": {},
   "source": [
    "<div class=\"alert alert-block alert-info\">\n",
    "<b>Комментарий студента:</b> Спасибо большое за ссылочки. Решил попробовать визуализацию. Подскажи, пожалуйста, как адаптировать нормально?\n",
    "</div>"
   ]
  },
  {
   "cell_type": "code",
   "execution_count": 112,
   "metadata": {},
   "outputs": [
    {
     "data": {
      "image/png": "[encoded data removed]",
      "text/plain": [
       "<Figure size 576x396 with 1 Axes>"
      ]
     },
     "metadata": {},
     "output_type": "display_data"
    }
   ],
   "source": [
    "x_ax = range(len(features_LGBM_test))\n",
    "plt.scatter(x_ax, target_LGBM_test, s=5, color=\"blue\", label=\"original\")\n",
    "plt.plot(x_ax, pred_LGBM, lw=0.8, color=\"red\", label=\"predicted\")\n",
    "plt.legend()\n",
    "plt.show()"
   ]
  },
  {
   "cell_type": "markdown",
   "metadata": {},
   "source": [
    "<div class=\"alert alert-block alert-info\">\n",
    "<b>V2 Комментарий ревьюера:</b>\n",
    "\n",
    "Стоит увеличить график + добавить прозрачность через alpha\n",
    "\n",
    "А так, такие графики информативны лишь во временных рядах (следующий спринт). Там нужно построить график с предсказанными и реальными значениями (по оси x - время). А здесь непонятно что происходит)\n",
    "</div>"
   ]
  }
 ],
 "metadata": {
  "ExecuteTimeLog": [
   {
    "duration": 387,
    "start_time": "2022-11-20T11:49:46.851Z"
   },
   {
    "duration": 4,
    "start_time": "2022-11-20T11:59:15.596Z"
   },
   {
    "duration": 1223,
    "start_time": "2022-11-20T12:10:58.577Z"
   },
   {
    "duration": 18327,
    "start_time": "2022-11-20T12:11:29.493Z"
   },
   {
    "duration": 49975,
    "start_time": "2022-11-20T12:11:49.026Z"
   },
   {
    "duration": 48518,
    "start_time": "2022-11-20T12:16:33.399Z"
   },
   {
    "duration": 925,
    "start_time": "2022-11-20T12:22:30.596Z"
   },
   {
    "duration": 3,
    "start_time": "2022-11-20T13:26:11.563Z"
   },
   {
    "duration": 52,
    "start_time": "2022-11-20T13:38:31.072Z"
   },
   {
    "duration": 32,
    "start_time": "2022-11-20T13:38:35.410Z"
   },
   {
    "duration": 47794,
    "start_time": "2022-11-20T13:38:56.349Z"
   },
   {
    "duration": 48623,
    "start_time": "2022-11-20T13:40:59.120Z"
   },
   {
    "duration": 121,
    "start_time": "2022-11-20T13:46:29.192Z"
   },
   {
    "duration": 122,
    "start_time": "2022-11-20T13:46:53.420Z"
   },
   {
    "duration": 106,
    "start_time": "2022-11-20T13:47:51.850Z"
   },
   {
    "duration": 222,
    "start_time": "2022-11-20T13:52:41.996Z"
   },
   {
    "duration": 23,
    "start_time": "2022-11-20T13:53:40.096Z"
   },
   {
    "duration": 159,
    "start_time": "2022-11-20T13:54:14.417Z"
   },
   {
    "duration": 913,
    "start_time": "2022-11-20T13:54:45.829Z"
   },
   {
    "duration": 26,
    "start_time": "2022-11-20T13:54:56.739Z"
   },
   {
    "duration": 63,
    "start_time": "2022-11-20T13:55:38.830Z"
   },
   {
    "duration": 148,
    "start_time": "2022-11-20T13:56:07.449Z"
   },
   {
    "duration": 113,
    "start_time": "2022-11-20T13:56:20.498Z"
   },
   {
    "duration": 51,
    "start_time": "2022-11-20T14:00:08.933Z"
   },
   {
    "duration": 1543,
    "start_time": "2022-11-20T14:02:09.062Z"
   },
   {
    "duration": 6,
    "start_time": "2022-11-20T14:02:13.266Z"
   },
   {
    "duration": 6,
    "start_time": "2022-11-20T14:02:23.596Z"
   },
   {
    "duration": 6,
    "start_time": "2022-11-20T14:02:27.192Z"
   },
   {
    "duration": 7,
    "start_time": "2022-11-20T14:02:54.337Z"
   },
   {
    "duration": 220,
    "start_time": "2022-11-20T14:02:57.897Z"
   },
   {
    "duration": 256,
    "start_time": "2022-11-20T14:02:59.992Z"
   },
   {
    "duration": 271,
    "start_time": "2022-11-20T14:03:28.290Z"
   },
   {
    "duration": 205,
    "start_time": "2022-11-20T14:03:34.117Z"
   },
   {
    "duration": 4,
    "start_time": "2022-11-20T14:04:28.050Z"
   },
   {
    "duration": 0,
    "start_time": "2022-11-20T14:06:38.797Z"
   },
   {
    "duration": 10,
    "start_time": "2022-11-20T14:06:45.079Z"
   },
   {
    "duration": 1609,
    "start_time": "2022-11-20T14:06:51.022Z"
   },
   {
    "duration": 1641,
    "start_time": "2022-11-20T14:06:55.562Z"
   },
   {
    "duration": 843,
    "start_time": "2022-11-20T14:07:57.904Z"
   },
   {
    "duration": 1637,
    "start_time": "2022-11-20T14:08:08.100Z"
   },
   {
    "duration": 720,
    "start_time": "2022-11-20T14:08:21.911Z"
   },
   {
    "duration": 11,
    "start_time": "2022-11-20T14:08:29.091Z"
   },
   {
    "duration": 536,
    "start_time": "2022-11-20T14:08:33.777Z"
   },
   {
    "duration": 1693,
    "start_time": "2022-11-20T14:08:41.150Z"
   },
   {
    "duration": 42982,
    "start_time": "2022-11-20T14:09:36.476Z"
   },
   {
    "duration": 1554,
    "start_time": "2022-11-20T14:10:28.343Z"
   },
   {
    "duration": 509,
    "start_time": "2022-11-20T14:10:42.598Z"
   },
   {
    "duration": 8,
    "start_time": "2022-11-20T14:11:19.302Z"
   },
   {
    "duration": 332,
    "start_time": "2022-11-20T14:11:28.723Z"
   },
   {
    "duration": 387,
    "start_time": "2022-11-20T14:12:56.341Z"
   },
   {
    "duration": 392,
    "start_time": "2022-11-20T14:13:05.174Z"
   },
   {
    "duration": 309,
    "start_time": "2022-11-20T14:13:09.973Z"
   },
   {
    "duration": 353,
    "start_time": "2022-11-20T14:13:33.255Z"
   },
   {
    "duration": 1143,
    "start_time": "2022-11-20T14:13:41.910Z"
   },
   {
    "duration": 877,
    "start_time": "2022-11-20T14:13:43.055Z"
   },
   {
    "duration": 2652,
    "start_time": "2022-11-20T14:13:43.935Z"
   },
   {
    "duration": 49077,
    "start_time": "2022-11-20T14:13:46.590Z"
   },
   {
    "duration": 348,
    "start_time": "2022-11-20T14:14:35.669Z"
   },
   {
    "duration": 612,
    "start_time": "2022-11-20T14:14:36.019Z"
   },
   {
    "duration": 571,
    "start_time": "2022-11-20T14:14:36.633Z"
   },
   {
    "duration": 7,
    "start_time": "2022-11-20T14:16:37.695Z"
   },
   {
    "duration": 146,
    "start_time": "2022-11-20T14:16:54.574Z"
   },
   {
    "duration": 14,
    "start_time": "2022-11-20T14:17:22.994Z"
   },
   {
    "duration": 10,
    "start_time": "2022-11-20T14:17:37.782Z"
   },
   {
    "duration": 79,
    "start_time": "2022-11-20T14:18:22.585Z"
   },
   {
    "duration": 25,
    "start_time": "2022-11-20T14:18:35.513Z"
   },
   {
    "duration": 14,
    "start_time": "2022-11-20T14:18:48.423Z"
   },
   {
    "duration": 25,
    "start_time": "2022-11-20T14:19:06.877Z"
   },
   {
    "duration": 33,
    "start_time": "2022-11-20T14:19:26.551Z"
   },
   {
    "duration": 24,
    "start_time": "2022-11-20T14:20:09.146Z"
   },
   {
    "duration": 418,
    "start_time": "2022-11-20T14:20:26.053Z"
   },
   {
    "duration": 24,
    "start_time": "2022-11-20T14:20:41.112Z"
   },
   {
    "duration": 28,
    "start_time": "2022-11-20T14:20:50.289Z"
   },
   {
    "duration": 24,
    "start_time": "2022-11-20T14:20:58.235Z"
   },
   {
    "duration": 17,
    "start_time": "2022-11-20T14:21:08.485Z"
   },
   {
    "duration": 17,
    "start_time": "2022-11-20T14:21:19.481Z"
   },
   {
    "duration": 17,
    "start_time": "2022-11-20T14:21:30.888Z"
   },
   {
    "duration": 19,
    "start_time": "2022-11-20T14:21:40.126Z"
   },
   {
    "duration": 44,
    "start_time": "2022-11-20T14:21:42.985Z"
   },
   {
    "duration": 23,
    "start_time": "2022-11-20T14:21:54.596Z"
   },
   {
    "duration": 1888,
    "start_time": "2022-11-20T14:21:58.200Z"
   },
   {
    "duration": 199,
    "start_time": "2022-11-20T14:22:14.652Z"
   },
   {
    "duration": 160,
    "start_time": "2022-11-20T14:22:27.582Z"
   },
   {
    "duration": 173,
    "start_time": "2022-11-20T14:22:43.086Z"
   },
   {
    "duration": 176,
    "start_time": "2022-11-20T14:22:59.293Z"
   },
   {
    "duration": 150,
    "start_time": "2022-11-20T14:23:07.941Z"
   },
   {
    "duration": 564,
    "start_time": "2022-11-20T14:23:24.497Z"
   },
   {
    "duration": 43,
    "start_time": "2022-11-20T14:24:09.390Z"
   },
   {
    "duration": 818,
    "start_time": "2022-11-20T14:31:51.735Z"
   },
   {
    "duration": 766,
    "start_time": "2022-11-20T14:32:06.042Z"
   },
   {
    "duration": 57,
    "start_time": "2022-11-20T14:33:34.116Z"
   },
   {
    "duration": 63,
    "start_time": "2022-11-20T14:33:59.107Z"
   },
   {
    "duration": 67,
    "start_time": "2022-11-20T14:34:11.617Z"
   },
   {
    "duration": 305,
    "start_time": "2022-11-20T14:34:20.104Z"
   },
   {
    "duration": 36,
    "start_time": "2022-11-20T14:34:46.292Z"
   },
   {
    "duration": 323,
    "start_time": "2022-11-20T14:35:26.436Z"
   },
   {
    "duration": 237,
    "start_time": "2022-11-20T14:35:54.167Z"
   },
   {
    "duration": 562,
    "start_time": "2022-11-20T14:36:03.472Z"
   },
   {
    "duration": 787,
    "start_time": "2022-11-20T14:36:14.978Z"
   },
   {
    "duration": 476,
    "start_time": "2022-11-20T14:36:20.164Z"
   },
   {
    "duration": 302,
    "start_time": "2022-11-20T14:36:28.319Z"
   },
   {
    "duration": 462,
    "start_time": "2022-11-20T14:36:45.037Z"
   },
   {
    "duration": 466,
    "start_time": "2022-11-20T14:37:42.308Z"
   },
   {
    "duration": 474,
    "start_time": "2022-11-20T14:37:45.398Z"
   },
   {
    "duration": 394,
    "start_time": "2022-11-20T14:38:33.402Z"
   },
   {
    "duration": 224,
    "start_time": "2022-11-20T14:40:00.424Z"
   },
   {
    "duration": 236,
    "start_time": "2022-11-20T14:40:20.419Z"
   },
   {
    "duration": 223,
    "start_time": "2022-11-20T14:40:27.255Z"
   },
   {
    "duration": 212,
    "start_time": "2022-11-20T14:40:31.941Z"
   },
   {
    "duration": 228,
    "start_time": "2022-11-20T14:40:56.804Z"
   },
   {
    "duration": 253,
    "start_time": "2022-11-20T14:41:17.968Z"
   },
   {
    "duration": 236,
    "start_time": "2022-11-20T14:41:30.730Z"
   },
   {
    "duration": 290,
    "start_time": "2022-11-20T14:41:36.622Z"
   },
   {
    "duration": 225,
    "start_time": "2022-11-20T14:41:58.947Z"
   },
   {
    "duration": 232,
    "start_time": "2022-11-20T14:42:07.116Z"
   },
   {
    "duration": 241,
    "start_time": "2022-11-20T14:42:40.355Z"
   },
   {
    "duration": 309,
    "start_time": "2022-11-20T14:42:43.912Z"
   },
   {
    "duration": 293,
    "start_time": "2022-11-20T14:42:51.053Z"
   },
   {
    "duration": 291,
    "start_time": "2022-11-20T14:43:00.547Z"
   },
   {
    "duration": 335,
    "start_time": "2022-11-20T14:43:06.201Z"
   },
   {
    "duration": 311,
    "start_time": "2022-11-20T14:43:11.754Z"
   },
   {
    "duration": 51,
    "start_time": "2022-11-20T14:43:49.905Z"
   },
   {
    "duration": 43,
    "start_time": "2022-11-20T14:43:59.722Z"
   },
   {
    "duration": 46,
    "start_time": "2022-11-20T14:45:29.306Z"
   },
   {
    "duration": 44,
    "start_time": "2022-11-20T14:45:39.712Z"
   },
   {
    "duration": 41,
    "start_time": "2022-11-20T14:45:47.976Z"
   },
   {
    "duration": 47,
    "start_time": "2022-11-20T14:46:02.292Z"
   },
   {
    "duration": 42,
    "start_time": "2022-11-20T14:47:36.072Z"
   },
   {
    "duration": 49,
    "start_time": "2022-11-20T14:49:49.734Z"
   },
   {
    "duration": 50,
    "start_time": "2022-11-20T14:49:55.946Z"
   },
   {
    "duration": 59,
    "start_time": "2022-11-20T14:50:57.763Z"
   },
   {
    "duration": 49,
    "start_time": "2022-11-20T14:51:01.927Z"
   },
   {
    "duration": 49,
    "start_time": "2022-11-20T14:51:24.080Z"
   },
   {
    "duration": 52,
    "start_time": "2022-11-20T14:51:34.187Z"
   },
   {
    "duration": 45,
    "start_time": "2022-11-20T14:51:41.755Z"
   },
   {
    "duration": 48,
    "start_time": "2022-11-20T14:52:32.853Z"
   },
   {
    "duration": 42,
    "start_time": "2022-11-20T14:52:38.870Z"
   },
   {
    "duration": 44,
    "start_time": "2022-11-20T14:52:41.893Z"
   },
   {
    "duration": 59,
    "start_time": "2022-11-20T14:52:51.540Z"
   },
   {
    "duration": 42,
    "start_time": "2022-11-20T14:55:55.449Z"
   },
   {
    "duration": 44,
    "start_time": "2022-11-20T14:56:00.273Z"
   },
   {
    "duration": 44,
    "start_time": "2022-11-20T14:56:07.483Z"
   },
   {
    "duration": 524,
    "start_time": "2022-11-20T14:56:26.777Z"
   },
   {
    "duration": 6,
    "start_time": "2022-11-20T15:32:40.539Z"
   },
   {
    "duration": 21,
    "start_time": "2022-11-20T15:32:51.368Z"
   },
   {
    "duration": 72,
    "start_time": "2022-11-20T15:37:25.527Z"
   },
   {
    "duration": 90,
    "start_time": "2022-11-20T15:37:37.384Z"
   },
   {
    "duration": 2054,
    "start_time": "2022-11-20T15:38:10.506Z"
   },
   {
    "duration": 2122,
    "start_time": "2022-11-20T15:38:23.561Z"
   },
   {
    "duration": 2043,
    "start_time": "2022-11-20T15:39:42.736Z"
   },
   {
    "duration": 101,
    "start_time": "2022-11-20T15:40:23.195Z"
   },
   {
    "duration": 104,
    "start_time": "2022-11-20T15:40:32.196Z"
   },
   {
    "duration": 104,
    "start_time": "2022-11-20T15:41:25.262Z"
   },
   {
    "duration": 107,
    "start_time": "2022-11-20T15:41:37.040Z"
   },
   {
    "duration": 101,
    "start_time": "2022-11-20T15:42:15.671Z"
   },
   {
    "duration": 36,
    "start_time": "2022-11-20T16:52:12.452Z"
   },
   {
    "duration": 47,
    "start_time": "2022-11-20T16:52:27.047Z"
   },
   {
    "duration": 41,
    "start_time": "2022-11-20T16:52:37.240Z"
   },
   {
    "duration": 50,
    "start_time": "2022-11-20T16:53:02.323Z"
   },
   {
    "duration": 42,
    "start_time": "2022-11-20T16:53:06.256Z"
   },
   {
    "duration": 40,
    "start_time": "2022-11-20T16:53:17.943Z"
   },
   {
    "duration": 46,
    "start_time": "2022-11-20T16:53:32.143Z"
   },
   {
    "duration": 22,
    "start_time": "2022-11-20T17:33:13.274Z"
   },
   {
    "duration": 53,
    "start_time": "2022-11-20T17:33:19.399Z"
   },
   {
    "duration": 44,
    "start_time": "2022-11-20T17:33:25.974Z"
   },
   {
    "duration": 543,
    "start_time": "2022-11-20T17:38:13.646Z"
   },
   {
    "duration": 535,
    "start_time": "2022-11-20T17:38:19.019Z"
   },
   {
    "duration": 44,
    "start_time": "2022-11-20T17:39:07.086Z"
   },
   {
    "duration": 70,
    "start_time": "2022-11-20T17:39:11.599Z"
   },
   {
    "duration": 349,
    "start_time": "2022-11-20T17:39:20.303Z"
   },
   {
    "duration": 166,
    "start_time": "2022-11-20T17:40:16.691Z"
   },
   {
    "duration": 580,
    "start_time": "2022-11-20T17:40:54.594Z"
   },
   {
    "duration": 22,
    "start_time": "2022-11-20T17:42:01.611Z"
   },
   {
    "duration": 604,
    "start_time": "2022-11-20T17:42:18.384Z"
   },
   {
    "duration": 4,
    "start_time": "2022-11-20T17:42:45.293Z"
   },
   {
    "duration": 31,
    "start_time": "2022-11-20T17:42:52.503Z"
   },
   {
    "duration": 116,
    "start_time": "2022-11-20T17:44:54.239Z"
   },
   {
    "duration": 114,
    "start_time": "2022-11-20T17:45:31.975Z"
   },
   {
    "duration": 17,
    "start_time": "2022-11-20T17:47:47.065Z"
   },
   {
    "duration": 115,
    "start_time": "2022-11-20T17:47:49.691Z"
   },
   {
    "duration": 116,
    "start_time": "2022-11-20T17:48:31.776Z"
   },
   {
    "duration": 117,
    "start_time": "2022-11-20T17:48:44.052Z"
   },
   {
    "duration": 12,
    "start_time": "2022-11-20T17:49:28.870Z"
   },
   {
    "duration": 25,
    "start_time": "2022-11-20T17:49:37.219Z"
   },
   {
    "duration": 11,
    "start_time": "2022-11-20T17:50:42.891Z"
   },
   {
    "duration": 66,
    "start_time": "2022-11-20T17:50:45.678Z"
   },
   {
    "duration": 65,
    "start_time": "2022-11-20T17:51:19.510Z"
   },
   {
    "duration": 35,
    "start_time": "2022-11-20T17:52:07.067Z"
   },
   {
    "duration": 43,
    "start_time": "2022-11-20T17:52:22.729Z"
   },
   {
    "duration": 143,
    "start_time": "2022-11-20T17:52:29.110Z"
   },
   {
    "duration": 31,
    "start_time": "2022-11-20T17:53:04.389Z"
   },
   {
    "duration": 90,
    "start_time": "2022-11-20T17:53:34.533Z"
   },
   {
    "duration": 100,
    "start_time": "2022-11-20T17:54:54.003Z"
   },
   {
    "duration": 127,
    "start_time": "2022-11-20T17:55:06.523Z"
   },
   {
    "duration": 86,
    "start_time": "2022-11-20T17:55:20.429Z"
   },
   {
    "duration": 67,
    "start_time": "2022-11-20T18:00:58.268Z"
   },
   {
    "duration": 112,
    "start_time": "2022-11-20T18:01:47.612Z"
   },
   {
    "duration": 89,
    "start_time": "2022-11-20T18:02:08.632Z"
   },
   {
    "duration": 127,
    "start_time": "2022-11-20T18:02:29.190Z"
   },
   {
    "duration": 401,
    "start_time": "2022-11-20T18:03:51.280Z"
   },
   {
    "duration": 131,
    "start_time": "2022-11-20T18:04:17.497Z"
   },
   {
    "duration": 121,
    "start_time": "2022-11-20T18:04:30.072Z"
   },
   {
    "duration": 146,
    "start_time": "2022-11-20T18:04:33.322Z"
   },
   {
    "duration": 85,
    "start_time": "2022-11-20T18:04:48.246Z"
   },
   {
    "duration": 84,
    "start_time": "2022-11-20T18:05:02.082Z"
   },
   {
    "duration": 1348,
    "start_time": "2022-11-20T18:06:28.411Z"
   },
   {
    "duration": 48,
    "start_time": "2022-11-20T18:06:46.543Z"
   },
   {
    "duration": 106,
    "start_time": "2022-11-20T18:06:59.135Z"
   },
   {
    "duration": 227,
    "start_time": "2022-11-20T18:07:54.960Z"
   },
   {
    "duration": 132,
    "start_time": "2022-11-20T18:08:40.063Z"
   },
   {
    "duration": 121,
    "start_time": "2022-11-20T18:08:50.543Z"
   },
   {
    "duration": 93,
    "start_time": "2022-11-20T18:09:48.188Z"
   },
   {
    "duration": 84,
    "start_time": "2022-11-20T18:10:17.339Z"
   },
   {
    "duration": 69,
    "start_time": "2022-11-20T18:10:26.233Z"
   },
   {
    "duration": 81,
    "start_time": "2022-11-20T18:11:45.532Z"
   },
   {
    "duration": 83,
    "start_time": "2022-11-20T18:11:50.697Z"
   },
   {
    "duration": 52,
    "start_time": "2022-11-20T18:15:16.669Z"
   },
   {
    "duration": 72,
    "start_time": "2022-11-20T18:31:13.732Z"
   },
   {
    "duration": 2438,
    "start_time": "2022-11-20T18:31:24.455Z"
   },
   {
    "duration": 2246,
    "start_time": "2022-11-20T18:31:30.931Z"
   },
   {
    "duration": 2139,
    "start_time": "2022-11-20T18:31:51.864Z"
   },
   {
    "duration": 49,
    "start_time": "2022-11-20T18:32:12.941Z"
   },
   {
    "duration": 2274,
    "start_time": "2022-11-20T18:32:15.874Z"
   },
   {
    "duration": 78,
    "start_time": "2022-11-20T18:33:00.981Z"
   },
   {
    "duration": 2231,
    "start_time": "2022-11-20T18:33:08.026Z"
   },
   {
    "duration": 107,
    "start_time": "2022-11-20T18:33:43.366Z"
   },
   {
    "duration": 103,
    "start_time": "2022-11-20T18:34:07.441Z"
   },
   {
    "duration": 97,
    "start_time": "2022-11-20T18:34:24.409Z"
   },
   {
    "duration": 96,
    "start_time": "2022-11-20T18:35:07.429Z"
   },
   {
    "duration": 2225,
    "start_time": "2022-11-20T18:35:16.872Z"
   },
   {
    "duration": 2353,
    "start_time": "2022-11-20T18:36:29.426Z"
   },
   {
    "duration": 2143,
    "start_time": "2022-11-20T18:41:23.802Z"
   },
   {
    "duration": 89,
    "start_time": "2022-11-20T18:41:29.747Z"
   },
   {
    "duration": 691,
    "start_time": "2022-11-20T18:43:57.777Z"
   },
   {
    "duration": 713,
    "start_time": "2022-11-20T18:44:07.386Z"
   },
   {
    "duration": 677,
    "start_time": "2022-11-20T18:44:30.510Z"
   },
   {
    "duration": 3147,
    "start_time": "2022-11-20T18:44:49.144Z"
   },
   {
    "duration": 105,
    "start_time": "2022-11-20T18:45:02.533Z"
   },
   {
    "duration": 2233,
    "start_time": "2022-11-20T18:45:29.687Z"
   },
   {
    "duration": 2998,
    "start_time": "2022-11-20T18:45:44.273Z"
   },
   {
    "duration": 82,
    "start_time": "2022-11-20T18:45:51.605Z"
   },
   {
    "duration": 2235,
    "start_time": "2022-11-20T18:46:14.005Z"
   },
   {
    "duration": 130,
    "start_time": "2022-11-21T05:13:35.037Z"
   },
   {
    "duration": 89,
    "start_time": "2022-11-21T05:13:49.600Z"
   },
   {
    "duration": 93,
    "start_time": "2022-11-21T05:13:53.570Z"
   },
   {
    "duration": 104,
    "start_time": "2022-11-21T05:14:03.138Z"
   },
   {
    "duration": 90,
    "start_time": "2022-11-21T05:14:47.403Z"
   },
   {
    "duration": 93,
    "start_time": "2022-11-21T05:15:09.072Z"
   },
   {
    "duration": 105,
    "start_time": "2022-11-21T05:16:42.311Z"
   },
   {
    "duration": 473,
    "start_time": "2022-11-21T05:17:03.034Z"
   },
   {
    "duration": 517,
    "start_time": "2022-11-21T05:17:10.078Z"
   },
   {
    "duration": 468,
    "start_time": "2022-11-21T05:17:27.578Z"
   },
   {
    "duration": 437,
    "start_time": "2022-11-21T05:17:58.267Z"
   },
   {
    "duration": 478,
    "start_time": "2022-11-21T05:18:02.882Z"
   },
   {
    "duration": 145,
    "start_time": "2022-11-21T05:18:09.508Z"
   },
   {
    "duration": 58,
    "start_time": "2022-11-21T05:18:24.634Z"
   },
   {
    "duration": 78,
    "start_time": "2022-11-21T05:18:27.442Z"
   },
   {
    "duration": 48,
    "start_time": "2022-11-21T05:20:58.774Z"
   },
   {
    "duration": 69,
    "start_time": "2022-11-21T05:21:07.791Z"
   },
   {
    "duration": 73,
    "start_time": "2022-11-21T05:21:16.438Z"
   },
   {
    "duration": 70,
    "start_time": "2022-11-21T05:21:36.531Z"
   },
   {
    "duration": 70,
    "start_time": "2022-11-21T05:21:43.616Z"
   },
   {
    "duration": 447,
    "start_time": "2022-11-21T05:22:10.643Z"
   },
   {
    "duration": 93,
    "start_time": "2022-11-21T05:22:27.963Z"
   },
   {
    "duration": 52,
    "start_time": "2022-11-21T05:22:32.826Z"
   },
   {
    "duration": 466,
    "start_time": "2022-11-21T05:22:35.371Z"
   },
   {
    "duration": 434,
    "start_time": "2022-11-21T05:25:12.345Z"
   },
   {
    "duration": 384,
    "start_time": "2022-11-21T05:25:36.040Z"
   },
   {
    "duration": 12,
    "start_time": "2022-11-21T05:26:38.959Z"
   },
   {
    "duration": 10,
    "start_time": "2022-11-21T05:26:48.569Z"
   },
   {
    "duration": 68,
    "start_time": "2022-11-21T05:27:29.374Z"
   },
   {
    "duration": 1165,
    "start_time": "2022-11-21T05:27:56.683Z"
   },
   {
    "duration": 776,
    "start_time": "2022-11-21T05:27:57.850Z"
   },
   {
    "duration": 2507,
    "start_time": "2022-11-21T05:27:58.628Z"
   },
   {
    "duration": 45843,
    "start_time": "2022-11-21T05:28:01.137Z"
   },
   {
    "duration": 318,
    "start_time": "2022-11-21T05:28:46.982Z"
   },
   {
    "duration": 507,
    "start_time": "2022-11-21T05:28:47.302Z"
   },
   {
    "duration": 52,
    "start_time": "2022-11-21T05:28:47.812Z"
   },
   {
    "duration": 95,
    "start_time": "2022-11-21T05:28:47.866Z"
   },
   {
    "duration": 84,
    "start_time": "2022-11-21T05:28:47.962Z"
   },
   {
    "duration": 87,
    "start_time": "2022-11-21T05:28:48.048Z"
   },
   {
    "duration": 3,
    "start_time": "2022-11-21T05:28:48.136Z"
   },
   {
    "duration": 81,
    "start_time": "2022-11-21T05:28:48.140Z"
   },
   {
    "duration": 539,
    "start_time": "2022-11-22T04:16:20.843Z"
   },
   {
    "duration": 1092,
    "start_time": "2022-11-22T04:17:36.846Z"
   },
   {
    "duration": 782,
    "start_time": "2022-11-22T04:17:37.940Z"
   },
   {
    "duration": 2421,
    "start_time": "2022-11-22T04:17:38.724Z"
   },
   {
    "duration": 46294,
    "start_time": "2022-11-22T04:17:41.147Z"
   },
   {
    "duration": 298,
    "start_time": "2022-11-22T04:18:27.443Z"
   },
   {
    "duration": 464,
    "start_time": "2022-11-22T04:18:27.743Z"
   },
   {
    "duration": 54,
    "start_time": "2022-11-22T04:18:28.208Z"
   },
   {
    "duration": 92,
    "start_time": "2022-11-22T04:18:28.263Z"
   },
   {
    "duration": 88,
    "start_time": "2022-11-22T04:18:28.356Z"
   },
   {
    "duration": 572,
    "start_time": "2022-11-22T04:18:28.446Z"
   },
   {
    "duration": 0,
    "start_time": "2022-11-22T04:18:29.020Z"
   },
   {
    "duration": 0,
    "start_time": "2022-11-22T04:18:29.022Z"
   },
   {
    "duration": 4,
    "start_time": "2022-11-22T04:20:00.134Z"
   },
   {
    "duration": 92,
    "start_time": "2022-11-22T04:20:11.354Z"
   },
   {
    "duration": 82,
    "start_time": "2022-11-22T04:20:33.329Z"
   },
   {
    "duration": 78,
    "start_time": "2022-11-22T04:20:41.194Z"
   },
   {
    "duration": 64,
    "start_time": "2022-11-22T04:21:36.917Z"
   },
   {
    "duration": 78,
    "start_time": "2022-11-22T04:21:42.183Z"
   },
   {
    "duration": 74,
    "start_time": "2022-11-22T04:24:09.105Z"
   },
   {
    "duration": 90,
    "start_time": "2022-11-22T04:24:29.199Z"
   },
   {
    "duration": 146,
    "start_time": "2022-11-22T04:25:01.319Z"
   },
   {
    "duration": 18,
    "start_time": "2022-11-22T04:28:29.948Z"
   },
   {
    "duration": 722,
    "start_time": "2022-11-22T04:29:19.365Z"
   },
   {
    "duration": 767,
    "start_time": "2022-11-22T04:29:30.580Z"
   },
   {
    "duration": 828,
    "start_time": "2022-11-22T04:32:33.968Z"
   },
   {
    "duration": 742,
    "start_time": "2022-11-22T04:38:03.267Z"
   },
   {
    "duration": 789,
    "start_time": "2022-11-22T04:38:29.359Z"
   },
   {
    "duration": 14,
    "start_time": "2022-11-22T04:38:38.393Z"
   },
   {
    "duration": 36,
    "start_time": "2022-11-22T04:42:25.884Z"
   },
   {
    "duration": 2,
    "start_time": "2022-11-22T04:47:50.535Z"
   },
   {
    "duration": 2,
    "start_time": "2022-11-22T04:48:11.176Z"
   },
   {
    "duration": 137,
    "start_time": "2022-11-22T04:48:19.522Z"
   },
   {
    "duration": 21,
    "start_time": "2022-11-22T04:51:36.387Z"
   },
   {
    "duration": 32,
    "start_time": "2022-11-22T04:51:53.740Z"
   },
   {
    "duration": 2,
    "start_time": "2022-11-22T05:00:33.856Z"
   },
   {
    "duration": 5,
    "start_time": "2022-11-22T05:02:02.039Z"
   },
   {
    "duration": 16,
    "start_time": "2022-11-22T05:02:10.606Z"
   },
   {
    "duration": 15,
    "start_time": "2022-11-22T05:02:14.015Z"
   },
   {
    "duration": 200,
    "start_time": "2022-11-22T05:02:21.843Z"
   },
   {
    "duration": 56,
    "start_time": "2022-11-22T05:02:59.018Z"
   },
   {
    "duration": 23,
    "start_time": "2022-11-22T05:03:18.284Z"
   },
   {
    "duration": 23,
    "start_time": "2022-11-22T05:03:24.375Z"
   },
   {
    "duration": 39,
    "start_time": "2022-11-22T05:03:31.566Z"
   },
   {
    "duration": 32,
    "start_time": "2022-11-22T05:07:23.312Z"
   },
   {
    "duration": 30,
    "start_time": "2022-11-22T05:08:35.545Z"
   },
   {
    "duration": 349,
    "start_time": "2022-11-22T05:09:44.865Z"
   },
   {
    "duration": 270,
    "start_time": "2022-11-22T05:10:16.813Z"
   },
   {
    "duration": 254,
    "start_time": "2022-11-22T05:10:20.145Z"
   },
   {
    "duration": 270,
    "start_time": "2022-11-22T05:10:56.750Z"
   },
   {
    "duration": 31,
    "start_time": "2022-11-22T05:11:32.346Z"
   },
   {
    "duration": 252,
    "start_time": "2022-11-22T05:11:43.741Z"
   },
   {
    "duration": 30,
    "start_time": "2022-11-22T05:11:57.908Z"
   },
   {
    "duration": 41,
    "start_time": "2022-11-22T05:12:08.291Z"
   },
   {
    "duration": 50,
    "start_time": "2022-11-22T05:12:15.209Z"
   },
   {
    "duration": 1856,
    "start_time": "2022-11-22T05:37:38.916Z"
   },
   {
    "duration": 77,
    "start_time": "2022-11-22T05:37:47.920Z"
   },
   {
    "duration": 1827,
    "start_time": "2022-11-22T05:38:25.406Z"
   },
   {
    "duration": 1957,
    "start_time": "2022-11-22T05:38:44.325Z"
   },
   {
    "duration": 43,
    "start_time": "2022-11-26T10:14:24.237Z"
   },
   {
    "duration": 1216,
    "start_time": "2022-11-26T10:14:31.026Z"
   },
   {
    "duration": 961,
    "start_time": "2022-11-26T10:14:32.244Z"
   },
   {
    "duration": 16484,
    "start_time": "2022-11-26T10:14:33.207Z"
   },
   {
    "duration": 46909,
    "start_time": "2022-11-26T10:14:49.693Z"
   },
   {
    "duration": 369,
    "start_time": "2022-11-26T10:15:36.605Z"
   },
   {
    "duration": 469,
    "start_time": "2022-11-26T10:15:36.976Z"
   },
   {
    "duration": 62,
    "start_time": "2022-11-26T10:15:37.448Z"
   },
   {
    "duration": 8002,
    "start_time": "2022-11-26T10:15:37.512Z"
   },
   {
    "duration": 3,
    "start_time": "2022-11-26T10:15:45.515Z"
   },
   {
    "duration": 9,
    "start_time": "2022-11-26T10:15:45.520Z"
   },
   {
    "duration": 170,
    "start_time": "2022-11-26T10:15:45.531Z"
   },
   {
    "duration": 21,
    "start_time": "2022-11-26T10:15:45.703Z"
   },
   {
    "duration": 177,
    "start_time": "2022-11-26T10:15:45.726Z"
   },
   {
    "duration": 0,
    "start_time": "2022-11-26T10:15:45.905Z"
   },
   {
    "duration": 0,
    "start_time": "2022-11-26T10:15:45.907Z"
   },
   {
    "duration": 0,
    "start_time": "2022-11-26T10:15:45.908Z"
   },
   {
    "duration": 0,
    "start_time": "2022-11-26T10:15:45.909Z"
   },
   {
    "duration": 0,
    "start_time": "2022-11-26T10:15:45.911Z"
   },
   {
    "duration": 10,
    "start_time": "2022-11-26T10:16:59.502Z"
   },
   {
    "duration": 643,
    "start_time": "2022-11-26T10:17:03.718Z"
   },
   {
    "duration": 10,
    "start_time": "2022-11-26T10:17:07.154Z"
   },
   {
    "duration": 613,
    "start_time": "2022-11-26T10:17:11.147Z"
   },
   {
    "duration": 12,
    "start_time": "2022-11-26T10:17:47.324Z"
   },
   {
    "duration": 583,
    "start_time": "2022-11-26T10:18:05.364Z"
   },
   {
    "duration": 721,
    "start_time": "2022-11-26T10:18:50.238Z"
   },
   {
    "duration": 561,
    "start_time": "2022-11-26T10:19:10.947Z"
   },
   {
    "duration": 823,
    "start_time": "2022-11-26T10:20:05.211Z"
   },
   {
    "duration": 139,
    "start_time": "2022-11-26T10:20:08.639Z"
   },
   {
    "duration": 226,
    "start_time": "2022-11-26T10:20:25.584Z"
   },
   {
    "duration": 45,
    "start_time": "2022-11-26T10:20:41.440Z"
   },
   {
    "duration": 46,
    "start_time": "2022-11-26T10:20:47.985Z"
   },
   {
    "duration": 44,
    "start_time": "2022-11-26T10:21:01.742Z"
   },
   {
    "duration": 29,
    "start_time": "2022-11-26T10:22:21.463Z"
   },
   {
    "duration": 16,
    "start_time": "2022-11-26T10:22:53.849Z"
   },
   {
    "duration": 16,
    "start_time": "2022-11-26T10:24:40.953Z"
   },
   {
    "duration": 69,
    "start_time": "2022-11-26T10:25:15.182Z"
   },
   {
    "duration": 448,
    "start_time": "2022-11-26T11:32:33.151Z"
   },
   {
    "duration": 375,
    "start_time": "2022-11-26T11:32:56.603Z"
   },
   {
    "duration": 129,
    "start_time": "2022-11-26T11:33:11.803Z"
   },
   {
    "duration": 137,
    "start_time": "2022-11-26T11:34:37.507Z"
   },
   {
    "duration": 155,
    "start_time": "2022-11-26T11:35:00.144Z"
   },
   {
    "duration": 184,
    "start_time": "2022-11-26T11:35:07.806Z"
   },
   {
    "duration": 3,
    "start_time": "2022-11-26T11:36:13.682Z"
   },
   {
    "duration": 1070,
    "start_time": "2022-11-26T11:36:25.842Z"
   },
   {
    "duration": 789,
    "start_time": "2022-11-26T11:36:26.914Z"
   },
   {
    "duration": 2622,
    "start_time": "2022-11-26T11:36:27.705Z"
   },
   {
    "duration": 47926,
    "start_time": "2022-11-26T11:36:30.329Z"
   },
   {
    "duration": 313,
    "start_time": "2022-11-26T11:37:18.259Z"
   },
   {
    "duration": 466,
    "start_time": "2022-11-26T11:37:18.573Z"
   },
   {
    "duration": 77,
    "start_time": "2022-11-26T11:37:19.041Z"
   },
   {
    "duration": 2,
    "start_time": "2022-11-26T11:37:19.120Z"
   },
   {
    "duration": 12,
    "start_time": "2022-11-26T11:37:19.124Z"
   },
   {
    "duration": 9,
    "start_time": "2022-11-26T11:37:19.138Z"
   },
   {
    "duration": 224,
    "start_time": "2022-11-26T11:37:19.149Z"
   },
   {
    "duration": 43,
    "start_time": "2022-11-26T11:37:19.375Z"
   },
   {
    "duration": 169,
    "start_time": "2022-11-26T11:37:19.419Z"
   },
   {
    "duration": 0,
    "start_time": "2022-11-26T11:37:19.589Z"
   },
   {
    "duration": 0,
    "start_time": "2022-11-26T11:37:19.591Z"
   },
   {
    "duration": 0,
    "start_time": "2022-11-26T11:37:19.597Z"
   },
   {
    "duration": 0,
    "start_time": "2022-11-26T11:37:19.598Z"
   },
   {
    "duration": 0,
    "start_time": "2022-11-26T11:37:19.600Z"
   },
   {
    "duration": 0,
    "start_time": "2022-11-26T11:37:19.601Z"
   },
   {
    "duration": 146,
    "start_time": "2022-11-26T11:38:35.771Z"
   },
   {
    "duration": 21,
    "start_time": "2022-11-26T11:39:51.755Z"
   },
   {
    "duration": 74,
    "start_time": "2022-11-26T11:48:38.841Z"
   },
   {
    "duration": 58,
    "start_time": "2022-11-26T11:49:13.600Z"
   },
   {
    "duration": 42,
    "start_time": "2022-11-26T11:50:00.672Z"
   },
   {
    "duration": 41,
    "start_time": "2022-11-26T11:50:03.985Z"
   },
   {
    "duration": 47,
    "start_time": "2022-11-26T11:51:08.028Z"
   },
   {
    "duration": 47,
    "start_time": "2022-11-26T11:51:21.643Z"
   },
   {
    "duration": 41,
    "start_time": "2022-11-26T11:51:33.986Z"
   },
   {
    "duration": 54,
    "start_time": "2022-11-26T11:51:47.401Z"
   },
   {
    "duration": 219,
    "start_time": "2022-11-26T11:52:01.794Z"
   },
   {
    "duration": 230,
    "start_time": "2022-11-26T11:52:24.148Z"
   },
   {
    "duration": 207,
    "start_time": "2022-11-26T11:52:38.651Z"
   },
   {
    "duration": 110,
    "start_time": "2022-11-26T11:53:22.431Z"
   },
   {
    "duration": 203,
    "start_time": "2022-11-26T11:53:54.728Z"
   },
   {
    "duration": 140,
    "start_time": "2022-11-26T11:54:04.544Z"
   },
   {
    "duration": 2,
    "start_time": "2022-11-26T11:54:40.247Z"
   },
   {
    "duration": 851,
    "start_time": "2022-11-26T11:55:25.471Z"
   },
   {
    "duration": 67,
    "start_time": "2022-11-26T11:55:42.193Z"
   },
   {
    "duration": 21,
    "start_time": "2022-11-26T11:55:48.483Z"
   },
   {
    "duration": 1255,
    "start_time": "2022-11-26T11:56:04.229Z"
   },
   {
    "duration": 66,
    "start_time": "2022-11-26T11:56:27.380Z"
   },
   {
    "duration": 68,
    "start_time": "2022-11-26T11:56:32.636Z"
   },
   {
    "duration": 105,
    "start_time": "2022-11-26T11:56:59.158Z"
   },
   {
    "duration": 1076,
    "start_time": "2022-11-26T11:58:06.717Z"
   },
   {
    "duration": 784,
    "start_time": "2022-11-26T11:58:07.795Z"
   },
   {
    "duration": 2457,
    "start_time": "2022-11-26T11:58:08.581Z"
   },
   {
    "duration": 45179,
    "start_time": "2022-11-26T11:58:11.040Z"
   },
   {
    "duration": 331,
    "start_time": "2022-11-26T11:58:56.220Z"
   },
   {
    "duration": 443,
    "start_time": "2022-11-26T11:58:56.552Z"
   },
   {
    "duration": 49,
    "start_time": "2022-11-26T11:58:56.996Z"
   },
   {
    "duration": 3,
    "start_time": "2022-11-26T11:58:57.046Z"
   },
   {
    "duration": 10,
    "start_time": "2022-11-26T11:58:57.050Z"
   },
   {
    "duration": 26,
    "start_time": "2022-11-26T11:58:57.062Z"
   },
   {
    "duration": 101,
    "start_time": "2022-11-26T11:58:57.089Z"
   },
   {
    "duration": 20,
    "start_time": "2022-11-26T11:58:57.192Z"
   },
   {
    "duration": 10,
    "start_time": "2022-11-26T11:58:57.214Z"
   },
   {
    "duration": 1268,
    "start_time": "2022-11-26T11:58:57.225Z"
   },
   {
    "duration": 79,
    "start_time": "2022-11-26T11:58:58.494Z"
   },
   {
    "duration": 288,
    "start_time": "2022-11-26T11:58:58.575Z"
   },
   {
    "duration": 66,
    "start_time": "2022-11-26T11:58:58.865Z"
   },
   {
    "duration": 151,
    "start_time": "2022-11-26T11:58:58.932Z"
   },
   {
    "duration": 0,
    "start_time": "2022-11-26T11:58:59.084Z"
   },
   {
    "duration": 60,
    "start_time": "2022-11-26T12:03:48.374Z"
   },
   {
    "duration": 15,
    "start_time": "2022-11-26T12:03:55.318Z"
   },
   {
    "duration": 69,
    "start_time": "2022-11-26T12:40:33.557Z"
   },
   {
    "duration": 65,
    "start_time": "2022-11-26T12:40:42.204Z"
   },
   {
    "duration": 1248,
    "start_time": "2022-11-26T12:40:50.263Z"
   },
   {
    "duration": 16,
    "start_time": "2022-11-26T12:40:54.057Z"
   },
   {
    "duration": 19,
    "start_time": "2022-11-26T12:43:15.875Z"
   },
   {
    "duration": 303,
    "start_time": "2022-11-26T13:06:34.628Z"
   },
   {
    "duration": 331,
    "start_time": "2022-11-26T13:23:37.148Z"
   },
   {
    "duration": 12,
    "start_time": "2022-11-26T13:23:56.949Z"
   },
   {
    "duration": 1120,
    "start_time": "2022-11-26T13:24:28.118Z"
   },
   {
    "duration": 845,
    "start_time": "2022-11-26T13:24:29.240Z"
   },
   {
    "duration": 2517,
    "start_time": "2022-11-26T13:24:30.087Z"
   },
   {
    "duration": 311,
    "start_time": "2022-11-26T13:24:32.607Z"
   },
   {
    "duration": 46831,
    "start_time": "2022-11-26T13:24:32.919Z"
   },
   {
    "duration": 356,
    "start_time": "2022-11-26T13:25:19.752Z"
   },
   {
    "duration": 446,
    "start_time": "2022-11-26T13:25:20.110Z"
   },
   {
    "duration": 55,
    "start_time": "2022-11-26T13:25:20.558Z"
   },
   {
    "duration": 101,
    "start_time": "2022-11-26T13:25:20.615Z"
   },
   {
    "duration": 19,
    "start_time": "2022-11-26T13:25:20.718Z"
   },
   {
    "duration": 1308,
    "start_time": "2022-11-26T13:25:20.739Z"
   },
   {
    "duration": 16,
    "start_time": "2022-11-26T13:25:22.049Z"
   },
   {
    "duration": 305,
    "start_time": "2022-11-26T13:25:22.066Z"
   },
   {
    "duration": 68,
    "start_time": "2022-11-26T13:25:22.373Z"
   },
   {
    "duration": 140,
    "start_time": "2022-11-26T13:25:22.443Z"
   },
   {
    "duration": 0,
    "start_time": "2022-11-26T13:25:22.584Z"
   },
   {
    "duration": 6,
    "start_time": "2022-11-26T13:31:03.404Z"
   },
   {
    "duration": 13244,
    "start_time": "2022-11-26T13:31:40.185Z"
   },
   {
    "duration": 9,
    "start_time": "2022-11-26T13:32:05.118Z"
   },
   {
    "duration": 2586,
    "start_time": "2022-11-26T13:34:23.352Z"
   },
   {
    "duration": 47,
    "start_time": "2022-11-26T13:38:11.468Z"
   },
   {
    "duration": 6,
    "start_time": "2022-11-26T13:38:24.911Z"
   },
   {
    "duration": 1146,
    "start_time": "2022-11-26T13:38:46.900Z"
   },
   {
    "duration": 1112,
    "start_time": "2022-11-26T13:38:48.047Z"
   },
   {
    "duration": 2592,
    "start_time": "2022-11-26T13:38:49.161Z"
   },
   {
    "duration": 359,
    "start_time": "2022-11-26T13:38:51.756Z"
   },
   {
    "duration": 45292,
    "start_time": "2022-11-26T13:38:52.116Z"
   },
   {
    "duration": 296,
    "start_time": "2022-11-26T13:39:37.410Z"
   },
   {
    "duration": 464,
    "start_time": "2022-11-26T13:39:37.708Z"
   },
   {
    "duration": 54,
    "start_time": "2022-11-26T13:39:38.173Z"
   },
   {
    "duration": 117,
    "start_time": "2022-11-26T13:39:38.229Z"
   },
   {
    "duration": 18,
    "start_time": "2022-11-26T13:39:38.349Z"
   },
   {
    "duration": 1235,
    "start_time": "2022-11-26T13:39:38.369Z"
   },
   {
    "duration": 15,
    "start_time": "2022-11-26T13:39:39.606Z"
   },
   {
    "duration": 286,
    "start_time": "2022-11-26T13:39:39.623Z"
   },
   {
    "duration": 69,
    "start_time": "2022-11-26T13:39:39.911Z"
   },
   {
    "duration": 100,
    "start_time": "2022-11-26T13:39:39.982Z"
   },
   {
    "duration": 55,
    "start_time": "2022-11-26T13:43:08.129Z"
   },
   {
    "duration": 6,
    "start_time": "2022-11-26T13:44:11.218Z"
   },
   {
    "duration": 6,
    "start_time": "2022-11-26T13:44:25.691Z"
   },
   {
    "duration": 1150,
    "start_time": "2022-11-26T13:44:33.075Z"
   },
   {
    "duration": 1064,
    "start_time": "2022-11-26T13:44:34.226Z"
   },
   {
    "duration": 2535,
    "start_time": "2022-11-26T13:44:35.291Z"
   },
   {
    "duration": 337,
    "start_time": "2022-11-26T13:44:37.829Z"
   },
   {
    "duration": 45035,
    "start_time": "2022-11-26T13:44:38.168Z"
   },
   {
    "duration": 294,
    "start_time": "2022-11-26T13:45:23.205Z"
   },
   {
    "duration": 449,
    "start_time": "2022-11-26T13:45:23.502Z"
   },
   {
    "duration": 62,
    "start_time": "2022-11-26T13:45:23.953Z"
   },
   {
    "duration": 95,
    "start_time": "2022-11-26T13:45:24.016Z"
   },
   {
    "duration": 19,
    "start_time": "2022-11-26T13:45:24.113Z"
   },
   {
    "duration": 1332,
    "start_time": "2022-11-26T13:45:24.133Z"
   },
   {
    "duration": 15,
    "start_time": "2022-11-26T13:45:25.466Z"
   },
   {
    "duration": 298,
    "start_time": "2022-11-26T13:45:25.483Z"
   },
   {
    "duration": 67,
    "start_time": "2022-11-26T13:45:25.783Z"
   },
   {
    "duration": 16,
    "start_time": "2022-11-26T13:45:25.852Z"
   },
   {
    "duration": 109,
    "start_time": "2022-11-26T13:45:25.870Z"
   },
   {
    "duration": 535,
    "start_time": "2022-11-26T13:45:25.981Z"
   },
   {
    "duration": 0,
    "start_time": "2022-11-26T13:45:26.518Z"
   },
   {
    "duration": 0,
    "start_time": "2022-11-26T13:45:26.519Z"
   },
   {
    "duration": 0,
    "start_time": "2022-11-26T13:45:26.520Z"
   },
   {
    "duration": 0,
    "start_time": "2022-11-26T13:45:26.521Z"
   },
   {
    "duration": 4,
    "start_time": "2022-11-26T13:48:09.326Z"
   },
   {
    "duration": 17,
    "start_time": "2022-11-26T13:48:12.292Z"
   },
   {
    "duration": 50,
    "start_time": "2022-11-26T13:48:21.816Z"
   },
   {
    "duration": 78,
    "start_time": "2022-11-26T13:49:58.606Z"
   },
   {
    "duration": 26,
    "start_time": "2022-11-26T13:51:32.287Z"
   },
   {
    "duration": 889,
    "start_time": "2022-11-26T13:52:37.344Z"
   },
   {
    "duration": 82,
    "start_time": "2022-11-26T13:53:35.589Z"
   },
   {
    "duration": 39,
    "start_time": "2022-11-26T13:54:20.303Z"
   },
   {
    "duration": 20,
    "start_time": "2022-11-26T13:56:23.584Z"
   },
   {
    "duration": 356,
    "start_time": "2022-11-26T13:57:16.363Z"
   },
   {
    "duration": 80,
    "start_time": "2022-11-26T13:57:35.585Z"
   },
   {
    "duration": 45,
    "start_time": "2022-11-26T13:58:06.686Z"
   },
   {
    "duration": 1897,
    "start_time": "2022-11-26T14:03:42.228Z"
   },
   {
    "duration": 6,
    "start_time": "2022-11-26T14:04:05.376Z"
   },
   {
    "duration": 28,
    "start_time": "2022-11-26T14:04:12.410Z"
   },
   {
    "duration": 15,
    "start_time": "2022-11-26T14:04:17.906Z"
   },
   {
    "duration": 43,
    "start_time": "2022-11-26T14:04:35.836Z"
   },
   {
    "duration": 66,
    "start_time": "2022-11-26T14:05:46.111Z"
   },
   {
    "duration": 42,
    "start_time": "2022-11-26T14:05:58.565Z"
   },
   {
    "duration": 2591,
    "start_time": "2022-11-26T14:06:03.346Z"
   },
   {
    "duration": 17,
    "start_time": "2022-11-26T14:06:09.026Z"
   },
   {
    "duration": 578,
    "start_time": "2022-11-26T14:07:21.327Z"
   },
   {
    "duration": 426,
    "start_time": "2022-11-26T14:07:32.327Z"
   },
   {
    "duration": 1088,
    "start_time": "2022-11-26T14:47:17.429Z"
   },
   {
    "duration": 809,
    "start_time": "2022-11-26T14:47:18.519Z"
   },
   {
    "duration": 2440,
    "start_time": "2022-11-26T14:47:19.330Z"
   },
   {
    "duration": 251,
    "start_time": "2022-11-26T14:47:21.772Z"
   },
   {
    "duration": 44521,
    "start_time": "2022-11-26T14:47:22.025Z"
   },
   {
    "duration": 305,
    "start_time": "2022-11-26T14:48:06.547Z"
   },
   {
    "duration": 430,
    "start_time": "2022-11-26T14:48:06.854Z"
   },
   {
    "duration": 56,
    "start_time": "2022-11-26T14:48:07.286Z"
   },
   {
    "duration": 94,
    "start_time": "2022-11-26T14:48:07.344Z"
   },
   {
    "duration": 19,
    "start_time": "2022-11-26T14:48:07.440Z"
   },
   {
    "duration": 1190,
    "start_time": "2022-11-26T14:48:07.460Z"
   },
   {
    "duration": 15,
    "start_time": "2022-11-26T14:48:08.652Z"
   },
   {
    "duration": 281,
    "start_time": "2022-11-26T14:48:08.668Z"
   },
   {
    "duration": 59,
    "start_time": "2022-11-26T14:48:08.951Z"
   },
   {
    "duration": 29,
    "start_time": "2022-11-26T14:48:09.012Z"
   },
   {
    "duration": 90,
    "start_time": "2022-11-26T14:48:09.043Z"
   },
   {
    "duration": 43,
    "start_time": "2022-11-26T14:48:09.134Z"
   },
   {
    "duration": 543,
    "start_time": "2022-11-26T14:48:09.179Z"
   },
   {
    "duration": 0,
    "start_time": "2022-11-26T14:48:09.723Z"
   },
   {
    "duration": 0,
    "start_time": "2022-11-26T14:48:09.725Z"
   },
   {
    "duration": 0,
    "start_time": "2022-11-26T14:48:09.726Z"
   },
   {
    "duration": 0,
    "start_time": "2022-11-26T14:48:09.727Z"
   },
   {
    "duration": 0,
    "start_time": "2022-11-26T14:48:09.728Z"
   },
   {
    "duration": 0,
    "start_time": "2022-11-26T14:48:09.730Z"
   },
   {
    "duration": 0,
    "start_time": "2022-11-26T14:48:09.731Z"
   },
   {
    "duration": 28,
    "start_time": "2022-11-26T15:03:23.297Z"
   },
   {
    "duration": 1783,
    "start_time": "2022-11-26T15:03:35.974Z"
   },
   {
    "duration": 17,
    "start_time": "2022-11-26T15:03:42.001Z"
   },
   {
    "duration": 16,
    "start_time": "2022-11-26T15:03:49.479Z"
   },
   {
    "duration": 789,
    "start_time": "2022-11-26T15:03:58.050Z"
   },
   {
    "duration": 788,
    "start_time": "2022-11-26T15:04:05.658Z"
   },
   {
    "duration": 813,
    "start_time": "2022-11-26T15:04:40.724Z"
   },
   {
    "duration": 11,
    "start_time": "2022-11-26T15:05:38.874Z"
   },
   {
    "duration": 10,
    "start_time": "2022-11-26T15:05:53.740Z"
   },
   {
    "duration": 13,
    "start_time": "2022-11-26T15:06:03.399Z"
   },
   {
    "duration": 9061,
    "start_time": "2022-11-26T15:06:13.975Z"
   },
   {
    "duration": 783,
    "start_time": "2022-11-26T15:07:09.181Z"
   },
   {
    "duration": 1353,
    "start_time": "2022-11-26T15:09:15.530Z"
   },
   {
    "duration": 15,
    "start_time": "2022-11-26T15:09:20.338Z"
   },
   {
    "duration": 17,
    "start_time": "2022-11-26T15:09:44.157Z"
   },
   {
    "duration": 34,
    "start_time": "2022-11-26T15:09:56.514Z"
   },
   {
    "duration": 36,
    "start_time": "2022-11-26T15:10:52.091Z"
   },
   {
    "duration": 1351,
    "start_time": "2022-11-26T15:11:34.751Z"
   },
   {
    "duration": 1370,
    "start_time": "2022-11-26T15:11:42.046Z"
   },
   {
    "duration": 8,
    "start_time": "2022-11-26T15:13:26.024Z"
   },
   {
    "duration": 550,
    "start_time": "2022-11-26T15:13:51.917Z"
   },
   {
    "duration": 7,
    "start_time": "2022-11-26T15:13:59.301Z"
   },
   {
    "duration": 819,
    "start_time": "2022-11-26T15:14:09.460Z"
   },
   {
    "duration": 5,
    "start_time": "2022-11-26T15:14:18.131Z"
   },
   {
    "duration": 6,
    "start_time": "2022-11-26T15:14:29.319Z"
   },
   {
    "duration": 45,
    "start_time": "2022-11-26T15:14:40.584Z"
   },
   {
    "duration": 5,
    "start_time": "2022-11-26T15:14:51.041Z"
   },
   {
    "duration": 311,
    "start_time": "2022-11-26T15:15:00.087Z"
   },
   {
    "duration": 43,
    "start_time": "2022-11-26T15:16:15.127Z"
   },
   {
    "duration": 32,
    "start_time": "2022-11-26T15:17:53.243Z"
   },
   {
    "duration": 32,
    "start_time": "2022-11-26T15:18:05.228Z"
   },
   {
    "duration": 94,
    "start_time": "2022-11-26T15:30:44.254Z"
   },
   {
    "duration": 368,
    "start_time": "2022-11-26T15:31:28.100Z"
   },
   {
    "duration": 366,
    "start_time": "2022-11-26T15:32:02.885Z"
   },
   {
    "duration": 90,
    "start_time": "2022-11-26T15:32:54.918Z"
   },
   {
    "duration": 80,
    "start_time": "2022-11-26T15:33:13.067Z"
   },
   {
    "duration": 61,
    "start_time": "2022-11-26T15:33:27.732Z"
   },
   {
    "duration": 446,
    "start_time": "2022-11-26T15:33:32.061Z"
   },
   {
    "duration": 100,
    "start_time": "2022-11-26T15:33:35.588Z"
   },
   {
    "duration": 81,
    "start_time": "2022-11-26T15:34:14.154Z"
   },
   {
    "duration": 91,
    "start_time": "2022-11-26T15:34:31.682Z"
   },
   {
    "duration": 79,
    "start_time": "2022-11-26T15:35:10.252Z"
   },
   {
    "duration": 92,
    "start_time": "2022-11-26T15:35:52.764Z"
   },
   {
    "duration": 85,
    "start_time": "2022-11-26T15:36:00.260Z"
   },
   {
    "duration": 91,
    "start_time": "2022-11-26T15:36:28.253Z"
   },
   {
    "duration": 84,
    "start_time": "2022-11-26T15:36:31.246Z"
   },
   {
    "duration": 83,
    "start_time": "2022-11-26T15:36:37.735Z"
   },
   {
    "duration": 4,
    "start_time": "2022-11-26T15:37:52.670Z"
   },
   {
    "duration": 172,
    "start_time": "2022-11-26T15:38:10.702Z"
   },
   {
    "duration": 156,
    "start_time": "2022-11-26T15:38:13.152Z"
   },
   {
    "duration": 48,
    "start_time": "2022-11-26T15:39:35.399Z"
   },
   {
    "duration": 47,
    "start_time": "2022-11-26T15:39:42.592Z"
   },
   {
    "duration": 4429,
    "start_time": "2022-11-26T15:42:10.781Z"
   },
   {
    "duration": 78,
    "start_time": "2022-11-26T15:42:56.014Z"
   },
   {
    "duration": 4496,
    "start_time": "2022-11-26T15:43:04.831Z"
   },
   {
    "duration": 88,
    "start_time": "2022-11-26T15:43:33.559Z"
   },
   {
    "duration": 4480,
    "start_time": "2022-11-26T15:43:56.492Z"
   },
   {
    "duration": 92,
    "start_time": "2022-11-26T15:44:16.160Z"
   },
   {
    "duration": 4802,
    "start_time": "2022-11-26T15:44:39.300Z"
   },
   {
    "duration": 78,
    "start_time": "2022-11-26T15:44:47.316Z"
   },
   {
    "duration": 4309,
    "start_time": "2022-11-26T15:44:54.946Z"
   },
   {
    "duration": 94,
    "start_time": "2022-11-26T15:45:10.017Z"
   },
   {
    "duration": 86,
    "start_time": "2022-11-26T15:45:24.300Z"
   },
   {
    "duration": 30,
    "start_time": "2022-11-26T15:46:56.420Z"
   },
   {
    "duration": 42,
    "start_time": "2022-11-26T15:47:20.903Z"
   },
   {
    "duration": 4,
    "start_time": "2022-11-26T15:47:52.768Z"
   },
   {
    "duration": 4359,
    "start_time": "2022-11-26T15:48:24.484Z"
   },
   {
    "duration": 43,
    "start_time": "2022-11-26T15:48:40.194Z"
   },
   {
    "duration": 77,
    "start_time": "2022-11-26T15:49:10.522Z"
   },
   {
    "duration": 174,
    "start_time": "2022-11-26T15:49:14.752Z"
   },
   {
    "duration": 4588,
    "start_time": "2022-11-26T15:49:16.952Z"
   },
   {
    "duration": 43,
    "start_time": "2022-11-26T15:49:27.102Z"
   },
   {
    "duration": 22,
    "start_time": "2022-11-26T15:50:20.529Z"
   },
   {
    "duration": 65,
    "start_time": "2022-11-26T15:50:39.122Z"
   },
   {
    "duration": 467,
    "start_time": "2022-11-26T15:50:48.150Z"
   },
   {
    "duration": 387,
    "start_time": "2022-11-26T15:51:05.977Z"
   },
   {
    "duration": 12,
    "start_time": "2022-11-26T15:51:18.078Z"
   },
   {
    "duration": 16,
    "start_time": "2022-11-26T15:51:24.715Z"
   },
   {
    "duration": 36,
    "start_time": "2022-11-26T15:51:32.331Z"
   },
   {
    "duration": 14,
    "start_time": "2022-11-26T15:51:36.614Z"
   },
   {
    "duration": 45,
    "start_time": "2022-11-26T15:52:34.887Z"
   },
   {
    "duration": 59,
    "start_time": "2022-11-26T15:52:42.145Z"
   },
   {
    "duration": 104,
    "start_time": "2022-11-26T15:52:44.329Z"
   },
   {
    "duration": 89,
    "start_time": "2022-11-26T15:52:52.423Z"
   },
   {
    "duration": 76,
    "start_time": "2022-11-26T15:52:58.993Z"
   },
   {
    "duration": 109,
    "start_time": "2022-11-26T15:53:24.271Z"
   },
   {
    "duration": 101,
    "start_time": "2022-11-26T15:53:39.306Z"
   },
   {
    "duration": 13791,
    "start_time": "2022-11-26T15:53:52.592Z"
   },
   {
    "duration": 578,
    "start_time": "2022-11-26T15:54:25.536Z"
   },
   {
    "duration": 480,
    "start_time": "2022-11-26T15:54:36.914Z"
   },
   {
    "duration": 117,
    "start_time": "2022-11-26T15:54:59.258Z"
   },
   {
    "duration": 13061,
    "start_time": "2022-11-26T16:05:16.094Z"
   },
   {
    "duration": 108,
    "start_time": "2022-11-26T16:05:35.398Z"
   },
   {
    "duration": 13228,
    "start_time": "2022-11-26T16:05:38.755Z"
   },
   {
    "duration": 4,
    "start_time": "2022-11-26T16:06:50.394Z"
   },
   {
    "duration": 351,
    "start_time": "2022-11-26T16:07:34.519Z"
   },
   {
    "duration": 1162,
    "start_time": "2022-11-26T16:07:43.687Z"
   },
   {
    "duration": 877,
    "start_time": "2022-11-26T16:07:44.851Z"
   },
   {
    "duration": 2529,
    "start_time": "2022-11-26T16:07:45.730Z"
   },
   {
    "duration": 263,
    "start_time": "2022-11-26T16:07:48.261Z"
   },
   {
    "duration": 43983,
    "start_time": "2022-11-26T16:07:48.526Z"
   },
   {
    "duration": 323,
    "start_time": "2022-11-26T16:08:32.511Z"
   },
   {
    "duration": 416,
    "start_time": "2022-11-26T16:08:32.836Z"
   },
   {
    "duration": 54,
    "start_time": "2022-11-26T16:08:33.254Z"
   },
   {
    "duration": 96,
    "start_time": "2022-11-26T16:08:33.310Z"
   },
   {
    "duration": 22,
    "start_time": "2022-11-26T16:08:33.409Z"
   },
   {
    "duration": 1199,
    "start_time": "2022-11-26T16:08:33.433Z"
   },
   {
    "duration": 15,
    "start_time": "2022-11-26T16:08:34.633Z"
   },
   {
    "duration": 306,
    "start_time": "2022-11-26T16:08:34.650Z"
   },
   {
    "duration": 88,
    "start_time": "2022-11-26T16:08:34.958Z"
   },
   {
    "duration": 30,
    "start_time": "2022-11-26T16:08:35.047Z"
   },
   {
    "duration": 81,
    "start_time": "2022-11-26T16:08:35.079Z"
   },
   {
    "duration": 49,
    "start_time": "2022-11-26T16:08:35.162Z"
   },
   {
    "duration": 1394,
    "start_time": "2022-11-26T16:08:35.212Z"
   },
   {
    "duration": 16,
    "start_time": "2022-11-26T16:08:36.607Z"
   },
   {
    "duration": 45,
    "start_time": "2022-11-26T16:08:36.624Z"
   },
   {
    "duration": 34,
    "start_time": "2022-11-26T16:08:36.670Z"
   },
   {
    "duration": 95,
    "start_time": "2022-11-26T16:08:36.706Z"
   },
   {
    "duration": 507,
    "start_time": "2022-11-26T16:08:36.803Z"
   },
   {
    "duration": 0,
    "start_time": "2022-11-26T16:08:37.312Z"
   },
   {
    "duration": 0,
    "start_time": "2022-11-26T16:08:37.313Z"
   },
   {
    "duration": 0,
    "start_time": "2022-11-26T16:08:37.314Z"
   },
   {
    "duration": 0,
    "start_time": "2022-11-26T16:08:37.315Z"
   },
   {
    "duration": 0,
    "start_time": "2022-11-26T16:08:37.316Z"
   },
   {
    "duration": 0,
    "start_time": "2022-11-26T16:08:37.317Z"
   },
   {
    "duration": 0,
    "start_time": "2022-11-26T16:08:37.318Z"
   },
   {
    "duration": 0,
    "start_time": "2022-11-26T16:08:37.318Z"
   },
   {
    "duration": 0,
    "start_time": "2022-11-26T16:08:37.319Z"
   },
   {
    "duration": 371,
    "start_time": "2022-11-26T16:22:04.333Z"
   },
   {
    "duration": 168,
    "start_time": "2022-11-26T16:22:19.468Z"
   },
   {
    "duration": 7,
    "start_time": "2022-11-26T16:22:26.678Z"
   },
   {
    "duration": 12,
    "start_time": "2022-11-26T16:22:47.710Z"
   },
   {
    "duration": 97,
    "start_time": "2022-11-26T16:24:07.636Z"
   },
   {
    "duration": 4487,
    "start_time": "2022-11-26T16:24:26.417Z"
   },
   {
    "duration": 5,
    "start_time": "2022-11-26T16:24:49.625Z"
   },
   {
    "duration": 43,
    "start_time": "2022-11-26T16:24:56.097Z"
   },
   {
    "duration": 92,
    "start_time": "2022-11-26T16:25:10.214Z"
   },
   {
    "duration": 100,
    "start_time": "2022-11-26T16:35:33.347Z"
   },
   {
    "duration": 0,
    "start_time": "2022-11-26T16:37:06.585Z"
   },
   {
    "duration": 4,
    "start_time": "2022-11-26T16:38:35.638Z"
   },
   {
    "duration": 37,
    "start_time": "2022-11-26T16:39:06.559Z"
   },
   {
    "duration": 15,
    "start_time": "2022-11-26T16:39:25.307Z"
   },
   {
    "duration": 31,
    "start_time": "2022-11-26T16:43:13.026Z"
   },
   {
    "duration": 11,
    "start_time": "2022-11-26T16:44:19.467Z"
   },
   {
    "duration": 7,
    "start_time": "2022-11-26T16:44:57.569Z"
   },
   {
    "duration": 8,
    "start_time": "2022-11-26T16:45:03.549Z"
   },
   {
    "duration": 5,
    "start_time": "2022-11-26T16:46:03.071Z"
   },
   {
    "duration": 14,
    "start_time": "2022-11-26T16:48:45.957Z"
   },
   {
    "duration": 17,
    "start_time": "2022-11-26T16:49:00.819Z"
   },
   {
    "duration": 14,
    "start_time": "2022-11-26T16:49:05.766Z"
   },
   {
    "duration": 15,
    "start_time": "2022-11-26T16:49:10.800Z"
   },
   {
    "duration": 17,
    "start_time": "2022-11-26T16:49:29.493Z"
   },
   {
    "duration": 1260,
    "start_time": "2022-11-26T16:57:55.518Z"
   },
   {
    "duration": 100,
    "start_time": "2022-11-26T16:58:03.723Z"
   },
   {
    "duration": 1118,
    "start_time": "2022-11-26T16:58:23.175Z"
   },
   {
    "duration": 773,
    "start_time": "2022-11-26T16:58:24.297Z"
   },
   {
    "duration": 2426,
    "start_time": "2022-11-26T16:58:25.072Z"
   },
   {
    "duration": 236,
    "start_time": "2022-11-26T16:58:27.501Z"
   },
   {
    "duration": 43262,
    "start_time": "2022-11-26T16:58:27.739Z"
   },
   {
    "duration": 313,
    "start_time": "2022-11-26T16:59:11.003Z"
   },
   {
    "duration": 443,
    "start_time": "2022-11-26T16:59:11.317Z"
   },
   {
    "duration": 56,
    "start_time": "2022-11-26T16:59:11.762Z"
   },
   {
    "duration": 99,
    "start_time": "2022-11-26T16:59:11.819Z"
   },
   {
    "duration": 21,
    "start_time": "2022-11-26T16:59:11.920Z"
   },
   {
    "duration": 1251,
    "start_time": "2022-11-26T16:59:11.943Z"
   },
   {
    "duration": 15,
    "start_time": "2022-11-26T16:59:13.196Z"
   },
   {
    "duration": 291,
    "start_time": "2022-11-26T16:59:13.213Z"
   },
   {
    "duration": 56,
    "start_time": "2022-11-26T16:59:13.506Z"
   },
   {
    "duration": 43,
    "start_time": "2022-11-26T16:59:13.563Z"
   },
   {
    "duration": 70,
    "start_time": "2022-11-26T16:59:13.608Z"
   },
   {
    "duration": 55,
    "start_time": "2022-11-26T16:59:13.679Z"
   },
   {
    "duration": 1435,
    "start_time": "2022-11-26T16:59:13.735Z"
   },
   {
    "duration": 15,
    "start_time": "2022-11-26T16:59:15.172Z"
   },
   {
    "duration": 31,
    "start_time": "2022-11-26T16:59:15.198Z"
   },
   {
    "duration": 35,
    "start_time": "2022-11-26T16:59:15.230Z"
   },
   {
    "duration": 101,
    "start_time": "2022-11-26T16:59:15.267Z"
   },
   {
    "duration": 117,
    "start_time": "2022-11-26T16:59:15.370Z"
   },
   {
    "duration": 186,
    "start_time": "2022-11-26T16:59:15.488Z"
   },
   {
    "duration": 6,
    "start_time": "2022-11-26T16:59:15.676Z"
   },
   {
    "duration": 28,
    "start_time": "2022-11-26T16:59:15.684Z"
   },
   {
    "duration": 4614,
    "start_time": "2022-11-26T16:59:15.714Z"
   },
   {
    "duration": 5,
    "start_time": "2022-11-26T16:59:20.331Z"
   },
   {
    "duration": 11,
    "start_time": "2022-11-26T16:59:20.337Z"
   },
   {
    "duration": 3518,
    "start_time": "2022-11-26T16:59:20.350Z"
   },
   {
    "duration": 144,
    "start_time": "2022-11-26T16:59:23.869Z"
   },
   {
    "duration": 919,
    "start_time": "2022-11-26T16:59:24.014Z"
   },
   {
    "duration": 2,
    "start_time": "2022-11-26T16:59:24.935Z"
   },
   {
    "duration": 7,
    "start_time": "2022-11-26T16:59:24.938Z"
   },
   {
    "duration": 428,
    "start_time": "2022-11-26T17:01:00.264Z"
   },
   {
    "duration": 165,
    "start_time": "2022-11-26T17:01:36.503Z"
   },
   {
    "duration": 190,
    "start_time": "2022-11-26T17:01:47.949Z"
   },
   {
    "duration": 2963,
    "start_time": "2022-11-26T17:02:36.341Z"
   },
   {
    "duration": 3244,
    "start_time": "2022-11-26T17:02:43.468Z"
   },
   {
    "duration": 29,
    "start_time": "2022-11-26T17:02:59.393Z"
   },
   {
    "duration": 222,
    "start_time": "2022-11-26T17:04:58.171Z"
   },
   {
    "duration": 225,
    "start_time": "2022-11-26T17:05:11.071Z"
   },
   {
    "duration": 219,
    "start_time": "2022-11-26T17:07:43.571Z"
   },
   {
    "duration": 13,
    "start_time": "2022-11-26T17:09:08.845Z"
   },
   {
    "duration": 96,
    "start_time": "2022-11-26T17:09:14.520Z"
   },
   {
    "duration": 45,
    "start_time": "2022-11-26T17:11:19.388Z"
   },
   {
    "duration": 3,
    "start_time": "2022-11-26T17:12:16.924Z"
   },
   {
    "duration": 2,
    "start_time": "2022-11-26T17:12:27.871Z"
   },
   {
    "duration": 2,
    "start_time": "2022-11-26T17:12:32.278Z"
   },
   {
    "duration": 1109,
    "start_time": "2022-11-26T17:12:51.292Z"
   },
   {
    "duration": 757,
    "start_time": "2022-11-26T17:12:52.403Z"
   },
   {
    "duration": 2425,
    "start_time": "2022-11-26T17:12:53.162Z"
   },
   {
    "duration": 242,
    "start_time": "2022-11-26T17:12:55.590Z"
   },
   {
    "duration": 42743,
    "start_time": "2022-11-26T17:12:55.834Z"
   },
   {
    "duration": 319,
    "start_time": "2022-11-26T17:13:38.578Z"
   },
   {
    "duration": 425,
    "start_time": "2022-11-26T17:13:38.899Z"
   },
   {
    "duration": 47,
    "start_time": "2022-11-26T17:13:39.325Z"
   },
   {
    "duration": 98,
    "start_time": "2022-11-26T17:13:39.374Z"
   },
   {
    "duration": 27,
    "start_time": "2022-11-26T17:13:39.476Z"
   },
   {
    "duration": 1202,
    "start_time": "2022-11-26T17:13:39.505Z"
   },
   {
    "duration": 15,
    "start_time": "2022-11-26T17:13:40.709Z"
   },
   {
    "duration": 273,
    "start_time": "2022-11-26T17:13:40.726Z"
   },
   {
    "duration": 56,
    "start_time": "2022-11-26T17:13:41.000Z"
   },
   {
    "duration": 44,
    "start_time": "2022-11-26T17:13:41.058Z"
   },
   {
    "duration": 66,
    "start_time": "2022-11-26T17:13:41.104Z"
   },
   {
    "duration": 54,
    "start_time": "2022-11-26T17:13:41.171Z"
   },
   {
    "duration": 1384,
    "start_time": "2022-11-26T17:13:41.226Z"
   },
   {
    "duration": 16,
    "start_time": "2022-11-26T17:13:42.611Z"
   },
   {
    "duration": 31,
    "start_time": "2022-11-26T17:13:42.628Z"
   },
   {
    "duration": 44,
    "start_time": "2022-11-26T17:13:42.661Z"
   },
   {
    "duration": 92,
    "start_time": "2022-11-26T17:13:42.707Z"
   },
   {
    "duration": 97,
    "start_time": "2022-11-26T17:13:42.801Z"
   },
   {
    "duration": 169,
    "start_time": "2022-11-26T17:13:42.900Z"
   },
   {
    "duration": 8,
    "start_time": "2022-11-26T17:13:43.070Z"
   },
   {
    "duration": 23,
    "start_time": "2022-11-26T17:13:43.079Z"
   },
   {
    "duration": 4611,
    "start_time": "2022-11-26T17:13:43.103Z"
   },
   {
    "duration": 2,
    "start_time": "2022-11-26T17:13:47.717Z"
   },
   {
    "duration": 8,
    "start_time": "2022-11-26T17:13:47.720Z"
   },
   {
    "duration": 5,
    "start_time": "2022-11-26T17:13:47.729Z"
   },
   {
    "duration": 9,
    "start_time": "2022-11-26T17:13:47.735Z"
   },
   {
    "duration": 4,
    "start_time": "2022-11-26T17:13:47.746Z"
   },
   {
    "duration": 56,
    "start_time": "2022-11-26T17:13:47.751Z"
   },
   {
    "duration": 89,
    "start_time": "2022-11-26T17:13:47.809Z"
   },
   {
    "duration": 2,
    "start_time": "2022-11-26T17:13:47.899Z"
   },
   {
    "duration": 7,
    "start_time": "2022-11-26T17:13:47.903Z"
   },
   {
    "duration": 206,
    "start_time": "2022-11-26T17:14:13.455Z"
   },
   {
    "duration": 83,
    "start_time": "2022-11-26T17:14:23.843Z"
   },
   {
    "duration": 20,
    "start_time": "2022-11-26T17:14:40.468Z"
   },
   {
    "duration": 81,
    "start_time": "2022-11-26T17:14:43.772Z"
   },
   {
    "duration": 340,
    "start_time": "2022-11-26T17:15:06.672Z"
   },
   {
    "duration": 85,
    "start_time": "2022-11-26T17:15:25.196Z"
   },
   {
    "duration": 7,
    "start_time": "2022-11-26T17:15:40.740Z"
   },
   {
    "duration": 6,
    "start_time": "2022-11-26T17:15:42.577Z"
   },
   {
    "duration": 4653,
    "start_time": "2022-11-26T17:15:47.492Z"
   },
   {
    "duration": 7,
    "start_time": "2022-11-26T17:15:54.952Z"
   },
   {
    "duration": 4,
    "start_time": "2022-11-26T17:15:57.507Z"
   },
   {
    "duration": 3133,
    "start_time": "2022-11-26T17:16:02.571Z"
   },
   {
    "duration": 115,
    "start_time": "2022-11-26T17:16:08.950Z"
   },
   {
    "duration": 216,
    "start_time": "2022-11-26T17:16:19.844Z"
   },
   {
    "duration": 224,
    "start_time": "2022-11-26T17:17:19.173Z"
   },
   {
    "duration": 197,
    "start_time": "2022-11-26T17:17:30.603Z"
   },
   {
    "duration": 3116,
    "start_time": "2022-11-26T17:17:38.207Z"
   },
   {
    "duration": 32,
    "start_time": "2022-11-26T17:17:46.471Z"
   },
   {
    "duration": 216,
    "start_time": "2022-11-26T17:17:52.722Z"
   },
   {
    "duration": 226,
    "start_time": "2022-11-26T17:18:22.223Z"
   },
   {
    "duration": 368,
    "start_time": "2022-11-26T17:20:57.690Z"
   },
   {
    "duration": 42,
    "start_time": "2022-11-26T17:21:14.054Z"
   },
   {
    "duration": 49,
    "start_time": "2022-11-26T17:23:26.027Z"
   },
   {
    "duration": 37,
    "start_time": "2022-11-26T17:23:29.041Z"
   },
   {
    "duration": 17,
    "start_time": "2022-11-26T17:24:02.133Z"
   },
   {
    "duration": 171,
    "start_time": "2022-11-26T17:24:17.213Z"
   },
   {
    "duration": 5,
    "start_time": "2022-11-26T17:24:49.916Z"
   },
   {
    "duration": 426,
    "start_time": "2022-11-26T17:25:07.678Z"
   },
   {
    "duration": 38,
    "start_time": "2022-11-26T17:25:30.455Z"
   },
   {
    "duration": 5,
    "start_time": "2022-11-26T17:25:34.221Z"
   },
   {
    "duration": 13,
    "start_time": "2022-11-26T17:25:55.244Z"
   },
   {
    "duration": 1110,
    "start_time": "2022-11-26T17:27:13.411Z"
   },
   {
    "duration": 905,
    "start_time": "2022-11-26T17:27:14.524Z"
   },
   {
    "duration": 2504,
    "start_time": "2022-11-26T17:27:15.431Z"
   },
   {
    "duration": 234,
    "start_time": "2022-11-26T17:27:17.938Z"
   },
   {
    "duration": 44829,
    "start_time": "2022-11-26T17:27:18.174Z"
   },
   {
    "duration": 302,
    "start_time": "2022-11-26T17:28:03.005Z"
   },
   {
    "duration": 18,
    "start_time": "2022-11-26T17:28:03.309Z"
   },
   {
    "duration": 467,
    "start_time": "2022-11-26T17:28:03.328Z"
   },
   {
    "duration": 46,
    "start_time": "2022-11-26T17:28:03.797Z"
   },
   {
    "duration": 108,
    "start_time": "2022-11-26T17:28:03.845Z"
   },
   {
    "duration": 21,
    "start_time": "2022-11-26T17:28:03.956Z"
   },
   {
    "duration": 1331,
    "start_time": "2022-11-26T17:28:03.979Z"
   },
   {
    "duration": 14,
    "start_time": "2022-11-26T17:28:05.312Z"
   },
   {
    "duration": 312,
    "start_time": "2022-11-26T17:28:05.327Z"
   },
   {
    "duration": 76,
    "start_time": "2022-11-26T17:28:05.641Z"
   },
   {
    "duration": 31,
    "start_time": "2022-11-26T17:28:05.718Z"
   },
   {
    "duration": 88,
    "start_time": "2022-11-26T17:28:05.750Z"
   },
   {
    "duration": 46,
    "start_time": "2022-11-26T17:28:05.840Z"
   },
   {
    "duration": 1386,
    "start_time": "2022-11-26T17:28:05.887Z"
   },
   {
    "duration": 26,
    "start_time": "2022-11-26T17:28:07.274Z"
   },
   {
    "duration": 55,
    "start_time": "2022-11-26T17:28:07.301Z"
   },
   {
    "duration": 46,
    "start_time": "2022-11-26T17:28:07.357Z"
   },
   {
    "duration": 122,
    "start_time": "2022-11-26T17:28:07.405Z"
   },
   {
    "duration": 114,
    "start_time": "2022-11-26T17:28:07.529Z"
   },
   {
    "duration": 166,
    "start_time": "2022-11-26T17:28:07.645Z"
   },
   {
    "duration": 5,
    "start_time": "2022-11-26T17:28:07.812Z"
   },
   {
    "duration": 24,
    "start_time": "2022-11-26T17:28:07.818Z"
   },
   {
    "duration": 12,
    "start_time": "2022-11-26T17:28:07.845Z"
   },
   {
    "duration": 4959,
    "start_time": "2022-11-26T17:28:07.859Z"
   },
   {
    "duration": 6,
    "start_time": "2022-11-26T17:28:12.820Z"
   },
   {
    "duration": 5,
    "start_time": "2022-11-26T17:28:12.827Z"
   },
   {
    "duration": 4048,
    "start_time": "2022-11-26T17:28:12.833Z"
   },
   {
    "duration": 142,
    "start_time": "2022-11-26T17:28:16.883Z"
   },
   {
    "duration": 354,
    "start_time": "2022-11-26T17:28:17.026Z"
   },
   {
    "duration": 0,
    "start_time": "2022-11-26T17:28:17.382Z"
   },
   {
    "duration": 0,
    "start_time": "2022-11-26T17:28:17.383Z"
   },
   {
    "duration": 0,
    "start_time": "2022-11-26T17:28:17.384Z"
   },
   {
    "duration": 0,
    "start_time": "2022-11-26T17:28:17.385Z"
   },
   {
    "duration": 202,
    "start_time": "2022-11-26T17:29:33.470Z"
   },
   {
    "duration": 3,
    "start_time": "2022-11-26T17:29:45.960Z"
   },
   {
    "duration": 1101,
    "start_time": "2022-11-26T17:29:55.664Z"
   },
   {
    "duration": 777,
    "start_time": "2022-11-26T17:29:56.766Z"
   },
   {
    "duration": 2498,
    "start_time": "2022-11-26T17:29:57.544Z"
   },
   {
    "duration": 273,
    "start_time": "2022-11-26T17:30:00.045Z"
   },
   {
    "duration": 44884,
    "start_time": "2022-11-26T17:30:00.320Z"
   },
   {
    "duration": 308,
    "start_time": "2022-11-26T17:30:45.206Z"
   },
   {
    "duration": 18,
    "start_time": "2022-11-26T17:30:45.515Z"
   },
   {
    "duration": 453,
    "start_time": "2022-11-26T17:30:45.535Z"
   },
   {
    "duration": 44,
    "start_time": "2022-11-26T17:30:45.997Z"
   },
   {
    "duration": 99,
    "start_time": "2022-11-26T17:30:46.044Z"
   },
   {
    "duration": 20,
    "start_time": "2022-11-26T17:30:46.144Z"
   },
   {
    "duration": 1232,
    "start_time": "2022-11-26T17:30:46.166Z"
   },
   {
    "duration": 15,
    "start_time": "2022-11-26T17:30:47.399Z"
   },
   {
    "duration": 295,
    "start_time": "2022-11-26T17:30:47.416Z"
   },
   {
    "duration": 59,
    "start_time": "2022-11-26T17:30:47.713Z"
   },
   {
    "duration": 49,
    "start_time": "2022-11-26T17:30:47.774Z"
   },
   {
    "duration": 82,
    "start_time": "2022-11-26T17:30:47.824Z"
   },
   {
    "duration": 52,
    "start_time": "2022-11-26T17:30:47.907Z"
   },
   {
    "duration": 1418,
    "start_time": "2022-11-26T17:30:47.961Z"
   },
   {
    "duration": 18,
    "start_time": "2022-11-26T17:30:49.381Z"
   },
   {
    "duration": 35,
    "start_time": "2022-11-26T17:30:49.401Z"
   },
   {
    "duration": 39,
    "start_time": "2022-11-26T17:30:49.438Z"
   },
   {
    "duration": 95,
    "start_time": "2022-11-26T17:30:49.479Z"
   },
   {
    "duration": 97,
    "start_time": "2022-11-26T17:30:49.576Z"
   },
   {
    "duration": 173,
    "start_time": "2022-11-26T17:30:49.674Z"
   },
   {
    "duration": 4,
    "start_time": "2022-11-26T17:30:49.849Z"
   },
   {
    "duration": 10,
    "start_time": "2022-11-26T17:30:49.854Z"
   },
   {
    "duration": 14,
    "start_time": "2022-11-26T17:30:49.867Z"
   },
   {
    "duration": 4743,
    "start_time": "2022-11-26T17:30:49.897Z"
   },
   {
    "duration": 6,
    "start_time": "2022-11-26T17:30:54.642Z"
   },
   {
    "duration": 10,
    "start_time": "2022-11-26T17:30:54.650Z"
   },
   {
    "duration": 4518,
    "start_time": "2022-11-26T17:30:54.662Z"
   },
   {
    "duration": 132,
    "start_time": "2022-11-26T17:30:59.182Z"
   },
   {
    "duration": 332,
    "start_time": "2022-11-26T17:30:59.315Z"
   },
   {
    "duration": 0,
    "start_time": "2022-11-26T17:30:59.649Z"
   },
   {
    "duration": 0,
    "start_time": "2022-11-26T17:30:59.650Z"
   },
   {
    "duration": 0,
    "start_time": "2022-11-26T17:30:59.651Z"
   },
   {
    "duration": 0,
    "start_time": "2022-11-26T17:30:59.653Z"
   },
   {
    "duration": 0,
    "start_time": "2022-11-26T17:30:59.654Z"
   },
   {
    "duration": 5,
    "start_time": "2022-11-26T17:31:59.904Z"
   },
   {
    "duration": 6,
    "start_time": "2022-11-26T17:32:05.338Z"
   },
   {
    "duration": 408,
    "start_time": "2022-11-26T17:32:41.965Z"
   },
   {
    "duration": 2,
    "start_time": "2022-11-26T17:33:04.064Z"
   },
   {
    "duration": 5,
    "start_time": "2022-11-26T17:33:22.979Z"
   },
   {
    "duration": 1081,
    "start_time": "2022-11-26T17:33:30.035Z"
   },
   {
    "duration": 771,
    "start_time": "2022-11-26T17:33:31.118Z"
   },
   {
    "duration": 2412,
    "start_time": "2022-11-26T17:33:31.891Z"
   },
   {
    "duration": 241,
    "start_time": "2022-11-26T17:33:34.305Z"
   },
   {
    "duration": 43863,
    "start_time": "2022-11-26T17:33:34.548Z"
   },
   {
    "duration": 293,
    "start_time": "2022-11-26T17:34:18.412Z"
   },
   {
    "duration": 18,
    "start_time": "2022-11-26T17:34:18.707Z"
   },
   {
    "duration": 476,
    "start_time": "2022-11-26T17:34:18.726Z"
   },
   {
    "duration": 55,
    "start_time": "2022-11-26T17:34:19.204Z"
   },
   {
    "duration": 102,
    "start_time": "2022-11-26T17:34:19.262Z"
   },
   {
    "duration": 18,
    "start_time": "2022-11-26T17:34:19.365Z"
   },
   {
    "duration": 1228,
    "start_time": "2022-11-26T17:34:19.397Z"
   },
   {
    "duration": 14,
    "start_time": "2022-11-26T17:34:20.627Z"
   },
   {
    "duration": 279,
    "start_time": "2022-11-26T17:34:20.643Z"
   },
   {
    "duration": 56,
    "start_time": "2022-11-26T17:34:20.924Z"
   },
   {
    "duration": 42,
    "start_time": "2022-11-26T17:34:20.982Z"
   },
   {
    "duration": 74,
    "start_time": "2022-11-26T17:34:21.026Z"
   },
   {
    "duration": 40,
    "start_time": "2022-11-26T17:34:21.102Z"
   },
   {
    "duration": 1378,
    "start_time": "2022-11-26T17:34:21.143Z"
   },
   {
    "duration": 14,
    "start_time": "2022-11-26T17:34:22.523Z"
   },
   {
    "duration": 33,
    "start_time": "2022-11-26T17:34:22.539Z"
   },
   {
    "duration": 44,
    "start_time": "2022-11-26T17:34:22.573Z"
   },
   {
    "duration": 101,
    "start_time": "2022-11-26T17:34:22.619Z"
   },
   {
    "duration": 100,
    "start_time": "2022-11-26T17:34:22.722Z"
   },
   {
    "duration": 171,
    "start_time": "2022-11-26T17:34:22.824Z"
   },
   {
    "duration": 5,
    "start_time": "2022-11-26T17:34:22.997Z"
   },
   {
    "duration": 23,
    "start_time": "2022-11-26T17:34:23.004Z"
   },
   {
    "duration": 19,
    "start_time": "2022-11-26T17:34:23.030Z"
   },
   {
    "duration": 4514,
    "start_time": "2022-11-26T17:34:23.050Z"
   },
   {
    "duration": 4,
    "start_time": "2022-11-26T17:34:27.566Z"
   },
   {
    "duration": 5,
    "start_time": "2022-11-26T17:34:27.572Z"
   },
   {
    "duration": 8,
    "start_time": "2022-11-26T17:34:27.579Z"
   },
   {
    "duration": 3,
    "start_time": "2022-11-26T17:34:27.598Z"
   },
   {
    "duration": 3506,
    "start_time": "2022-11-26T17:34:27.603Z"
   },
   {
    "duration": 133,
    "start_time": "2022-11-26T17:34:31.111Z"
   },
   {
    "duration": 5,
    "start_time": "2022-11-26T17:34:31.245Z"
   },
   {
    "duration": 347,
    "start_time": "2022-11-26T17:34:31.252Z"
   },
   {
    "duration": 0,
    "start_time": "2022-11-26T17:34:31.601Z"
   },
   {
    "duration": 0,
    "start_time": "2022-11-26T17:34:31.602Z"
   },
   {
    "duration": 0,
    "start_time": "2022-11-26T17:34:31.603Z"
   },
   {
    "duration": 0,
    "start_time": "2022-11-26T17:34:31.604Z"
   },
   {
    "duration": 0,
    "start_time": "2022-11-26T17:34:31.605Z"
   },
   {
    "duration": 2,
    "start_time": "2022-11-26T17:36:48.717Z"
   },
   {
    "duration": 1094,
    "start_time": "2022-11-26T17:37:02.506Z"
   },
   {
    "duration": 773,
    "start_time": "2022-11-26T17:37:03.601Z"
   },
   {
    "duration": 2539,
    "start_time": "2022-11-26T17:37:04.375Z"
   },
   {
    "duration": 236,
    "start_time": "2022-11-26T17:37:06.916Z"
   },
   {
    "duration": 44595,
    "start_time": "2022-11-26T17:37:07.154Z"
   },
   {
    "duration": 344,
    "start_time": "2022-11-26T17:37:51.751Z"
   },
   {
    "duration": 17,
    "start_time": "2022-11-26T17:37:52.097Z"
   },
   {
    "duration": 467,
    "start_time": "2022-11-26T17:37:52.116Z"
   },
   {
    "duration": 53,
    "start_time": "2022-11-26T17:37:52.584Z"
   },
   {
    "duration": 102,
    "start_time": "2022-11-26T17:37:52.640Z"
   },
   {
    "duration": 20,
    "start_time": "2022-11-26T17:37:52.744Z"
   },
   {
    "duration": 1273,
    "start_time": "2022-11-26T17:37:52.766Z"
   },
   {
    "duration": 22,
    "start_time": "2022-11-26T17:37:54.041Z"
   },
   {
    "duration": 313,
    "start_time": "2022-11-26T17:37:54.065Z"
   },
   {
    "duration": 61,
    "start_time": "2022-11-26T17:37:54.379Z"
   },
   {
    "duration": 30,
    "start_time": "2022-11-26T17:37:54.442Z"
   },
   {
    "duration": 88,
    "start_time": "2022-11-26T17:37:54.473Z"
   },
   {
    "duration": 51,
    "start_time": "2022-11-26T17:37:54.562Z"
   },
   {
    "duration": 1457,
    "start_time": "2022-11-26T17:37:54.615Z"
   },
   {
    "duration": 26,
    "start_time": "2022-11-26T17:37:56.073Z"
   },
   {
    "duration": 38,
    "start_time": "2022-11-26T17:37:56.101Z"
   },
   {
    "duration": 39,
    "start_time": "2022-11-26T17:37:56.140Z"
   },
   {
    "duration": 104,
    "start_time": "2022-11-26T17:37:56.180Z"
   },
   {
    "duration": 96,
    "start_time": "2022-11-26T17:37:56.285Z"
   },
   {
    "duration": 171,
    "start_time": "2022-11-26T17:37:56.382Z"
   },
   {
    "duration": 4,
    "start_time": "2022-11-26T17:37:56.554Z"
   },
   {
    "duration": 8,
    "start_time": "2022-11-26T17:37:56.560Z"
   },
   {
    "duration": 28,
    "start_time": "2022-11-26T17:37:56.571Z"
   },
   {
    "duration": 6353,
    "start_time": "2022-11-26T17:37:56.601Z"
   },
   {
    "duration": 5,
    "start_time": "2022-11-26T17:38:02.956Z"
   },
   {
    "duration": 9,
    "start_time": "2022-11-26T17:38:02.962Z"
   },
   {
    "duration": 7,
    "start_time": "2022-11-26T17:38:02.973Z"
   },
   {
    "duration": 16,
    "start_time": "2022-11-26T17:38:02.982Z"
   },
   {
    "duration": 3422,
    "start_time": "2022-11-26T17:38:02.999Z"
   },
   {
    "duration": 2,
    "start_time": "2022-11-26T17:38:06.423Z"
   },
   {
    "duration": 9,
    "start_time": "2022-11-26T17:38:06.426Z"
   },
   {
    "duration": 317,
    "start_time": "2022-11-26T17:38:06.436Z"
   },
   {
    "duration": 0,
    "start_time": "2022-11-26T17:38:06.755Z"
   },
   {
    "duration": 0,
    "start_time": "2022-11-26T17:38:06.756Z"
   },
   {
    "duration": 0,
    "start_time": "2022-11-26T17:38:06.757Z"
   },
   {
    "duration": 0,
    "start_time": "2022-11-26T17:38:06.758Z"
   },
   {
    "duration": 0,
    "start_time": "2022-11-26T17:38:06.759Z"
   },
   {
    "duration": 3,
    "start_time": "2022-11-26T17:38:25.654Z"
   },
   {
    "duration": 1054,
    "start_time": "2022-11-26T17:38:33.354Z"
   },
   {
    "duration": 787,
    "start_time": "2022-11-26T17:38:34.410Z"
   },
   {
    "duration": 2415,
    "start_time": "2022-11-26T17:38:35.199Z"
   },
   {
    "duration": 254,
    "start_time": "2022-11-26T17:38:37.617Z"
   },
   {
    "duration": 42662,
    "start_time": "2022-11-26T17:38:37.873Z"
   },
   {
    "duration": 306,
    "start_time": "2022-11-26T17:39:20.536Z"
   },
   {
    "duration": 16,
    "start_time": "2022-11-26T17:39:20.844Z"
   },
   {
    "duration": 443,
    "start_time": "2022-11-26T17:39:20.862Z"
   },
   {
    "duration": 48,
    "start_time": "2022-11-26T17:39:21.306Z"
   },
   {
    "duration": 109,
    "start_time": "2022-11-26T17:39:21.357Z"
   },
   {
    "duration": 20,
    "start_time": "2022-11-26T17:39:21.468Z"
   },
   {
    "duration": 1248,
    "start_time": "2022-11-26T17:39:21.497Z"
   },
   {
    "duration": 15,
    "start_time": "2022-11-26T17:39:22.746Z"
   },
   {
    "duration": 293,
    "start_time": "2022-11-26T17:39:22.763Z"
   },
   {
    "duration": 81,
    "start_time": "2022-11-26T17:39:23.058Z"
   },
   {
    "duration": 44,
    "start_time": "2022-11-26T17:39:23.141Z"
   },
   {
    "duration": 122,
    "start_time": "2022-11-26T17:39:23.196Z"
   },
   {
    "duration": 78,
    "start_time": "2022-11-26T17:39:23.320Z"
   },
   {
    "duration": 1743,
    "start_time": "2022-11-26T17:39:23.399Z"
   },
   {
    "duration": 14,
    "start_time": "2022-11-26T17:39:25.144Z"
   },
   {
    "duration": 41,
    "start_time": "2022-11-26T17:39:25.160Z"
   },
   {
    "duration": 32,
    "start_time": "2022-11-26T17:39:25.203Z"
   },
   {
    "duration": 103,
    "start_time": "2022-11-26T17:39:25.237Z"
   },
   {
    "duration": 95,
    "start_time": "2022-11-26T17:39:25.342Z"
   },
   {
    "duration": 166,
    "start_time": "2022-11-26T17:39:25.439Z"
   },
   {
    "duration": 4,
    "start_time": "2022-11-26T17:39:25.607Z"
   },
   {
    "duration": 10,
    "start_time": "2022-11-26T17:39:25.613Z"
   },
   {
    "duration": 15,
    "start_time": "2022-11-26T17:39:25.626Z"
   },
   {
    "duration": 4550,
    "start_time": "2022-11-26T17:39:25.643Z"
   },
   {
    "duration": 5,
    "start_time": "2022-11-26T17:39:30.197Z"
   },
   {
    "duration": 7,
    "start_time": "2022-11-26T17:39:30.203Z"
   },
   {
    "duration": 16,
    "start_time": "2022-11-26T17:39:30.211Z"
   },
   {
    "duration": 33,
    "start_time": "2022-11-26T17:39:30.229Z"
   },
   {
    "duration": 16,
    "start_time": "2022-11-26T17:39:30.264Z"
   },
   {
    "duration": 9,
    "start_time": "2022-11-26T17:39:30.282Z"
   },
   {
    "duration": 9,
    "start_time": "2022-11-26T17:39:30.292Z"
   },
   {
    "duration": 3351,
    "start_time": "2022-11-26T17:39:30.303Z"
   },
   {
    "duration": 3,
    "start_time": "2022-11-26T17:39:33.655Z"
   },
   {
    "duration": 148,
    "start_time": "2022-11-26T17:39:33.666Z"
   },
   {
    "duration": 886,
    "start_time": "2022-11-26T17:39:33.815Z"
   },
   {
    "duration": 2,
    "start_time": "2022-11-26T17:39:34.703Z"
   },
   {
    "duration": 12,
    "start_time": "2022-11-26T17:39:34.707Z"
   },
   {
    "duration": 29,
    "start_time": "2022-11-27T10:55:17.999Z"
   },
   {
    "duration": 5,
    "start_time": "2022-11-27T10:55:28.474Z"
   },
   {
    "duration": 5,
    "start_time": "2022-11-27T10:55:41.651Z"
   },
   {
    "duration": 364,
    "start_time": "2022-11-27T10:56:28.737Z"
   },
   {
    "duration": 1100,
    "start_time": "2022-11-27T10:56:41.914Z"
   },
   {
    "duration": 768,
    "start_time": "2022-11-27T10:56:43.016Z"
   },
   {
    "duration": 2546,
    "start_time": "2022-11-27T10:56:43.786Z"
   },
   {
    "duration": 265,
    "start_time": "2022-11-27T10:56:46.334Z"
   },
   {
    "duration": 43964,
    "start_time": "2022-11-27T10:56:46.601Z"
   },
   {
    "duration": 304,
    "start_time": "2022-11-27T10:57:30.567Z"
   },
   {
    "duration": 25,
    "start_time": "2022-11-27T10:57:30.872Z"
   },
   {
    "duration": 445,
    "start_time": "2022-11-27T10:57:30.899Z"
   },
   {
    "duration": 54,
    "start_time": "2022-11-27T10:57:31.346Z"
   },
   {
    "duration": 97,
    "start_time": "2022-11-27T10:57:31.402Z"
   },
   {
    "duration": 19,
    "start_time": "2022-11-27T10:57:31.501Z"
   },
   {
    "duration": 1236,
    "start_time": "2022-11-27T10:57:31.522Z"
   },
   {
    "duration": 15,
    "start_time": "2022-11-27T10:57:32.760Z"
   },
   {
    "duration": 281,
    "start_time": "2022-11-27T10:57:32.779Z"
   },
   {
    "duration": 65,
    "start_time": "2022-11-27T10:57:33.062Z"
   },
   {
    "duration": 30,
    "start_time": "2022-11-27T10:57:33.129Z"
   },
   {
    "duration": 82,
    "start_time": "2022-11-27T10:57:33.160Z"
   },
   {
    "duration": 39,
    "start_time": "2022-11-27T10:57:33.244Z"
   },
   {
    "duration": 1480,
    "start_time": "2022-11-27T10:57:33.285Z"
   },
   {
    "duration": 19,
    "start_time": "2022-11-27T10:57:34.767Z"
   },
   {
    "duration": 43,
    "start_time": "2022-11-27T10:57:34.787Z"
   },
   {
    "duration": 35,
    "start_time": "2022-11-27T10:57:34.832Z"
   },
   {
    "duration": 106,
    "start_time": "2022-11-27T10:57:34.868Z"
   },
   {
    "duration": 106,
    "start_time": "2022-11-27T10:57:34.976Z"
   },
   {
    "duration": 187,
    "start_time": "2022-11-27T10:57:35.085Z"
   },
   {
    "duration": 6,
    "start_time": "2022-11-27T10:57:35.274Z"
   },
   {
    "duration": 17,
    "start_time": "2022-11-27T10:57:35.281Z"
   },
   {
    "duration": 15,
    "start_time": "2022-11-27T10:57:35.299Z"
   },
   {
    "duration": 4714,
    "start_time": "2022-11-27T10:57:35.316Z"
   },
   {
    "duration": 6,
    "start_time": "2022-11-27T10:57:40.031Z"
   },
   {
    "duration": 102,
    "start_time": "2022-11-27T10:57:40.039Z"
   },
   {
    "duration": 27,
    "start_time": "2022-11-27T10:57:40.143Z"
   },
   {
    "duration": 13,
    "start_time": "2022-11-27T10:57:40.171Z"
   },
   {
    "duration": 18,
    "start_time": "2022-11-27T10:57:40.186Z"
   },
   {
    "duration": 17,
    "start_time": "2022-11-27T10:57:40.205Z"
   },
   {
    "duration": 21,
    "start_time": "2022-11-27T10:57:40.224Z"
   },
   {
    "duration": 3952,
    "start_time": "2022-11-27T10:57:40.246Z"
   },
   {
    "duration": 721,
    "start_time": "2022-11-27T10:57:44.200Z"
   },
   {
    "duration": 8,
    "start_time": "2022-11-27T10:57:44.923Z"
   },
   {
    "duration": 12,
    "start_time": "2022-11-27T10:57:44.933Z"
   },
   {
    "duration": 96,
    "start_time": "2022-11-27T10:57:44.948Z"
   },
   {
    "duration": 861,
    "start_time": "2022-11-27T10:57:45.045Z"
   },
   {
    "duration": 2,
    "start_time": "2022-11-27T10:57:45.908Z"
   },
   {
    "duration": 6,
    "start_time": "2022-11-27T10:57:45.911Z"
   },
   {
    "duration": 580,
    "start_time": "2022-11-27T11:02:36.135Z"
   },
   {
    "duration": 826,
    "start_time": "2022-11-27T11:02:42.034Z"
   },
   {
    "duration": 456,
    "start_time": "2022-11-27T11:02:47.154Z"
   },
   {
    "duration": 1116,
    "start_time": "2022-11-27T11:03:21.382Z"
   },
   {
    "duration": 763,
    "start_time": "2022-11-27T11:03:22.500Z"
   },
   {
    "duration": 2507,
    "start_time": "2022-11-27T11:03:23.264Z"
   },
   {
    "duration": 253,
    "start_time": "2022-11-27T11:03:25.773Z"
   },
   {
    "duration": 3,
    "start_time": "2022-11-27T11:03:26.027Z"
   },
   {
    "duration": 326,
    "start_time": "2022-11-27T11:03:26.031Z"
   },
   {
    "duration": 19,
    "start_time": "2022-11-27T11:03:26.359Z"
   },
   {
    "duration": 455,
    "start_time": "2022-11-27T11:03:26.380Z"
   },
   {
    "duration": 62,
    "start_time": "2022-11-27T11:03:26.837Z"
   },
   {
    "duration": 102,
    "start_time": "2022-11-27T11:03:26.903Z"
   },
   {
    "duration": 19,
    "start_time": "2022-11-27T11:03:27.006Z"
   },
   {
    "duration": 1196,
    "start_time": "2022-11-27T11:03:27.026Z"
   },
   {
    "duration": 14,
    "start_time": "2022-11-27T11:03:28.224Z"
   },
   {
    "duration": 289,
    "start_time": "2022-11-27T11:03:28.239Z"
   },
   {
    "duration": 68,
    "start_time": "2022-11-27T11:03:28.530Z"
   },
   {
    "duration": 32,
    "start_time": "2022-11-27T11:03:28.600Z"
   },
   {
    "duration": 89,
    "start_time": "2022-11-27T11:03:28.634Z"
   },
   {
    "duration": 42,
    "start_time": "2022-11-27T11:03:28.724Z"
   },
   {
    "duration": 1397,
    "start_time": "2022-11-27T11:03:28.767Z"
   },
   {
    "duration": 15,
    "start_time": "2022-11-27T11:03:30.165Z"
   },
   {
    "duration": 43,
    "start_time": "2022-11-27T11:03:30.181Z"
   },
   {
    "duration": 34,
    "start_time": "2022-11-27T11:03:30.225Z"
   },
   {
    "duration": 106,
    "start_time": "2022-11-27T11:03:30.261Z"
   },
   {
    "duration": 107,
    "start_time": "2022-11-27T11:03:30.369Z"
   },
   {
    "duration": 175,
    "start_time": "2022-11-27T11:03:30.477Z"
   },
   {
    "duration": 5,
    "start_time": "2022-11-27T11:03:30.654Z"
   },
   {
    "duration": 33,
    "start_time": "2022-11-27T11:03:30.660Z"
   },
   {
    "duration": 32,
    "start_time": "2022-11-27T11:03:30.696Z"
   },
   {
    "duration": 4698,
    "start_time": "2022-11-27T11:03:30.729Z"
   },
   {
    "duration": 5,
    "start_time": "2022-11-27T11:03:35.428Z"
   },
   {
    "duration": 5,
    "start_time": "2022-11-27T11:03:35.435Z"
   },
   {
    "duration": 8,
    "start_time": "2022-11-27T11:03:35.442Z"
   },
   {
    "duration": 7,
    "start_time": "2022-11-27T11:03:35.451Z"
   },
   {
    "duration": 5,
    "start_time": "2022-11-27T11:03:35.460Z"
   },
   {
    "duration": 6,
    "start_time": "2022-11-27T11:03:35.466Z"
   },
   {
    "duration": 27,
    "start_time": "2022-11-27T11:03:35.473Z"
   },
   {
    "duration": 4188,
    "start_time": "2022-11-27T11:03:35.502Z"
   },
   {
    "duration": 396,
    "start_time": "2022-11-27T11:03:39.691Z"
   },
   {
    "duration": 10,
    "start_time": "2022-11-27T11:03:40.089Z"
   },
   {
    "duration": 8,
    "start_time": "2022-11-27T11:03:40.101Z"
   },
   {
    "duration": 118,
    "start_time": "2022-11-27T11:03:40.111Z"
   },
   {
    "duration": 930,
    "start_time": "2022-11-27T11:03:40.231Z"
   },
   {
    "duration": 2,
    "start_time": "2022-11-27T11:03:41.162Z"
   },
   {
    "duration": 29,
    "start_time": "2022-11-27T11:03:41.166Z"
   },
   {
    "duration": 4,
    "start_time": "2022-11-27T11:04:44.965Z"
   },
   {
    "duration": 1116,
    "start_time": "2022-11-27T11:04:50.373Z"
   },
   {
    "duration": 845,
    "start_time": "2022-11-27T11:04:51.491Z"
   },
   {
    "duration": 2512,
    "start_time": "2022-11-27T11:04:52.338Z"
   },
   {
    "duration": 259,
    "start_time": "2022-11-27T11:04:54.852Z"
   },
   {
    "duration": 3,
    "start_time": "2022-11-27T11:04:55.112Z"
   },
   {
    "duration": 338,
    "start_time": "2022-11-27T11:04:55.116Z"
   },
   {
    "duration": 18,
    "start_time": "2022-11-27T11:04:55.455Z"
   },
   {
    "duration": 487,
    "start_time": "2022-11-27T11:04:55.475Z"
   },
   {
    "duration": 63,
    "start_time": "2022-11-27T11:04:55.964Z"
   },
   {
    "duration": 111,
    "start_time": "2022-11-27T11:04:56.029Z"
   },
   {
    "duration": 18,
    "start_time": "2022-11-27T11:04:56.142Z"
   },
   {
    "duration": 1357,
    "start_time": "2022-11-27T11:04:56.162Z"
   },
   {
    "duration": 14,
    "start_time": "2022-11-27T11:04:57.521Z"
   },
   {
    "duration": 295,
    "start_time": "2022-11-27T11:04:57.537Z"
   },
   {
    "duration": 66,
    "start_time": "2022-11-27T11:04:57.834Z"
   },
   {
    "duration": 34,
    "start_time": "2022-11-27T11:04:57.901Z"
   },
   {
    "duration": 95,
    "start_time": "2022-11-27T11:04:57.936Z"
   },
   {
    "duration": 43,
    "start_time": "2022-11-27T11:04:58.034Z"
   },
   {
    "duration": 1426,
    "start_time": "2022-11-27T11:04:58.078Z"
   },
   {
    "duration": 16,
    "start_time": "2022-11-27T11:04:59.506Z"
   },
   {
    "duration": 76,
    "start_time": "2022-11-27T11:04:59.524Z"
   },
   {
    "duration": 63,
    "start_time": "2022-11-27T11:04:59.602Z"
   },
   {
    "duration": 124,
    "start_time": "2022-11-27T11:04:59.667Z"
   },
   {
    "duration": 111,
    "start_time": "2022-11-27T11:04:59.797Z"
   },
   {
    "duration": 224,
    "start_time": "2022-11-27T11:04:59.910Z"
   },
   {
    "duration": 5,
    "start_time": "2022-11-27T11:05:00.136Z"
   },
   {
    "duration": 29,
    "start_time": "2022-11-27T11:05:00.142Z"
   },
   {
    "duration": 32,
    "start_time": "2022-11-27T11:05:00.174Z"
   },
   {
    "duration": 6136,
    "start_time": "2022-11-27T11:05:00.208Z"
   },
   {
    "duration": 5,
    "start_time": "2022-11-27T11:05:06.346Z"
   },
   {
    "duration": 8,
    "start_time": "2022-11-27T11:05:06.352Z"
   },
   {
    "duration": 29,
    "start_time": "2022-11-27T11:05:06.362Z"
   },
   {
    "duration": 9,
    "start_time": "2022-11-27T11:05:06.392Z"
   },
   {
    "duration": 79,
    "start_time": "2022-11-27T11:05:06.403Z"
   },
   {
    "duration": 7,
    "start_time": "2022-11-27T11:05:06.484Z"
   },
   {
    "duration": 19,
    "start_time": "2022-11-27T11:05:06.492Z"
   },
   {
    "duration": 8,
    "start_time": "2022-11-27T11:05:06.513Z"
   },
   {
    "duration": 266,
    "start_time": "2022-11-27T11:05:06.522Z"
   },
   {
    "duration": 9,
    "start_time": "2022-11-27T11:05:06.790Z"
   },
   {
    "duration": 7,
    "start_time": "2022-11-27T11:05:06.800Z"
   },
   {
    "duration": 48,
    "start_time": "2022-11-27T11:05:06.808Z"
   },
   {
    "duration": 102,
    "start_time": "2022-11-27T11:05:06.858Z"
   },
   {
    "duration": 2,
    "start_time": "2022-11-27T11:05:06.961Z"
   },
   {
    "duration": 10,
    "start_time": "2022-11-27T11:05:06.965Z"
   },
   {
    "duration": 47,
    "start_time": "2022-11-27T11:05:44.722Z"
   },
   {
    "duration": 156,
    "start_time": "2022-11-27T11:05:46.718Z"
   },
   {
    "duration": 6,
    "start_time": "2022-11-27T11:06:20.863Z"
   },
   {
    "duration": 5,
    "start_time": "2022-11-27T11:06:22.538Z"
   },
   {
    "duration": 6,
    "start_time": "2022-11-27T11:06:24.662Z"
   },
   {
    "duration": 29,
    "start_time": "2022-11-27T11:06:33.422Z"
   },
   {
    "duration": 33,
    "start_time": "2022-11-27T11:06:35.748Z"
   },
   {
    "duration": 5,
    "start_time": "2022-11-27T11:06:38.459Z"
   },
   {
    "duration": 31,
    "start_time": "2022-11-27T11:06:40.922Z"
   },
   {
    "duration": 156,
    "start_time": "2022-11-27T11:06:43.013Z"
   },
   {
    "duration": 6,
    "start_time": "2022-11-27T11:07:22.976Z"
   },
   {
    "duration": 5,
    "start_time": "2022-11-27T11:07:25.509Z"
   },
   {
    "duration": 1130,
    "start_time": "2022-11-27T11:07:43.530Z"
   },
   {
    "duration": 881,
    "start_time": "2022-11-27T11:07:44.662Z"
   },
   {
    "duration": 2747,
    "start_time": "2022-11-27T11:07:45.544Z"
   },
   {
    "duration": 293,
    "start_time": "2022-11-27T11:07:48.294Z"
   },
   {
    "duration": 3,
    "start_time": "2022-11-27T11:07:48.588Z"
   },
   {
    "duration": 374,
    "start_time": "2022-11-27T11:07:48.592Z"
   },
   {
    "duration": 29,
    "start_time": "2022-11-27T11:07:48.968Z"
   },
   {
    "duration": 573,
    "start_time": "2022-11-27T11:07:48.999Z"
   },
   {
    "duration": 70,
    "start_time": "2022-11-27T11:07:49.574Z"
   },
   {
    "duration": 112,
    "start_time": "2022-11-27T11:07:49.647Z"
   },
   {
    "duration": 20,
    "start_time": "2022-11-27T11:07:49.760Z"
   },
   {
    "duration": 1440,
    "start_time": "2022-11-27T11:07:49.782Z"
   },
   {
    "duration": 15,
    "start_time": "2022-11-27T11:07:51.224Z"
   },
   {
    "duration": 338,
    "start_time": "2022-11-27T11:07:51.240Z"
   },
   {
    "duration": 77,
    "start_time": "2022-11-27T11:07:51.579Z"
   },
   {
    "duration": 45,
    "start_time": "2022-11-27T11:07:51.657Z"
   },
   {
    "duration": 95,
    "start_time": "2022-11-27T11:07:51.704Z"
   },
   {
    "duration": 52,
    "start_time": "2022-11-27T11:07:51.800Z"
   },
   {
    "duration": 1572,
    "start_time": "2022-11-27T11:07:51.854Z"
   },
   {
    "duration": 16,
    "start_time": "2022-11-27T11:07:53.428Z"
   },
   {
    "duration": 38,
    "start_time": "2022-11-27T11:07:53.445Z"
   },
   {
    "duration": 52,
    "start_time": "2022-11-27T11:07:53.484Z"
   },
   {
    "duration": 111,
    "start_time": "2022-11-27T11:07:53.538Z"
   },
   {
    "duration": 116,
    "start_time": "2022-11-27T11:07:53.650Z"
   },
   {
    "duration": 207,
    "start_time": "2022-11-27T11:07:53.768Z"
   },
   {
    "duration": 5,
    "start_time": "2022-11-27T11:07:53.977Z"
   },
   {
    "duration": 17,
    "start_time": "2022-11-27T11:07:53.983Z"
   },
   {
    "duration": 34,
    "start_time": "2022-11-27T11:07:54.006Z"
   },
   {
    "duration": 6642,
    "start_time": "2022-11-27T11:07:54.042Z"
   },
   {
    "duration": 13,
    "start_time": "2022-11-27T11:08:00.686Z"
   },
   {
    "duration": 11,
    "start_time": "2022-11-27T11:08:00.701Z"
   },
   {
    "duration": 34,
    "start_time": "2022-11-27T11:08:00.713Z"
   },
   {
    "duration": 20,
    "start_time": "2022-11-27T11:08:00.749Z"
   },
   {
    "duration": 160,
    "start_time": "2022-11-27T11:08:00.770Z"
   },
   {
    "duration": 6,
    "start_time": "2022-11-27T11:08:00.932Z"
   },
   {
    "duration": 9,
    "start_time": "2022-11-27T11:08:00.940Z"
   },
   {
    "duration": 5131,
    "start_time": "2022-11-27T11:08:00.950Z"
   },
   {
    "duration": 3,
    "start_time": "2022-11-27T11:08:06.083Z"
   },
   {
    "duration": 190,
    "start_time": "2022-11-27T11:08:06.088Z"
   },
   {
    "duration": 6,
    "start_time": "2022-11-27T11:08:06.280Z"
   },
   {
    "duration": 58,
    "start_time": "2022-11-27T11:08:06.288Z"
   },
   {
    "duration": 111,
    "start_time": "2022-11-27T11:08:06.348Z"
   },
   {
    "duration": 3,
    "start_time": "2022-11-27T11:08:06.461Z"
   },
   {
    "duration": 6,
    "start_time": "2022-11-27T11:08:06.466Z"
   },
   {
    "duration": 7,
    "start_time": "2022-11-27T11:09:21.797Z"
   },
   {
    "duration": 6,
    "start_time": "2022-11-27T11:09:41.010Z"
   },
   {
    "duration": 6,
    "start_time": "2022-11-27T11:09:51.923Z"
   },
   {
    "duration": 6,
    "start_time": "2022-11-27T11:09:55.049Z"
   },
   {
    "duration": 52,
    "start_time": "2022-11-27T11:10:19.329Z"
   },
   {
    "duration": 40,
    "start_time": "2022-11-27T11:10:24.009Z"
   },
   {
    "duration": 193,
    "start_time": "2022-11-27T11:10:34.567Z"
   },
   {
    "duration": 5,
    "start_time": "2022-11-27T11:13:24.233Z"
   },
   {
    "duration": 5,
    "start_time": "2022-11-27T11:13:27.511Z"
   },
   {
    "duration": 5030,
    "start_time": "2022-11-27T11:13:37.135Z"
   },
   {
    "duration": 1144,
    "start_time": "2022-11-27T11:24:52.168Z"
   },
   {
    "duration": 836,
    "start_time": "2022-11-27T11:24:53.314Z"
   },
   {
    "duration": 2769,
    "start_time": "2022-11-27T11:24:54.152Z"
   },
   {
    "duration": 275,
    "start_time": "2022-11-27T11:24:56.923Z"
   },
   {
    "duration": 3,
    "start_time": "2022-11-27T11:24:57.200Z"
   },
   {
    "duration": 358,
    "start_time": "2022-11-27T11:24:57.205Z"
   },
   {
    "duration": 19,
    "start_time": "2022-11-27T11:24:57.564Z"
   },
   {
    "duration": 484,
    "start_time": "2022-11-27T11:24:57.585Z"
   },
   {
    "duration": 58,
    "start_time": "2022-11-27T11:24:58.071Z"
   },
   {
    "duration": 109,
    "start_time": "2022-11-27T11:24:58.131Z"
   },
   {
    "duration": 19,
    "start_time": "2022-11-27T11:24:58.241Z"
   },
   {
    "duration": 1368,
    "start_time": "2022-11-27T11:24:58.261Z"
   },
   {
    "duration": 15,
    "start_time": "2022-11-27T11:24:59.631Z"
   },
   {
    "duration": 300,
    "start_time": "2022-11-27T11:24:59.647Z"
   },
   {
    "duration": 86,
    "start_time": "2022-11-27T11:24:59.950Z"
   },
   {
    "duration": 37,
    "start_time": "2022-11-27T11:25:00.037Z"
   },
   {
    "duration": 96,
    "start_time": "2022-11-27T11:25:00.076Z"
   },
   {
    "duration": 65,
    "start_time": "2022-11-27T11:25:00.173Z"
   },
   {
    "duration": 1523,
    "start_time": "2022-11-27T11:25:00.239Z"
   },
   {
    "duration": 14,
    "start_time": "2022-11-27T11:25:01.764Z"
   },
   {
    "duration": 71,
    "start_time": "2022-11-27T11:25:01.780Z"
   },
   {
    "duration": 41,
    "start_time": "2022-11-27T11:25:01.852Z"
   },
   {
    "duration": 100,
    "start_time": "2022-11-27T11:25:01.894Z"
   },
   {
    "duration": 107,
    "start_time": "2022-11-27T11:25:01.998Z"
   },
   {
    "duration": 179,
    "start_time": "2022-11-27T11:25:02.106Z"
   },
   {
    "duration": 14,
    "start_time": "2022-11-27T11:25:02.287Z"
   },
   {
    "duration": 77,
    "start_time": "2022-11-27T11:25:02.302Z"
   },
   {
    "duration": 13,
    "start_time": "2022-11-27T11:25:02.383Z"
   },
   {
    "duration": 4997,
    "start_time": "2022-11-27T11:25:02.398Z"
   },
   {
    "duration": 5,
    "start_time": "2022-11-27T11:25:07.397Z"
   },
   {
    "duration": 18,
    "start_time": "2022-11-27T11:25:07.404Z"
   },
   {
    "duration": 7,
    "start_time": "2022-11-27T11:25:07.423Z"
   },
   {
    "duration": 41,
    "start_time": "2022-11-27T11:25:07.431Z"
   },
   {
    "duration": 6,
    "start_time": "2022-11-27T11:25:07.474Z"
   },
   {
    "duration": 5027,
    "start_time": "2022-11-27T11:25:07.482Z"
   },
   {
    "duration": 34,
    "start_time": "2022-11-27T11:25:12.511Z"
   },
   {
    "duration": 172,
    "start_time": "2022-11-27T11:25:12.547Z"
   },
   {
    "duration": 5,
    "start_time": "2022-11-27T11:25:12.721Z"
   },
   {
    "duration": 47,
    "start_time": "2022-11-27T11:25:12.727Z"
   },
   {
    "duration": 103,
    "start_time": "2022-11-27T11:25:12.776Z"
   },
   {
    "duration": 2,
    "start_time": "2022-11-27T11:25:12.880Z"
   },
   {
    "duration": 13,
    "start_time": "2022-11-27T11:25:12.884Z"
   },
   {
    "duration": 43,
    "start_time": "2022-11-27T11:27:28.220Z"
   },
   {
    "duration": 5,
    "start_time": "2022-11-27T11:27:32.243Z"
   },
   {
    "duration": 1184,
    "start_time": "2022-11-27T11:28:01.384Z"
   },
   {
    "duration": 770,
    "start_time": "2022-11-27T11:28:02.570Z"
   },
   {
    "duration": 2660,
    "start_time": "2022-11-27T11:28:03.342Z"
   },
   {
    "duration": 499,
    "start_time": "2022-11-27T11:28:06.004Z"
   },
   {
    "duration": 3,
    "start_time": "2022-11-27T11:28:06.506Z"
   },
   {
    "duration": 333,
    "start_time": "2022-11-27T11:28:06.511Z"
   },
   {
    "duration": 18,
    "start_time": "2022-11-27T11:28:06.845Z"
   },
   {
    "duration": 435,
    "start_time": "2022-11-27T11:28:06.865Z"
   },
   {
    "duration": 51,
    "start_time": "2022-11-27T11:28:07.301Z"
   },
   {
    "duration": 109,
    "start_time": "2022-11-27T11:28:07.353Z"
   },
   {
    "duration": 18,
    "start_time": "2022-11-27T11:28:07.463Z"
   },
   {
    "duration": 1190,
    "start_time": "2022-11-27T11:28:07.482Z"
   },
   {
    "duration": 14,
    "start_time": "2022-11-27T11:28:08.673Z"
   },
   {
    "duration": 273,
    "start_time": "2022-11-27T11:28:08.697Z"
   },
   {
    "duration": 67,
    "start_time": "2022-11-27T11:28:08.971Z"
   },
   {
    "duration": 31,
    "start_time": "2022-11-27T11:28:09.039Z"
   },
   {
    "duration": 81,
    "start_time": "2022-11-27T11:28:09.071Z"
   },
   {
    "duration": 52,
    "start_time": "2022-11-27T11:28:09.153Z"
   },
   {
    "duration": 1420,
    "start_time": "2022-11-27T11:28:09.206Z"
   },
   {
    "duration": 15,
    "start_time": "2022-11-27T11:28:10.628Z"
   },
   {
    "duration": 31,
    "start_time": "2022-11-27T11:28:10.644Z"
   },
   {
    "duration": 42,
    "start_time": "2022-11-27T11:28:10.676Z"
   },
   {
    "duration": 107,
    "start_time": "2022-11-27T11:28:10.720Z"
   },
   {
    "duration": 102,
    "start_time": "2022-11-27T11:28:10.828Z"
   },
   {
    "duration": 168,
    "start_time": "2022-11-27T11:28:10.931Z"
   },
   {
    "duration": 5,
    "start_time": "2022-11-27T11:28:11.100Z"
   },
   {
    "duration": 15,
    "start_time": "2022-11-27T11:28:11.106Z"
   },
   {
    "duration": 7,
    "start_time": "2022-11-27T11:28:11.122Z"
   },
   {
    "duration": 4717,
    "start_time": "2022-11-27T11:28:11.130Z"
   },
   {
    "duration": 6,
    "start_time": "2022-11-27T11:28:15.848Z"
   },
   {
    "duration": 7,
    "start_time": "2022-11-27T11:28:15.855Z"
   },
   {
    "duration": 6,
    "start_time": "2022-11-27T11:28:15.864Z"
   },
   {
    "duration": 150,
    "start_time": "2022-11-27T11:28:15.872Z"
   },
   {
    "duration": 5,
    "start_time": "2022-11-27T11:28:16.024Z"
   },
   {
    "duration": 4678,
    "start_time": "2022-11-27T11:28:16.031Z"
   },
   {
    "duration": 6,
    "start_time": "2022-11-27T11:28:20.711Z"
   },
   {
    "duration": 49,
    "start_time": "2022-11-27T11:28:20.719Z"
   },
   {
    "duration": 5,
    "start_time": "2022-11-27T11:28:20.770Z"
   },
   {
    "duration": 61,
    "start_time": "2022-11-27T11:28:20.777Z"
   },
   {
    "duration": 100,
    "start_time": "2022-11-27T11:28:20.839Z"
   },
   {
    "duration": 2,
    "start_time": "2022-11-27T11:28:20.943Z"
   },
   {
    "duration": 5,
    "start_time": "2022-11-27T11:28:20.947Z"
   },
   {
    "duration": 44,
    "start_time": "2022-11-27T11:29:30.553Z"
   },
   {
    "duration": 37,
    "start_time": "2022-11-27T11:29:53.011Z"
   },
   {
    "duration": 83,
    "start_time": "2022-11-27T11:30:20.955Z"
   },
   {
    "duration": 4475,
    "start_time": "2022-11-27T11:31:05.747Z"
   },
   {
    "duration": 94,
    "start_time": "2022-11-27T11:32:13.604Z"
   },
   {
    "duration": 1161,
    "start_time": "2022-11-27T11:32:25.067Z"
   },
   {
    "duration": 791,
    "start_time": "2022-11-27T11:32:26.230Z"
   },
   {
    "duration": 2590,
    "start_time": "2022-11-27T11:32:27.025Z"
   },
   {
    "duration": 251,
    "start_time": "2022-11-27T11:32:29.617Z"
   },
   {
    "duration": 2,
    "start_time": "2022-11-27T11:32:29.870Z"
   },
   {
    "duration": 365,
    "start_time": "2022-11-27T11:32:29.873Z"
   },
   {
    "duration": 20,
    "start_time": "2022-11-27T11:32:30.239Z"
   },
   {
    "duration": 551,
    "start_time": "2022-11-27T11:32:30.261Z"
   },
   {
    "duration": 54,
    "start_time": "2022-11-27T11:32:30.816Z"
   },
   {
    "duration": 124,
    "start_time": "2022-11-27T11:32:30.871Z"
   },
   {
    "duration": 21,
    "start_time": "2022-11-27T11:32:30.997Z"
   },
   {
    "duration": 1275,
    "start_time": "2022-11-27T11:32:31.020Z"
   },
   {
    "duration": 16,
    "start_time": "2022-11-27T11:32:32.297Z"
   },
   {
    "duration": 315,
    "start_time": "2022-11-27T11:32:32.314Z"
   },
   {
    "duration": 68,
    "start_time": "2022-11-27T11:32:32.631Z"
   },
   {
    "duration": 40,
    "start_time": "2022-11-27T11:32:32.701Z"
   },
   {
    "duration": 88,
    "start_time": "2022-11-27T11:32:32.742Z"
   },
   {
    "duration": 41,
    "start_time": "2022-11-27T11:32:32.832Z"
   },
   {
    "duration": 1524,
    "start_time": "2022-11-27T11:32:32.875Z"
   },
   {
    "duration": 20,
    "start_time": "2022-11-27T11:32:34.401Z"
   },
   {
    "duration": 33,
    "start_time": "2022-11-27T11:32:34.423Z"
   },
   {
    "duration": 54,
    "start_time": "2022-11-27T11:32:34.458Z"
   },
   {
    "duration": 112,
    "start_time": "2022-11-27T11:32:34.514Z"
   },
   {
    "duration": 250,
    "start_time": "2022-11-27T11:32:34.629Z"
   },
   {
    "duration": 144,
    "start_time": "2022-11-27T11:32:34.881Z"
   },
   {
    "duration": 106,
    "start_time": "2022-11-27T11:32:35.027Z"
   },
   {
    "duration": 11,
    "start_time": "2022-11-27T11:32:35.136Z"
   },
   {
    "duration": 6,
    "start_time": "2022-11-27T11:32:35.149Z"
   },
   {
    "duration": 4570,
    "start_time": "2022-11-27T11:32:35.156Z"
   },
   {
    "duration": 6,
    "start_time": "2022-11-27T11:32:39.728Z"
   },
   {
    "duration": 6,
    "start_time": "2022-11-27T11:32:39.736Z"
   },
   {
    "duration": 6,
    "start_time": "2022-11-27T11:32:39.744Z"
   },
   {
    "duration": 61,
    "start_time": "2022-11-27T11:32:39.752Z"
   },
   {
    "duration": 6,
    "start_time": "2022-11-27T11:32:39.815Z"
   },
   {
    "duration": 4607,
    "start_time": "2022-11-27T11:32:39.822Z"
   },
   {
    "duration": 6,
    "start_time": "2022-11-27T11:32:44.430Z"
   },
   {
    "duration": 34,
    "start_time": "2022-11-27T11:32:44.438Z"
   },
   {
    "duration": 56,
    "start_time": "2022-11-27T11:32:44.473Z"
   },
   {
    "duration": 94,
    "start_time": "2022-11-27T11:32:44.531Z"
   },
   {
    "duration": 2,
    "start_time": "2022-11-27T11:32:44.626Z"
   },
   {
    "duration": 6,
    "start_time": "2022-11-27T11:32:44.630Z"
   },
   {
    "duration": 186,
    "start_time": "2022-11-27T11:33:07.951Z"
   },
   {
    "duration": 98,
    "start_time": "2022-11-27T11:33:21.989Z"
   },
   {
    "duration": 10,
    "start_time": "2022-11-27T11:33:58.799Z"
   },
   {
    "duration": 6,
    "start_time": "2022-11-27T11:34:06.411Z"
   },
   {
    "duration": 11,
    "start_time": "2022-11-27T11:34:40.515Z"
   },
   {
    "duration": 10,
    "start_time": "2022-11-27T11:35:26.224Z"
   },
   {
    "duration": 10,
    "start_time": "2022-11-27T11:35:33.674Z"
   },
   {
    "duration": 12,
    "start_time": "2022-11-27T11:36:26.219Z"
   },
   {
    "duration": 10,
    "start_time": "2022-11-27T11:36:29.755Z"
   },
   {
    "duration": 34,
    "start_time": "2022-11-27T11:36:32.949Z"
   },
   {
    "duration": 34,
    "start_time": "2022-11-27T11:36:48.096Z"
   },
   {
    "duration": 1132,
    "start_time": "2022-11-27T11:37:06.971Z"
   },
   {
    "duration": 764,
    "start_time": "2022-11-27T11:37:08.105Z"
   },
   {
    "duration": 2448,
    "start_time": "2022-11-27T11:37:08.871Z"
   },
   {
    "duration": 247,
    "start_time": "2022-11-27T11:37:11.322Z"
   },
   {
    "duration": 3,
    "start_time": "2022-11-27T11:37:11.570Z"
   },
   {
    "duration": 318,
    "start_time": "2022-11-27T11:37:11.574Z"
   },
   {
    "duration": 18,
    "start_time": "2022-11-27T11:37:11.897Z"
   },
   {
    "duration": 461,
    "start_time": "2022-11-27T11:37:11.917Z"
   },
   {
    "duration": 60,
    "start_time": "2022-11-27T11:37:12.379Z"
   },
   {
    "duration": 103,
    "start_time": "2022-11-27T11:37:12.441Z"
   },
   {
    "duration": 19,
    "start_time": "2022-11-27T11:37:12.546Z"
   },
   {
    "duration": 1243,
    "start_time": "2022-11-27T11:37:12.566Z"
   },
   {
    "duration": 15,
    "start_time": "2022-11-27T11:37:13.811Z"
   },
   {
    "duration": 321,
    "start_time": "2022-11-27T11:37:13.827Z"
   },
   {
    "duration": 70,
    "start_time": "2022-11-27T11:37:14.150Z"
   },
   {
    "duration": 33,
    "start_time": "2022-11-27T11:37:14.221Z"
   },
   {
    "duration": 86,
    "start_time": "2022-11-27T11:37:14.256Z"
   },
   {
    "duration": 43,
    "start_time": "2022-11-27T11:37:14.344Z"
   },
   {
    "duration": 1477,
    "start_time": "2022-11-27T11:37:14.397Z"
   },
   {
    "duration": 22,
    "start_time": "2022-11-27T11:37:15.876Z"
   },
   {
    "duration": 31,
    "start_time": "2022-11-27T11:37:15.899Z"
   },
   {
    "duration": 41,
    "start_time": "2022-11-27T11:37:15.932Z"
   },
   {
    "duration": 111,
    "start_time": "2022-11-27T11:37:15.975Z"
   },
   {
    "duration": 183,
    "start_time": "2022-11-27T11:37:16.088Z"
   },
   {
    "duration": 106,
    "start_time": "2022-11-27T11:37:16.273Z"
   },
   {
    "duration": 42,
    "start_time": "2022-11-27T11:37:16.382Z"
   },
   {
    "duration": 13,
    "start_time": "2022-11-27T11:37:16.426Z"
   },
   {
    "duration": 6,
    "start_time": "2022-11-27T11:37:16.442Z"
   },
   {
    "duration": 4741,
    "start_time": "2022-11-27T11:37:16.450Z"
   },
   {
    "duration": 10,
    "start_time": "2022-11-27T11:37:21.192Z"
   },
   {
    "duration": 13,
    "start_time": "2022-11-27T11:37:21.203Z"
   },
   {
    "duration": 10,
    "start_time": "2022-11-27T11:37:21.218Z"
   },
   {
    "duration": 45,
    "start_time": "2022-11-27T11:37:21.229Z"
   },
   {
    "duration": 6,
    "start_time": "2022-11-27T11:37:21.275Z"
   },
   {
    "duration": 4733,
    "start_time": "2022-11-27T11:37:21.283Z"
   },
   {
    "duration": 6,
    "start_time": "2022-11-27T11:37:26.017Z"
   },
   {
    "duration": 45,
    "start_time": "2022-11-27T11:37:26.024Z"
   },
   {
    "duration": 49,
    "start_time": "2022-11-27T11:37:26.071Z"
   },
   {
    "duration": 85,
    "start_time": "2022-11-27T11:37:26.122Z"
   },
   {
    "duration": 2,
    "start_time": "2022-11-27T11:37:26.208Z"
   },
   {
    "duration": 11,
    "start_time": "2022-11-27T11:37:26.211Z"
   },
   {
    "duration": 152,
    "start_time": "2022-11-27T11:50:56.266Z"
   },
   {
    "duration": 151,
    "start_time": "2022-11-27T11:51:03.268Z"
   },
   {
    "duration": 145,
    "start_time": "2022-11-27T11:51:11.978Z"
   },
   {
    "duration": 110,
    "start_time": "2022-11-27T11:52:54.564Z"
   },
   {
    "duration": 105,
    "start_time": "2022-11-27T11:53:03.062Z"
   },
   {
    "duration": 49,
    "start_time": "2022-11-27T11:53:19.880Z"
   },
   {
    "duration": 101,
    "start_time": "2022-11-27T11:53:22.924Z"
   },
   {
    "duration": 43,
    "start_time": "2022-11-27T11:53:33.311Z"
   },
   {
    "duration": 43,
    "start_time": "2022-11-27T11:54:27.778Z"
   },
   {
    "duration": 32,
    "start_time": "2022-11-27T11:54:49.056Z"
   },
   {
    "duration": 48,
    "start_time": "2022-11-27T11:56:36.364Z"
   },
   {
    "duration": 6,
    "start_time": "2022-11-27T11:57:58.074Z"
   },
   {
    "duration": 167,
    "start_time": "2022-11-27T11:58:04.532Z"
   },
   {
    "duration": 247,
    "start_time": "2022-11-27T12:00:33.963Z"
   },
   {
    "duration": 417,
    "start_time": "2022-11-27T12:01:56.710Z"
   },
   {
    "duration": 258,
    "start_time": "2022-11-27T12:02:01.667Z"
   },
   {
    "duration": 360,
    "start_time": "2022-11-27T12:02:31.226Z"
   },
   {
    "duration": 781,
    "start_time": "2022-11-27T12:02:35.286Z"
   },
   {
    "duration": 33,
    "start_time": "2022-11-27T12:03:01.881Z"
   },
   {
    "duration": 33,
    "start_time": "2022-11-27T12:04:10.786Z"
   },
   {
    "duration": 122,
    "start_time": "2022-11-27T12:04:27.254Z"
   },
   {
    "duration": 23,
    "start_time": "2022-11-27T12:04:31.569Z"
   },
   {
    "duration": 36,
    "start_time": "2022-11-27T12:04:39.276Z"
   },
   {
    "duration": 231,
    "start_time": "2022-11-27T12:04:54.066Z"
   },
   {
    "duration": 11,
    "start_time": "2022-11-27T12:05:34.744Z"
   },
   {
    "duration": 37,
    "start_time": "2022-11-27T12:05:40.952Z"
   },
   {
    "duration": 32,
    "start_time": "2022-11-27T12:05:47.631Z"
   },
   {
    "duration": 55,
    "start_time": "2022-11-27T12:06:10.954Z"
   },
   {
    "duration": 34,
    "start_time": "2022-11-27T12:06:20.753Z"
   },
   {
    "duration": 18,
    "start_time": "2022-11-27T12:06:30.835Z"
   },
   {
    "duration": 15,
    "start_time": "2022-11-27T12:06:34.407Z"
   },
   {
    "duration": 35,
    "start_time": "2022-11-27T12:11:20.083Z"
   },
   {
    "duration": 41,
    "start_time": "2022-11-27T12:12:04.592Z"
   },
   {
    "duration": 42,
    "start_time": "2022-11-27T12:12:16.356Z"
   },
   {
    "duration": 29,
    "start_time": "2022-11-27T12:12:24.381Z"
   },
   {
    "duration": 4,
    "start_time": "2022-11-27T12:12:58.790Z"
   },
   {
    "duration": 44,
    "start_time": "2022-11-27T12:13:04.235Z"
   },
   {
    "duration": 45,
    "start_time": "2022-11-27T12:13:08.366Z"
   },
   {
    "duration": 49,
    "start_time": "2022-11-27T12:13:15.740Z"
   },
   {
    "duration": 50,
    "start_time": "2022-11-27T12:13:19.511Z"
   },
   {
    "duration": 45,
    "start_time": "2022-11-27T12:13:21.444Z"
   },
   {
    "duration": 44,
    "start_time": "2022-11-27T12:13:23.780Z"
   },
   {
    "duration": 28,
    "start_time": "2022-11-27T12:14:25.816Z"
   },
   {
    "duration": 41,
    "start_time": "2022-11-27T12:14:51.298Z"
   },
   {
    "duration": 3,
    "start_time": "2022-11-27T12:19:52.452Z"
   },
   {
    "duration": 120,
    "start_time": "2022-11-27T12:21:18.437Z"
   },
   {
    "duration": 93,
    "start_time": "2022-11-27T12:21:25.838Z"
   },
   {
    "duration": 91,
    "start_time": "2022-11-27T12:21:31.704Z"
   },
   {
    "duration": 95,
    "start_time": "2022-11-27T12:21:38.906Z"
   },
   {
    "duration": 6540,
    "start_time": "2022-11-27T12:22:27.872Z"
   },
   {
    "duration": 19,
    "start_time": "2022-11-27T12:24:53.428Z"
   },
   {
    "duration": 7402,
    "start_time": "2022-11-27T12:25:00.918Z"
   },
   {
    "duration": 6854,
    "start_time": "2022-11-27T12:25:18.268Z"
   },
   {
    "duration": 43,
    "start_time": "2022-11-27T12:26:55.254Z"
   },
   {
    "duration": 76,
    "start_time": "2022-11-27T12:27:02.931Z"
   },
   {
    "duration": 56,
    "start_time": "2022-11-27T12:27:24.895Z"
   },
   {
    "duration": 84,
    "start_time": "2022-11-27T12:28:07.626Z"
   },
   {
    "duration": 89,
    "start_time": "2022-11-27T12:28:13.084Z"
   },
   {
    "duration": 6491,
    "start_time": "2022-11-27T12:28:16.288Z"
   },
   {
    "duration": 1160,
    "start_time": "2022-11-27T12:31:33.159Z"
   },
   {
    "duration": 827,
    "start_time": "2022-11-27T12:31:34.321Z"
   },
   {
    "duration": 2443,
    "start_time": "2022-11-27T12:31:35.150Z"
   },
   {
    "duration": 225,
    "start_time": "2022-11-27T12:31:37.595Z"
   },
   {
    "duration": 2,
    "start_time": "2022-11-27T12:31:37.822Z"
   },
   {
    "duration": 354,
    "start_time": "2022-11-27T12:31:37.826Z"
   },
   {
    "duration": 30,
    "start_time": "2022-11-27T12:31:38.182Z"
   },
   {
    "duration": 434,
    "start_time": "2022-11-27T12:31:38.214Z"
   },
   {
    "duration": 57,
    "start_time": "2022-11-27T12:31:38.650Z"
   },
   {
    "duration": 103,
    "start_time": "2022-11-27T12:31:38.709Z"
   },
   {
    "duration": 18,
    "start_time": "2022-11-27T12:31:38.813Z"
   },
   {
    "duration": 1268,
    "start_time": "2022-11-27T12:31:38.832Z"
   },
   {
    "duration": 17,
    "start_time": "2022-11-27T12:31:40.102Z"
   },
   {
    "duration": 287,
    "start_time": "2022-11-27T12:31:40.122Z"
   },
   {
    "duration": 55,
    "start_time": "2022-11-27T12:31:40.411Z"
   },
   {
    "duration": 46,
    "start_time": "2022-11-27T12:31:40.468Z"
   },
   {
    "duration": 70,
    "start_time": "2022-11-27T12:31:40.515Z"
   },
   {
    "duration": 51,
    "start_time": "2022-11-27T12:31:40.587Z"
   },
   {
    "duration": 1410,
    "start_time": "2022-11-27T12:31:40.640Z"
   },
   {
    "duration": 14,
    "start_time": "2022-11-27T12:31:42.052Z"
   },
   {
    "duration": 44,
    "start_time": "2022-11-27T12:31:42.068Z"
   },
   {
    "duration": 32,
    "start_time": "2022-11-27T12:31:42.114Z"
   },
   {
    "duration": 103,
    "start_time": "2022-11-27T12:31:42.148Z"
   },
   {
    "duration": 173,
    "start_time": "2022-11-27T12:31:42.252Z"
   },
   {
    "duration": 112,
    "start_time": "2022-11-27T12:31:42.427Z"
   },
   {
    "duration": 29,
    "start_time": "2022-11-27T12:31:42.541Z"
   },
   {
    "duration": 28,
    "start_time": "2022-11-27T12:31:42.572Z"
   },
   {
    "duration": 7,
    "start_time": "2022-11-27T12:31:42.602Z"
   },
   {
    "duration": 4612,
    "start_time": "2022-11-27T12:31:42.610Z"
   },
   {
    "duration": 6,
    "start_time": "2022-11-27T12:31:47.224Z"
   },
   {
    "duration": 10,
    "start_time": "2022-11-27T12:31:47.231Z"
   },
   {
    "duration": 6,
    "start_time": "2022-11-27T12:31:47.242Z"
   },
   {
    "duration": 135,
    "start_time": "2022-11-27T12:31:47.249Z"
   },
   {
    "duration": 12,
    "start_time": "2022-11-27T12:31:47.386Z"
   },
   {
    "duration": 4605,
    "start_time": "2022-11-27T12:31:47.399Z"
   },
   {
    "duration": 6,
    "start_time": "2022-11-27T12:31:52.005Z"
   },
   {
    "duration": 35,
    "start_time": "2022-11-27T12:31:52.012Z"
   },
   {
    "duration": 102,
    "start_time": "2022-11-27T12:31:52.049Z"
   },
   {
    "duration": 104,
    "start_time": "2022-11-27T12:31:52.152Z"
   },
   {
    "duration": 51,
    "start_time": "2022-11-27T12:31:52.258Z"
   },
   {
    "duration": 54,
    "start_time": "2022-11-27T12:31:52.313Z"
   },
   {
    "duration": 29,
    "start_time": "2022-11-27T12:31:52.369Z"
   },
   {
    "duration": 21,
    "start_time": "2022-11-27T12:31:52.399Z"
   },
   {
    "duration": 37,
    "start_time": "2022-11-27T12:31:52.421Z"
   },
   {
    "duration": 60,
    "start_time": "2022-11-27T12:31:52.459Z"
   },
   {
    "duration": 134,
    "start_time": "2022-11-27T12:31:52.520Z"
   },
   {
    "duration": 6801,
    "start_time": "2022-11-27T12:31:52.656Z"
   },
   {
    "duration": 1,
    "start_time": "2022-11-27T12:31:59.458Z"
   },
   {
    "duration": 99,
    "start_time": "2022-11-27T12:35:22.651Z"
   },
   {
    "duration": 96,
    "start_time": "2022-11-27T12:35:36.470Z"
   },
   {
    "duration": 225,
    "start_time": "2022-11-27T12:36:08.945Z"
   },
   {
    "duration": 6474,
    "start_time": "2022-11-27T12:36:25.314Z"
   },
   {
    "duration": 97,
    "start_time": "2022-11-27T12:36:56.664Z"
   },
   {
    "duration": 6858,
    "start_time": "2022-11-27T12:36:59.364Z"
   },
   {
    "duration": 85,
    "start_time": "2022-11-27T12:46:56.119Z"
   },
   {
    "duration": 100,
    "start_time": "2022-11-27T12:47:09.735Z"
   },
   {
    "duration": 296,
    "start_time": "2022-11-27T12:47:21.539Z"
   },
   {
    "duration": 126,
    "start_time": "2022-11-27T12:47:37.957Z"
   },
   {
    "duration": 75,
    "start_time": "2022-11-27T12:48:02.687Z"
   },
   {
    "duration": 1436,
    "start_time": "2022-11-27T12:48:09.983Z"
   },
   {
    "duration": 95,
    "start_time": "2022-11-27T12:48:37.212Z"
   },
   {
    "duration": 73,
    "start_time": "2022-11-27T12:48:46.446Z"
   },
   {
    "duration": 76,
    "start_time": "2022-11-27T12:48:55.332Z"
   },
   {
    "duration": 86,
    "start_time": "2022-11-27T12:48:59.905Z"
   },
   {
    "duration": 72,
    "start_time": "2022-11-27T12:49:06.162Z"
   },
   {
    "duration": 63,
    "start_time": "2022-11-27T12:49:09.233Z"
   },
   {
    "duration": 20,
    "start_time": "2022-11-27T12:49:28.042Z"
   },
   {
    "duration": 31,
    "start_time": "2022-11-27T12:49:39.201Z"
   },
   {
    "duration": 28,
    "start_time": "2022-11-27T12:49:45.873Z"
   },
   {
    "duration": 29,
    "start_time": "2022-11-27T12:49:49.410Z"
   },
   {
    "duration": 30,
    "start_time": "2022-11-27T12:49:52.109Z"
   },
   {
    "duration": 31,
    "start_time": "2022-11-27T12:49:53.656Z"
   },
   {
    "duration": 32,
    "start_time": "2022-11-27T12:50:29.688Z"
   },
   {
    "duration": 31,
    "start_time": "2022-11-27T12:50:46.252Z"
   },
   {
    "duration": 1084,
    "start_time": "2022-11-27T12:50:53.029Z"
   },
   {
    "duration": 778,
    "start_time": "2022-11-27T12:50:54.115Z"
   },
   {
    "duration": 2668,
    "start_time": "2022-11-27T12:50:54.900Z"
   },
   {
    "duration": 267,
    "start_time": "2022-11-27T12:50:57.570Z"
   },
   {
    "duration": 3,
    "start_time": "2022-11-27T12:50:57.838Z"
   },
   {
    "duration": 319,
    "start_time": "2022-11-27T12:50:57.842Z"
   },
   {
    "duration": 19,
    "start_time": "2022-11-27T12:50:58.162Z"
   },
   {
    "duration": 456,
    "start_time": "2022-11-27T12:50:58.182Z"
   },
   {
    "duration": 59,
    "start_time": "2022-11-27T12:50:58.640Z"
   },
   {
    "duration": 109,
    "start_time": "2022-11-27T12:50:58.702Z"
   },
   {
    "duration": 20,
    "start_time": "2022-11-27T12:50:58.813Z"
   },
   {
    "duration": 1293,
    "start_time": "2022-11-27T12:50:58.834Z"
   },
   {
    "duration": 25,
    "start_time": "2022-11-27T12:51:00.129Z"
   },
   {
    "duration": 286,
    "start_time": "2022-11-27T12:51:00.156Z"
   },
   {
    "duration": 71,
    "start_time": "2022-11-27T12:51:00.443Z"
   },
   {
    "duration": 32,
    "start_time": "2022-11-27T12:51:00.516Z"
   },
   {
    "duration": 88,
    "start_time": "2022-11-27T12:51:00.550Z"
   },
   {
    "duration": 43,
    "start_time": "2022-11-27T12:51:00.639Z"
   },
   {
    "duration": 1379,
    "start_time": "2022-11-27T12:51:00.698Z"
   },
   {
    "duration": 20,
    "start_time": "2022-11-27T12:51:02.078Z"
   },
   {
    "duration": 31,
    "start_time": "2022-11-27T12:51:02.099Z"
   },
   {
    "duration": 41,
    "start_time": "2022-11-27T12:51:02.131Z"
   },
   {
    "duration": 117,
    "start_time": "2022-11-27T12:51:02.174Z"
   },
   {
    "duration": 191,
    "start_time": "2022-11-27T12:51:02.292Z"
   },
   {
    "duration": 107,
    "start_time": "2022-11-27T12:51:02.484Z"
   },
   {
    "duration": 32,
    "start_time": "2022-11-27T12:51:02.597Z"
   },
   {
    "duration": 13,
    "start_time": "2022-11-27T12:51:02.632Z"
   },
   {
    "duration": 21,
    "start_time": "2022-11-27T12:51:02.646Z"
   },
   {
    "duration": 4893,
    "start_time": "2022-11-27T12:51:02.668Z"
   },
   {
    "duration": 5,
    "start_time": "2022-11-27T12:51:07.563Z"
   },
   {
    "duration": 20,
    "start_time": "2022-11-27T12:51:07.570Z"
   },
   {
    "duration": 26,
    "start_time": "2022-11-27T12:51:07.592Z"
   },
   {
    "duration": 63,
    "start_time": "2022-11-27T12:51:07.620Z"
   },
   {
    "duration": 5,
    "start_time": "2022-11-27T12:51:07.684Z"
   },
   {
    "duration": 4669,
    "start_time": "2022-11-27T12:51:07.690Z"
   },
   {
    "duration": 7,
    "start_time": "2022-11-27T12:51:12.363Z"
   },
   {
    "duration": 47,
    "start_time": "2022-11-27T12:51:12.371Z"
   },
   {
    "duration": 89,
    "start_time": "2022-11-27T12:51:12.419Z"
   },
   {
    "duration": 98,
    "start_time": "2022-11-27T12:51:12.510Z"
   },
   {
    "duration": 35,
    "start_time": "2022-11-27T12:51:12.610Z"
   },
   {
    "duration": 72,
    "start_time": "2022-11-27T12:51:12.647Z"
   },
   {
    "duration": 17,
    "start_time": "2022-11-27T12:51:12.722Z"
   },
   {
    "duration": 25,
    "start_time": "2022-11-27T12:51:12.741Z"
   },
   {
    "duration": 53,
    "start_time": "2022-11-27T12:51:12.767Z"
   },
   {
    "duration": 41,
    "start_time": "2022-11-27T12:51:12.823Z"
   },
   {
    "duration": 108,
    "start_time": "2022-11-27T12:51:12.866Z"
   },
   {
    "duration": 1459,
    "start_time": "2022-11-27T12:51:12.975Z"
   },
   {
    "duration": 32,
    "start_time": "2022-11-27T12:51:14.435Z"
   },
   {
    "duration": 10,
    "start_time": "2022-11-27T12:51:14.468Z"
   },
   {
    "duration": 4,
    "start_time": "2022-11-27T12:54:43.241Z"
   },
   {
    "duration": 105,
    "start_time": "2022-11-27T12:54:55.762Z"
   },
   {
    "duration": 24,
    "start_time": "2022-11-27T12:54:59.996Z"
   },
   {
    "duration": 36997,
    "start_time": "2022-11-27T12:55:42.332Z"
   },
   {
    "duration": 34,
    "start_time": "2022-11-27T14:09:19.152Z"
   },
   {
    "duration": 31,
    "start_time": "2022-11-27T14:09:25.824Z"
   },
   {
    "duration": 21,
    "start_time": "2022-11-27T14:10:03.464Z"
   },
   {
    "duration": 31,
    "start_time": "2022-11-27T14:10:04.652Z"
   },
   {
    "duration": 15,
    "start_time": "2022-11-27T14:10:33.301Z"
   },
   {
    "duration": 10,
    "start_time": "2022-11-27T14:10:36.717Z"
   },
   {
    "duration": 14,
    "start_time": "2022-11-27T14:10:48.760Z"
   },
   {
    "duration": 13,
    "start_time": "2022-11-27T14:10:59.701Z"
   },
   {
    "duration": 13,
    "start_time": "2022-11-27T14:11:09.212Z"
   },
   {
    "duration": 13,
    "start_time": "2022-11-27T14:11:16.769Z"
   },
   {
    "duration": 16,
    "start_time": "2022-11-27T14:11:32.608Z"
   },
   {
    "duration": 2,
    "start_time": "2022-11-27T14:14:24.168Z"
   },
   {
    "duration": 1099,
    "start_time": "2022-11-27T14:14:30.501Z"
   },
   {
    "duration": 750,
    "start_time": "2022-11-27T14:14:31.601Z"
   },
   {
    "duration": 2396,
    "start_time": "2022-11-27T14:14:32.353Z"
   },
   {
    "duration": 273,
    "start_time": "2022-11-27T14:14:34.752Z"
   },
   {
    "duration": 3,
    "start_time": "2022-11-27T14:14:35.026Z"
   },
   {
    "duration": 367,
    "start_time": "2022-11-27T14:14:35.030Z"
   },
   {
    "duration": 17,
    "start_time": "2022-11-27T14:14:35.399Z"
   },
   {
    "duration": 458,
    "start_time": "2022-11-27T14:14:35.418Z"
   },
   {
    "duration": 61,
    "start_time": "2022-11-27T14:14:35.877Z"
   },
   {
    "duration": 106,
    "start_time": "2022-11-27T14:14:35.941Z"
   },
   {
    "duration": 18,
    "start_time": "2022-11-27T14:14:36.049Z"
   },
   {
    "duration": 1230,
    "start_time": "2022-11-27T14:14:36.069Z"
   },
   {
    "duration": 16,
    "start_time": "2022-11-27T14:14:37.301Z"
   },
   {
    "duration": 283,
    "start_time": "2022-11-27T14:14:37.318Z"
   },
   {
    "duration": 55,
    "start_time": "2022-11-27T14:14:37.603Z"
   },
   {
    "duration": 42,
    "start_time": "2022-11-27T14:14:37.659Z"
   },
   {
    "duration": 68,
    "start_time": "2022-11-27T14:14:37.702Z"
   },
   {
    "duration": 52,
    "start_time": "2022-11-27T14:14:37.771Z"
   },
   {
    "duration": 1349,
    "start_time": "2022-11-27T14:14:37.824Z"
   },
   {
    "duration": 15,
    "start_time": "2022-11-27T14:14:39.174Z"
   },
   {
    "duration": 30,
    "start_time": "2022-11-27T14:14:39.197Z"
   },
   {
    "duration": 31,
    "start_time": "2022-11-27T14:14:39.228Z"
   },
   {
    "duration": 124,
    "start_time": "2022-11-27T14:14:39.261Z"
   },
   {
    "duration": 193,
    "start_time": "2022-11-27T14:14:39.387Z"
   },
   {
    "duration": 106,
    "start_time": "2022-11-27T14:14:39.581Z"
   },
   {
    "duration": 33,
    "start_time": "2022-11-27T14:14:39.688Z"
   },
   {
    "duration": 13,
    "start_time": "2022-11-27T14:14:39.722Z"
   },
   {
    "duration": 6,
    "start_time": "2022-11-27T14:14:39.738Z"
   },
   {
    "duration": 4606,
    "start_time": "2022-11-27T14:14:39.745Z"
   },
   {
    "duration": 5,
    "start_time": "2022-11-27T14:14:44.352Z"
   },
   {
    "duration": 6,
    "start_time": "2022-11-27T14:14:44.359Z"
   },
   {
    "duration": 8,
    "start_time": "2022-11-27T14:14:44.367Z"
   },
   {
    "duration": 59,
    "start_time": "2022-11-27T14:14:44.376Z"
   },
   {
    "duration": 6,
    "start_time": "2022-11-27T14:14:44.437Z"
   },
   {
    "duration": 4639,
    "start_time": "2022-11-27T14:14:44.444Z"
   },
   {
    "duration": 14,
    "start_time": "2022-11-27T14:14:49.085Z"
   },
   {
    "duration": 37,
    "start_time": "2022-11-27T14:14:49.101Z"
   },
   {
    "duration": 98,
    "start_time": "2022-11-27T14:14:49.140Z"
   },
   {
    "duration": 101,
    "start_time": "2022-11-27T14:14:49.240Z"
   },
   {
    "duration": 34,
    "start_time": "2022-11-27T14:14:49.342Z"
   },
   {
    "duration": 56,
    "start_time": "2022-11-27T14:14:49.377Z"
   },
   {
    "duration": 16,
    "start_time": "2022-11-27T14:14:49.435Z"
   },
   {
    "duration": 22,
    "start_time": "2022-11-27T14:14:49.453Z"
   },
   {
    "duration": 39,
    "start_time": "2022-11-27T14:14:49.496Z"
   },
   {
    "duration": 42,
    "start_time": "2022-11-27T14:14:49.537Z"
   },
   {
    "duration": 84,
    "start_time": "2022-11-27T14:14:49.598Z"
   },
   {
    "duration": 1398,
    "start_time": "2022-11-27T14:14:49.684Z"
   },
   {
    "duration": 38,
    "start_time": "2022-11-27T14:14:51.083Z"
   },
   {
    "duration": 30,
    "start_time": "2022-11-27T14:14:51.123Z"
   },
   {
    "duration": 22,
    "start_time": "2022-11-27T14:14:51.155Z"
   },
   {
    "duration": 45,
    "start_time": "2022-11-27T14:14:51.178Z"
   },
   {
    "duration": 3,
    "start_time": "2022-11-27T14:14:51.225Z"
   },
   {
    "duration": 4,
    "start_time": "2022-11-27T14:48:16.733Z"
   },
   {
    "duration": 113,
    "start_time": "2022-11-27T14:48:22.272Z"
   },
   {
    "duration": 12,
    "start_time": "2022-11-27T14:48:29.504Z"
   },
   {
    "duration": 10,
    "start_time": "2022-11-27T14:48:34.622Z"
   },
   {
    "duration": 4,
    "start_time": "2022-11-27T14:48:37.986Z"
   },
   {
    "duration": 6,
    "start_time": "2022-11-27T14:49:43.454Z"
   },
   {
    "duration": 147,
    "start_time": "2022-11-27T14:49:49.724Z"
   },
   {
    "duration": 158,
    "start_time": "2022-11-27T14:49:55.837Z"
   },
   {
    "duration": 5,
    "start_time": "2022-11-27T14:50:07.838Z"
   },
   {
    "duration": 14,
    "start_time": "2022-11-27T14:50:16.769Z"
   },
   {
    "duration": 39263,
    "start_time": "2022-11-27T14:50:42.383Z"
   },
   {
    "duration": 26,
    "start_time": "2022-11-27T14:54:24.371Z"
   },
   {
    "duration": 7,
    "start_time": "2022-11-27T14:57:38.839Z"
   },
   {
    "duration": 5,
    "start_time": "2022-11-27T14:57:46.625Z"
   },
   {
    "duration": 5,
    "start_time": "2022-11-27T14:57:50.045Z"
   },
   {
    "duration": 83,
    "start_time": "2022-11-27T14:58:03.853Z"
   },
   {
    "duration": 5,
    "start_time": "2022-11-27T14:58:05.862Z"
   },
   {
    "duration": 4,
    "start_time": "2022-11-27T14:58:14.194Z"
   },
   {
    "duration": 5,
    "start_time": "2022-11-27T14:58:25.994Z"
   },
   {
    "duration": 31,
    "start_time": "2022-11-27T14:58:37.841Z"
   },
   {
    "duration": 36,
    "start_time": "2022-11-27T14:58:54.820Z"
   },
   {
    "duration": 33,
    "start_time": "2022-11-27T14:59:06.228Z"
   },
   {
    "duration": 1377,
    "start_time": "2022-11-27T15:00:16.423Z"
   },
   {
    "duration": 37,
    "start_time": "2022-11-27T15:00:37.793Z"
   },
   {
    "duration": 1680,
    "start_time": "2022-11-27T15:00:50.610Z"
   },
   {
    "duration": 1379,
    "start_time": "2022-11-27T15:00:54.467Z"
   },
   {
    "duration": 9450,
    "start_time": "2022-11-27T15:01:18.748Z"
   },
   {
    "duration": 38,
    "start_time": "2022-11-27T15:02:56.726Z"
   },
   {
    "duration": 148,
    "start_time": "2022-11-27T15:03:08.838Z"
   },
   {
    "duration": 9807,
    "start_time": "2022-11-27T15:03:59.609Z"
   },
   {
    "duration": 764,
    "start_time": "2022-11-27T15:04:31.456Z"
   },
   {
    "duration": 1080,
    "start_time": "2022-11-27T15:04:36.932Z"
   },
   {
    "duration": 698,
    "start_time": "2022-11-27T15:04:45.679Z"
   },
   {
    "duration": 558,
    "start_time": "2022-11-27T15:04:50.462Z"
   },
   {
    "duration": 505,
    "start_time": "2022-11-27T15:05:00.046Z"
   },
   {
    "duration": 3,
    "start_time": "2022-11-27T15:05:55.106Z"
   },
   {
    "duration": 10,
    "start_time": "2022-11-27T15:06:02.536Z"
   },
   {
    "duration": 4,
    "start_time": "2022-11-27T15:06:24.691Z"
   },
   {
    "duration": 4,
    "start_time": "2022-11-27T15:06:36.147Z"
   },
   {
    "duration": 3,
    "start_time": "2022-11-27T15:07:05.898Z"
   },
   {
    "duration": 4,
    "start_time": "2022-11-27T15:07:35.979Z"
   },
   {
    "duration": 4,
    "start_time": "2022-11-27T15:07:38.511Z"
   },
   {
    "duration": 2189,
    "start_time": "2022-11-27T15:08:11.226Z"
   },
   {
    "duration": 34,
    "start_time": "2022-11-27T15:08:17.587Z"
   },
   {
    "duration": 505,
    "start_time": "2022-11-27T15:08:19.971Z"
   },
   {
    "duration": 23,
    "start_time": "2022-11-27T15:08:45.967Z"
   },
   {
    "duration": 21,
    "start_time": "2022-11-27T15:09:12.397Z"
   },
   {
    "duration": 24,
    "start_time": "2022-11-27T15:09:19.726Z"
   },
   {
    "duration": 23,
    "start_time": "2022-11-27T15:09:30.345Z"
   },
   {
    "duration": 23,
    "start_time": "2022-11-27T15:09:44.412Z"
   },
   {
    "duration": 10,
    "start_time": "2022-11-27T15:09:58.500Z"
   },
   {
    "duration": 5,
    "start_time": "2022-11-27T15:10:09.885Z"
   },
   {
    "duration": 652,
    "start_time": "2022-11-27T15:10:25.067Z"
   },
   {
    "duration": 10,
    "start_time": "2022-11-27T15:10:51.895Z"
   },
   {
    "duration": 11,
    "start_time": "2022-11-27T15:11:20.982Z"
   },
   {
    "duration": 27,
    "start_time": "2022-11-27T15:11:25.494Z"
   },
   {
    "duration": 12,
    "start_time": "2022-11-27T15:12:45.191Z"
   },
   {
    "duration": 13,
    "start_time": "2022-11-27T15:12:56.616Z"
   },
   {
    "duration": 23,
    "start_time": "2022-11-27T15:18:13.596Z"
   },
   {
    "duration": 2,
    "start_time": "2022-11-27T15:18:40.944Z"
   },
   {
    "duration": 71,
    "start_time": "2022-11-27T15:19:12.937Z"
   },
   {
    "duration": 6,
    "start_time": "2022-11-27T15:19:59.039Z"
   },
   {
    "duration": 6,
    "start_time": "2022-11-27T15:20:02.704Z"
   },
   {
    "duration": 5,
    "start_time": "2022-11-27T15:20:09.544Z"
   },
   {
    "duration": 6,
    "start_time": "2022-11-27T15:20:39.521Z"
   },
   {
    "duration": 994,
    "start_time": "2022-11-27T15:20:42.541Z"
   },
   {
    "duration": 7,
    "start_time": "2022-11-27T15:20:54.651Z"
   },
   {
    "duration": 538,
    "start_time": "2022-11-27T15:21:00.313Z"
   },
   {
    "duration": 7,
    "start_time": "2022-11-27T15:21:09.712Z"
   },
   {
    "duration": 612,
    "start_time": "2022-11-27T15:21:12.729Z"
   },
   {
    "duration": 7,
    "start_time": "2022-11-27T15:21:26.433Z"
   },
   {
    "duration": 6,
    "start_time": "2022-11-27T15:21:30.969Z"
   },
   {
    "duration": 3,
    "start_time": "2022-11-27T15:22:38.864Z"
   },
   {
    "duration": 33,
    "start_time": "2022-11-27T15:22:46.463Z"
   },
   {
    "duration": 40,
    "start_time": "2022-11-27T15:23:55.054Z"
   },
   {
    "duration": 30,
    "start_time": "2022-11-27T15:23:57.986Z"
   },
   {
    "duration": 28,
    "start_time": "2022-11-27T15:24:09.158Z"
   },
   {
    "duration": 4,
    "start_time": "2022-11-27T15:24:11.830Z"
   },
   {
    "duration": 2,
    "start_time": "2022-11-27T15:24:25.122Z"
   },
   {
    "duration": 1115,
    "start_time": "2022-11-27T15:24:32.205Z"
   },
   {
    "duration": 812,
    "start_time": "2022-11-27T15:24:33.322Z"
   },
   {
    "duration": 2582,
    "start_time": "2022-11-27T15:24:34.136Z"
   },
   {
    "duration": 251,
    "start_time": "2022-11-27T15:24:36.720Z"
   },
   {
    "duration": 2,
    "start_time": "2022-11-27T15:24:36.973Z"
   },
   {
    "duration": 339,
    "start_time": "2022-11-27T15:24:36.977Z"
   },
   {
    "duration": 21,
    "start_time": "2022-11-27T15:24:37.318Z"
   },
   {
    "duration": 495,
    "start_time": "2022-11-27T15:24:37.340Z"
   },
   {
    "duration": 61,
    "start_time": "2022-11-27T15:24:37.836Z"
   },
   {
    "duration": 114,
    "start_time": "2022-11-27T15:24:37.899Z"
   },
   {
    "duration": 18,
    "start_time": "2022-11-27T15:24:38.015Z"
   },
   {
    "duration": 1296,
    "start_time": "2022-11-27T15:24:38.035Z"
   },
   {
    "duration": 16,
    "start_time": "2022-11-27T15:24:39.334Z"
   },
   {
    "duration": 291,
    "start_time": "2022-11-27T15:24:39.353Z"
   },
   {
    "duration": 65,
    "start_time": "2022-11-27T15:24:39.646Z"
   },
   {
    "duration": 31,
    "start_time": "2022-11-27T15:24:39.713Z"
   },
   {
    "duration": 87,
    "start_time": "2022-11-27T15:24:39.746Z"
   },
   {
    "duration": 45,
    "start_time": "2022-11-27T15:24:39.835Z"
   },
   {
    "duration": 1431,
    "start_time": "2022-11-27T15:24:39.881Z"
   },
   {
    "duration": 15,
    "start_time": "2022-11-27T15:24:41.313Z"
   },
   {
    "duration": 35,
    "start_time": "2022-11-27T15:24:41.330Z"
   },
   {
    "duration": 49,
    "start_time": "2022-11-27T15:24:41.366Z"
   },
   {
    "duration": 102,
    "start_time": "2022-11-27T15:24:41.417Z"
   },
   {
    "duration": 191,
    "start_time": "2022-11-27T15:24:41.521Z"
   },
   {
    "duration": 105,
    "start_time": "2022-11-27T15:24:41.714Z"
   },
   {
    "duration": 31,
    "start_time": "2022-11-27T15:24:41.821Z"
   },
   {
    "duration": 13,
    "start_time": "2022-11-27T15:24:41.853Z"
   },
   {
    "duration": 7,
    "start_time": "2022-11-27T15:24:41.867Z"
   },
   {
    "duration": 4823,
    "start_time": "2022-11-27T15:24:41.876Z"
   },
   {
    "duration": 6,
    "start_time": "2022-11-27T15:24:46.700Z"
   },
   {
    "duration": 26,
    "start_time": "2022-11-27T15:24:46.708Z"
   },
   {
    "duration": 17,
    "start_time": "2022-11-27T15:24:46.735Z"
   },
   {
    "duration": 126,
    "start_time": "2022-11-27T15:24:46.754Z"
   },
   {
    "duration": 16,
    "start_time": "2022-11-27T15:24:46.881Z"
   },
   {
    "duration": 4558,
    "start_time": "2022-11-27T15:24:46.899Z"
   },
   {
    "duration": 5,
    "start_time": "2022-11-27T15:24:51.459Z"
   },
   {
    "duration": 60,
    "start_time": "2022-11-27T15:24:51.466Z"
   },
   {
    "duration": 97,
    "start_time": "2022-11-27T15:24:51.527Z"
   },
   {
    "duration": 116,
    "start_time": "2022-11-27T15:24:51.626Z"
   },
   {
    "duration": 40,
    "start_time": "2022-11-27T15:24:51.744Z"
   },
   {
    "duration": 57,
    "start_time": "2022-11-27T15:24:51.801Z"
   },
   {
    "duration": 42,
    "start_time": "2022-11-27T15:24:51.859Z"
   },
   {
    "duration": 77,
    "start_time": "2022-11-27T15:24:51.903Z"
   },
   {
    "duration": 74,
    "start_time": "2022-11-27T15:24:51.981Z"
   },
   {
    "duration": 43,
    "start_time": "2022-11-27T15:24:52.057Z"
   },
   {
    "duration": 114,
    "start_time": "2022-11-27T15:24:52.102Z"
   },
   {
    "duration": 1494,
    "start_time": "2022-11-27T15:24:52.218Z"
   },
   {
    "duration": 33,
    "start_time": "2022-11-27T15:24:53.714Z"
   },
   {
    "duration": 50,
    "start_time": "2022-11-27T15:24:53.748Z"
   },
   {
    "duration": 18,
    "start_time": "2022-11-27T15:24:53.800Z"
   },
   {
    "duration": 29,
    "start_time": "2022-11-27T15:24:53.819Z"
   },
   {
    "duration": 24,
    "start_time": "2022-11-27T15:24:53.849Z"
   },
   {
    "duration": 49,
    "start_time": "2022-11-27T15:24:53.875Z"
   },
   {
    "duration": 6,
    "start_time": "2022-11-27T15:24:53.926Z"
   },
   {
    "duration": 615,
    "start_time": "2022-11-27T15:24:53.934Z"
   },
   {
    "duration": 11,
    "start_time": "2022-11-27T15:24:54.550Z"
   },
   {
    "duration": 4,
    "start_time": "2022-11-27T15:24:54.562Z"
   },
   {
    "duration": 59,
    "start_time": "2022-11-27T15:24:54.567Z"
   },
   {
    "duration": 4,
    "start_time": "2022-11-27T15:24:54.628Z"
   },
   {
    "duration": 5,
    "start_time": "2022-11-27T15:24:54.634Z"
   },
   {
    "duration": 20,
    "start_time": "2022-11-27T15:29:38.906Z"
   },
   {
    "duration": 19,
    "start_time": "2022-11-27T15:29:56.371Z"
   },
   {
    "duration": 3,
    "start_time": "2022-11-27T15:30:45.993Z"
   },
   {
    "duration": 4,
    "start_time": "2022-11-27T15:30:59.134Z"
   },
   {
    "duration": 4,
    "start_time": "2022-11-27T15:31:16.438Z"
   },
   {
    "duration": 20,
    "start_time": "2022-11-27T15:31:48.118Z"
   },
   {
    "duration": 92,
    "start_time": "2022-11-27T15:31:52.213Z"
   },
   {
    "duration": 186,
    "start_time": "2022-11-27T15:31:55.944Z"
   },
   {
    "duration": 43,
    "start_time": "2022-11-27T15:32:21.549Z"
   },
   {
    "duration": 164,
    "start_time": "2022-11-27T15:32:25.977Z"
   },
   {
    "duration": 7,
    "start_time": "2022-11-27T15:34:13.187Z"
   },
   {
    "duration": 14,
    "start_time": "2022-11-27T15:34:18.593Z"
   },
   {
    "duration": 7,
    "start_time": "2022-11-27T15:35:18.647Z"
   },
   {
    "duration": 119,
    "start_time": "2022-11-27T15:35:38.600Z"
   },
   {
    "duration": 116,
    "start_time": "2022-11-27T15:35:44.582Z"
   },
   {
    "duration": 6,
    "start_time": "2022-11-27T15:36:17.329Z"
   },
   {
    "duration": 6,
    "start_time": "2022-11-27T15:36:24.074Z"
   },
   {
    "duration": 6,
    "start_time": "2022-11-27T15:36:39.673Z"
   },
   {
    "duration": 7,
    "start_time": "2022-11-27T15:36:42.270Z"
   },
   {
    "duration": 7,
    "start_time": "2022-11-27T15:37:59.576Z"
   },
   {
    "duration": 6,
    "start_time": "2022-11-27T15:39:20.068Z"
   },
   {
    "duration": 7,
    "start_time": "2022-11-27T15:39:23.962Z"
   },
   {
    "duration": 6,
    "start_time": "2022-11-27T15:39:27.058Z"
   },
   {
    "duration": 7,
    "start_time": "2022-11-27T15:39:34.729Z"
   },
   {
    "duration": 6,
    "start_time": "2022-11-27T15:39:38.096Z"
   },
   {
    "duration": 6,
    "start_time": "2022-11-27T15:39:48.444Z"
   },
   {
    "duration": 8,
    "start_time": "2022-11-27T15:39:52.734Z"
   },
   {
    "duration": 6,
    "start_time": "2022-11-27T15:40:08.117Z"
   },
   {
    "duration": 5,
    "start_time": "2022-11-27T15:40:33.313Z"
   },
   {
    "duration": 12,
    "start_time": "2022-11-27T15:41:12.643Z"
   },
   {
    "duration": 7,
    "start_time": "2022-11-27T15:41:22.140Z"
   },
   {
    "duration": 45,
    "start_time": "2022-11-27T15:41:41.152Z"
   },
   {
    "duration": 41,
    "start_time": "2022-11-27T15:41:44.463Z"
   },
   {
    "duration": 55,
    "start_time": "2022-11-27T15:41:48.826Z"
   },
   {
    "duration": 45,
    "start_time": "2022-11-27T15:42:03.823Z"
   },
   {
    "duration": 6,
    "start_time": "2022-11-27T15:42:07.185Z"
   },
   {
    "duration": 7,
    "start_time": "2022-11-27T15:42:24.779Z"
   },
   {
    "duration": 25,
    "start_time": "2022-11-27T15:47:07.956Z"
   },
   {
    "duration": 195,
    "start_time": "2022-11-27T15:47:11.890Z"
   },
   {
    "duration": 3,
    "start_time": "2022-11-27T16:52:53.252Z"
   },
   {
    "duration": 609,
    "start_time": "2022-11-27T16:57:16.869Z"
   },
   {
    "duration": 2,
    "start_time": "2022-11-27T16:58:21.315Z"
   },
   {
    "duration": 9,
    "start_time": "2022-11-27T16:59:47.620Z"
   },
   {
    "duration": 38,
    "start_time": "2022-11-27T17:00:14.514Z"
   },
   {
    "duration": 5,
    "start_time": "2022-11-27T17:00:29.478Z"
   },
   {
    "duration": 5,
    "start_time": "2022-11-27T17:00:42.279Z"
   },
   {
    "duration": 3,
    "start_time": "2022-11-27T17:00:52.354Z"
   },
   {
    "duration": 31,
    "start_time": "2022-11-27T17:03:52.950Z"
   },
   {
    "duration": 9,
    "start_time": "2022-11-27T17:04:13.847Z"
   },
   {
    "duration": 498,
    "start_time": "2022-11-27T17:04:30.824Z"
   },
   {
    "duration": 9,
    "start_time": "2022-11-27T17:05:31.966Z"
   },
   {
    "duration": 3,
    "start_time": "2022-11-27T17:06:59.651Z"
   },
   {
    "duration": 10,
    "start_time": "2022-11-27T17:07:05.816Z"
   },
   {
    "duration": 40,
    "start_time": "2022-11-27T17:07:30.754Z"
   },
   {
    "duration": 3,
    "start_time": "2022-11-27T17:07:35.566Z"
   },
   {
    "duration": 3,
    "start_time": "2022-11-27T17:08:10.551Z"
   },
   {
    "duration": 14,
    "start_time": "2022-11-27T17:09:01.594Z"
   },
   {
    "duration": 4,
    "start_time": "2022-11-27T17:09:16.162Z"
   },
   {
    "duration": 2,
    "start_time": "2022-11-27T17:09:21.265Z"
   },
   {
    "duration": 3,
    "start_time": "2022-11-27T17:10:04.189Z"
   },
   {
    "duration": 106261,
    "start_time": "2022-11-27T17:10:27.470Z"
   },
   {
    "duration": 4,
    "start_time": "2022-11-27T17:12:44.360Z"
   },
   {
    "duration": 4,
    "start_time": "2022-11-27T17:13:33.335Z"
   },
   {
    "duration": 5,
    "start_time": "2022-11-27T17:14:44.317Z"
   },
   {
    "duration": 4,
    "start_time": "2022-11-27T17:15:10.661Z"
   },
   {
    "duration": 5,
    "start_time": "2022-11-27T17:15:17.519Z"
   },
   {
    "duration": 105846,
    "start_time": "2022-11-27T17:15:25.417Z"
   },
   {
    "duration": 3,
    "start_time": "2022-11-27T17:20:20.924Z"
   },
   {
    "duration": 627,
    "start_time": "2022-11-27T17:20:23.930Z"
   },
   {
    "duration": 3,
    "start_time": "2022-11-27T17:20:32.219Z"
   },
   {
    "duration": 2,
    "start_time": "2022-11-27T17:20:33.929Z"
   },
   {
    "duration": 3,
    "start_time": "2022-11-27T17:20:36.995Z"
   },
   {
    "duration": 104656,
    "start_time": "2022-11-27T17:20:39.142Z"
   },
   {
    "duration": 5,
    "start_time": "2022-11-27T17:22:42.694Z"
   },
   {
    "duration": 3,
    "start_time": "2022-11-27T17:23:49.270Z"
   },
   {
    "duration": 611,
    "start_time": "2022-11-27T17:23:50.733Z"
   },
   {
    "duration": 3,
    "start_time": "2022-11-27T17:23:54.842Z"
   },
   {
    "duration": 516,
    "start_time": "2022-11-27T17:24:04.566Z"
   },
   {
    "duration": 2,
    "start_time": "2022-11-27T17:24:06.296Z"
   },
   {
    "duration": 2,
    "start_time": "2022-11-27T17:24:07.445Z"
   },
   {
    "duration": 3,
    "start_time": "2022-11-27T17:24:08.719Z"
   },
   {
    "duration": 108802,
    "start_time": "2022-11-27T17:24:10.204Z"
   },
   {
    "duration": 45,
    "start_time": "2022-11-27T17:26:04.389Z"
   },
   {
    "duration": 45,
    "start_time": "2022-11-27T17:26:08.301Z"
   },
   {
    "duration": 65,
    "start_time": "2022-11-27T17:26:10.521Z"
   },
   {
    "duration": 45,
    "start_time": "2022-11-27T17:26:13.634Z"
   },
   {
    "duration": 43,
    "start_time": "2022-11-27T17:26:16.633Z"
   },
   {
    "duration": 9,
    "start_time": "2022-11-27T17:26:23.757Z"
   },
   {
    "duration": 43,
    "start_time": "2022-11-27T17:26:27.687Z"
   },
   {
    "duration": 5,
    "start_time": "2022-11-27T17:26:30.526Z"
   },
   {
    "duration": 72,
    "start_time": "2022-11-27T17:26:40.378Z"
   },
   {
    "duration": 9,
    "start_time": "2022-11-27T17:26:45.924Z"
   },
   {
    "duration": 44,
    "start_time": "2022-11-27T17:26:50.155Z"
   },
   {
    "duration": 80,
    "start_time": "2022-11-27T17:26:52.870Z"
   },
   {
    "duration": 45,
    "start_time": "2022-11-27T17:26:57.851Z"
   },
   {
    "duration": 40,
    "start_time": "2022-11-27T17:27:02.688Z"
   },
   {
    "duration": 55,
    "start_time": "2022-11-27T17:27:37.522Z"
   },
   {
    "duration": 42,
    "start_time": "2022-11-27T17:27:40.974Z"
   },
   {
    "duration": 9,
    "start_time": "2022-11-27T17:27:43.879Z"
   },
   {
    "duration": 41,
    "start_time": "2022-11-27T17:27:46.924Z"
   },
   {
    "duration": 47,
    "start_time": "2022-11-27T17:28:03.149Z"
   },
   {
    "duration": 49,
    "start_time": "2022-11-27T17:28:07.098Z"
   },
   {
    "duration": 56,
    "start_time": "2022-11-27T17:28:09.185Z"
   },
   {
    "duration": 44,
    "start_time": "2022-11-27T17:28:12.234Z"
   },
   {
    "duration": 54,
    "start_time": "2022-11-27T17:28:15.930Z"
   },
   {
    "duration": 10,
    "start_time": "2022-11-27T17:28:19.077Z"
   },
   {
    "duration": 4,
    "start_time": "2022-11-27T17:29:02.581Z"
   },
   {
    "duration": 5,
    "start_time": "2022-11-27T17:29:08.125Z"
   },
   {
    "duration": 6,
    "start_time": "2022-11-27T17:29:12.358Z"
   },
   {
    "duration": 4,
    "start_time": "2022-11-27T17:29:17.824Z"
   },
   {
    "duration": 3,
    "start_time": "2022-11-27T17:30:37.301Z"
   },
   {
    "duration": 5,
    "start_time": "2022-11-27T17:30:41.277Z"
   },
   {
    "duration": 68,
    "start_time": "2022-11-27T17:34:36.828Z"
   },
   {
    "duration": 384,
    "start_time": "2022-11-27T17:34:38.713Z"
   },
   {
    "duration": 10,
    "start_time": "2022-11-27T17:35:31.919Z"
   },
   {
    "duration": 399,
    "start_time": "2022-11-27T17:35:43.118Z"
   },
   {
    "duration": 4,
    "start_time": "2022-11-27T17:35:44.722Z"
   },
   {
    "duration": 3,
    "start_time": "2022-11-27T17:35:46.013Z"
   },
   {
    "duration": 2,
    "start_time": "2022-11-27T17:35:50.510Z"
   },
   {
    "duration": 1549,
    "start_time": "2022-11-27T17:35:52.364Z"
   },
   {
    "duration": 1460,
    "start_time": "2022-11-27T17:36:50.077Z"
   },
   {
    "duration": 10,
    "start_time": "2022-11-27T17:37:02.270Z"
   },
   {
    "duration": 71,
    "start_time": "2022-11-27T17:37:39.456Z"
   },
   {
    "duration": 769,
    "start_time": "2022-11-27T17:37:44.917Z"
   },
   {
    "duration": 3,
    "start_time": "2022-11-27T17:37:47.381Z"
   },
   {
    "duration": 74,
    "start_time": "2022-11-27T17:37:48.455Z"
   },
   {
    "duration": 487,
    "start_time": "2022-11-27T17:37:49.992Z"
   },
   {
    "duration": 3,
    "start_time": "2022-11-27T17:37:52.014Z"
   },
   {
    "duration": 3,
    "start_time": "2022-11-27T17:37:55.083Z"
   },
   {
    "duration": 3,
    "start_time": "2022-11-27T17:39:12.215Z"
   },
   {
    "duration": 1566,
    "start_time": "2022-11-27T17:39:16.725Z"
   },
   {
    "duration": 1490,
    "start_time": "2022-11-27T17:41:03.914Z"
   },
   {
    "duration": 2,
    "start_time": "2022-11-27T17:41:29.259Z"
   },
   {
    "duration": 3,
    "start_time": "2022-11-27T17:42:20.531Z"
   },
   {
    "duration": 3,
    "start_time": "2022-11-27T17:42:22.488Z"
   },
   {
    "duration": 82,
    "start_time": "2022-11-27T17:42:23.656Z"
   },
   {
    "duration": 3,
    "start_time": "2022-11-27T17:42:38.036Z"
   },
   {
    "duration": 4,
    "start_time": "2022-11-27T17:42:39.960Z"
   },
   {
    "duration": 1462,
    "start_time": "2022-11-27T17:42:41.644Z"
   },
   {
    "duration": 1384,
    "start_time": "2022-11-27T17:42:51.109Z"
   },
   {
    "duration": 794,
    "start_time": "2022-11-27T17:42:52.495Z"
   },
   {
    "duration": 2563,
    "start_time": "2022-11-27T17:42:53.291Z"
   },
   {
    "duration": 74,
    "start_time": "2022-11-27T17:42:55.857Z"
   },
   {
    "duration": 3,
    "start_time": "2022-11-27T17:42:55.933Z"
   },
   {
    "duration": 343,
    "start_time": "2022-11-27T17:42:55.937Z"
   },
   {
    "duration": 22,
    "start_time": "2022-11-27T17:42:56.281Z"
   },
   {
    "duration": 445,
    "start_time": "2022-11-27T17:42:56.305Z"
   },
   {
    "duration": 56,
    "start_time": "2022-11-27T17:42:56.751Z"
   },
   {
    "duration": 99,
    "start_time": "2022-11-27T17:42:56.810Z"
   },
   {
    "duration": 21,
    "start_time": "2022-11-27T17:42:56.911Z"
   },
   {
    "duration": 1181,
    "start_time": "2022-11-27T17:42:56.934Z"
   },
   {
    "duration": 16,
    "start_time": "2022-11-27T17:42:58.117Z"
   },
   {
    "duration": 276,
    "start_time": "2022-11-27T17:42:58.135Z"
   },
   {
    "duration": 55,
    "start_time": "2022-11-27T17:42:58.413Z"
   },
   {
    "duration": 46,
    "start_time": "2022-11-27T17:42:58.469Z"
   },
   {
    "duration": 69,
    "start_time": "2022-11-27T17:42:58.516Z"
   },
   {
    "duration": 50,
    "start_time": "2022-11-27T17:42:58.587Z"
   },
   {
    "duration": 1361,
    "start_time": "2022-11-27T17:42:58.639Z"
   },
   {
    "duration": 16,
    "start_time": "2022-11-27T17:43:00.002Z"
   },
   {
    "duration": 47,
    "start_time": "2022-11-27T17:43:00.019Z"
   },
   {
    "duration": 41,
    "start_time": "2022-11-27T17:43:00.068Z"
   },
   {
    "duration": 181,
    "start_time": "2022-11-27T17:43:00.112Z"
   },
   {
    "duration": 180,
    "start_time": "2022-11-27T17:43:00.294Z"
   },
   {
    "duration": 96,
    "start_time": "2022-11-27T17:43:00.476Z"
   },
   {
    "duration": 43,
    "start_time": "2022-11-27T17:43:00.574Z"
   },
   {
    "duration": 12,
    "start_time": "2022-11-27T17:43:00.619Z"
   },
   {
    "duration": 9,
    "start_time": "2022-11-27T17:43:00.635Z"
   },
   {
    "duration": 4637,
    "start_time": "2022-11-27T17:43:00.645Z"
   },
   {
    "duration": 14,
    "start_time": "2022-11-27T17:43:05.283Z"
   },
   {
    "duration": 4,
    "start_time": "2022-11-27T17:43:05.299Z"
   },
   {
    "duration": 14,
    "start_time": "2022-11-27T17:43:05.305Z"
   },
   {
    "duration": 42,
    "start_time": "2022-11-27T17:43:05.320Z"
   },
   {
    "duration": 6,
    "start_time": "2022-11-27T17:43:05.363Z"
   },
   {
    "duration": 4485,
    "start_time": "2022-11-27T17:43:05.370Z"
   },
   {
    "duration": 5,
    "start_time": "2022-11-27T17:43:09.857Z"
   },
   {
    "duration": 45,
    "start_time": "2022-11-27T17:43:09.864Z"
   },
   {
    "duration": 95,
    "start_time": "2022-11-27T17:43:09.911Z"
   },
   {
    "duration": 118,
    "start_time": "2022-11-27T17:43:10.008Z"
   },
   {
    "duration": 35,
    "start_time": "2022-11-27T17:43:10.128Z"
   },
   {
    "duration": 64,
    "start_time": "2022-11-27T17:43:10.165Z"
   },
   {
    "duration": 17,
    "start_time": "2022-11-27T17:43:10.231Z"
   },
   {
    "duration": 21,
    "start_time": "2022-11-27T17:43:10.250Z"
   },
   {
    "duration": 42,
    "start_time": "2022-11-27T17:43:10.297Z"
   },
   {
    "duration": 44,
    "start_time": "2022-11-27T17:43:10.341Z"
   },
   {
    "duration": 95,
    "start_time": "2022-11-27T17:43:10.386Z"
   },
   {
    "duration": 1394,
    "start_time": "2022-11-27T17:43:10.483Z"
   },
   {
    "duration": 34,
    "start_time": "2022-11-27T17:43:11.879Z"
   },
   {
    "duration": 30,
    "start_time": "2022-11-27T17:43:11.915Z"
   },
   {
    "duration": 18,
    "start_time": "2022-11-27T17:43:11.947Z"
   },
   {
    "duration": 49,
    "start_time": "2022-11-27T17:43:11.967Z"
   },
   {
    "duration": 24,
    "start_time": "2022-11-27T17:43:12.017Z"
   },
   {
    "duration": 27,
    "start_time": "2022-11-27T17:43:12.043Z"
   },
   {
    "duration": 4,
    "start_time": "2022-11-27T17:43:12.072Z"
   },
   {
    "duration": 182,
    "start_time": "2022-11-27T17:43:12.097Z"
   },
   {
    "duration": 18,
    "start_time": "2022-11-27T17:43:12.281Z"
   },
   {
    "duration": 4,
    "start_time": "2022-11-27T17:43:12.300Z"
   },
   {
    "duration": 47,
    "start_time": "2022-11-27T17:43:12.305Z"
   },
   {
    "duration": 4,
    "start_time": "2022-11-27T17:43:12.354Z"
   },
   {
    "duration": 38,
    "start_time": "2022-11-27T17:43:12.360Z"
   },
   {
    "duration": 7,
    "start_time": "2022-11-27T17:43:12.399Z"
   },
   {
    "duration": 6,
    "start_time": "2022-11-27T17:43:12.408Z"
   },
   {
    "duration": 8,
    "start_time": "2022-11-27T17:43:12.415Z"
   },
   {
    "duration": 590,
    "start_time": "2022-11-27T17:43:12.424Z"
   },
   {
    "duration": 3,
    "start_time": "2022-11-27T17:43:13.015Z"
   },
   {
    "duration": 85,
    "start_time": "2022-11-27T17:43:13.019Z"
   },
   {
    "duration": 481,
    "start_time": "2022-11-27T17:43:13.106Z"
   },
   {
    "duration": 2,
    "start_time": "2022-11-27T17:43:13.589Z"
   },
   {
    "duration": 6,
    "start_time": "2022-11-27T17:43:13.597Z"
   },
   {
    "duration": 19,
    "start_time": "2022-11-27T17:43:13.604Z"
   },
   {
    "duration": 1733,
    "start_time": "2022-11-27T17:43:13.625Z"
   },
   {
    "duration": 9,
    "start_time": "2022-11-27T17:43:15.360Z"
   },
   {
    "duration": 3,
    "start_time": "2022-11-27T17:45:24.849Z"
   },
   {
    "duration": 1572,
    "start_time": "2022-11-27T17:45:30.125Z"
   },
   {
    "duration": 379,
    "start_time": "2022-11-27T17:45:51.985Z"
   },
   {
    "duration": 3,
    "start_time": "2022-11-27T17:45:54.118Z"
   },
   {
    "duration": 105153,
    "start_time": "2022-11-27T17:45:55.344Z"
   },
   {
    "duration": 6,
    "start_time": "2022-11-27T17:49:31.714Z"
   },
   {
    "duration": 12,
    "start_time": "2022-11-27T17:52:41.772Z"
   },
   {
    "duration": 11,
    "start_time": "2022-11-27T17:53:00.656Z"
   },
   {
    "duration": 3,
    "start_time": "2022-11-27T17:53:06.421Z"
   },
   {
    "duration": 10,
    "start_time": "2022-11-27T17:53:26.373Z"
   },
   {
    "duration": 3,
    "start_time": "2022-11-27T17:53:29.304Z"
   },
   {
    "duration": 3,
    "start_time": "2022-11-27T17:53:30.583Z"
   },
   {
    "duration": 3944583,
    "start_time": "2022-11-27T17:53:42.202Z"
   },
   {
    "duration": 3,
    "start_time": "2022-11-27T19:00:16.494Z"
   },
   {
    "duration": 3,
    "start_time": "2022-11-27T19:00:18.227Z"
   },
   {
    "duration": 628782,
    "start_time": "2022-11-27T19:00:19.498Z"
   },
   {
    "duration": 42,
    "start_time": "2022-11-27T19:11:19.734Z"
   },
   {
    "duration": 4,
    "start_time": "2022-11-27T19:11:25.931Z"
   },
   {
    "duration": 3,
    "start_time": "2022-11-27T19:12:08.578Z"
   },
   {
    "duration": 31942,
    "start_time": "2022-11-27T19:12:28.534Z"
   },
   {
    "duration": 13,
    "start_time": "2022-11-27T19:13:09.300Z"
   },
   {
    "duration": 9,
    "start_time": "2022-11-27T19:14:34.523Z"
   },
   {
    "duration": 10,
    "start_time": "2022-11-27T19:14:41.387Z"
   },
   {
    "duration": 8,
    "start_time": "2022-11-27T19:14:45.450Z"
   },
   {
    "duration": 10,
    "start_time": "2022-11-27T19:15:10.457Z"
   },
   {
    "duration": 10,
    "start_time": "2022-11-27T19:16:05.147Z"
   },
   {
    "duration": 10,
    "start_time": "2022-11-27T19:16:11.902Z"
   },
   {
    "duration": 4,
    "start_time": "2022-11-27T19:17:40.703Z"
   },
   {
    "duration": 63392,
    "start_time": "2022-11-27T19:18:06.791Z"
   },
   {
    "duration": 4,
    "start_time": "2022-11-27T19:19:41.374Z"
   },
   {
    "duration": 2,
    "start_time": "2022-11-27T19:20:41.880Z"
   },
   {
    "duration": 5752,
    "start_time": "2022-11-27T19:20:41.884Z"
   },
   {
    "duration": 1362,
    "start_time": "2022-11-27T19:33:21.766Z"
   },
   {
    "duration": 768,
    "start_time": "2022-11-27T19:33:23.130Z"
   },
   {
    "duration": 2555,
    "start_time": "2022-11-27T19:33:23.900Z"
   },
   {
    "duration": 79,
    "start_time": "2022-11-27T19:33:26.457Z"
   },
   {
    "duration": 2,
    "start_time": "2022-11-27T19:33:26.540Z"
   },
   {
    "duration": 326,
    "start_time": "2022-11-27T19:33:26.544Z"
   },
   {
    "duration": 26,
    "start_time": "2022-11-27T19:33:26.872Z"
   },
   {
    "duration": 474,
    "start_time": "2022-11-27T19:33:26.900Z"
   },
   {
    "duration": 58,
    "start_time": "2022-11-27T19:33:27.376Z"
   },
   {
    "duration": 117,
    "start_time": "2022-11-27T19:33:27.437Z"
   },
   {
    "duration": 19,
    "start_time": "2022-11-27T19:33:27.555Z"
   },
   {
    "duration": 1238,
    "start_time": "2022-11-27T19:33:27.576Z"
   },
   {
    "duration": 14,
    "start_time": "2022-11-27T19:33:28.815Z"
   },
   {
    "duration": 294,
    "start_time": "2022-11-27T19:33:28.831Z"
   },
   {
    "duration": 56,
    "start_time": "2022-11-27T19:33:29.127Z"
   },
   {
    "duration": 37,
    "start_time": "2022-11-27T19:33:29.185Z"
   },
   {
    "duration": 82,
    "start_time": "2022-11-27T19:33:29.224Z"
   },
   {
    "duration": 40,
    "start_time": "2022-11-27T19:33:29.308Z"
   },
   {
    "duration": 1432,
    "start_time": "2022-11-27T19:33:29.349Z"
   },
   {
    "duration": 24,
    "start_time": "2022-11-27T19:33:30.783Z"
   },
   {
    "duration": 49,
    "start_time": "2022-11-27T19:33:30.809Z"
   },
   {
    "duration": 43,
    "start_time": "2022-11-27T19:33:30.859Z"
   },
   {
    "duration": 179,
    "start_time": "2022-11-27T19:33:30.904Z"
   },
   {
    "duration": 183,
    "start_time": "2022-11-27T19:33:31.085Z"
   },
   {
    "duration": 137,
    "start_time": "2022-11-27T19:33:31.270Z"
   },
   {
    "duration": 35,
    "start_time": "2022-11-27T19:33:31.409Z"
   },
   {
    "duration": 60,
    "start_time": "2022-11-27T19:33:31.445Z"
   },
   {
    "duration": 29,
    "start_time": "2022-11-27T19:33:31.509Z"
   },
   {
    "duration": 5437,
    "start_time": "2022-11-27T19:33:31.539Z"
   },
   {
    "duration": 5,
    "start_time": "2022-11-27T19:33:36.978Z"
   },
   {
    "duration": 21,
    "start_time": "2022-11-27T19:33:36.985Z"
   },
   {
    "duration": 8,
    "start_time": "2022-11-27T19:33:37.007Z"
   },
   {
    "duration": 41,
    "start_time": "2022-11-27T19:33:37.016Z"
   },
   {
    "duration": 5,
    "start_time": "2022-11-27T19:33:37.059Z"
   },
   {
    "duration": 4544,
    "start_time": "2022-11-27T19:33:37.066Z"
   },
   {
    "duration": 6,
    "start_time": "2022-11-27T19:33:41.612Z"
   },
   {
    "duration": 34,
    "start_time": "2022-11-27T19:33:41.619Z"
   },
   {
    "duration": 100,
    "start_time": "2022-11-27T19:33:41.655Z"
   },
   {
    "duration": 106,
    "start_time": "2022-11-27T19:33:41.757Z"
   },
   {
    "duration": 49,
    "start_time": "2022-11-27T19:33:41.864Z"
   },
   {
    "duration": 60,
    "start_time": "2022-11-27T19:33:41.915Z"
   },
   {
    "duration": 23,
    "start_time": "2022-11-27T19:33:41.977Z"
   },
   {
    "duration": 22,
    "start_time": "2022-11-27T19:33:42.002Z"
   },
   {
    "duration": 34,
    "start_time": "2022-11-27T19:33:42.025Z"
   },
   {
    "duration": 52,
    "start_time": "2022-11-27T19:33:42.060Z"
   },
   {
    "duration": 100,
    "start_time": "2022-11-27T19:33:42.113Z"
   },
   {
    "duration": 1389,
    "start_time": "2022-11-27T19:33:42.214Z"
   },
   {
    "duration": 30,
    "start_time": "2022-11-27T19:33:43.605Z"
   },
   {
    "duration": 30,
    "start_time": "2022-11-27T19:33:43.637Z"
   },
   {
    "duration": 39,
    "start_time": "2022-11-27T19:33:43.669Z"
   },
   {
    "duration": 29,
    "start_time": "2022-11-27T19:33:43.709Z"
   },
   {
    "duration": 25,
    "start_time": "2022-11-27T19:33:43.739Z"
   },
   {
    "duration": 49,
    "start_time": "2022-11-27T19:33:43.766Z"
   },
   {
    "duration": 5,
    "start_time": "2022-11-27T19:33:43.817Z"
   },
   {
    "duration": 200,
    "start_time": "2022-11-27T19:33:43.824Z"
   },
   {
    "duration": 12,
    "start_time": "2022-11-27T19:33:44.026Z"
   },
   {
    "duration": 8,
    "start_time": "2022-11-27T19:33:44.039Z"
   },
   {
    "duration": 55,
    "start_time": "2022-11-27T19:33:44.049Z"
   },
   {
    "duration": 4,
    "start_time": "2022-11-27T19:33:44.106Z"
   },
   {
    "duration": 24,
    "start_time": "2022-11-27T19:33:44.112Z"
   },
   {
    "duration": 7,
    "start_time": "2022-11-27T19:33:44.138Z"
   },
   {
    "duration": 5,
    "start_time": "2022-11-27T19:33:44.147Z"
   },
   {
    "duration": 5,
    "start_time": "2022-11-27T19:33:44.153Z"
   },
   {
    "duration": 670,
    "start_time": "2022-11-27T19:33:44.159Z"
   },
   {
    "duration": 3,
    "start_time": "2022-11-27T19:33:44.831Z"
   },
   {
    "duration": 498,
    "start_time": "2022-11-27T19:33:44.836Z"
   },
   {
    "duration": 402,
    "start_time": "2022-11-27T19:33:45.336Z"
   },
   {
    "duration": 3,
    "start_time": "2022-11-27T19:33:45.739Z"
   },
   {
    "duration": 6,
    "start_time": "2022-11-27T19:33:45.744Z"
   },
   {
    "duration": 14,
    "start_time": "2022-11-27T19:33:45.751Z"
   },
   {
    "duration": 43199,
    "start_time": "2022-11-27T19:33:45.766Z"
   },
   {
    "duration": 4,
    "start_time": "2022-11-27T19:34:28.966Z"
   },
   {
    "duration": 83033,
    "start_time": "2022-11-27T19:34:28.971Z"
   },
   {
    "duration": 5,
    "start_time": "2022-11-27T19:35:52.005Z"
   },
   {
    "duration": 33,
    "start_time": "2022-11-27T19:35:52.012Z"
   },
   {
    "duration": 20,
    "start_time": "2022-11-27T19:35:52.046Z"
   },
   {
    "duration": 134,
    "start_time": "2022-11-27T19:35:52.067Z"
   },
   {
    "duration": 0,
    "start_time": "2022-11-27T19:35:52.203Z"
   },
   {
    "duration": 10,
    "start_time": "2022-11-27T19:37:03.323Z"
   },
   {
    "duration": 11,
    "start_time": "2022-11-27T19:37:37.674Z"
   },
   {
    "duration": 0,
    "start_time": "2022-11-27T19:39:42.915Z"
   },
   {
    "duration": 0,
    "start_time": "2022-11-27T19:39:42.918Z"
   },
   {
    "duration": 88883,
    "start_time": "2022-11-27T19:39:47.122Z"
   },
   {
    "duration": 94,
    "start_time": "2022-11-27T19:41:16.007Z"
   },
   {
    "duration": 7,
    "start_time": "2022-11-27T19:41:16.103Z"
   },
   {
    "duration": 1330,
    "start_time": "2022-11-27T19:41:50.022Z"
   },
   {
    "duration": 844,
    "start_time": "2022-11-27T19:41:51.354Z"
   },
   {
    "duration": 2583,
    "start_time": "2022-11-27T19:41:52.199Z"
   },
   {
    "duration": 90,
    "start_time": "2022-11-27T19:41:54.785Z"
   },
   {
    "duration": 3,
    "start_time": "2022-11-27T19:41:54.877Z"
   },
   {
    "duration": 394,
    "start_time": "2022-11-27T19:41:54.882Z"
   },
   {
    "duration": 26,
    "start_time": "2022-11-27T19:41:55.278Z"
   },
   {
    "duration": 536,
    "start_time": "2022-11-27T19:41:55.306Z"
   },
   {
    "duration": 59,
    "start_time": "2022-11-27T19:41:55.844Z"
   },
   {
    "duration": 107,
    "start_time": "2022-11-27T19:41:55.905Z"
   },
   {
    "duration": 22,
    "start_time": "2022-11-27T19:41:56.013Z"
   },
   {
    "duration": 1266,
    "start_time": "2022-11-27T19:41:56.037Z"
   },
   {
    "duration": 16,
    "start_time": "2022-11-27T19:41:57.304Z"
   },
   {
    "duration": 302,
    "start_time": "2022-11-27T19:41:57.322Z"
   },
   {
    "duration": 55,
    "start_time": "2022-11-27T19:41:57.626Z"
   },
   {
    "duration": 43,
    "start_time": "2022-11-27T19:41:57.682Z"
   },
   {
    "duration": 83,
    "start_time": "2022-11-27T19:41:57.726Z"
   },
   {
    "duration": 40,
    "start_time": "2022-11-27T19:41:57.811Z"
   },
   {
    "duration": 1377,
    "start_time": "2022-11-27T19:41:57.852Z"
   },
   {
    "duration": 26,
    "start_time": "2022-11-27T19:41:59.231Z"
   },
   {
    "duration": 53,
    "start_time": "2022-11-27T19:41:59.259Z"
   },
   {
    "duration": 43,
    "start_time": "2022-11-27T19:41:59.314Z"
   },
   {
    "duration": 200,
    "start_time": "2022-11-27T19:41:59.358Z"
   },
   {
    "duration": 165,
    "start_time": "2022-11-27T19:41:59.559Z"
   },
   {
    "duration": 100,
    "start_time": "2022-11-27T19:41:59.725Z"
   },
   {
    "duration": 31,
    "start_time": "2022-11-27T19:41:59.827Z"
   },
   {
    "duration": 12,
    "start_time": "2022-11-27T19:41:59.859Z"
   },
   {
    "duration": 25,
    "start_time": "2022-11-27T19:41:59.874Z"
   },
   {
    "duration": 4638,
    "start_time": "2022-11-27T19:41:59.900Z"
   },
   {
    "duration": 6,
    "start_time": "2022-11-27T19:42:04.540Z"
   },
   {
    "duration": 14,
    "start_time": "2022-11-27T19:42:04.547Z"
   },
   {
    "duration": 21,
    "start_time": "2022-11-27T19:42:04.563Z"
   },
   {
    "duration": 58,
    "start_time": "2022-11-27T19:42:04.586Z"
   },
   {
    "duration": 6,
    "start_time": "2022-11-27T19:42:04.646Z"
   },
   {
    "duration": 4545,
    "start_time": "2022-11-27T19:42:04.654Z"
   },
   {
    "duration": 6,
    "start_time": "2022-11-27T19:42:09.201Z"
   },
   {
    "duration": 36,
    "start_time": "2022-11-27T19:42:09.208Z"
   },
   {
    "duration": 103,
    "start_time": "2022-11-27T19:42:09.246Z"
   },
   {
    "duration": 106,
    "start_time": "2022-11-27T19:42:09.350Z"
   },
   {
    "duration": 44,
    "start_time": "2022-11-27T19:42:09.458Z"
   },
   {
    "duration": 48,
    "start_time": "2022-11-27T19:42:09.504Z"
   },
   {
    "duration": 15,
    "start_time": "2022-11-27T19:42:09.554Z"
   },
   {
    "duration": 42,
    "start_time": "2022-11-27T19:42:09.570Z"
   },
   {
    "duration": 38,
    "start_time": "2022-11-27T19:42:09.614Z"
   },
   {
    "duration": 52,
    "start_time": "2022-11-27T19:42:09.654Z"
   },
   {
    "duration": 114,
    "start_time": "2022-11-27T19:42:09.708Z"
   },
   {
    "duration": 1451,
    "start_time": "2022-11-27T19:42:09.823Z"
   },
   {
    "duration": 33,
    "start_time": "2022-11-27T19:42:11.276Z"
   },
   {
    "duration": 30,
    "start_time": "2022-11-27T19:42:11.310Z"
   },
   {
    "duration": 23,
    "start_time": "2022-11-27T19:42:11.341Z"
   },
   {
    "duration": 40,
    "start_time": "2022-11-27T19:42:11.366Z"
   },
   {
    "duration": 25,
    "start_time": "2022-11-27T19:42:11.408Z"
   },
   {
    "duration": 29,
    "start_time": "2022-11-27T19:42:11.434Z"
   },
   {
    "duration": 5,
    "start_time": "2022-11-27T19:42:11.465Z"
   },
   {
    "duration": 214,
    "start_time": "2022-11-27T19:42:11.471Z"
   },
   {
    "duration": 18,
    "start_time": "2022-11-27T19:42:11.687Z"
   },
   {
    "duration": 10,
    "start_time": "2022-11-27T19:42:11.707Z"
   },
   {
    "duration": 56,
    "start_time": "2022-11-27T19:42:11.719Z"
   },
   {
    "duration": 3,
    "start_time": "2022-11-27T19:42:11.777Z"
   },
   {
    "duration": 28,
    "start_time": "2022-11-27T19:42:11.782Z"
   },
   {
    "duration": 7,
    "start_time": "2022-11-27T19:42:11.811Z"
   },
   {
    "duration": 6,
    "start_time": "2022-11-27T19:42:11.819Z"
   },
   {
    "duration": 18,
    "start_time": "2022-11-27T19:42:11.827Z"
   },
   {
    "duration": 652,
    "start_time": "2022-11-27T19:42:11.847Z"
   },
   {
    "duration": 3,
    "start_time": "2022-11-27T19:42:12.500Z"
   },
   {
    "duration": 479,
    "start_time": "2022-11-27T19:42:12.504Z"
   },
   {
    "duration": 3,
    "start_time": "2022-11-27T19:42:12.984Z"
   },
   {
    "duration": 29,
    "start_time": "2022-11-27T19:42:12.988Z"
   },
   {
    "duration": 42,
    "start_time": "2022-11-27T19:42:13.019Z"
   },
   {
    "duration": 58596,
    "start_time": "2022-11-27T19:42:13.062Z"
   },
   {
    "duration": 3,
    "start_time": "2022-11-27T19:43:11.660Z"
   },
   {
    "duration": 105708,
    "start_time": "2022-11-27T19:43:11.665Z"
   },
   {
    "duration": 4,
    "start_time": "2022-11-27T19:44:57.375Z"
   },
   {
    "duration": 110618,
    "start_time": "2022-11-27T19:44:57.380Z"
   },
   {
    "duration": 102200,
    "start_time": "2022-11-27T19:46:47.999Z"
   },
   {
    "duration": 581663,
    "start_time": "2022-11-27T19:48:30.201Z"
   },
   {
    "duration": 4,
    "start_time": "2022-11-27T19:58:43.045Z"
   },
   {
    "duration": 4,
    "start_time": "2022-11-27T19:58:53.602Z"
   },
   {
    "duration": 30,
    "start_time": "2022-11-28T16:41:25.646Z"
   },
   {
    "duration": 2,
    "start_time": "2022-11-28T16:41:47.324Z"
   },
   {
    "duration": 339,
    "start_time": "2022-11-28T16:43:54.452Z"
   },
   {
    "duration": 3,
    "start_time": "2022-11-28T16:43:56.639Z"
   },
   {
    "duration": 307,
    "start_time": "2022-11-28T16:44:50.900Z"
   },
   {
    "duration": 10,
    "start_time": "2022-11-28T16:45:22.018Z"
   },
   {
    "duration": 175,
    "start_time": "2022-11-28T16:45:38.480Z"
   },
   {
    "duration": 12,
    "start_time": "2022-11-28T16:45:50.840Z"
   },
   {
    "duration": 12,
    "start_time": "2022-11-28T16:45:53.309Z"
   },
   {
    "duration": 300,
    "start_time": "2022-11-28T16:45:58.464Z"
   },
   {
    "duration": 2,
    "start_time": "2022-11-28T16:47:16.863Z"
   },
   {
    "duration": 147,
    "start_time": "2022-11-28T16:49:05.863Z"
   },
   {
    "duration": 3,
    "start_time": "2022-11-28T16:49:12.058Z"
   },
   {
    "duration": 48,
    "start_time": "2022-11-28T16:49:15.318Z"
   },
   {
    "duration": 3,
    "start_time": "2022-11-28T16:50:29.457Z"
   },
   {
    "duration": 3,
    "start_time": "2022-11-28T16:50:39.451Z"
   },
   {
    "duration": 53,
    "start_time": "2022-11-28T16:51:09.157Z"
   },
   {
    "duration": 3,
    "start_time": "2022-11-28T16:51:18.279Z"
   },
   {
    "duration": 94,
    "start_time": "2022-11-28T16:51:20.071Z"
   },
   {
    "duration": 3,
    "start_time": "2022-11-28T16:56:59.799Z"
   },
   {
    "duration": 61,
    "start_time": "2022-11-28T16:57:01.369Z"
   },
   {
    "duration": 69,
    "start_time": "2022-11-28T17:01:38.620Z"
   },
   {
    "duration": 3,
    "start_time": "2022-11-28T17:01:46.149Z"
   },
   {
    "duration": 2,
    "start_time": "2022-11-28T17:01:49.273Z"
   },
   {
    "duration": 3,
    "start_time": "2022-11-28T17:01:54.710Z"
   },
   {
    "duration": 55,
    "start_time": "2022-11-28T17:01:58.854Z"
   },
   {
    "duration": 68,
    "start_time": "2022-11-28T17:02:09.063Z"
   },
   {
    "duration": 3,
    "start_time": "2022-11-28T17:02:31.287Z"
   },
   {
    "duration": 58,
    "start_time": "2022-11-28T17:02:33.023Z"
   },
   {
    "duration": 3,
    "start_time": "2022-11-28T17:03:40.757Z"
   },
   {
    "duration": 69,
    "start_time": "2022-11-28T17:03:42.115Z"
   },
   {
    "duration": 57,
    "start_time": "2022-11-28T17:03:55.744Z"
   },
   {
    "duration": 25,
    "start_time": "2022-11-28T17:04:06.791Z"
   },
   {
    "duration": 1087,
    "start_time": "2022-11-28T17:04:24.957Z"
   },
   {
    "duration": 73,
    "start_time": "2022-11-28T17:04:47.194Z"
   },
   {
    "duration": 95,
    "start_time": "2022-11-28T17:05:13.261Z"
   },
   {
    "duration": 66,
    "start_time": "2022-11-28T17:06:49.699Z"
   },
   {
    "duration": 56,
    "start_time": "2022-11-28T17:07:07.547Z"
   },
   {
    "duration": 4,
    "start_time": "2022-11-28T17:09:24.555Z"
   },
   {
    "duration": 57,
    "start_time": "2022-11-28T17:09:26.056Z"
   },
   {
    "duration": 85,
    "start_time": "2022-11-28T17:10:27.627Z"
   },
   {
    "duration": 3,
    "start_time": "2022-11-28T17:11:59.671Z"
   },
   {
    "duration": 2,
    "start_time": "2022-11-28T17:12:05.487Z"
   },
   {
    "duration": 74,
    "start_time": "2022-11-28T17:12:06.820Z"
   },
   {
    "duration": 27,
    "start_time": "2022-11-28T17:46:19.924Z"
   },
   {
    "duration": 4,
    "start_time": "2022-11-28T17:46:22.449Z"
   },
   {
    "duration": 71,
    "start_time": "2022-11-28T18:34:59.799Z"
   },
   {
    "duration": 3,
    "start_time": "2022-11-28T18:35:01.125Z"
   },
   {
    "duration": 3,
    "start_time": "2022-11-28T18:35:09.438Z"
   },
   {
    "duration": 1027,
    "start_time": "2022-11-28T18:35:11.238Z"
   },
   {
    "duration": 2,
    "start_time": "2022-11-28T18:37:07.386Z"
   },
   {
    "duration": 2,
    "start_time": "2022-11-28T18:37:08.801Z"
   },
   {
    "duration": 1453,
    "start_time": "2022-11-28T18:38:52.253Z"
   },
   {
    "duration": 1066,
    "start_time": "2022-11-28T18:38:53.707Z"
   },
   {
    "duration": 2433,
    "start_time": "2022-11-28T18:38:54.775Z"
   },
   {
    "duration": 167,
    "start_time": "2022-11-28T18:38:57.210Z"
   },
   {
    "duration": 2,
    "start_time": "2022-11-28T18:38:57.379Z"
   },
   {
    "duration": 328,
    "start_time": "2022-11-28T18:38:57.382Z"
   },
   {
    "duration": 18,
    "start_time": "2022-11-28T18:38:57.713Z"
   },
   {
    "duration": 464,
    "start_time": "2022-11-28T18:38:57.733Z"
   },
   {
    "duration": 49,
    "start_time": "2022-11-28T18:38:58.199Z"
   },
   {
    "duration": 185,
    "start_time": "2022-11-28T18:38:58.250Z"
   },
   {
    "duration": 19,
    "start_time": "2022-11-28T18:38:58.437Z"
   },
   {
    "duration": 1220,
    "start_time": "2022-11-28T18:38:58.458Z"
   },
   {
    "duration": 23,
    "start_time": "2022-11-28T18:38:59.679Z"
   },
   {
    "duration": 282,
    "start_time": "2022-11-28T18:38:59.703Z"
   },
   {
    "duration": 63,
    "start_time": "2022-11-28T18:38:59.987Z"
   },
   {
    "duration": 45,
    "start_time": "2022-11-28T18:39:00.052Z"
   },
   {
    "duration": 74,
    "start_time": "2022-11-28T18:39:00.099Z"
   },
   {
    "duration": 52,
    "start_time": "2022-11-28T18:39:00.174Z"
   },
   {
    "duration": 1366,
    "start_time": "2022-11-28T18:39:00.227Z"
   },
   {
    "duration": 14,
    "start_time": "2022-11-28T18:39:01.597Z"
   },
   {
    "duration": 75,
    "start_time": "2022-11-28T18:39:01.613Z"
   },
   {
    "duration": 43,
    "start_time": "2022-11-28T18:39:01.689Z"
   },
   {
    "duration": 102,
    "start_time": "2022-11-28T18:39:01.734Z"
   },
   {
    "duration": 184,
    "start_time": "2022-11-28T18:39:01.837Z"
   },
   {
    "duration": 106,
    "start_time": "2022-11-28T18:39:02.023Z"
   },
   {
    "duration": 31,
    "start_time": "2022-11-28T18:39:02.131Z"
   },
   {
    "duration": 11,
    "start_time": "2022-11-28T18:39:02.164Z"
   },
   {
    "duration": 24,
    "start_time": "2022-11-28T18:39:02.179Z"
   },
   {
    "duration": 4725,
    "start_time": "2022-11-28T18:39:02.204Z"
   },
   {
    "duration": 6,
    "start_time": "2022-11-28T18:39:06.930Z"
   },
   {
    "duration": 11,
    "start_time": "2022-11-28T18:39:06.937Z"
   },
   {
    "duration": 6,
    "start_time": "2022-11-28T18:39:06.950Z"
   },
   {
    "duration": 57,
    "start_time": "2022-11-28T18:39:06.957Z"
   },
   {
    "duration": 6,
    "start_time": "2022-11-28T18:39:07.016Z"
   },
   {
    "duration": 4476,
    "start_time": "2022-11-28T18:39:07.023Z"
   },
   {
    "duration": 5,
    "start_time": "2022-11-28T18:39:11.501Z"
   },
   {
    "duration": 39,
    "start_time": "2022-11-28T18:39:11.508Z"
   },
   {
    "duration": 92,
    "start_time": "2022-11-28T18:39:11.549Z"
   },
   {
    "duration": 120,
    "start_time": "2022-11-28T18:39:11.642Z"
   },
   {
    "duration": 42,
    "start_time": "2022-11-28T18:39:11.764Z"
   },
   {
    "duration": 48,
    "start_time": "2022-11-28T18:39:11.808Z"
   },
   {
    "duration": 14,
    "start_time": "2022-11-28T18:39:11.857Z"
   },
   {
    "duration": 43,
    "start_time": "2022-11-28T18:39:11.873Z"
   },
   {
    "duration": 53,
    "start_time": "2022-11-28T18:39:11.918Z"
   },
   {
    "duration": 49,
    "start_time": "2022-11-28T18:39:11.972Z"
   },
   {
    "duration": 102,
    "start_time": "2022-11-28T18:39:12.023Z"
   },
   {
    "duration": 1381,
    "start_time": "2022-11-28T18:39:12.126Z"
   },
   {
    "duration": 31,
    "start_time": "2022-11-28T18:39:13.509Z"
   },
   {
    "duration": 30,
    "start_time": "2022-11-28T18:39:13.541Z"
   },
   {
    "duration": 41,
    "start_time": "2022-11-28T18:39:13.572Z"
   },
   {
    "duration": 32,
    "start_time": "2022-11-28T18:39:13.615Z"
   },
   {
    "duration": 25,
    "start_time": "2022-11-28T18:39:13.649Z"
   },
   {
    "duration": 46,
    "start_time": "2022-11-28T18:39:13.675Z"
   },
   {
    "duration": 5,
    "start_time": "2022-11-28T18:39:13.722Z"
   },
   {
    "duration": 207,
    "start_time": "2022-11-28T18:39:13.728Z"
   },
   {
    "duration": 12,
    "start_time": "2022-11-28T18:39:13.937Z"
   },
   {
    "duration": 4,
    "start_time": "2022-11-28T18:39:13.951Z"
   },
   {
    "duration": 68,
    "start_time": "2022-11-28T18:39:13.957Z"
   },
   {
    "duration": 5,
    "start_time": "2022-11-28T18:39:14.026Z"
   },
   {
    "duration": 21,
    "start_time": "2022-11-28T18:39:14.033Z"
   },
   {
    "duration": 7,
    "start_time": "2022-11-28T18:39:14.056Z"
   },
   {
    "duration": 5,
    "start_time": "2022-11-28T18:39:14.065Z"
   },
   {
    "duration": 27,
    "start_time": "2022-11-28T18:39:14.072Z"
   },
   {
    "duration": 646,
    "start_time": "2022-11-28T18:39:14.101Z"
   },
   {
    "duration": 3,
    "start_time": "2022-11-28T18:39:14.749Z"
   },
   {
    "duration": 505,
    "start_time": "2022-11-28T18:39:14.754Z"
   },
   {
    "duration": 4,
    "start_time": "2022-11-28T18:39:15.260Z"
   },
   {
    "duration": 8,
    "start_time": "2022-11-28T18:39:15.265Z"
   },
   {
    "duration": 8,
    "start_time": "2022-11-28T18:39:15.275Z"
   },
   {
    "duration": 13,
    "start_time": "2022-11-28T18:39:15.285Z"
   },
   {
    "duration": 121,
    "start_time": "2022-11-28T18:39:15.299Z"
   },
   {
    "duration": 0,
    "start_time": "2022-11-28T18:39:15.422Z"
   },
   {
    "duration": 0,
    "start_time": "2022-11-28T18:39:15.423Z"
   },
   {
    "duration": 0,
    "start_time": "2022-11-28T18:39:15.424Z"
   },
   {
    "duration": 1,
    "start_time": "2022-11-28T18:39:15.425Z"
   },
   {
    "duration": 0,
    "start_time": "2022-11-28T18:39:15.427Z"
   },
   {
    "duration": 0,
    "start_time": "2022-11-28T18:39:15.428Z"
   },
   {
    "duration": 0,
    "start_time": "2022-11-28T18:39:15.429Z"
   },
   {
    "duration": 0,
    "start_time": "2022-11-28T18:39:15.431Z"
   },
   {
    "duration": 0,
    "start_time": "2022-11-28T18:39:15.431Z"
   },
   {
    "duration": 52,
    "start_time": "2022-11-28T18:39:54.694Z"
   },
   {
    "duration": 2,
    "start_time": "2022-11-28T18:40:03.613Z"
   },
   {
    "duration": 1369,
    "start_time": "2022-11-28T18:40:11.095Z"
   },
   {
    "duration": 795,
    "start_time": "2022-11-28T18:40:12.466Z"
   },
   {
    "duration": 2505,
    "start_time": "2022-11-28T18:40:13.262Z"
   },
   {
    "duration": 72,
    "start_time": "2022-11-28T18:40:15.769Z"
   },
   {
    "duration": 3,
    "start_time": "2022-11-28T18:40:15.842Z"
   },
   {
    "duration": 310,
    "start_time": "2022-11-28T18:40:15.846Z"
   },
   {
    "duration": 18,
    "start_time": "2022-11-28T18:40:16.158Z"
   },
   {
    "duration": 450,
    "start_time": "2022-11-28T18:40:16.178Z"
   },
   {
    "duration": 48,
    "start_time": "2022-11-28T18:40:16.630Z"
   },
   {
    "duration": 186,
    "start_time": "2022-11-28T18:40:16.681Z"
   },
   {
    "duration": 18,
    "start_time": "2022-11-28T18:40:16.868Z"
   },
   {
    "duration": 1241,
    "start_time": "2022-11-28T18:40:16.888Z"
   },
   {
    "duration": 14,
    "start_time": "2022-11-28T18:40:18.130Z"
   },
   {
    "duration": 281,
    "start_time": "2022-11-28T18:40:18.146Z"
   },
   {
    "duration": 56,
    "start_time": "2022-11-28T18:40:18.428Z"
   },
   {
    "duration": 41,
    "start_time": "2022-11-28T18:40:18.485Z"
   },
   {
    "duration": 87,
    "start_time": "2022-11-28T18:40:18.527Z"
   },
   {
    "duration": 41,
    "start_time": "2022-11-28T18:40:18.615Z"
   },
   {
    "duration": 1393,
    "start_time": "2022-11-28T18:40:18.658Z"
   },
   {
    "duration": 17,
    "start_time": "2022-11-28T18:40:20.053Z"
   },
   {
    "duration": 60,
    "start_time": "2022-11-28T18:40:20.072Z"
   },
   {
    "duration": 35,
    "start_time": "2022-11-28T18:40:20.133Z"
   },
   {
    "duration": 103,
    "start_time": "2022-11-28T18:40:20.170Z"
   },
   {
    "duration": 171,
    "start_time": "2022-11-28T18:40:20.274Z"
   },
   {
    "duration": 108,
    "start_time": "2022-11-28T18:40:20.447Z"
   },
   {
    "duration": 42,
    "start_time": "2022-11-28T18:40:20.556Z"
   },
   {
    "duration": 13,
    "start_time": "2022-11-28T18:40:20.600Z"
   },
   {
    "duration": 7,
    "start_time": "2022-11-28T18:40:20.618Z"
   },
   {
    "duration": 4838,
    "start_time": "2022-11-28T18:40:20.626Z"
   },
   {
    "duration": 6,
    "start_time": "2022-11-28T18:40:25.466Z"
   },
   {
    "duration": 6,
    "start_time": "2022-11-28T18:40:25.474Z"
   },
   {
    "duration": 4,
    "start_time": "2022-11-28T18:40:25.498Z"
   },
   {
    "duration": 48,
    "start_time": "2022-11-28T18:40:25.504Z"
   },
   {
    "duration": 6,
    "start_time": "2022-11-28T18:40:25.554Z"
   },
   {
    "duration": 4686,
    "start_time": "2022-11-28T18:40:25.561Z"
   },
   {
    "duration": 6,
    "start_time": "2022-11-28T18:40:30.248Z"
   },
   {
    "duration": 91,
    "start_time": "2022-11-28T18:40:30.255Z"
   },
   {
    "duration": 94,
    "start_time": "2022-11-28T18:40:30.348Z"
   },
   {
    "duration": 112,
    "start_time": "2022-11-28T18:40:30.444Z"
   },
   {
    "duration": 46,
    "start_time": "2022-11-28T18:40:30.558Z"
   },
   {
    "duration": 53,
    "start_time": "2022-11-28T18:40:30.605Z"
   },
   {
    "duration": 19,
    "start_time": "2022-11-28T18:40:30.660Z"
   },
   {
    "duration": 53,
    "start_time": "2022-11-28T18:40:30.681Z"
   },
   {
    "duration": 45,
    "start_time": "2022-11-28T18:40:30.735Z"
   },
   {
    "duration": 56,
    "start_time": "2022-11-28T18:40:30.781Z"
   },
   {
    "duration": 98,
    "start_time": "2022-11-28T18:40:30.839Z"
   },
   {
    "duration": 1478,
    "start_time": "2022-11-28T18:40:30.938Z"
   },
   {
    "duration": 32,
    "start_time": "2022-11-28T18:40:32.418Z"
   },
   {
    "duration": 58,
    "start_time": "2022-11-28T18:40:32.452Z"
   },
   {
    "duration": 19,
    "start_time": "2022-11-28T18:40:32.512Z"
   },
   {
    "duration": 28,
    "start_time": "2022-11-28T18:40:32.532Z"
   },
   {
    "duration": 25,
    "start_time": "2022-11-28T18:40:32.562Z"
   },
   {
    "duration": 37,
    "start_time": "2022-11-28T18:40:32.588Z"
   },
   {
    "duration": 6,
    "start_time": "2022-11-28T18:40:32.627Z"
   },
   {
    "duration": 196,
    "start_time": "2022-11-28T18:40:32.635Z"
   },
   {
    "duration": 13,
    "start_time": "2022-11-28T18:40:32.833Z"
   },
   {
    "duration": 3,
    "start_time": "2022-11-28T18:40:32.847Z"
   },
   {
    "duration": 88,
    "start_time": "2022-11-28T18:40:32.852Z"
   },
   {
    "duration": 3,
    "start_time": "2022-11-28T18:40:32.942Z"
   },
   {
    "duration": 74,
    "start_time": "2022-11-28T18:40:32.947Z"
   },
   {
    "duration": 7,
    "start_time": "2022-11-28T18:40:33.022Z"
   },
   {
    "duration": 8,
    "start_time": "2022-11-28T18:40:33.031Z"
   },
   {
    "duration": 8,
    "start_time": "2022-11-28T18:40:33.041Z"
   },
   {
    "duration": 718,
    "start_time": "2022-11-28T18:40:33.098Z"
   },
   {
    "duration": 2,
    "start_time": "2022-11-28T18:40:33.818Z"
   },
   {
    "duration": 482,
    "start_time": "2022-11-28T18:40:33.822Z"
   },
   {
    "duration": 3,
    "start_time": "2022-11-28T18:40:34.306Z"
   },
   {
    "duration": 7,
    "start_time": "2022-11-28T18:40:34.310Z"
   },
   {
    "duration": 5,
    "start_time": "2022-11-28T18:40:34.318Z"
   },
   {
    "duration": 5,
    "start_time": "2022-11-28T18:40:34.325Z"
   },
   {
    "duration": 6,
    "start_time": "2022-11-28T18:40:34.331Z"
   },
   {
    "duration": 84853,
    "start_time": "2022-11-28T18:40:34.339Z"
   },
   {
    "duration": 12,
    "start_time": "2022-11-28T18:41:59.194Z"
   },
   {
    "duration": 0,
    "start_time": "2022-11-28T18:41:59.208Z"
   },
   {
    "duration": 0,
    "start_time": "2022-11-28T18:41:59.209Z"
   },
   {
    "duration": 0,
    "start_time": "2022-11-28T18:41:59.210Z"
   },
   {
    "duration": 0,
    "start_time": "2022-11-28T18:41:59.211Z"
   },
   {
    "duration": 0,
    "start_time": "2022-11-28T18:41:59.212Z"
   },
   {
    "duration": 0,
    "start_time": "2022-11-28T18:41:59.212Z"
   },
   {
    "duration": 0,
    "start_time": "2022-11-28T18:41:59.214Z"
   },
   {
    "duration": 3,
    "start_time": "2022-11-28T18:42:22.937Z"
   },
   {
    "duration": 1323,
    "start_time": "2022-11-28T18:42:33.032Z"
   },
   {
    "duration": 811,
    "start_time": "2022-11-28T18:42:34.357Z"
   },
   {
    "duration": 2451,
    "start_time": "2022-11-28T18:42:35.170Z"
   },
   {
    "duration": 71,
    "start_time": "2022-11-28T18:42:37.624Z"
   },
   {
    "duration": 3,
    "start_time": "2022-11-28T18:42:37.696Z"
   },
   {
    "duration": 325,
    "start_time": "2022-11-28T18:42:37.701Z"
   },
   {
    "duration": 20,
    "start_time": "2022-11-28T18:42:38.028Z"
   },
   {
    "duration": 492,
    "start_time": "2022-11-28T18:42:38.050Z"
   },
   {
    "duration": 57,
    "start_time": "2022-11-28T18:42:38.543Z"
   },
   {
    "duration": 185,
    "start_time": "2022-11-28T18:42:38.602Z"
   },
   {
    "duration": 23,
    "start_time": "2022-11-28T18:42:38.789Z"
   },
   {
    "duration": 1252,
    "start_time": "2022-11-28T18:42:38.813Z"
   },
   {
    "duration": 17,
    "start_time": "2022-11-28T18:42:40.067Z"
   },
   {
    "duration": 284,
    "start_time": "2022-11-28T18:42:40.098Z"
   },
   {
    "duration": 66,
    "start_time": "2022-11-28T18:42:40.385Z"
   },
   {
    "duration": 32,
    "start_time": "2022-11-28T18:42:40.452Z"
   },
   {
    "duration": 69,
    "start_time": "2022-11-28T18:42:40.497Z"
   },
   {
    "duration": 48,
    "start_time": "2022-11-28T18:42:40.568Z"
   },
   {
    "duration": 1451,
    "start_time": "2022-11-28T18:42:40.618Z"
   },
   {
    "duration": 14,
    "start_time": "2022-11-28T18:42:42.071Z"
   },
   {
    "duration": 46,
    "start_time": "2022-11-28T18:42:42.097Z"
   },
   {
    "duration": 41,
    "start_time": "2022-11-28T18:42:42.145Z"
   },
   {
    "duration": 93,
    "start_time": "2022-11-28T18:42:42.187Z"
   },
   {
    "duration": 176,
    "start_time": "2022-11-28T18:42:42.282Z"
   },
   {
    "duration": 110,
    "start_time": "2022-11-28T18:42:42.459Z"
   },
   {
    "duration": 40,
    "start_time": "2022-11-28T18:42:42.570Z"
   },
   {
    "duration": 11,
    "start_time": "2022-11-28T18:42:42.612Z"
   },
   {
    "duration": 11,
    "start_time": "2022-11-28T18:42:42.627Z"
   },
   {
    "duration": 4637,
    "start_time": "2022-11-28T18:42:42.639Z"
   },
   {
    "duration": 5,
    "start_time": "2022-11-28T18:42:47.277Z"
   },
   {
    "duration": 15,
    "start_time": "2022-11-28T18:42:47.283Z"
   },
   {
    "duration": 8,
    "start_time": "2022-11-28T18:42:47.299Z"
   },
   {
    "duration": 47,
    "start_time": "2022-11-28T18:42:47.308Z"
   },
   {
    "duration": 5,
    "start_time": "2022-11-28T18:42:47.357Z"
   },
   {
    "duration": 4895,
    "start_time": "2022-11-28T18:42:47.363Z"
   },
   {
    "duration": 6,
    "start_time": "2022-11-28T18:42:52.259Z"
   },
   {
    "duration": 48,
    "start_time": "2022-11-28T18:42:52.266Z"
   },
   {
    "duration": 100,
    "start_time": "2022-11-28T18:42:52.316Z"
   },
   {
    "duration": 121,
    "start_time": "2022-11-28T18:42:52.417Z"
   },
   {
    "duration": 38,
    "start_time": "2022-11-28T18:42:52.540Z"
   },
   {
    "duration": 61,
    "start_time": "2022-11-28T18:42:52.579Z"
   },
   {
    "duration": 17,
    "start_time": "2022-11-28T18:42:52.642Z"
   },
   {
    "duration": 41,
    "start_time": "2022-11-28T18:42:52.660Z"
   },
   {
    "duration": 47,
    "start_time": "2022-11-28T18:42:52.702Z"
   },
   {
    "duration": 49,
    "start_time": "2022-11-28T18:42:52.751Z"
   },
   {
    "duration": 105,
    "start_time": "2022-11-28T18:42:52.802Z"
   },
   {
    "duration": 1519,
    "start_time": "2022-11-28T18:42:52.909Z"
   },
   {
    "duration": 32,
    "start_time": "2022-11-28T18:42:54.430Z"
   },
   {
    "duration": 44,
    "start_time": "2022-11-28T18:42:54.464Z"
   },
   {
    "duration": 25,
    "start_time": "2022-11-28T18:42:54.510Z"
   },
   {
    "duration": 55,
    "start_time": "2022-11-28T18:42:54.537Z"
   },
   {
    "duration": 32,
    "start_time": "2022-11-28T18:42:54.597Z"
   },
   {
    "duration": 38,
    "start_time": "2022-11-28T18:42:54.631Z"
   },
   {
    "duration": 28,
    "start_time": "2022-11-28T18:42:54.671Z"
   },
   {
    "duration": 215,
    "start_time": "2022-11-28T18:42:54.701Z"
   },
   {
    "duration": 12,
    "start_time": "2022-11-28T18:42:54.918Z"
   },
   {
    "duration": 4,
    "start_time": "2022-11-28T18:42:54.932Z"
   },
   {
    "duration": 69,
    "start_time": "2022-11-28T18:42:54.938Z"
   },
   {
    "duration": 5,
    "start_time": "2022-11-28T18:42:55.008Z"
   },
   {
    "duration": 25,
    "start_time": "2022-11-28T18:42:55.015Z"
   },
   {
    "duration": 7,
    "start_time": "2022-11-28T18:42:55.042Z"
   },
   {
    "duration": 5,
    "start_time": "2022-11-28T18:42:55.051Z"
   },
   {
    "duration": 14,
    "start_time": "2022-11-28T18:42:55.058Z"
   },
   {
    "duration": 672,
    "start_time": "2022-11-28T18:42:55.074Z"
   },
   {
    "duration": 3,
    "start_time": "2022-11-28T18:42:55.748Z"
   },
   {
    "duration": 488,
    "start_time": "2022-11-28T18:42:55.752Z"
   },
   {
    "duration": 3,
    "start_time": "2022-11-28T18:42:56.242Z"
   },
   {
    "duration": 12,
    "start_time": "2022-11-28T18:42:56.247Z"
   },
   {
    "duration": 9,
    "start_time": "2022-11-28T18:42:56.260Z"
   },
   {
    "duration": 9,
    "start_time": "2022-11-28T18:42:56.271Z"
   },
   {
    "duration": 5,
    "start_time": "2022-11-28T18:42:56.282Z"
   },
   {
    "duration": 103747,
    "start_time": "2022-11-28T18:42:56.288Z"
   },
   {
    "duration": 5,
    "start_time": "2022-11-28T18:44:40.036Z"
   },
   {
    "duration": 12,
    "start_time": "2022-11-28T18:44:40.043Z"
   },
   {
    "duration": 11,
    "start_time": "2022-11-28T18:44:40.057Z"
   },
   {
    "duration": 100,
    "start_time": "2022-11-28T18:44:40.070Z"
   },
   {
    "duration": 85,
    "start_time": "2022-11-28T18:44:40.171Z"
   },
   {
    "duration": 3,
    "start_time": "2022-11-28T18:44:40.257Z"
   },
   {
    "duration": 13,
    "start_time": "2022-11-28T18:44:40.262Z"
   },
   {
    "duration": 43,
    "start_time": "2022-11-28T18:49:09.078Z"
   },
   {
    "duration": 7,
    "start_time": "2022-11-28T18:49:26.854Z"
   },
   {
    "duration": 51,
    "start_time": "2022-11-28T18:50:09.863Z"
   },
   {
    "duration": 3,
    "start_time": "2022-11-28T18:50:17.782Z"
   },
   {
    "duration": 1392,
    "start_time": "2022-11-28T18:56:10.875Z"
   },
   {
    "duration": 1014,
    "start_time": "2022-11-28T18:56:12.269Z"
   },
   {
    "duration": 2645,
    "start_time": "2022-11-28T18:56:13.285Z"
   },
   {
    "duration": 165,
    "start_time": "2022-11-28T18:56:15.933Z"
   },
   {
    "duration": 2,
    "start_time": "2022-11-28T18:56:16.102Z"
   },
   {
    "duration": 321,
    "start_time": "2022-11-28T18:56:16.105Z"
   },
   {
    "duration": 21,
    "start_time": "2022-11-28T18:56:16.427Z"
   },
   {
    "duration": 488,
    "start_time": "2022-11-28T18:56:16.449Z"
   },
   {
    "duration": 49,
    "start_time": "2022-11-28T18:56:16.938Z"
   },
   {
    "duration": 185,
    "start_time": "2022-11-28T18:56:16.998Z"
   },
   {
    "duration": 24,
    "start_time": "2022-11-28T18:56:17.184Z"
   },
   {
    "duration": 1250,
    "start_time": "2022-11-28T18:56:17.209Z"
   },
   {
    "duration": 15,
    "start_time": "2022-11-28T18:56:18.460Z"
   },
   {
    "duration": 290,
    "start_time": "2022-11-28T18:56:18.476Z"
   },
   {
    "duration": 64,
    "start_time": "2022-11-28T18:56:18.767Z"
   },
   {
    "duration": 30,
    "start_time": "2022-11-28T18:56:18.833Z"
   },
   {
    "duration": 83,
    "start_time": "2022-11-28T18:56:18.865Z"
   },
   {
    "duration": 51,
    "start_time": "2022-11-28T18:56:18.950Z"
   },
   {
    "duration": 1510,
    "start_time": "2022-11-28T18:56:19.003Z"
   },
   {
    "duration": 16,
    "start_time": "2022-11-28T18:56:20.514Z"
   },
   {
    "duration": 36,
    "start_time": "2022-11-28T18:56:20.531Z"
   },
   {
    "duration": 44,
    "start_time": "2022-11-28T18:56:20.568Z"
   },
   {
    "duration": 108,
    "start_time": "2022-11-28T18:56:20.614Z"
   },
   {
    "duration": 179,
    "start_time": "2022-11-28T18:56:20.724Z"
   },
   {
    "duration": 114,
    "start_time": "2022-11-28T18:56:20.905Z"
   },
   {
    "duration": 31,
    "start_time": "2022-11-28T18:56:21.020Z"
   },
   {
    "duration": 12,
    "start_time": "2022-11-28T18:56:21.053Z"
   },
   {
    "duration": 28,
    "start_time": "2022-11-28T18:56:21.069Z"
   },
   {
    "duration": 4813,
    "start_time": "2022-11-28T18:56:21.099Z"
   },
   {
    "duration": 6,
    "start_time": "2022-11-28T18:56:25.914Z"
   },
   {
    "duration": 13,
    "start_time": "2022-11-28T18:56:25.922Z"
   },
   {
    "duration": 12,
    "start_time": "2022-11-28T18:56:25.937Z"
   },
   {
    "duration": 53,
    "start_time": "2022-11-28T18:56:25.951Z"
   },
   {
    "duration": 5,
    "start_time": "2022-11-28T18:56:26.006Z"
   },
   {
    "duration": 4518,
    "start_time": "2022-11-28T18:56:26.013Z"
   },
   {
    "duration": 6,
    "start_time": "2022-11-28T18:56:30.532Z"
   },
   {
    "duration": 46,
    "start_time": "2022-11-28T18:56:30.540Z"
   },
   {
    "duration": 91,
    "start_time": "2022-11-28T18:56:30.588Z"
   },
   {
    "duration": 106,
    "start_time": "2022-11-28T18:56:30.681Z"
   },
   {
    "duration": 43,
    "start_time": "2022-11-28T18:56:30.789Z"
   },
   {
    "duration": 64,
    "start_time": "2022-11-28T18:56:30.834Z"
   },
   {
    "duration": 17,
    "start_time": "2022-11-28T18:56:30.900Z"
   },
   {
    "duration": 23,
    "start_time": "2022-11-28T18:56:30.919Z"
   },
   {
    "duration": 36,
    "start_time": "2022-11-28T18:56:30.943Z"
   },
   {
    "duration": 53,
    "start_time": "2022-11-28T18:56:30.981Z"
   },
   {
    "duration": 105,
    "start_time": "2022-11-28T18:56:31.036Z"
   },
   {
    "duration": 1421,
    "start_time": "2022-11-28T18:56:31.142Z"
   },
   {
    "duration": 47,
    "start_time": "2022-11-28T18:56:32.565Z"
   },
   {
    "duration": 30,
    "start_time": "2022-11-28T18:56:32.613Z"
   },
   {
    "duration": 35,
    "start_time": "2022-11-28T18:56:32.644Z"
   },
   {
    "duration": 50,
    "start_time": "2022-11-28T18:56:32.680Z"
   },
   {
    "duration": 43,
    "start_time": "2022-11-28T18:56:32.731Z"
   },
   {
    "duration": 29,
    "start_time": "2022-11-28T18:56:32.776Z"
   },
   {
    "duration": 5,
    "start_time": "2022-11-28T18:56:32.806Z"
   },
   {
    "duration": 197,
    "start_time": "2022-11-28T18:56:32.813Z"
   },
   {
    "duration": 12,
    "start_time": "2022-11-28T18:56:33.011Z"
   },
   {
    "duration": 12,
    "start_time": "2022-11-28T18:56:33.025Z"
   },
   {
    "duration": 72,
    "start_time": "2022-11-28T18:56:33.039Z"
   },
   {
    "duration": 5,
    "start_time": "2022-11-28T18:56:33.113Z"
   },
   {
    "duration": 34,
    "start_time": "2022-11-28T18:56:33.119Z"
   },
   {
    "duration": 19,
    "start_time": "2022-11-28T18:56:33.154Z"
   },
   {
    "duration": 22,
    "start_time": "2022-11-28T18:56:33.174Z"
   },
   {
    "duration": 49,
    "start_time": "2022-11-28T18:56:33.197Z"
   },
   {
    "duration": 765,
    "start_time": "2022-11-28T18:56:33.247Z"
   },
   {
    "duration": 2,
    "start_time": "2022-11-28T18:56:34.014Z"
   },
   {
    "duration": 599,
    "start_time": "2022-11-28T18:56:34.018Z"
   },
   {
    "duration": 6,
    "start_time": "2022-11-28T18:56:34.619Z"
   },
   {
    "duration": 20,
    "start_time": "2022-11-28T18:56:34.627Z"
   },
   {
    "duration": 22,
    "start_time": "2022-11-28T18:56:34.649Z"
   },
   {
    "duration": 26,
    "start_time": "2022-11-28T18:56:34.673Z"
   },
   {
    "duration": 31,
    "start_time": "2022-11-28T18:56:34.701Z"
   },
   {
    "duration": 104836,
    "start_time": "2022-11-28T18:56:34.734Z"
   },
   {
    "duration": 5,
    "start_time": "2022-11-28T18:58:19.572Z"
   },
   {
    "duration": 21,
    "start_time": "2022-11-28T18:58:19.578Z"
   },
   {
    "duration": 5,
    "start_time": "2022-11-28T18:58:19.601Z"
   },
   {
    "duration": 93,
    "start_time": "2022-11-28T18:58:19.608Z"
   },
   {
    "duration": 96,
    "start_time": "2022-11-28T18:58:19.703Z"
   },
   {
    "duration": 3,
    "start_time": "2022-11-28T18:58:19.801Z"
   },
   {
    "duration": 6,
    "start_time": "2022-11-28T18:58:19.806Z"
   },
   {
    "duration": 1072,
    "start_time": "2022-11-28T18:58:19.813Z"
   },
   {
    "duration": 2,
    "start_time": "2022-11-28T18:58:20.887Z"
   },
   {
    "duration": 3,
    "start_time": "2022-11-28T18:58:54.351Z"
   },
   {
    "duration": 50,
    "start_time": "2022-11-28T18:58:55.938Z"
   },
   {
    "duration": 3,
    "start_time": "2022-11-28T18:59:13.513Z"
   },
   {
    "duration": 44,
    "start_time": "2022-11-28T19:00:00.944Z"
   },
   {
    "duration": 3,
    "start_time": "2022-11-28T19:00:26.844Z"
   },
   {
    "duration": 2,
    "start_time": "2022-11-28T19:00:33.822Z"
   },
   {
    "duration": 1461,
    "start_time": "2022-11-28T19:00:39.214Z"
   },
   {
    "duration": 1024,
    "start_time": "2022-11-28T19:00:40.677Z"
   },
   {
    "duration": 2682,
    "start_time": "2022-11-28T19:00:41.702Z"
   },
   {
    "duration": 208,
    "start_time": "2022-11-28T19:00:44.387Z"
   },
   {
    "duration": 2,
    "start_time": "2022-11-28T19:00:44.597Z"
   },
   {
    "duration": 397,
    "start_time": "2022-11-28T19:00:44.601Z"
   },
   {
    "duration": 19,
    "start_time": "2022-11-28T19:00:44.999Z"
   },
   {
    "duration": 443,
    "start_time": "2022-11-28T19:00:45.019Z"
   },
   {
    "duration": 61,
    "start_time": "2022-11-28T19:00:45.463Z"
   },
   {
    "duration": 197,
    "start_time": "2022-11-28T19:00:45.527Z"
   },
   {
    "duration": 23,
    "start_time": "2022-11-28T19:00:45.725Z"
   },
   {
    "duration": 1274,
    "start_time": "2022-11-28T19:00:45.750Z"
   },
   {
    "duration": 16,
    "start_time": "2022-11-28T19:00:47.026Z"
   },
   {
    "duration": 289,
    "start_time": "2022-11-28T19:00:47.044Z"
   },
   {
    "duration": 66,
    "start_time": "2022-11-28T19:00:47.335Z"
   },
   {
    "duration": 35,
    "start_time": "2022-11-28T19:00:47.403Z"
   },
   {
    "duration": 93,
    "start_time": "2022-11-28T19:00:47.440Z"
   },
   {
    "duration": 46,
    "start_time": "2022-11-28T19:00:47.535Z"
   },
   {
    "duration": 1423,
    "start_time": "2022-11-28T19:00:47.583Z"
   },
   {
    "duration": 17,
    "start_time": "2022-11-28T19:00:49.007Z"
   },
   {
    "duration": 46,
    "start_time": "2022-11-28T19:00:49.025Z"
   },
   {
    "duration": 52,
    "start_time": "2022-11-28T19:00:49.073Z"
   },
   {
    "duration": 117,
    "start_time": "2022-11-28T19:00:49.126Z"
   },
   {
    "duration": 180,
    "start_time": "2022-11-28T19:00:49.245Z"
   },
   {
    "duration": 102,
    "start_time": "2022-11-28T19:00:49.427Z"
   },
   {
    "duration": 30,
    "start_time": "2022-11-28T19:00:49.530Z"
   },
   {
    "duration": 13,
    "start_time": "2022-11-28T19:00:49.562Z"
   },
   {
    "duration": 7,
    "start_time": "2022-11-28T19:00:49.599Z"
   },
   {
    "duration": 4798,
    "start_time": "2022-11-28T19:00:49.608Z"
   },
   {
    "duration": 7,
    "start_time": "2022-11-28T19:00:54.408Z"
   },
   {
    "duration": 13,
    "start_time": "2022-11-28T19:00:54.416Z"
   },
   {
    "duration": 7,
    "start_time": "2022-11-28T19:00:54.431Z"
   },
   {
    "duration": 60,
    "start_time": "2022-11-28T19:00:54.439Z"
   },
   {
    "duration": 7,
    "start_time": "2022-11-28T19:00:54.500Z"
   },
   {
    "duration": 4775,
    "start_time": "2022-11-28T19:00:54.508Z"
   },
   {
    "duration": 14,
    "start_time": "2022-11-28T19:00:59.285Z"
   },
   {
    "duration": 32,
    "start_time": "2022-11-28T19:00:59.300Z"
   },
   {
    "duration": 99,
    "start_time": "2022-11-28T19:00:59.334Z"
   },
   {
    "duration": 107,
    "start_time": "2022-11-28T19:00:59.435Z"
   },
   {
    "duration": 36,
    "start_time": "2022-11-28T19:00:59.543Z"
   },
   {
    "duration": 57,
    "start_time": "2022-11-28T19:00:59.581Z"
   },
   {
    "duration": 15,
    "start_time": "2022-11-28T19:00:59.639Z"
   },
   {
    "duration": 25,
    "start_time": "2022-11-28T19:00:59.656Z"
   },
   {
    "duration": 34,
    "start_time": "2022-11-28T19:00:59.696Z"
   },
   {
    "duration": 39,
    "start_time": "2022-11-28T19:00:59.732Z"
   },
   {
    "duration": 113,
    "start_time": "2022-11-28T19:00:59.773Z"
   },
   {
    "duration": 1469,
    "start_time": "2022-11-28T19:00:59.887Z"
   },
   {
    "duration": 41,
    "start_time": "2022-11-28T19:01:01.357Z"
   },
   {
    "duration": 31,
    "start_time": "2022-11-28T19:01:01.399Z"
   },
   {
    "duration": 31,
    "start_time": "2022-11-28T19:01:01.431Z"
   },
   {
    "duration": 37,
    "start_time": "2022-11-28T19:01:01.463Z"
   },
   {
    "duration": 27,
    "start_time": "2022-11-28T19:01:01.501Z"
   },
   {
    "duration": 31,
    "start_time": "2022-11-28T19:01:01.529Z"
   },
   {
    "duration": 6,
    "start_time": "2022-11-28T19:01:01.562Z"
   },
   {
    "duration": 235,
    "start_time": "2022-11-28T19:01:01.569Z"
   },
   {
    "duration": 10,
    "start_time": "2022-11-28T19:01:01.806Z"
   },
   {
    "duration": 7,
    "start_time": "2022-11-28T19:01:01.818Z"
   },
   {
    "duration": 57,
    "start_time": "2022-11-28T19:01:01.827Z"
   },
   {
    "duration": 15,
    "start_time": "2022-11-28T19:01:01.886Z"
   },
   {
    "duration": 33,
    "start_time": "2022-11-28T19:01:01.902Z"
   },
   {
    "duration": 12,
    "start_time": "2022-11-28T19:01:01.937Z"
   },
   {
    "duration": 18,
    "start_time": "2022-11-28T19:01:01.952Z"
   },
   {
    "duration": 21,
    "start_time": "2022-11-28T19:01:01.972Z"
   },
   {
    "duration": 708,
    "start_time": "2022-11-28T19:01:01.995Z"
   },
   {
    "duration": 3,
    "start_time": "2022-11-28T19:01:02.705Z"
   },
   {
    "duration": 497,
    "start_time": "2022-11-28T19:01:02.709Z"
   },
   {
    "duration": 3,
    "start_time": "2022-11-28T19:01:03.208Z"
   },
   {
    "duration": 16,
    "start_time": "2022-11-28T19:01:03.213Z"
   },
   {
    "duration": 9,
    "start_time": "2022-11-28T19:01:03.230Z"
   },
   {
    "duration": 18,
    "start_time": "2022-11-28T19:01:03.241Z"
   },
   {
    "duration": 5,
    "start_time": "2022-11-28T19:01:03.260Z"
   },
   {
    "duration": 10,
    "start_time": "2022-11-28T19:01:03.267Z"
   },
   {
    "duration": 25,
    "start_time": "2022-11-28T19:01:03.279Z"
   },
   {
    "duration": 17,
    "start_time": "2022-11-28T19:01:03.306Z"
   },
   {
    "duration": 27,
    "start_time": "2022-11-28T19:01:03.325Z"
   },
   {
    "duration": 39,
    "start_time": "2022-11-28T19:01:03.354Z"
   },
   {
    "duration": 120,
    "start_time": "2022-11-28T19:01:03.395Z"
   },
   {
    "duration": 100,
    "start_time": "2022-11-28T19:01:03.517Z"
   },
   {
    "duration": 5,
    "start_time": "2022-11-28T19:01:03.620Z"
   },
   {
    "duration": 16,
    "start_time": "2022-11-28T19:01:03.627Z"
   },
   {
    "duration": 1473,
    "start_time": "2022-11-28T19:07:37.347Z"
   },
   {
    "duration": 1455,
    "start_time": "2022-11-28T19:10:21.861Z"
   },
   {
    "duration": 1018,
    "start_time": "2022-11-28T19:10:23.317Z"
   },
   {
    "duration": 2562,
    "start_time": "2022-11-28T19:10:24.336Z"
   },
   {
    "duration": 160,
    "start_time": "2022-11-28T19:10:26.901Z"
   },
   {
    "duration": 2,
    "start_time": "2022-11-28T19:10:27.062Z"
   },
   {
    "duration": 359,
    "start_time": "2022-11-28T19:10:27.066Z"
   },
   {
    "duration": 19,
    "start_time": "2022-11-28T19:10:27.427Z"
   },
   {
    "duration": 469,
    "start_time": "2022-11-28T19:10:27.448Z"
   },
   {
    "duration": 54,
    "start_time": "2022-11-28T19:10:27.919Z"
   },
   {
    "duration": 195,
    "start_time": "2022-11-28T19:10:27.976Z"
   },
   {
    "duration": 26,
    "start_time": "2022-11-28T19:10:28.172Z"
   },
   {
    "duration": 1239,
    "start_time": "2022-11-28T19:10:28.200Z"
   },
   {
    "duration": 15,
    "start_time": "2022-11-28T19:10:29.441Z"
   },
   {
    "duration": 302,
    "start_time": "2022-11-28T19:10:29.457Z"
   },
   {
    "duration": 66,
    "start_time": "2022-11-28T19:10:29.761Z"
   },
   {
    "duration": 34,
    "start_time": "2022-11-28T19:10:29.829Z"
   },
   {
    "duration": 97,
    "start_time": "2022-11-28T19:10:29.864Z"
   },
   {
    "duration": 51,
    "start_time": "2022-11-28T19:10:29.963Z"
   },
   {
    "duration": 1527,
    "start_time": "2022-11-28T19:10:30.015Z"
   },
   {
    "duration": 15,
    "start_time": "2022-11-28T19:10:31.544Z"
   },
   {
    "duration": 44,
    "start_time": "2022-11-28T19:10:31.561Z"
   },
   {
    "duration": 34,
    "start_time": "2022-11-28T19:10:31.606Z"
   },
   {
    "duration": 106,
    "start_time": "2022-11-28T19:10:31.642Z"
   },
   {
    "duration": 188,
    "start_time": "2022-11-28T19:10:31.750Z"
   },
   {
    "duration": 110,
    "start_time": "2022-11-28T19:10:31.939Z"
   },
   {
    "duration": 31,
    "start_time": "2022-11-28T19:10:32.051Z"
   },
   {
    "duration": 17,
    "start_time": "2022-11-28T19:10:32.097Z"
   },
   {
    "duration": 9,
    "start_time": "2022-11-28T19:10:32.119Z"
   },
   {
    "duration": 4862,
    "start_time": "2022-11-28T19:10:32.129Z"
   },
   {
    "duration": 8,
    "start_time": "2022-11-28T19:10:36.992Z"
   },
   {
    "duration": 13,
    "start_time": "2022-11-28T19:10:37.001Z"
   },
   {
    "duration": 6,
    "start_time": "2022-11-28T19:10:37.016Z"
   },
   {
    "duration": 45,
    "start_time": "2022-11-28T19:10:37.024Z"
   },
   {
    "duration": 6,
    "start_time": "2022-11-28T19:10:37.071Z"
   },
   {
    "duration": 4816,
    "start_time": "2022-11-28T19:10:37.097Z"
   },
   {
    "duration": 6,
    "start_time": "2022-11-28T19:10:41.914Z"
   },
   {
    "duration": 47,
    "start_time": "2022-11-28T19:10:41.921Z"
   },
   {
    "duration": 96,
    "start_time": "2022-11-28T19:10:41.970Z"
   },
   {
    "duration": 105,
    "start_time": "2022-11-28T19:10:42.067Z"
   },
   {
    "duration": 48,
    "start_time": "2022-11-28T19:10:42.174Z"
   },
   {
    "duration": 49,
    "start_time": "2022-11-28T19:10:42.224Z"
   },
   {
    "duration": 24,
    "start_time": "2022-11-28T19:10:42.275Z"
   },
   {
    "duration": 32,
    "start_time": "2022-11-28T19:10:42.301Z"
   },
   {
    "duration": 40,
    "start_time": "2022-11-28T19:10:42.334Z"
   },
   {
    "duration": 47,
    "start_time": "2022-11-28T19:10:42.376Z"
   },
   {
    "duration": 106,
    "start_time": "2022-11-28T19:10:42.425Z"
   },
   {
    "duration": 1529,
    "start_time": "2022-11-28T19:10:42.532Z"
   },
   {
    "duration": 37,
    "start_time": "2022-11-28T19:10:44.063Z"
   },
   {
    "duration": 32,
    "start_time": "2022-11-28T19:10:44.101Z"
   },
   {
    "duration": 21,
    "start_time": "2022-11-28T19:10:44.135Z"
   },
   {
    "duration": 50,
    "start_time": "2022-11-28T19:10:44.157Z"
   },
   {
    "duration": 27,
    "start_time": "2022-11-28T19:10:44.208Z"
   },
   {
    "duration": 32,
    "start_time": "2022-11-28T19:10:44.237Z"
   },
   {
    "duration": 27,
    "start_time": "2022-11-28T19:10:44.270Z"
   },
   {
    "duration": 227,
    "start_time": "2022-11-28T19:10:44.299Z"
   },
   {
    "duration": 13,
    "start_time": "2022-11-28T19:10:44.528Z"
   },
   {
    "duration": 20,
    "start_time": "2022-11-28T19:10:44.543Z"
   },
   {
    "duration": 95,
    "start_time": "2022-11-28T19:10:44.565Z"
   },
   {
    "duration": 4,
    "start_time": "2022-11-28T19:10:44.662Z"
   },
   {
    "duration": 33,
    "start_time": "2022-11-28T19:10:44.668Z"
   },
   {
    "duration": 21,
    "start_time": "2022-11-28T19:10:44.702Z"
   },
   {
    "duration": 65,
    "start_time": "2022-11-28T19:10:44.725Z"
   },
   {
    "duration": 18,
    "start_time": "2022-11-28T19:10:44.793Z"
   },
   {
    "duration": 705,
    "start_time": "2022-11-28T19:10:44.813Z"
   },
   {
    "duration": 3,
    "start_time": "2022-11-28T19:10:45.524Z"
   },
   {
    "duration": 487,
    "start_time": "2022-11-28T19:10:45.529Z"
   },
   {
    "duration": 3,
    "start_time": "2022-11-28T19:10:46.018Z"
   },
   {
    "duration": 11,
    "start_time": "2022-11-28T19:10:46.022Z"
   },
   {
    "duration": 6,
    "start_time": "2022-11-28T19:10:46.035Z"
   },
   {
    "duration": 10,
    "start_time": "2022-11-28T19:10:46.042Z"
   },
   {
    "duration": 5,
    "start_time": "2022-11-28T19:10:46.053Z"
   },
   {
    "duration": 6,
    "start_time": "2022-11-28T19:10:46.059Z"
   },
   {
    "duration": 6,
    "start_time": "2022-11-28T19:10:46.066Z"
   },
   {
    "duration": 7,
    "start_time": "2022-11-28T19:10:46.073Z"
   },
   {
    "duration": 15,
    "start_time": "2022-11-28T19:10:46.082Z"
   },
   {
    "duration": 6,
    "start_time": "2022-11-28T19:10:46.100Z"
   },
   {
    "duration": 94,
    "start_time": "2022-11-28T19:10:46.107Z"
   },
   {
    "duration": 85,
    "start_time": "2022-11-28T19:10:46.202Z"
   },
   {
    "duration": 3,
    "start_time": "2022-11-28T19:10:46.297Z"
   },
   {
    "duration": 6,
    "start_time": "2022-11-28T19:10:46.301Z"
   },
   {
    "duration": 47,
    "start_time": "2022-11-28T19:25:37.924Z"
   },
   {
    "duration": 1436,
    "start_time": "2022-11-28T19:25:47.875Z"
   },
   {
    "duration": 1015,
    "start_time": "2022-11-28T19:25:49.313Z"
   },
   {
    "duration": 2433,
    "start_time": "2022-11-28T19:25:50.330Z"
   },
   {
    "duration": 177,
    "start_time": "2022-11-28T19:25:52.765Z"
   },
   {
    "duration": 3,
    "start_time": "2022-11-28T19:25:52.943Z"
   },
   {
    "duration": 321,
    "start_time": "2022-11-28T19:25:52.947Z"
   },
   {
    "duration": 27,
    "start_time": "2022-11-28T19:25:53.270Z"
   },
   {
    "duration": 457,
    "start_time": "2022-11-28T19:25:53.299Z"
   },
   {
    "duration": 56,
    "start_time": "2022-11-28T19:25:53.757Z"
   },
   {
    "duration": 185,
    "start_time": "2022-11-28T19:25:53.815Z"
   },
   {
    "duration": 20,
    "start_time": "2022-11-28T19:25:54.001Z"
   },
   {
    "duration": 1254,
    "start_time": "2022-11-28T19:25:54.022Z"
   },
   {
    "duration": 20,
    "start_time": "2022-11-28T19:25:55.278Z"
   },
   {
    "duration": 273,
    "start_time": "2022-11-28T19:25:55.299Z"
   },
   {
    "duration": 72,
    "start_time": "2022-11-28T19:25:55.574Z"
   },
   {
    "duration": 31,
    "start_time": "2022-11-28T19:25:55.648Z"
   },
   {
    "duration": 84,
    "start_time": "2022-11-28T19:25:55.681Z"
   },
   {
    "duration": 48,
    "start_time": "2022-11-28T19:25:55.767Z"
   },
   {
    "duration": 1401,
    "start_time": "2022-11-28T19:25:55.816Z"
   },
   {
    "duration": 18,
    "start_time": "2022-11-28T19:25:57.219Z"
   },
   {
    "duration": 61,
    "start_time": "2022-11-28T19:25:57.239Z"
   },
   {
    "duration": 67,
    "start_time": "2022-11-28T19:25:57.302Z"
   },
   {
    "duration": 97,
    "start_time": "2022-11-28T19:25:57.371Z"
   },
   {
    "duration": 172,
    "start_time": "2022-11-28T19:25:57.469Z"
   },
   {
    "duration": 112,
    "start_time": "2022-11-28T19:25:57.643Z"
   },
   {
    "duration": 42,
    "start_time": "2022-11-28T19:25:57.756Z"
   },
   {
    "duration": 14,
    "start_time": "2022-11-28T19:25:57.800Z"
   },
   {
    "duration": 11,
    "start_time": "2022-11-28T19:25:57.819Z"
   },
   {
    "duration": 4556,
    "start_time": "2022-11-28T19:25:57.831Z"
   },
   {
    "duration": 11,
    "start_time": "2022-11-28T19:26:02.388Z"
   },
   {
    "duration": 5,
    "start_time": "2022-11-28T19:26:02.401Z"
   },
   {
    "duration": 7,
    "start_time": "2022-11-28T19:26:02.407Z"
   },
   {
    "duration": 42,
    "start_time": "2022-11-28T19:26:02.416Z"
   },
   {
    "duration": 5,
    "start_time": "2022-11-28T19:26:02.460Z"
   },
   {
    "duration": 4485,
    "start_time": "2022-11-28T19:26:02.466Z"
   },
   {
    "duration": 6,
    "start_time": "2022-11-28T19:26:06.953Z"
   },
   {
    "duration": 48,
    "start_time": "2022-11-28T19:26:06.960Z"
   },
   {
    "duration": 87,
    "start_time": "2022-11-28T19:26:07.010Z"
   },
   {
    "duration": 105,
    "start_time": "2022-11-28T19:26:07.099Z"
   },
   {
    "duration": 36,
    "start_time": "2022-11-28T19:26:07.205Z"
   },
   {
    "duration": 64,
    "start_time": "2022-11-28T19:26:07.242Z"
   },
   {
    "duration": 15,
    "start_time": "2022-11-28T19:26:07.307Z"
   },
   {
    "duration": 23,
    "start_time": "2022-11-28T19:26:07.323Z"
   },
   {
    "duration": 52,
    "start_time": "2022-11-28T19:26:07.347Z"
   },
   {
    "duration": 47,
    "start_time": "2022-11-28T19:26:07.400Z"
   },
   {
    "duration": 113,
    "start_time": "2022-11-28T19:26:07.448Z"
   },
   {
    "duration": 1373,
    "start_time": "2022-11-28T19:26:07.562Z"
   },
   {
    "duration": 30,
    "start_time": "2022-11-28T19:26:08.937Z"
   },
   {
    "duration": 38,
    "start_time": "2022-11-28T19:26:08.968Z"
   },
   {
    "duration": 22,
    "start_time": "2022-11-28T19:26:09.007Z"
   },
   {
    "duration": 31,
    "start_time": "2022-11-28T19:26:09.031Z"
   },
   {
    "duration": 46,
    "start_time": "2022-11-28T19:26:09.064Z"
   },
   {
    "duration": 30,
    "start_time": "2022-11-28T19:26:09.112Z"
   },
   {
    "duration": 6,
    "start_time": "2022-11-28T19:26:09.143Z"
   },
   {
    "duration": 194,
    "start_time": "2022-11-28T19:26:09.150Z"
   },
   {
    "duration": 11,
    "start_time": "2022-11-28T19:26:09.346Z"
   },
   {
    "duration": 4,
    "start_time": "2022-11-28T19:26:09.358Z"
   },
   {
    "duration": 63,
    "start_time": "2022-11-28T19:26:09.363Z"
   },
   {
    "duration": 3,
    "start_time": "2022-11-28T19:26:09.428Z"
   },
   {
    "duration": 21,
    "start_time": "2022-11-28T19:26:09.433Z"
   },
   {
    "duration": 7,
    "start_time": "2022-11-28T19:26:09.456Z"
   },
   {
    "duration": 6,
    "start_time": "2022-11-28T19:26:09.464Z"
   },
   {
    "duration": 26,
    "start_time": "2022-11-28T19:26:09.471Z"
   },
   {
    "duration": 649,
    "start_time": "2022-11-28T19:26:09.499Z"
   },
   {
    "duration": 3,
    "start_time": "2022-11-28T19:26:10.149Z"
   },
   {
    "duration": 475,
    "start_time": "2022-11-28T19:26:10.154Z"
   },
   {
    "duration": 3,
    "start_time": "2022-11-28T19:26:10.630Z"
   },
   {
    "duration": 6,
    "start_time": "2022-11-28T19:26:10.635Z"
   },
   {
    "duration": 6,
    "start_time": "2022-11-28T19:26:10.642Z"
   },
   {
    "duration": 8,
    "start_time": "2022-11-28T19:26:10.649Z"
   },
   {
    "duration": 8,
    "start_time": "2022-11-28T19:26:10.659Z"
   },
   {
    "duration": 7,
    "start_time": "2022-11-28T19:26:10.669Z"
   },
   {
    "duration": 5,
    "start_time": "2022-11-28T19:26:10.678Z"
   },
   {
    "duration": 15,
    "start_time": "2022-11-28T19:26:10.685Z"
   },
   {
    "duration": 19,
    "start_time": "2022-11-28T19:26:10.701Z"
   },
   {
    "duration": 12,
    "start_time": "2022-11-28T19:26:10.721Z"
   },
   {
    "duration": 92,
    "start_time": "2022-11-28T19:26:10.735Z"
   },
   {
    "duration": 77,
    "start_time": "2022-11-28T19:26:10.829Z"
   },
   {
    "duration": 3,
    "start_time": "2022-11-28T19:26:10.908Z"
   },
   {
    "duration": 5,
    "start_time": "2022-11-28T19:26:10.912Z"
   },
   {
    "duration": 44,
    "start_time": "2022-11-28T19:31:56.844Z"
   },
   {
    "duration": 6,
    "start_time": "2022-11-28T19:32:00.231Z"
   },
   {
    "duration": 1409,
    "start_time": "2022-11-28T19:32:12.888Z"
   },
   {
    "duration": 1035,
    "start_time": "2022-11-28T19:32:14.299Z"
   },
   {
    "duration": 2371,
    "start_time": "2022-11-28T19:32:15.336Z"
   },
   {
    "duration": 159,
    "start_time": "2022-11-28T19:32:17.709Z"
   },
   {
    "duration": 2,
    "start_time": "2022-11-28T19:32:17.870Z"
   },
   {
    "duration": 329,
    "start_time": "2022-11-28T19:32:17.874Z"
   },
   {
    "duration": 19,
    "start_time": "2022-11-28T19:32:18.204Z"
   },
   {
    "duration": 447,
    "start_time": "2022-11-28T19:32:18.225Z"
   },
   {
    "duration": 56,
    "start_time": "2022-11-28T19:32:18.673Z"
   },
   {
    "duration": 177,
    "start_time": "2022-11-28T19:32:18.732Z"
   },
   {
    "duration": 18,
    "start_time": "2022-11-28T19:32:18.911Z"
   },
   {
    "duration": 1233,
    "start_time": "2022-11-28T19:32:18.930Z"
   },
   {
    "duration": 14,
    "start_time": "2022-11-28T19:32:20.164Z"
   },
   {
    "duration": 280,
    "start_time": "2022-11-28T19:32:20.180Z"
   },
   {
    "duration": 63,
    "start_time": "2022-11-28T19:32:20.461Z"
   },
   {
    "duration": 30,
    "start_time": "2022-11-28T19:32:20.526Z"
   },
   {
    "duration": 79,
    "start_time": "2022-11-28T19:32:20.558Z"
   },
   {
    "duration": 40,
    "start_time": "2022-11-28T19:32:20.638Z"
   },
   {
    "duration": 1351,
    "start_time": "2022-11-28T19:32:20.679Z"
   },
   {
    "duration": 15,
    "start_time": "2022-11-28T19:32:22.031Z"
   },
   {
    "duration": 33,
    "start_time": "2022-11-28T19:32:22.047Z"
   },
   {
    "duration": 40,
    "start_time": "2022-11-28T19:32:22.081Z"
   },
   {
    "duration": 104,
    "start_time": "2022-11-28T19:32:22.123Z"
   },
   {
    "duration": 186,
    "start_time": "2022-11-28T19:32:22.228Z"
   },
   {
    "duration": 113,
    "start_time": "2022-11-28T19:32:22.416Z"
   },
   {
    "duration": 32,
    "start_time": "2022-11-28T19:32:22.530Z"
   },
   {
    "duration": 12,
    "start_time": "2022-11-28T19:32:22.564Z"
   },
   {
    "duration": 8,
    "start_time": "2022-11-28T19:32:22.597Z"
   },
   {
    "duration": 4599,
    "start_time": "2022-11-28T19:32:22.606Z"
   },
   {
    "duration": 5,
    "start_time": "2022-11-28T19:32:27.207Z"
   },
   {
    "duration": 17,
    "start_time": "2022-11-28T19:32:27.213Z"
   },
   {
    "duration": 12,
    "start_time": "2022-11-28T19:32:27.231Z"
   },
   {
    "duration": 46,
    "start_time": "2022-11-28T19:32:27.244Z"
   },
   {
    "duration": 9,
    "start_time": "2022-11-28T19:32:27.292Z"
   },
   {
    "duration": 4521,
    "start_time": "2022-11-28T19:32:27.303Z"
   },
   {
    "duration": 5,
    "start_time": "2022-11-28T19:32:31.825Z"
   },
   {
    "duration": 66,
    "start_time": "2022-11-28T19:32:31.832Z"
   },
   {
    "duration": 94,
    "start_time": "2022-11-28T19:32:31.900Z"
   },
   {
    "duration": 115,
    "start_time": "2022-11-28T19:32:31.997Z"
   },
   {
    "duration": 37,
    "start_time": "2022-11-28T19:32:32.114Z"
   },
   {
    "duration": 67,
    "start_time": "2022-11-28T19:32:32.153Z"
   },
   {
    "duration": 17,
    "start_time": "2022-11-28T19:32:32.222Z"
   },
   {
    "duration": 24,
    "start_time": "2022-11-28T19:32:32.241Z"
   },
   {
    "duration": 49,
    "start_time": "2022-11-28T19:32:32.267Z"
   },
   {
    "duration": 48,
    "start_time": "2022-11-28T19:32:32.318Z"
   },
   {
    "duration": 114,
    "start_time": "2022-11-28T19:32:32.368Z"
   },
   {
    "duration": 1659,
    "start_time": "2022-11-28T19:32:32.484Z"
   },
   {
    "duration": 29,
    "start_time": "2022-11-28T19:32:34.144Z"
   },
   {
    "duration": 40,
    "start_time": "2022-11-28T19:32:34.174Z"
   },
   {
    "duration": 19,
    "start_time": "2022-11-28T19:32:34.216Z"
   },
   {
    "duration": 28,
    "start_time": "2022-11-28T19:32:34.236Z"
   },
   {
    "duration": 40,
    "start_time": "2022-11-28T19:32:34.265Z"
   },
   {
    "duration": 29,
    "start_time": "2022-11-28T19:32:34.307Z"
   },
   {
    "duration": 6,
    "start_time": "2022-11-28T19:32:34.337Z"
   },
   {
    "duration": 199,
    "start_time": "2022-11-28T19:32:34.344Z"
   },
   {
    "duration": 12,
    "start_time": "2022-11-28T19:32:34.545Z"
   },
   {
    "duration": 4,
    "start_time": "2022-11-28T19:32:34.558Z"
   },
   {
    "duration": 63,
    "start_time": "2022-11-28T19:32:34.564Z"
   },
   {
    "duration": 4,
    "start_time": "2022-11-28T19:32:34.629Z"
   },
   {
    "duration": 29,
    "start_time": "2022-11-28T19:32:34.635Z"
   },
   {
    "duration": 8,
    "start_time": "2022-11-28T19:32:34.666Z"
   },
   {
    "duration": 31,
    "start_time": "2022-11-28T19:32:34.676Z"
   },
   {
    "duration": 42,
    "start_time": "2022-11-28T19:32:34.708Z"
   },
   {
    "duration": 746,
    "start_time": "2022-11-28T19:32:34.751Z"
   },
   {
    "duration": 3,
    "start_time": "2022-11-28T19:32:35.499Z"
   },
   {
    "duration": 493,
    "start_time": "2022-11-28T19:32:35.504Z"
   },
   {
    "duration": 4,
    "start_time": "2022-11-28T19:32:35.999Z"
   },
   {
    "duration": 7,
    "start_time": "2022-11-28T19:32:36.004Z"
   },
   {
    "duration": 9,
    "start_time": "2022-11-28T19:32:36.012Z"
   },
   {
    "duration": 13,
    "start_time": "2022-11-28T19:32:36.022Z"
   },
   {
    "duration": 5,
    "start_time": "2022-11-28T19:32:36.036Z"
   },
   {
    "duration": 5,
    "start_time": "2022-11-28T19:32:36.043Z"
   },
   {
    "duration": 7,
    "start_time": "2022-11-28T19:32:36.049Z"
   },
   {
    "duration": 5,
    "start_time": "2022-11-28T19:32:36.058Z"
   },
   {
    "duration": 5,
    "start_time": "2022-11-28T19:32:36.064Z"
   },
   {
    "duration": 6,
    "start_time": "2022-11-28T19:32:36.070Z"
   },
   {
    "duration": 101,
    "start_time": "2022-11-28T19:32:36.077Z"
   },
   {
    "duration": 102,
    "start_time": "2022-11-28T19:32:36.179Z"
   },
   {
    "duration": 3,
    "start_time": "2022-11-28T19:32:36.282Z"
   },
   {
    "duration": 6,
    "start_time": "2022-11-28T19:32:36.286Z"
   },
   {
    "duration": 43,
    "start_time": "2022-11-28T19:41:23.207Z"
   },
   {
    "duration": 1353,
    "start_time": "2022-11-28T19:41:32.236Z"
   },
   {
    "duration": 988,
    "start_time": "2022-11-28T19:41:33.590Z"
   },
   {
    "duration": 2414,
    "start_time": "2022-11-28T19:41:34.579Z"
   },
   {
    "duration": 172,
    "start_time": "2022-11-28T19:41:36.995Z"
   },
   {
    "duration": 2,
    "start_time": "2022-11-28T19:41:37.168Z"
   },
   {
    "duration": 319,
    "start_time": "2022-11-28T19:41:37.172Z"
   },
   {
    "duration": 19,
    "start_time": "2022-11-28T19:41:37.497Z"
   },
   {
    "duration": 474,
    "start_time": "2022-11-28T19:41:37.518Z"
   },
   {
    "duration": 50,
    "start_time": "2022-11-28T19:41:37.997Z"
   },
   {
    "duration": 189,
    "start_time": "2022-11-28T19:41:38.049Z"
   },
   {
    "duration": 20,
    "start_time": "2022-11-28T19:41:38.239Z"
   },
   {
    "duration": 1212,
    "start_time": "2022-11-28T19:41:38.261Z"
   },
   {
    "duration": 22,
    "start_time": "2022-11-28T19:41:39.475Z"
   },
   {
    "duration": 267,
    "start_time": "2022-11-28T19:41:39.498Z"
   },
   {
    "duration": 71,
    "start_time": "2022-11-28T19:41:39.766Z"
   },
   {
    "duration": 29,
    "start_time": "2022-11-28T19:41:39.839Z"
   },
   {
    "duration": 85,
    "start_time": "2022-11-28T19:41:39.869Z"
   },
   {
    "duration": 58,
    "start_time": "2022-11-28T19:41:39.955Z"
   },
   {
    "duration": 1328,
    "start_time": "2022-11-28T19:41:40.014Z"
   },
   {
    "duration": 15,
    "start_time": "2022-11-28T19:41:41.343Z"
   },
   {
    "duration": 41,
    "start_time": "2022-11-28T19:41:41.359Z"
   },
   {
    "duration": 30,
    "start_time": "2022-11-28T19:41:41.401Z"
   },
   {
    "duration": 111,
    "start_time": "2022-11-28T19:41:41.432Z"
   },
   {
    "duration": 166,
    "start_time": "2022-11-28T19:41:41.545Z"
   },
   {
    "duration": 109,
    "start_time": "2022-11-28T19:41:41.712Z"
   },
   {
    "duration": 31,
    "start_time": "2022-11-28T19:41:41.823Z"
   },
   {
    "duration": 12,
    "start_time": "2022-11-28T19:41:41.856Z"
   },
   {
    "duration": 27,
    "start_time": "2022-11-28T19:41:41.872Z"
   },
   {
    "duration": 4591,
    "start_time": "2022-11-28T19:41:41.900Z"
   },
   {
    "duration": 5,
    "start_time": "2022-11-28T19:41:46.497Z"
   },
   {
    "duration": 11,
    "start_time": "2022-11-28T19:41:46.503Z"
   },
   {
    "duration": 6,
    "start_time": "2022-11-28T19:41:46.516Z"
   },
   {
    "duration": 44,
    "start_time": "2022-11-28T19:41:46.524Z"
   },
   {
    "duration": 5,
    "start_time": "2022-11-28T19:41:46.569Z"
   },
   {
    "duration": 4540,
    "start_time": "2022-11-28T19:41:46.575Z"
   },
   {
    "duration": 7,
    "start_time": "2022-11-28T19:41:51.117Z"
   },
   {
    "duration": 34,
    "start_time": "2022-11-28T19:41:51.126Z"
   },
   {
    "duration": 105,
    "start_time": "2022-11-28T19:41:51.161Z"
   },
   {
    "duration": 108,
    "start_time": "2022-11-28T19:41:51.268Z"
   },
   {
    "duration": 43,
    "start_time": "2022-11-28T19:41:51.378Z"
   },
   {
    "duration": 48,
    "start_time": "2022-11-28T19:41:51.422Z"
   },
   {
    "duration": 27,
    "start_time": "2022-11-28T19:41:51.471Z"
   },
   {
    "duration": 19,
    "start_time": "2022-11-28T19:41:51.499Z"
   },
   {
    "duration": 37,
    "start_time": "2022-11-28T19:41:51.519Z"
   },
   {
    "duration": 51,
    "start_time": "2022-11-28T19:41:51.558Z"
   },
   {
    "duration": 98,
    "start_time": "2022-11-28T19:41:51.610Z"
   },
   {
    "duration": 1523,
    "start_time": "2022-11-28T19:41:51.710Z"
   },
   {
    "duration": 34,
    "start_time": "2022-11-28T19:41:53.235Z"
   },
   {
    "duration": 44,
    "start_time": "2022-11-28T19:41:53.271Z"
   },
   {
    "duration": 20,
    "start_time": "2022-11-28T19:41:53.317Z"
   },
   {
    "duration": 32,
    "start_time": "2022-11-28T19:41:53.338Z"
   },
   {
    "duration": 48,
    "start_time": "2022-11-28T19:41:53.372Z"
   },
   {
    "duration": 31,
    "start_time": "2022-11-28T19:41:53.422Z"
   },
   {
    "duration": 6,
    "start_time": "2022-11-28T19:41:53.455Z"
   },
   {
    "duration": 215,
    "start_time": "2022-11-28T19:41:53.463Z"
   },
   {
    "duration": 21,
    "start_time": "2022-11-28T19:41:53.679Z"
   },
   {
    "duration": 4,
    "start_time": "2022-11-28T19:41:53.702Z"
   },
   {
    "duration": 54,
    "start_time": "2022-11-28T19:41:53.708Z"
   },
   {
    "duration": 4,
    "start_time": "2022-11-28T19:41:53.764Z"
   },
   {
    "duration": 36,
    "start_time": "2022-11-28T19:41:53.770Z"
   },
   {
    "duration": 7,
    "start_time": "2022-11-28T19:41:53.808Z"
   },
   {
    "duration": 11,
    "start_time": "2022-11-28T19:41:53.816Z"
   },
   {
    "duration": 6,
    "start_time": "2022-11-28T19:41:53.828Z"
   },
   {
    "duration": 669,
    "start_time": "2022-11-28T19:41:53.835Z"
   },
   {
    "duration": 2,
    "start_time": "2022-11-28T19:41:54.506Z"
   },
   {
    "duration": 516,
    "start_time": "2022-11-28T19:41:54.510Z"
   },
   {
    "duration": 3,
    "start_time": "2022-11-28T19:41:55.028Z"
   },
   {
    "duration": 10,
    "start_time": "2022-11-28T19:41:55.032Z"
   },
   {
    "duration": 7,
    "start_time": "2022-11-28T19:41:55.043Z"
   },
   {
    "duration": 16,
    "start_time": "2022-11-28T19:41:55.051Z"
   },
   {
    "duration": 7,
    "start_time": "2022-11-28T19:41:55.069Z"
   },
   {
    "duration": 5,
    "start_time": "2022-11-28T19:41:55.078Z"
   },
   {
    "duration": 5,
    "start_time": "2022-11-28T19:41:55.085Z"
   },
   {
    "duration": 6,
    "start_time": "2022-11-28T19:41:55.091Z"
   },
   {
    "duration": 5,
    "start_time": "2022-11-28T19:41:55.098Z"
   },
   {
    "duration": 10,
    "start_time": "2022-11-28T19:41:55.105Z"
   },
   {
    "duration": 89,
    "start_time": "2022-11-28T19:41:55.116Z"
   },
   {
    "duration": 93,
    "start_time": "2022-11-28T19:41:55.206Z"
   },
   {
    "duration": 3,
    "start_time": "2022-11-28T19:41:55.301Z"
   },
   {
    "duration": 7,
    "start_time": "2022-11-28T19:41:55.305Z"
   },
   {
    "duration": 46,
    "start_time": "2022-11-28T19:51:00.367Z"
   },
   {
    "duration": 47,
    "start_time": "2022-11-28T19:51:04.757Z"
   },
   {
    "duration": 6,
    "start_time": "2022-11-28T19:51:06.371Z"
   },
   {
    "duration": 1498,
    "start_time": "2022-11-28T19:51:23.671Z"
   },
   {
    "duration": 1069,
    "start_time": "2022-11-28T19:51:25.171Z"
   },
   {
    "duration": 2505,
    "start_time": "2022-11-28T19:51:26.242Z"
   },
   {
    "duration": 191,
    "start_time": "2022-11-28T19:51:28.749Z"
   },
   {
    "duration": 2,
    "start_time": "2022-11-28T19:51:28.942Z"
   },
   {
    "duration": 331,
    "start_time": "2022-11-28T19:51:28.946Z"
   },
   {
    "duration": 29,
    "start_time": "2022-11-28T19:51:29.278Z"
   },
   {
    "duration": 472,
    "start_time": "2022-11-28T19:51:29.308Z"
   },
   {
    "duration": 57,
    "start_time": "2022-11-28T19:51:29.782Z"
   },
   {
    "duration": 216,
    "start_time": "2022-11-28T19:51:29.842Z"
   },
   {
    "duration": 23,
    "start_time": "2022-11-28T19:51:30.060Z"
   },
   {
    "duration": 1299,
    "start_time": "2022-11-28T19:51:30.085Z"
   },
   {
    "duration": 23,
    "start_time": "2022-11-28T19:51:31.386Z"
   },
   {
    "duration": 289,
    "start_time": "2022-11-28T19:51:31.411Z"
   },
   {
    "duration": 61,
    "start_time": "2022-11-28T19:51:31.701Z"
   },
   {
    "duration": 48,
    "start_time": "2022-11-28T19:51:31.764Z"
   },
   {
    "duration": 71,
    "start_time": "2022-11-28T19:51:31.814Z"
   },
   {
    "duration": 47,
    "start_time": "2022-11-28T19:51:31.898Z"
   },
   {
    "duration": 1508,
    "start_time": "2022-11-28T19:51:31.947Z"
   },
   {
    "duration": 15,
    "start_time": "2022-11-28T19:51:33.457Z"
   },
   {
    "duration": 44,
    "start_time": "2022-11-28T19:51:33.474Z"
   },
   {
    "duration": 37,
    "start_time": "2022-11-28T19:51:33.519Z"
   },
   {
    "duration": 107,
    "start_time": "2022-11-28T19:51:33.557Z"
   },
   {
    "duration": 178,
    "start_time": "2022-11-28T19:51:33.666Z"
   },
   {
    "duration": 117,
    "start_time": "2022-11-28T19:51:33.845Z"
   },
   {
    "duration": 44,
    "start_time": "2022-11-28T19:51:33.964Z"
   },
   {
    "duration": 13,
    "start_time": "2022-11-28T19:51:34.009Z"
   },
   {
    "duration": 7,
    "start_time": "2022-11-28T19:51:34.026Z"
   },
   {
    "duration": 4822,
    "start_time": "2022-11-28T19:51:34.034Z"
   },
   {
    "duration": 5,
    "start_time": "2022-11-28T19:51:38.857Z"
   },
   {
    "duration": 31,
    "start_time": "2022-11-28T19:51:38.864Z"
   },
   {
    "duration": 50,
    "start_time": "2022-11-28T19:51:38.897Z"
   },
   {
    "duration": 78,
    "start_time": "2022-11-28T19:51:38.949Z"
   },
   {
    "duration": 6,
    "start_time": "2022-11-28T19:51:39.029Z"
   },
   {
    "duration": 4713,
    "start_time": "2022-11-28T19:51:39.036Z"
   },
   {
    "duration": 6,
    "start_time": "2022-11-28T19:51:43.751Z"
   },
   {
    "duration": 42,
    "start_time": "2022-11-28T19:51:43.758Z"
   },
   {
    "duration": 81,
    "start_time": "2022-11-28T19:51:43.801Z"
   },
   {
    "duration": 128,
    "start_time": "2022-11-28T19:51:43.883Z"
   },
   {
    "duration": 37,
    "start_time": "2022-11-28T19:51:44.013Z"
   },
   {
    "duration": 65,
    "start_time": "2022-11-28T19:51:44.051Z"
   },
   {
    "duration": 16,
    "start_time": "2022-11-28T19:51:44.118Z"
   },
   {
    "duration": 20,
    "start_time": "2022-11-28T19:51:44.135Z"
   },
   {
    "duration": 48,
    "start_time": "2022-11-28T19:51:44.157Z"
   },
   {
    "duration": 40,
    "start_time": "2022-11-28T19:51:44.206Z"
   },
   {
    "duration": 106,
    "start_time": "2022-11-28T19:51:44.247Z"
   },
   {
    "duration": 1504,
    "start_time": "2022-11-28T19:51:44.355Z"
   },
   {
    "duration": 37,
    "start_time": "2022-11-28T19:51:45.861Z"
   },
   {
    "duration": 30,
    "start_time": "2022-11-28T19:51:45.900Z"
   },
   {
    "duration": 25,
    "start_time": "2022-11-28T19:51:45.931Z"
   },
   {
    "duration": 48,
    "start_time": "2022-11-28T19:51:45.958Z"
   },
   {
    "duration": 26,
    "start_time": "2022-11-28T19:51:46.008Z"
   },
   {
    "duration": 29,
    "start_time": "2022-11-28T19:51:46.036Z"
   },
   {
    "duration": 5,
    "start_time": "2022-11-28T19:51:46.066Z"
   },
   {
    "duration": 247,
    "start_time": "2022-11-28T19:51:46.073Z"
   },
   {
    "duration": 11,
    "start_time": "2022-11-28T19:51:46.322Z"
   },
   {
    "duration": 45,
    "start_time": "2022-11-28T19:51:46.335Z"
   },
   {
    "duration": 63,
    "start_time": "2022-11-28T19:51:46.382Z"
   },
   {
    "duration": 3,
    "start_time": "2022-11-28T19:51:46.447Z"
   },
   {
    "duration": 31,
    "start_time": "2022-11-28T19:51:46.451Z"
   },
   {
    "duration": 7,
    "start_time": "2022-11-28T19:51:46.484Z"
   },
   {
    "duration": 11,
    "start_time": "2022-11-28T19:51:46.493Z"
   },
   {
    "duration": 21,
    "start_time": "2022-11-28T19:51:46.506Z"
   },
   {
    "duration": 746,
    "start_time": "2022-11-28T19:51:46.528Z"
   },
   {
    "duration": 3,
    "start_time": "2022-11-28T19:51:47.275Z"
   },
   {
    "duration": 474,
    "start_time": "2022-11-28T19:51:47.279Z"
   },
   {
    "duration": 3,
    "start_time": "2022-11-28T19:51:47.755Z"
   },
   {
    "duration": 7,
    "start_time": "2022-11-28T19:51:47.759Z"
   },
   {
    "duration": 5,
    "start_time": "2022-11-28T19:51:47.767Z"
   },
   {
    "duration": 16,
    "start_time": "2022-11-28T19:51:47.773Z"
   },
   {
    "duration": 3,
    "start_time": "2022-11-28T19:51:47.791Z"
   },
   {
    "duration": 9,
    "start_time": "2022-11-28T19:51:47.797Z"
   },
   {
    "duration": 8,
    "start_time": "2022-11-28T19:51:47.808Z"
   },
   {
    "duration": 6,
    "start_time": "2022-11-28T19:51:47.817Z"
   },
   {
    "duration": 6,
    "start_time": "2022-11-28T19:51:47.825Z"
   },
   {
    "duration": 9,
    "start_time": "2022-11-28T19:51:47.832Z"
   },
   {
    "duration": 88,
    "start_time": "2022-11-28T19:51:47.843Z"
   },
   {
    "duration": 102,
    "start_time": "2022-11-28T19:51:47.933Z"
   },
   {
    "duration": 3,
    "start_time": "2022-11-28T19:51:48.037Z"
   },
   {
    "duration": 7,
    "start_time": "2022-11-28T19:51:48.041Z"
   },
   {
    "duration": 1384,
    "start_time": "2022-11-28T19:56:03.279Z"
   },
   {
    "duration": 3,
    "start_time": "2022-11-28T19:56:17.061Z"
   },
   {
    "duration": 2,
    "start_time": "2022-11-28T19:56:20.272Z"
   },
   {
    "duration": 108,
    "start_time": "2022-11-30T17:29:19.430Z"
   },
   {
    "duration": 3,
    "start_time": "2022-11-30T17:30:19.503Z"
   },
   {
    "duration": 2,
    "start_time": "2022-11-30T17:30:22.708Z"
   },
   {
    "duration": 2,
    "start_time": "2022-11-30T17:30:25.157Z"
   },
   {
    "duration": 2,
    "start_time": "2022-11-30T17:30:28.154Z"
   },
   {
    "duration": 1387,
    "start_time": "2022-11-30T17:30:38.294Z"
   },
   {
    "duration": 1052,
    "start_time": "2022-11-30T17:30:39.683Z"
   },
   {
    "duration": 2420,
    "start_time": "2022-11-30T17:30:40.736Z"
   },
   {
    "duration": 158,
    "start_time": "2022-11-30T17:30:43.158Z"
   },
   {
    "duration": 2,
    "start_time": "2022-11-30T17:30:43.318Z"
   },
   {
    "duration": 320,
    "start_time": "2022-11-30T17:30:43.322Z"
   },
   {
    "duration": 20,
    "start_time": "2022-11-30T17:30:43.643Z"
   },
   {
    "duration": 480,
    "start_time": "2022-11-30T17:30:43.664Z"
   },
   {
    "duration": 62,
    "start_time": "2022-11-30T17:30:44.146Z"
   },
   {
    "duration": 190,
    "start_time": "2022-11-30T17:30:44.211Z"
   },
   {
    "duration": 20,
    "start_time": "2022-11-30T17:30:44.402Z"
   },
   {
    "duration": 1277,
    "start_time": "2022-11-30T17:30:44.423Z"
   },
   {
    "duration": 15,
    "start_time": "2022-11-30T17:30:45.702Z"
   },
   {
    "duration": 289,
    "start_time": "2022-11-30T17:30:45.718Z"
   },
   {
    "duration": 55,
    "start_time": "2022-11-30T17:30:46.009Z"
   },
   {
    "duration": 47,
    "start_time": "2022-11-30T17:30:46.065Z"
   },
   {
    "duration": 69,
    "start_time": "2022-11-30T17:30:46.113Z"
   },
   {
    "duration": 57,
    "start_time": "2022-11-30T17:30:46.183Z"
   },
   {
    "duration": 1332,
    "start_time": "2022-11-30T17:30:46.242Z"
   },
   {
    "duration": 24,
    "start_time": "2022-11-30T17:30:47.575Z"
   },
   {
    "duration": 40,
    "start_time": "2022-11-30T17:30:47.600Z"
   },
   {
    "duration": 44,
    "start_time": "2022-11-30T17:30:47.641Z"
   },
   {
    "duration": 96,
    "start_time": "2022-11-30T17:30:47.687Z"
   },
   {
    "duration": 184,
    "start_time": "2022-11-30T17:30:47.785Z"
   },
   {
    "duration": 106,
    "start_time": "2022-11-30T17:30:47.971Z"
   },
   {
    "duration": 40,
    "start_time": "2022-11-30T17:30:48.079Z"
   },
   {
    "duration": 12,
    "start_time": "2022-11-30T17:30:48.120Z"
   },
   {
    "duration": 7,
    "start_time": "2022-11-30T17:30:48.136Z"
   },
   {
    "duration": 4693,
    "start_time": "2022-11-30T17:30:48.144Z"
   },
   {
    "duration": 6,
    "start_time": "2022-11-30T17:30:52.839Z"
   },
   {
    "duration": 26,
    "start_time": "2022-11-30T17:30:52.847Z"
   },
   {
    "duration": 15,
    "start_time": "2022-11-30T17:30:52.875Z"
   },
   {
    "duration": 76,
    "start_time": "2022-11-30T17:30:52.891Z"
   },
   {
    "duration": 7,
    "start_time": "2022-11-30T17:30:52.968Z"
   },
   {
    "duration": 4651,
    "start_time": "2022-11-30T17:30:52.977Z"
   },
   {
    "duration": 5,
    "start_time": "2022-11-30T17:30:57.630Z"
   },
   {
    "duration": 44,
    "start_time": "2022-11-30T17:30:57.637Z"
   },
   {
    "duration": 83,
    "start_time": "2022-11-30T17:30:57.683Z"
   },
   {
    "duration": 106,
    "start_time": "2022-11-30T17:30:57.768Z"
   },
   {
    "duration": 42,
    "start_time": "2022-11-30T17:30:57.876Z"
   },
   {
    "duration": 54,
    "start_time": "2022-11-30T17:30:57.919Z"
   },
   {
    "duration": 28,
    "start_time": "2022-11-30T17:30:57.975Z"
   },
   {
    "duration": 31,
    "start_time": "2022-11-30T17:30:58.005Z"
   },
   {
    "duration": 41,
    "start_time": "2022-11-30T17:30:58.038Z"
   },
   {
    "duration": 40,
    "start_time": "2022-11-30T17:30:58.081Z"
   },
   {
    "duration": 102,
    "start_time": "2022-11-30T17:30:58.122Z"
   },
   {
    "duration": 1417,
    "start_time": "2022-11-30T17:30:58.226Z"
   },
   {
    "duration": 32,
    "start_time": "2022-11-30T17:30:59.645Z"
   },
   {
    "duration": 41,
    "start_time": "2022-11-30T17:30:59.678Z"
   },
   {
    "duration": 21,
    "start_time": "2022-11-30T17:30:59.721Z"
   },
   {
    "duration": 41,
    "start_time": "2022-11-30T17:30:59.743Z"
   },
   {
    "duration": 27,
    "start_time": "2022-11-30T17:30:59.785Z"
   },
   {
    "duration": 29,
    "start_time": "2022-11-30T17:30:59.814Z"
   },
   {
    "duration": 5,
    "start_time": "2022-11-30T17:30:59.845Z"
   },
   {
    "duration": 204,
    "start_time": "2022-11-30T17:30:59.851Z"
   },
   {
    "duration": 11,
    "start_time": "2022-11-30T17:31:00.056Z"
   },
   {
    "duration": 8,
    "start_time": "2022-11-30T17:31:00.068Z"
   },
   {
    "duration": 118,
    "start_time": "2022-11-30T17:31:00.077Z"
   },
   {
    "duration": 4,
    "start_time": "2022-11-30T17:31:00.197Z"
   },
   {
    "duration": 45,
    "start_time": "2022-11-30T17:31:00.202Z"
   },
   {
    "duration": 12,
    "start_time": "2022-11-30T17:31:00.249Z"
   },
   {
    "duration": 68,
    "start_time": "2022-11-30T17:31:00.262Z"
   },
   {
    "duration": 19,
    "start_time": "2022-11-30T17:31:00.332Z"
   },
   {
    "duration": 645,
    "start_time": "2022-11-30T17:31:00.353Z"
   },
   {
    "duration": 3,
    "start_time": "2022-11-30T17:31:01.000Z"
   },
   {
    "duration": 471,
    "start_time": "2022-11-30T17:31:01.004Z"
   },
   {
    "duration": 3,
    "start_time": "2022-11-30T17:31:01.477Z"
   },
   {
    "duration": 22,
    "start_time": "2022-11-30T17:31:01.481Z"
   },
   {
    "duration": 8,
    "start_time": "2022-11-30T17:31:01.505Z"
   },
   {
    "duration": 32,
    "start_time": "2022-11-30T17:31:01.514Z"
   },
   {
    "duration": 18,
    "start_time": "2022-11-30T17:31:01.547Z"
   },
   {
    "duration": 6,
    "start_time": "2022-11-30T17:31:01.567Z"
   },
   {
    "duration": 23,
    "start_time": "2022-11-30T17:31:01.574Z"
   },
   {
    "duration": 45,
    "start_time": "2022-11-30T17:31:01.599Z"
   },
   {
    "duration": 10,
    "start_time": "2022-11-30T17:31:01.646Z"
   },
   {
    "duration": 26,
    "start_time": "2022-11-30T17:31:01.658Z"
   },
   {
    "duration": 19,
    "start_time": "2022-11-30T17:31:01.685Z"
   },
   {
    "duration": 19,
    "start_time": "2022-11-30T17:31:01.705Z"
   },
   {
    "duration": 14,
    "start_time": "2022-11-30T17:31:01.725Z"
   },
   {
    "duration": 10,
    "start_time": "2022-11-30T17:31:01.740Z"
   },
   {
    "duration": 13,
    "start_time": "2022-11-30T17:31:01.751Z"
   },
   {
    "duration": 10,
    "start_time": "2022-11-30T17:31:01.768Z"
   },
   {
    "duration": 13,
    "start_time": "2022-11-30T17:31:01.779Z"
   },
   {
    "duration": 22,
    "start_time": "2022-11-30T17:31:01.793Z"
   },
   {
    "duration": 82,
    "start_time": "2022-11-30T17:31:01.816Z"
   },
   {
    "duration": 126,
    "start_time": "2022-11-30T17:31:01.899Z"
   },
   {
    "duration": 5,
    "start_time": "2022-11-30T17:32:21.986Z"
   },
   {
    "duration": 82,
    "start_time": "2022-11-30T17:32:47.711Z"
   },
   {
    "duration": 30,
    "start_time": "2022-11-30T17:41:05.716Z"
   },
   {
    "duration": 23,
    "start_time": "2022-11-30T17:41:44.222Z"
   },
   {
    "duration": 25,
    "start_time": "2022-11-30T17:42:00.109Z"
   },
   {
    "duration": 3,
    "start_time": "2022-11-30T17:43:37.690Z"
   },
   {
    "duration": 27,
    "start_time": "2022-11-30T17:44:16.769Z"
   },
   {
    "duration": 679,
    "start_time": "2022-11-30T17:44:18.220Z"
   },
   {
    "duration": 479,
    "start_time": "2022-11-30T17:44:20.881Z"
   },
   {
    "duration": 787580,
    "start_time": "2022-11-30T17:44:23.429Z"
   },
   {
    "duration": 2467,
    "start_time": "2022-11-30T17:59:00.652Z"
   },
   {
    "duration": 289213,
    "start_time": "2022-11-30T18:00:19.299Z"
   },
   {
    "duration": 4,
    "start_time": "2022-11-30T18:05:33.767Z"
   },
   {
    "duration": 53,
    "start_time": "2022-11-30T18:10:58.887Z"
   },
   {
    "duration": 52,
    "start_time": "2022-11-30T18:11:29.330Z"
   },
   {
    "duration": 11,
    "start_time": "2022-11-30T18:14:23.862Z"
   },
   {
    "duration": 58,
    "start_time": "2022-11-30T18:14:45.173Z"
   },
   {
    "duration": 4091,
    "start_time": "2022-11-30T18:14:51.686Z"
   },
   {
    "duration": 1100,
    "start_time": "2022-11-30T18:35:24.805Z"
   },
   {
    "duration": 1336,
    "start_time": "2022-11-30T18:35:42.771Z"
   },
   {
    "duration": 1398,
    "start_time": "2022-11-30T18:35:54.902Z"
   },
   {
    "duration": 1396,
    "start_time": "2022-11-30T18:36:07.705Z"
   },
   {
    "duration": 3,
    "start_time": "2022-11-30T18:36:30.181Z"
   },
   {
    "duration": 3390,
    "start_time": "2022-11-30T18:37:39.015Z"
   },
   {
    "duration": 3617,
    "start_time": "2022-11-30T18:39:13.789Z"
   },
   {
    "duration": 4410,
    "start_time": "2022-11-30T18:40:02.693Z"
   },
   {
    "duration": 5872,
    "start_time": "2022-11-30T18:40:15.632Z"
   },
   {
    "duration": 8214,
    "start_time": "2022-11-30T18:40:55.982Z"
   },
   {
    "duration": 4744,
    "start_time": "2022-11-30T18:42:57.155Z"
   },
   {
    "duration": 106,
    "start_time": "2022-11-30T18:44:15.105Z"
   },
   {
    "duration": 10,
    "start_time": "2022-11-30T18:44:34.114Z"
   },
   {
    "duration": 8693,
    "start_time": "2022-11-30T18:46:20.355Z"
   },
   {
    "duration": 238807,
    "start_time": "2022-11-30T18:47:17.494Z"
   },
   {
    "duration": 221179,
    "start_time": "2022-11-30T18:56:17.433Z"
   },
   {
    "duration": 4,
    "start_time": "2022-11-30T19:00:30.022Z"
   },
   {
    "duration": 4828,
    "start_time": "2022-11-30T19:02:45.680Z"
   },
   {
    "duration": 10,
    "start_time": "2022-11-30T19:04:08.969Z"
   },
   {
    "duration": 10,
    "start_time": "2022-11-30T19:06:49.181Z"
   },
   {
    "duration": 6,
    "start_time": "2022-11-30T19:07:58.794Z"
   },
   {
    "duration": 9,
    "start_time": "2022-11-30T19:08:08.548Z"
   },
   {
    "duration": 355,
    "start_time": "2022-11-30T19:11:06.756Z"
   },
   {
    "duration": 368,
    "start_time": "2022-11-30T19:12:22.237Z"
   },
   {
    "duration": 4,
    "start_time": "2022-11-30T19:12:26.718Z"
   },
   {
    "duration": 2,
    "start_time": "2022-11-30T19:12:40.545Z"
   },
   {
    "duration": 2,
    "start_time": "2022-11-30T19:12:48.164Z"
   },
   {
    "duration": 1471,
    "start_time": "2022-11-30T19:16:14.386Z"
   },
   {
    "duration": 762,
    "start_time": "2022-11-30T19:16:15.858Z"
   },
   {
    "duration": 2465,
    "start_time": "2022-11-30T19:16:16.622Z"
   },
   {
    "duration": 81,
    "start_time": "2022-11-30T19:16:19.090Z"
   },
   {
    "duration": 2,
    "start_time": "2022-11-30T19:16:19.173Z"
   },
   {
    "duration": 345,
    "start_time": "2022-11-30T19:16:19.177Z"
   },
   {
    "duration": 22,
    "start_time": "2022-11-30T19:16:19.524Z"
   },
   {
    "duration": 498,
    "start_time": "2022-11-30T19:16:19.547Z"
   },
   {
    "duration": 68,
    "start_time": "2022-11-30T19:16:20.047Z"
   },
   {
    "duration": 196,
    "start_time": "2022-11-30T19:16:20.118Z"
   },
   {
    "duration": 20,
    "start_time": "2022-11-30T19:16:20.315Z"
   },
   {
    "duration": 1292,
    "start_time": "2022-11-30T19:16:20.337Z"
   },
   {
    "duration": 18,
    "start_time": "2022-11-30T19:16:21.632Z"
   },
   {
    "duration": 291,
    "start_time": "2022-11-30T19:16:21.652Z"
   },
   {
    "duration": 66,
    "start_time": "2022-11-30T19:16:21.945Z"
   },
   {
    "duration": 32,
    "start_time": "2022-11-30T19:16:22.013Z"
   },
   {
    "duration": 81,
    "start_time": "2022-11-30T19:16:22.047Z"
   },
   {
    "duration": 40,
    "start_time": "2022-11-30T19:16:22.130Z"
   },
   {
    "duration": 1428,
    "start_time": "2022-11-30T19:16:22.172Z"
   },
   {
    "duration": 16,
    "start_time": "2022-11-30T19:16:23.601Z"
   },
   {
    "duration": 37,
    "start_time": "2022-11-30T19:16:23.618Z"
   },
   {
    "duration": 44,
    "start_time": "2022-11-30T19:16:23.656Z"
   },
   {
    "duration": 96,
    "start_time": "2022-11-30T19:16:23.702Z"
   },
   {
    "duration": 180,
    "start_time": "2022-11-30T19:16:23.800Z"
   },
   {
    "duration": 104,
    "start_time": "2022-11-30T19:16:23.982Z"
   },
   {
    "duration": 31,
    "start_time": "2022-11-30T19:16:24.097Z"
   },
   {
    "duration": 12,
    "start_time": "2022-11-30T19:16:24.130Z"
   },
   {
    "duration": 7,
    "start_time": "2022-11-30T19:16:24.146Z"
   },
   {
    "duration": 4609,
    "start_time": "2022-11-30T19:16:24.154Z"
   },
   {
    "duration": 6,
    "start_time": "2022-11-30T19:16:28.765Z"
   },
   {
    "duration": 9,
    "start_time": "2022-11-30T19:16:28.773Z"
   },
   {
    "duration": 16,
    "start_time": "2022-11-30T19:16:28.783Z"
   },
   {
    "duration": 41,
    "start_time": "2022-11-30T19:16:28.800Z"
   },
   {
    "duration": 6,
    "start_time": "2022-11-30T19:16:28.842Z"
   },
   {
    "duration": 4695,
    "start_time": "2022-11-30T19:16:28.850Z"
   },
   {
    "duration": 7,
    "start_time": "2022-11-30T19:16:33.546Z"
   },
   {
    "duration": 46,
    "start_time": "2022-11-30T19:16:33.554Z"
   },
   {
    "duration": 83,
    "start_time": "2022-11-30T19:16:33.602Z"
   },
   {
    "duration": 112,
    "start_time": "2022-11-30T19:16:33.686Z"
   },
   {
    "duration": 35,
    "start_time": "2022-11-30T19:16:33.799Z"
   },
   {
    "duration": 62,
    "start_time": "2022-11-30T19:16:33.836Z"
   },
   {
    "duration": 16,
    "start_time": "2022-11-30T19:16:33.899Z"
   },
   {
    "duration": 31,
    "start_time": "2022-11-30T19:16:33.916Z"
   },
   {
    "duration": 49,
    "start_time": "2022-11-30T19:16:33.949Z"
   },
   {
    "duration": 41,
    "start_time": "2022-11-30T19:16:34.000Z"
   },
   {
    "duration": 102,
    "start_time": "2022-11-30T19:16:34.042Z"
   },
   {
    "duration": 1558,
    "start_time": "2022-11-30T19:16:34.145Z"
   },
   {
    "duration": 32,
    "start_time": "2022-11-30T19:16:35.705Z"
   },
   {
    "duration": 31,
    "start_time": "2022-11-30T19:16:35.738Z"
   },
   {
    "duration": 36,
    "start_time": "2022-11-30T19:16:35.771Z"
   },
   {
    "duration": 29,
    "start_time": "2022-11-30T19:16:35.809Z"
   },
   {
    "duration": 25,
    "start_time": "2022-11-30T19:16:35.840Z"
   },
   {
    "duration": 51,
    "start_time": "2022-11-30T19:16:35.866Z"
   },
   {
    "duration": 6,
    "start_time": "2022-11-30T19:16:35.918Z"
   },
   {
    "duration": 208,
    "start_time": "2022-11-30T19:16:35.925Z"
   },
   {
    "duration": 10,
    "start_time": "2022-11-30T19:16:36.135Z"
   },
   {
    "duration": 4,
    "start_time": "2022-11-30T19:16:36.147Z"
   },
   {
    "duration": 58,
    "start_time": "2022-11-30T19:16:36.152Z"
   },
   {
    "duration": 4,
    "start_time": "2022-11-30T19:16:36.211Z"
   },
   {
    "duration": 28,
    "start_time": "2022-11-30T19:16:36.217Z"
   },
   {
    "duration": 7,
    "start_time": "2022-11-30T19:16:36.246Z"
   },
   {
    "duration": 4,
    "start_time": "2022-11-30T19:16:36.255Z"
   },
   {
    "duration": 7,
    "start_time": "2022-11-30T19:16:36.261Z"
   },
   {
    "duration": 614,
    "start_time": "2022-11-30T19:16:36.269Z"
   },
   {
    "duration": 2,
    "start_time": "2022-11-30T19:16:36.885Z"
   },
   {
    "duration": 503,
    "start_time": "2022-11-30T19:16:36.898Z"
   },
   {
    "duration": 3,
    "start_time": "2022-11-30T19:16:37.403Z"
   },
   {
    "duration": 11,
    "start_time": "2022-11-30T19:16:37.408Z"
   },
   {
    "duration": 7,
    "start_time": "2022-11-30T19:16:37.420Z"
   },
   {
    "duration": 58450,
    "start_time": "2022-11-30T19:16:37.428Z"
   },
   {
    "duration": 3,
    "start_time": "2022-11-30T19:17:35.879Z"
   },
   {
    "duration": 105375,
    "start_time": "2022-11-30T19:17:35.884Z"
   },
   {
    "duration": 4,
    "start_time": "2022-11-30T19:19:21.261Z"
   },
   {
    "duration": 7,
    "start_time": "2022-11-30T19:19:21.266Z"
   },
   {
    "duration": 5,
    "start_time": "2022-11-30T19:19:21.274Z"
   },
   {
    "duration": 7,
    "start_time": "2022-11-30T19:19:21.280Z"
   },
   {
    "duration": 2,
    "start_time": "2022-11-30T19:19:21.297Z"
   },
   {
    "duration": 6,
    "start_time": "2022-11-30T19:19:21.300Z"
   },
   {
    "duration": 5,
    "start_time": "2022-11-30T19:19:21.307Z"
   },
   {
    "duration": 6,
    "start_time": "2022-11-30T19:19:21.313Z"
   },
   {
    "duration": 6,
    "start_time": "2022-11-30T19:19:21.320Z"
   },
   {
    "duration": 3,
    "start_time": "2022-11-30T19:19:21.331Z"
   },
   {
    "duration": 9,
    "start_time": "2022-11-30T19:19:21.335Z"
   },
   {
    "duration": 13,
    "start_time": "2022-11-30T19:19:21.345Z"
   },
   {
    "duration": 656,
    "start_time": "2022-11-30T19:19:21.359Z"
   },
   {
    "duration": 477,
    "start_time": "2022-11-30T19:19:22.017Z"
   },
   {
    "duration": 3,
    "start_time": "2022-11-30T19:19:22.496Z"
   },
   {
    "duration": 14,
    "start_time": "2022-11-30T19:19:22.500Z"
   },
   {
    "duration": 10,
    "start_time": "2022-11-30T19:19:22.515Z"
   },
   {
    "duration": 4880,
    "start_time": "2022-11-30T19:19:22.526Z"
   },
   {
    "duration": 399,
    "start_time": "2022-11-30T19:19:27.408Z"
   },
   {
    "duration": 6,
    "start_time": "2022-11-30T19:19:27.810Z"
   },
   {
    "duration": 3,
    "start_time": "2022-11-30T19:34:11.665Z"
   },
   {
    "duration": 335,
    "start_time": "2022-11-30T19:44:37.075Z"
   },
   {
    "duration": 336,
    "start_time": "2022-11-30T19:44:48.584Z"
   },
   {
    "duration": 4,
    "start_time": "2022-11-30T19:49:09.152Z"
   },
   {
    "duration": 2,
    "start_time": "2022-12-01T11:36:29.169Z"
   },
   {
    "duration": 2,
    "start_time": "2022-12-01T11:55:26.430Z"
   },
   {
    "duration": 74,
    "start_time": "2022-12-01T11:56:58.430Z"
   },
   {
    "duration": 185,
    "start_time": "2022-12-01T12:10:11.235Z"
   },
   {
    "duration": 82,
    "start_time": "2022-12-01T12:10:37.341Z"
   },
   {
    "duration": 1366,
    "start_time": "2022-12-01T12:10:52.599Z"
   },
   {
    "duration": 362,
    "start_time": "2022-12-01T12:16:40.468Z"
   },
   {
    "duration": 110,
    "start_time": "2022-12-01T12:17:36.108Z"
   },
   {
    "duration": 78,
    "start_time": "2022-12-01T12:17:55.811Z"
   },
   {
    "duration": 553,
    "start_time": "2022-12-01T12:17:57.817Z"
   },
   {
    "duration": 150,
    "start_time": "2022-12-01T12:18:01.859Z"
   },
   {
    "duration": 18,
    "start_time": "2022-12-01T12:18:28.864Z"
   },
   {
    "duration": 89,
    "start_time": "2022-12-01T12:19:07.962Z"
   },
   {
    "duration": 3,
    "start_time": "2022-12-01T12:24:46.830Z"
   },
   {
    "duration": 3,
    "start_time": "2022-12-01T12:24:48.155Z"
   },
   {
    "duration": 4,
    "start_time": "2022-12-01T12:25:38.797Z"
   },
   {
    "duration": 14,
    "start_time": "2022-12-01T12:31:49.432Z"
   },
   {
    "duration": 164,
    "start_time": "2022-12-01T12:31:58.627Z"
   },
   {
    "duration": 2,
    "start_time": "2022-12-01T13:19:21.777Z"
   },
   {
    "duration": 3,
    "start_time": "2022-12-01T20:15:33.263Z"
   },
   {
    "duration": 1599,
    "start_time": "2022-12-01T20:16:36.810Z"
   },
   {
    "duration": 2705,
    "start_time": "2022-12-01T20:16:38.411Z"
   },
   {
    "duration": 18476,
    "start_time": "2022-12-01T20:16:41.118Z"
   },
   {
    "duration": 80,
    "start_time": "2022-12-01T20:16:59.598Z"
   },
   {
    "duration": 3,
    "start_time": "2022-12-01T20:16:59.679Z"
   },
   {
    "duration": 323,
    "start_time": "2022-12-01T20:16:59.684Z"
   },
   {
    "duration": 24,
    "start_time": "2022-12-01T20:17:00.009Z"
   },
   {
    "duration": 481,
    "start_time": "2022-12-01T20:17:00.034Z"
   },
   {
    "duration": 56,
    "start_time": "2022-12-01T20:17:00.517Z"
   },
   {
    "duration": 197,
    "start_time": "2022-12-01T20:17:00.576Z"
   },
   {
    "duration": 19,
    "start_time": "2022-12-01T20:17:00.775Z"
   },
   {
    "duration": 1173,
    "start_time": "2022-12-01T20:17:00.796Z"
   },
   {
    "duration": 14,
    "start_time": "2022-12-01T20:17:01.971Z"
   },
   {
    "duration": 272,
    "start_time": "2022-12-01T20:17:01.986Z"
   },
   {
    "duration": 48,
    "start_time": "2022-12-01T20:17:02.260Z"
   },
   {
    "duration": 30,
    "start_time": "2022-12-01T20:17:02.322Z"
   },
   {
    "duration": 84,
    "start_time": "2022-12-01T20:17:02.353Z"
   },
   {
    "duration": 38,
    "start_time": "2022-12-01T20:17:02.439Z"
   },
   {
    "duration": 1361,
    "start_time": "2022-12-01T20:17:02.479Z"
   },
   {
    "duration": 17,
    "start_time": "2022-12-01T20:17:03.842Z"
   },
   {
    "duration": 65,
    "start_time": "2022-12-01T20:17:03.861Z"
   },
   {
    "duration": 41,
    "start_time": "2022-12-01T20:17:03.928Z"
   },
   {
    "duration": 118,
    "start_time": "2022-12-01T20:17:03.971Z"
   },
   {
    "duration": 237,
    "start_time": "2022-12-01T20:17:04.091Z"
   },
   {
    "duration": 111,
    "start_time": "2022-12-01T20:17:04.330Z"
   },
   {
    "duration": 33,
    "start_time": "2022-12-01T20:17:04.443Z"
   },
   {
    "duration": 13,
    "start_time": "2022-12-01T20:17:04.477Z"
   },
   {
    "duration": 27,
    "start_time": "2022-12-01T20:17:04.495Z"
   },
   {
    "duration": 4507,
    "start_time": "2022-12-01T20:17:04.524Z"
   },
   {
    "duration": 5,
    "start_time": "2022-12-01T20:17:09.033Z"
   },
   {
    "duration": 25,
    "start_time": "2022-12-01T20:17:09.039Z"
   },
   {
    "duration": 8,
    "start_time": "2022-12-01T20:17:09.065Z"
   },
   {
    "duration": 47,
    "start_time": "2022-12-01T20:17:09.075Z"
   },
   {
    "duration": 5,
    "start_time": "2022-12-01T20:17:09.124Z"
   },
   {
    "duration": 4405,
    "start_time": "2022-12-01T20:17:09.131Z"
   },
   {
    "duration": 5,
    "start_time": "2022-12-01T20:17:13.538Z"
   },
   {
    "duration": 33,
    "start_time": "2022-12-01T20:17:13.545Z"
   },
   {
    "duration": 100,
    "start_time": "2022-12-01T20:17:13.580Z"
   },
   {
    "duration": 111,
    "start_time": "2022-12-01T20:17:13.681Z"
   },
   {
    "duration": 47,
    "start_time": "2022-12-01T20:17:13.794Z"
   },
   {
    "duration": 57,
    "start_time": "2022-12-01T20:17:13.842Z"
   },
   {
    "duration": 31,
    "start_time": "2022-12-01T20:17:13.902Z"
   },
   {
    "duration": 22,
    "start_time": "2022-12-01T20:17:13.935Z"
   },
   {
    "duration": 40,
    "start_time": "2022-12-01T20:17:13.959Z"
   },
   {
    "duration": 51,
    "start_time": "2022-12-01T20:17:14.022Z"
   },
   {
    "duration": 125,
    "start_time": "2022-12-01T20:17:14.076Z"
   },
   {
    "duration": 1339,
    "start_time": "2022-12-01T20:17:14.203Z"
   },
   {
    "duration": 29,
    "start_time": "2022-12-01T20:17:15.544Z"
   },
   {
    "duration": 29,
    "start_time": "2022-12-01T20:17:15.574Z"
   },
   {
    "duration": 19,
    "start_time": "2022-12-01T20:17:15.621Z"
   },
   {
    "duration": 29,
    "start_time": "2022-12-01T20:17:15.641Z"
   },
   {
    "duration": 26,
    "start_time": "2022-12-01T20:17:15.672Z"
   },
   {
    "duration": 49,
    "start_time": "2022-12-01T20:17:15.700Z"
   },
   {
    "duration": 5,
    "start_time": "2022-12-01T20:17:15.751Z"
   },
   {
    "duration": 229,
    "start_time": "2022-12-01T20:17:15.757Z"
   },
   {
    "duration": 12,
    "start_time": "2022-12-01T20:17:15.987Z"
   },
   {
    "duration": 4,
    "start_time": "2022-12-01T20:17:16.000Z"
   },
   {
    "duration": 59,
    "start_time": "2022-12-01T20:17:16.006Z"
   },
   {
    "duration": 4,
    "start_time": "2022-12-01T20:17:16.066Z"
   },
   {
    "duration": 27,
    "start_time": "2022-12-01T20:17:16.071Z"
   },
   {
    "duration": 23,
    "start_time": "2022-12-01T20:17:16.099Z"
   },
   {
    "duration": 3,
    "start_time": "2022-12-01T20:17:16.124Z"
   },
   {
    "duration": 6,
    "start_time": "2022-12-01T20:17:16.129Z"
   },
   {
    "duration": 18,
    "start_time": "2022-12-01T20:17:16.136Z"
   },
   {
    "duration": 10,
    "start_time": "2022-12-01T20:17:16.155Z"
   },
   {
    "duration": 928,
    "start_time": "2022-12-01T20:17:16.167Z"
   },
   {
    "duration": 2,
    "start_time": "2022-12-01T20:17:17.097Z"
   },
   {
    "duration": 13,
    "start_time": "2022-12-01T20:17:17.100Z"
   },
   {
    "duration": 7,
    "start_time": "2022-12-01T20:17:17.114Z"
   },
   {
    "duration": 5,
    "start_time": "2022-12-01T20:17:17.123Z"
   },
   {
    "duration": 7,
    "start_time": "2022-12-01T20:17:17.129Z"
   },
   {
    "duration": 6,
    "start_time": "2022-12-01T20:17:17.137Z"
   },
   {
    "duration": 5578,
    "start_time": "2022-12-01T20:17:17.144Z"
   },
   {
    "duration": 3,
    "start_time": "2022-12-01T20:17:22.724Z"
   },
   {
    "duration": 361,
    "start_time": "2022-12-01T20:17:22.730Z"
   },
   {
    "duration": 5,
    "start_time": "2022-12-01T20:17:23.092Z"
   },
   {
    "duration": 5,
    "start_time": "2022-12-01T20:17:23.098Z"
   },
   {
    "duration": 10,
    "start_time": "2022-12-01T20:17:23.105Z"
   },
   {
    "duration": 4,
    "start_time": "2022-12-01T20:17:23.117Z"
   },
   {
    "duration": 4,
    "start_time": "2022-12-01T20:17:23.123Z"
   },
   {
    "duration": 6,
    "start_time": "2022-12-01T20:17:23.128Z"
   },
   {
    "duration": 2,
    "start_time": "2022-12-01T20:17:23.139Z"
   },
   {
    "duration": 5,
    "start_time": "2022-12-01T20:17:23.143Z"
   },
   {
    "duration": 5,
    "start_time": "2022-12-01T20:17:23.149Z"
   },
   {
    "duration": 15,
    "start_time": "2022-12-01T20:17:23.156Z"
   },
   {
    "duration": 2,
    "start_time": "2022-12-01T20:17:23.173Z"
   },
   {
    "duration": 989,
    "start_time": "2022-12-01T20:17:23.177Z"
   },
   {
    "duration": 4665,
    "start_time": "2022-12-01T20:17:24.169Z"
   },
   {
    "duration": 190,
    "start_time": "2022-12-01T20:17:28.836Z"
   },
   {
    "duration": 451,
    "start_time": "2022-12-01T20:17:29.029Z"
   },
   {
    "duration": 993,
    "start_time": "2022-12-01T20:25:42.536Z"
   },
   {
    "duration": 18,
    "start_time": "2022-12-01T20:28:40.549Z"
   },
   {
    "duration": 282,
    "start_time": "2022-12-01T20:30:56.652Z"
   },
   {
    "duration": 247,
    "start_time": "2022-12-01T20:31:20.785Z"
   },
   {
    "duration": 318,
    "start_time": "2022-12-01T20:31:23.010Z"
   },
   {
    "duration": 236,
    "start_time": "2022-12-01T20:31:24.699Z"
   },
   {
    "duration": 324,
    "start_time": "2022-12-01T20:31:25.808Z"
   },
   {
    "duration": 319,
    "start_time": "2022-12-01T20:31:27.006Z"
   },
   {
    "duration": 276,
    "start_time": "2022-12-01T20:31:28.259Z"
   },
   {
    "duration": 256,
    "start_time": "2022-12-01T20:31:30.275Z"
   },
   {
    "duration": 233,
    "start_time": "2022-12-01T20:31:32.101Z"
   },
   {
    "duration": 348,
    "start_time": "2022-12-01T20:31:33.975Z"
   },
   {
    "duration": 77643,
    "start_time": "2022-12-01T20:31:37.991Z"
   },
   {
    "duration": 5774,
    "start_time": "2022-12-01T20:33:29.329Z"
   },
   {
    "duration": 5819,
    "start_time": "2022-12-01T20:33:42.511Z"
   },
   {
    "duration": 3,
    "start_time": "2022-12-01T20:34:00.671Z"
   },
   {
    "duration": 17,
    "start_time": "2022-12-01T20:34:13.017Z"
   },
   {
    "duration": 74455,
    "start_time": "2022-12-01T20:34:19.775Z"
   },
   {
    "duration": 279,
    "start_time": "2022-12-01T20:35:42.983Z"
   },
   {
    "duration": 1471,
    "start_time": "2022-12-01T20:37:20.765Z"
   },
   {
    "duration": 792,
    "start_time": "2022-12-01T20:37:22.237Z"
   },
   {
    "duration": 2475,
    "start_time": "2022-12-01T20:37:23.030Z"
   },
   {
    "duration": 72,
    "start_time": "2022-12-01T20:37:25.508Z"
   },
   {
    "duration": 2,
    "start_time": "2022-12-01T20:37:25.582Z"
   },
   {
    "duration": 312,
    "start_time": "2022-12-01T20:37:25.586Z"
   },
   {
    "duration": 28,
    "start_time": "2022-12-01T20:37:25.900Z"
   },
   {
    "duration": 475,
    "start_time": "2022-12-01T20:37:25.929Z"
   },
   {
    "duration": 57,
    "start_time": "2022-12-01T20:37:26.406Z"
   },
   {
    "duration": 196,
    "start_time": "2022-12-01T20:37:26.466Z"
   },
   {
    "duration": 18,
    "start_time": "2022-12-01T20:37:26.664Z"
   },
   {
    "duration": 1127,
    "start_time": "2022-12-01T20:37:26.683Z"
   },
   {
    "duration": 18,
    "start_time": "2022-12-01T20:37:27.812Z"
   },
   {
    "duration": 291,
    "start_time": "2022-12-01T20:37:27.831Z"
   },
   {
    "duration": 52,
    "start_time": "2022-12-01T20:37:28.124Z"
   },
   {
    "duration": 83,
    "start_time": "2022-12-01T20:37:28.179Z"
   },
   {
    "duration": 86,
    "start_time": "2022-12-01T20:37:28.265Z"
   },
   {
    "duration": 38,
    "start_time": "2022-12-01T20:37:28.353Z"
   },
   {
    "duration": 1336,
    "start_time": "2022-12-01T20:37:28.393Z"
   },
   {
    "duration": 14,
    "start_time": "2022-12-01T20:37:29.730Z"
   },
   {
    "duration": 33,
    "start_time": "2022-12-01T20:37:29.746Z"
   },
   {
    "duration": 47,
    "start_time": "2022-12-01T20:37:29.781Z"
   },
   {
    "duration": 125,
    "start_time": "2022-12-01T20:37:29.829Z"
   },
   {
    "duration": 204,
    "start_time": "2022-12-01T20:37:29.956Z"
   },
   {
    "duration": 112,
    "start_time": "2022-12-01T20:37:30.162Z"
   },
   {
    "duration": 34,
    "start_time": "2022-12-01T20:37:30.275Z"
   },
   {
    "duration": 13,
    "start_time": "2022-12-01T20:37:30.322Z"
   },
   {
    "duration": 10,
    "start_time": "2022-12-01T20:37:30.339Z"
   },
   {
    "duration": 4786,
    "start_time": "2022-12-01T20:37:30.351Z"
   },
   {
    "duration": 9,
    "start_time": "2022-12-01T20:37:35.139Z"
   },
   {
    "duration": 9,
    "start_time": "2022-12-01T20:37:35.150Z"
   },
   {
    "duration": 5,
    "start_time": "2022-12-01T20:37:35.161Z"
   },
   {
    "duration": 68,
    "start_time": "2022-12-01T20:37:35.168Z"
   },
   {
    "duration": 6,
    "start_time": "2022-12-01T20:37:35.238Z"
   },
   {
    "duration": 4676,
    "start_time": "2022-12-01T20:37:35.246Z"
   },
   {
    "duration": 6,
    "start_time": "2022-12-01T20:37:39.924Z"
   },
   {
    "duration": 51,
    "start_time": "2022-12-01T20:37:39.932Z"
   },
   {
    "duration": 110,
    "start_time": "2022-12-01T20:37:39.986Z"
   },
   {
    "duration": 120,
    "start_time": "2022-12-01T20:37:40.097Z"
   },
   {
    "duration": 36,
    "start_time": "2022-12-01T20:37:40.219Z"
   },
   {
    "duration": 68,
    "start_time": "2022-12-01T20:37:40.257Z"
   },
   {
    "duration": 27,
    "start_time": "2022-12-01T20:37:40.328Z"
   },
   {
    "duration": 41,
    "start_time": "2022-12-01T20:37:40.356Z"
   },
   {
    "duration": 39,
    "start_time": "2022-12-01T20:37:40.400Z"
   },
   {
    "duration": 39,
    "start_time": "2022-12-01T20:37:40.441Z"
   },
   {
    "duration": 104,
    "start_time": "2022-12-01T20:37:40.482Z"
   },
   {
    "duration": 1538,
    "start_time": "2022-12-01T20:37:40.587Z"
   },
   {
    "duration": 28,
    "start_time": "2022-12-01T20:37:42.127Z"
   },
   {
    "duration": 27,
    "start_time": "2022-12-01T20:37:42.157Z"
   },
   {
    "duration": 37,
    "start_time": "2022-12-01T20:37:42.185Z"
   },
   {
    "duration": 27,
    "start_time": "2022-12-01T20:37:42.223Z"
   },
   {
    "duration": 25,
    "start_time": "2022-12-01T20:37:42.252Z"
   },
   {
    "duration": 49,
    "start_time": "2022-12-01T20:37:42.279Z"
   },
   {
    "duration": 5,
    "start_time": "2022-12-01T20:37:42.330Z"
   },
   {
    "duration": 204,
    "start_time": "2022-12-01T20:37:42.337Z"
   },
   {
    "duration": 11,
    "start_time": "2022-12-01T20:37:42.543Z"
   },
   {
    "duration": 8,
    "start_time": "2022-12-01T20:37:42.555Z"
   },
   {
    "duration": 58,
    "start_time": "2022-12-01T20:37:42.565Z"
   },
   {
    "duration": 4,
    "start_time": "2022-12-01T20:37:42.625Z"
   },
   {
    "duration": 29,
    "start_time": "2022-12-01T20:37:42.630Z"
   },
   {
    "duration": 7,
    "start_time": "2022-12-01T20:37:42.661Z"
   },
   {
    "duration": 20,
    "start_time": "2022-12-01T20:37:42.670Z"
   },
   {
    "duration": 11,
    "start_time": "2022-12-01T20:37:42.692Z"
   },
   {
    "duration": 17,
    "start_time": "2022-12-01T20:37:42.705Z"
   },
   {
    "duration": 17,
    "start_time": "2022-12-01T20:37:42.724Z"
   },
   {
    "duration": 937,
    "start_time": "2022-12-01T20:37:42.742Z"
   },
   {
    "duration": 2,
    "start_time": "2022-12-01T20:37:43.681Z"
   },
   {
    "duration": 12,
    "start_time": "2022-12-01T20:37:43.684Z"
   },
   {
    "duration": 6,
    "start_time": "2022-12-01T20:37:43.697Z"
   },
   {
    "duration": 17,
    "start_time": "2022-12-01T20:37:43.705Z"
   },
   {
    "duration": 15,
    "start_time": "2022-12-01T20:37:43.724Z"
   },
   {
    "duration": 7,
    "start_time": "2022-12-01T20:37:43.741Z"
   },
   {
    "duration": 5650,
    "start_time": "2022-12-01T20:37:43.750Z"
   },
   {
    "duration": 3,
    "start_time": "2022-12-01T20:37:49.402Z"
   },
   {
    "duration": 26,
    "start_time": "2022-12-01T20:37:49.407Z"
   },
   {
    "duration": 2,
    "start_time": "2022-12-01T20:37:49.435Z"
   },
   {
    "duration": 7,
    "start_time": "2022-12-01T20:37:49.439Z"
   },
   {
    "duration": 6,
    "start_time": "2022-12-01T20:37:49.448Z"
   },
   {
    "duration": 11,
    "start_time": "2022-12-01T20:37:49.456Z"
   },
   {
    "duration": 11,
    "start_time": "2022-12-01T20:37:49.468Z"
   },
   {
    "duration": 8,
    "start_time": "2022-12-01T20:37:49.481Z"
   },
   {
    "duration": 2,
    "start_time": "2022-12-01T20:37:49.494Z"
   },
   {
    "duration": 9,
    "start_time": "2022-12-01T20:37:49.498Z"
   },
   {
    "duration": 4,
    "start_time": "2022-12-01T20:37:49.509Z"
   },
   {
    "duration": 3,
    "start_time": "2022-12-01T20:37:49.522Z"
   },
   {
    "duration": 18,
    "start_time": "2022-12-01T20:37:49.526Z"
   },
   {
    "duration": 3,
    "start_time": "2022-12-01T20:37:49.546Z"
   },
   {
    "duration": 1012,
    "start_time": "2022-12-01T20:37:49.550Z"
   },
   {
    "duration": 3963,
    "start_time": "2022-12-01T20:37:50.564Z"
   },
   {
    "duration": 305,
    "start_time": "2022-12-01T20:37:54.529Z"
   },
   {
    "duration": 189,
    "start_time": "2022-12-01T20:37:54.836Z"
   },
   {
    "duration": 5,
    "start_time": "2022-12-01T20:37:55.026Z"
   },
   {
    "duration": 114,
    "start_time": "2022-12-01T20:42:14.337Z"
   },
   {
    "duration": 15,
    "start_time": "2022-12-01T20:46:00.769Z"
   },
   {
    "duration": 12,
    "start_time": "2022-12-01T20:46:08.319Z"
   },
   {
    "duration": 2390,
    "start_time": "2022-12-01T20:46:48.752Z"
   },
   {
    "duration": 5,
    "start_time": "2022-12-01T20:47:02.154Z"
   },
   {
    "duration": 8,
    "start_time": "2022-12-01T20:47:10.172Z"
   },
   {
    "duration": 5,
    "start_time": "2022-12-01T20:47:13.613Z"
   },
   {
    "duration": 3,
    "start_time": "2022-12-01T20:49:01.609Z"
   },
   {
    "duration": 4,
    "start_time": "2022-12-01T20:49:10.198Z"
   },
   {
    "duration": 4,
    "start_time": "2022-12-01T20:49:30.020Z"
   },
   {
    "duration": 13,
    "start_time": "2022-12-01T20:53:34.590Z"
   },
   {
    "duration": 17,
    "start_time": "2022-12-01T21:00:20.016Z"
   },
   {
    "duration": 4,
    "start_time": "2022-12-01T21:01:07.137Z"
   },
   {
    "duration": 12,
    "start_time": "2022-12-01T21:01:11.587Z"
   },
   {
    "duration": 168,
    "start_time": "2022-12-01T21:01:48.720Z"
   },
   {
    "duration": 2614,
    "start_time": "2022-12-01T21:02:24.066Z"
   },
   {
    "duration": 2777,
    "start_time": "2022-12-01T21:04:55.847Z"
   },
   {
    "duration": 2628,
    "start_time": "2022-12-01T21:05:04.840Z"
   },
   {
    "duration": 2929,
    "start_time": "2022-12-01T21:05:19.061Z"
   },
   {
    "duration": 2912,
    "start_time": "2022-12-01T21:06:04.155Z"
   }
  ],
  "kernelspec": {
   "display_name": "Python 3 (ipykernel)",
   "language": "python",
   "name": "python3"
  },
  "language_info": {
   "codemirror_mode": {
    "name": "ipython",
    "version": 3
   },
   "file_extension": ".py",
   "mimetype": "text/x-python",
   "name": "python",
   "nbconvert_exporter": "python",
   "pygments_lexer": "ipython3",
   "version": "3.9.5"
  },
  "toc": {
   "base_numbering": 1,
   "nav_menu": {},
   "number_sections": true,
   "sideBar": true,
   "skip_h1_title": true,
   "title_cell": "Table of Contents",
   "title_sidebar": "Contents",
   "toc_cell": false,
   "toc_position": {
    "height": "calc(100% - 180px)",
    "left": "10px",
    "top": "150px",
    "width": "270.188px"
   },
   "toc_section_display": true,
   "toc_window_display": true
  }
 },
 "nbformat": 4,
 "nbformat_minor": 2
}
