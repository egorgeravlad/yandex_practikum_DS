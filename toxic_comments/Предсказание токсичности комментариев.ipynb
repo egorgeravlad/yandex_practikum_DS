{
 "cells": [
  {
   "cell_type": "markdown",
   "metadata": {},
   "source": [
    "# Проект для «Викишоп»"
   ]
  },
  {
   "cell_type": "markdown",
   "metadata": {},
   "source": [
    "**Задача**\n",
    "\n",
    "Для заказчика - интернет-магазина «Викишоп» - необходимо разработать модель, которая будет искать токсичные комментарии.\n",
    "\n",
    "**Описание проекта** \n",
    "\n",
    "«Викишоп» разработал сервис, где пользователи могут редактировать и дополнять описания товаров, как в вики-сообществах. То есть клиенты предлагают свои правки и комментируют изменения других. Для адекватной работы сервиса и нужна модель, которая будет отправлять на модерацию токсичные комментарии.\n",
    "\n",
    "**Важно для заказчика**\n",
    "- Построенная модель должна иметь метрику качества *F1* не меньше 0.75. \n",
    "\n",
    "**План работы**\n",
    "\n",
    "1. Загрузить данные и библиотеки. Обработать и подготовить перед обучением\n",
    "2. Обучить 5 разных моделей - выбрать лучшую по кросс-валидации \n",
    "3. Проверить лучшую модель на тестовой выборке\n",
    "\n",
    "**Признаки и описание данных**\n",
    "- В нашем распоряжении набор данных с разметкой о токсичности правок. Данные находятся в файле `toxic_comments.csv`. \n",
    "- Столбец *text* - в нём содержатся сами комментарии\n",
    "- Столбец *toxic* — целевой признак."
   ]
  },
  {
   "cell_type": "markdown",
   "metadata": {},
   "source": [
    "## Подготовка"
   ]
  },
  {
   "cell_type": "markdown",
   "metadata": {},
   "source": [
    "### Импорт библиотек и знакомство с данными"
   ]
  },
  {
   "cell_type": "code",
   "execution_count": 42,
   "metadata": {
    "scrolled": true
   },
   "outputs": [],
   "source": [
    "import warnings\n",
    "warnings.filterwarnings('ignore')\n",
    "from tqdm.notebook import tqdm\n",
    "import time\n",
    "\n",
    "import pandas as pd\n",
    "import numpy as np\n",
    "import scipy.sparse\n",
    "import os\n",
    "import matplotlib.pyplot as plt\n",
    "import seaborn as sns\n",
    "import nltk\n",
    "from nltk.stem import WordNetLemmatizer \n",
    "from nltk import word_tokenize,pos_tag\n",
    "from nltk.corpus import stopwords\n",
    "\n",
    "import re\n",
    "from sklearn.feature_extraction.text import TfidfVectorizer, CountVectorizer, TfidfTransformer\n",
    "\n",
    "from sklearn.linear_model import LogisticRegression\n",
    "from sklearn.tree import DecisionTreeClassifier\n",
    "from sklearn.ensemble import RandomForestClassifier\n",
    "from lightgbm import LGBMClassifier\n",
    "\n",
    "from sklearn.model_selection import cross_val_score\n",
    "from sklearn.model_selection import train_test_split\n",
    "from sklearn.model_selection import GridSearchCV\n",
    "from sklearn.metrics import f1_score, roc_curve\n",
    "from sklearn.model_selection import RepeatedKFold\n",
    "from sklearn.pipeline import make_pipeline\n",
    "from sklearn.metrics import make_scorer\n",
    "from sklearn.decomposition import PCA\n",
    "from sklearn.preprocessing import StandardScaler\n",
    "\n",
    "from tabulate import tabulate\n",
    "from sklearn.metrics import classification_report\n",
    "from pandas_profiling import ProfileReport\n"
   ]
  },
  {
   "cell_type": "code",
   "execution_count": 9,
   "metadata": {},
   "outputs": [],
   "source": [
    "%matplotlib inline\n",
    "sns.set_context('notebook')\n",
    "%config InlineBackend.figure_format = 'retina'"
   ]
  },
  {
   "cell_type": "code",
   "execution_count": 11,
   "metadata": {},
   "outputs": [],
   "source": [
    "try:\n",
    "    df = pd.read_csv(path+'/toxic_comments.csv')\n",
    "except:\n",
    "    df = pd.read_csv(ya+'/toxic_comments.csv')"
   ]
  },
  {
   "cell_type": "markdown",
   "metadata": {},
   "source": [
    "### Предобработка данных"
   ]
  },
  {
   "cell_type": "markdown",
   "metadata": {},
   "source": [
    "**Займемся предобработкой текста:**\n",
    "- Видим столбец Unnamed: 0, дублирующий индексы. Удалим его\n",
    "- лемматизируем его с помощью WordNetLemmatizer\n",
    "- очистим с помощью регулярных выражений\n",
    "- применим стоп-слова\n",
    "- воспользуемся мерой TF-IDF\n",
    "- резделим выборки"
   ]
  },
  {
   "cell_type": "code",
   "execution_count": 12,
   "metadata": {},
   "outputs": [],
   "source": [
    "df = df.drop(['Unnamed: 0'],axis=1)"
   ]
  },
  {
   "cell_type": "code",
   "execution_count": 13,
   "metadata": {},
   "outputs": [
    {
     "name": "stdout",
     "output_type": "stream",
     "text": [
      "<class 'pandas.core.frame.DataFrame'>\n",
      "RangeIndex: 159292 entries, 0 to 159291\n",
      "Data columns (total 2 columns):\n",
      " #   Column  Non-Null Count   Dtype \n",
      "---  ------  --------------   ----- \n",
      " 0   text    159292 non-null  object\n",
      " 1   toxic   159292 non-null  int64 \n",
      "dtypes: int64(1), object(1)\n",
      "memory usage: 2.4+ MB\n"
     ]
    },
    {
     "data": {
      "text/plain": [
       "(                                                text  toxic\n",
       " 0  Explanation\\nWhy the edits made under my usern...      0\n",
       " 1  D'aww! He matches this background colour I'm s...      0\n",
       " 2  Hey man, I'm really not trying to edit war. It...      0,\n",
       " None)"
      ]
     },
     "execution_count": 13,
     "metadata": {},
     "output_type": "execute_result"
    }
   ],
   "source": [
    "df.head(3),df.info()"
   ]
  },
  {
   "cell_type": "markdown",
   "metadata": {},
   "source": [
    "Сделаем токенизацию"
   ]
  },
  {
   "cell_type": "code",
   "execution_count": 14,
   "metadata": {},
   "outputs": [
    {
     "name": "stdout",
     "output_type": "stream",
     "text": [
      "CPU times: user 2min 5s, sys: 4.54 s, total: 2min 10s\n",
      "Wall time: 2min 17s\n"
     ]
    },
    {
     "data": {
      "text/html": [
       "<div>\n",
       "<style scoped>\n",
       "    .dataframe tbody tr th:only-of-type {\n",
       "        vertical-align: middle;\n",
       "    }\n",
       "\n",
       "    .dataframe tbody tr th {\n",
       "        vertical-align: top;\n",
       "    }\n",
       "\n",
       "    .dataframe thead th {\n",
       "        text-align: right;\n",
       "    }\n",
       "</style>\n",
       "<table border=\"1\" class=\"dataframe\">\n",
       "  <thead>\n",
       "    <tr style=\"text-align: right;\">\n",
       "      <th></th>\n",
       "      <th>text</th>\n",
       "      <th>toxic</th>\n",
       "      <th>tokenized</th>\n",
       "    </tr>\n",
       "  </thead>\n",
       "  <tbody>\n",
       "    <tr>\n",
       "      <th>0</th>\n",
       "      <td>Explanation\\nWhy the edits made under my usern...</td>\n",
       "      <td>0</td>\n",
       "      <td>[Explanation, Why, the, edits, made, under, my...</td>\n",
       "    </tr>\n",
       "    <tr>\n",
       "      <th>1</th>\n",
       "      <td>D'aww! He matches this background colour I'm s...</td>\n",
       "      <td>0</td>\n",
       "      <td>[D'aww, !, He, matches, this, background, colo...</td>\n",
       "    </tr>\n",
       "    <tr>\n",
       "      <th>2</th>\n",
       "      <td>Hey man, I'm really not trying to edit war. It...</td>\n",
       "      <td>0</td>\n",
       "      <td>[Hey, man, ,, I, 'm, really, not, trying, to, ...</td>\n",
       "    </tr>\n",
       "  </tbody>\n",
       "</table>\n",
       "</div>"
      ],
      "text/plain": [
       "                                                text  toxic  \\\n",
       "0  Explanation\\nWhy the edits made under my usern...      0   \n",
       "1  D'aww! He matches this background colour I'm s...      0   \n",
       "2  Hey man, I'm really not trying to edit war. It...      0   \n",
       "\n",
       "                                           tokenized  \n",
       "0  [Explanation, Why, the, edits, made, under, my...  \n",
       "1  [D'aww, !, He, matches, this, background, colo...  \n",
       "2  [Hey, man, ,, I, 'm, really, not, trying, to, ...  "
      ]
     },
     "execution_count": 14,
     "metadata": {},
     "output_type": "execute_result"
    }
   ],
   "source": [
    "%%time\n",
    "df['tokenized'] = df.apply(lambda row: nltk.word_tokenize(row['text']), axis=1) \n",
    "df.head(3)"
   ]
  },
  {
   "cell_type": "markdown",
   "metadata": {},
   "source": [
    "Токенизированные слова пропустим через функцию лемматизации"
   ]
  },
  {
   "cell_type": "code",
   "execution_count": 27,
   "metadata": {},
   "outputs": [
    {
     "data": {
      "text/plain": [
       "['run', 'ran', 'run']"
      ]
     },
     "execution_count": 27,
     "metadata": {},
     "output_type": "execute_result"
    }
   ],
   "source": [
    "def lemmatization(text):\n",
    "    \n",
    "    result=[]\n",
    "    wordnet = WordNetLemmatizer()\n",
    "    for token,tag in pos_tag(text):\n",
    "        pos=tag[0].lower()\n",
    "        \n",
    "        if pos not in ['a', 'r', 'n', 'v']:\n",
    "            pos='n'\n",
    "            \n",
    "        result.append(wordnet.lemmatize(token,pos))\n",
    "    \n",
    "    return result\n",
    "\n",
    "#Test\n",
    "text = ['running','ran','runs'] \n",
    "lemmatization(text)"
   ]
  },
  {
   "cell_type": "code",
   "execution_count": 28,
   "metadata": {},
   "outputs": [
    {
     "name": "stdout",
     "output_type": "stream",
     "text": [
      "CPU times: user 11min 42s, sys: 9.8 s, total: 11min 52s\n",
      "Wall time: 12min 15s\n"
     ]
    }
   ],
   "source": [
    "%%time\n",
    "df['lemm_text']=df['tokenized'].apply(lemmatization)"
   ]
  },
  {
   "cell_type": "code",
   "execution_count": 29,
   "metadata": {},
   "outputs": [
    {
     "data": {
      "text/html": [
       "<div>\n",
       "<style scoped>\n",
       "    .dataframe tbody tr th:only-of-type {\n",
       "        vertical-align: middle;\n",
       "    }\n",
       "\n",
       "    .dataframe tbody tr th {\n",
       "        vertical-align: top;\n",
       "    }\n",
       "\n",
       "    .dataframe thead th {\n",
       "        text-align: right;\n",
       "    }\n",
       "</style>\n",
       "<table border=\"1\" class=\"dataframe\">\n",
       "  <thead>\n",
       "    <tr style=\"text-align: right;\">\n",
       "      <th></th>\n",
       "      <th>text</th>\n",
       "      <th>toxic</th>\n",
       "      <th>tokenized</th>\n",
       "      <th>lemm_text</th>\n",
       "    </tr>\n",
       "  </thead>\n",
       "  <tbody>\n",
       "    <tr>\n",
       "      <th>0</th>\n",
       "      <td>Explanation\\nWhy the edits made under my usern...</td>\n",
       "      <td>0</td>\n",
       "      <td>[Explanation, Why, the, edits, made, under, my...</td>\n",
       "      <td>[Explanation, Why, the, edits, make, under, my...</td>\n",
       "    </tr>\n",
       "    <tr>\n",
       "      <th>1</th>\n",
       "      <td>D'aww! He matches this background colour I'm s...</td>\n",
       "      <td>0</td>\n",
       "      <td>[D'aww, !, He, matches, this, background, colo...</td>\n",
       "      <td>[D'aww, !, He, match, this, background, colour...</td>\n",
       "    </tr>\n",
       "    <tr>\n",
       "      <th>2</th>\n",
       "      <td>Hey man, I'm really not trying to edit war. It...</td>\n",
       "      <td>0</td>\n",
       "      <td>[Hey, man, ,, I, 'm, really, not, trying, to, ...</td>\n",
       "      <td>[Hey, man, ,, I, 'm, really, not, try, to, edi...</td>\n",
       "    </tr>\n",
       "    <tr>\n",
       "      <th>3</th>\n",
       "      <td>\"\\nMore\\nI can't make any real suggestions on ...</td>\n",
       "      <td>0</td>\n",
       "      <td>[``, More, I, ca, n't, make, any, real, sugges...</td>\n",
       "      <td>[``, More, I, ca, n't, make, any, real, sugges...</td>\n",
       "    </tr>\n",
       "    <tr>\n",
       "      <th>4</th>\n",
       "      <td>You, sir, are my hero. Any chance you remember...</td>\n",
       "      <td>0</td>\n",
       "      <td>[You, ,, sir, ,, are, my, hero, ., Any, chance...</td>\n",
       "      <td>[You, ,, sir, ,, be, my, hero, ., Any, chance,...</td>\n",
       "    </tr>\n",
       "  </tbody>\n",
       "</table>\n",
       "</div>"
      ],
      "text/plain": [
       "                                                text  toxic  \\\n",
       "0  Explanation\\nWhy the edits made under my usern...      0   \n",
       "1  D'aww! He matches this background colour I'm s...      0   \n",
       "2  Hey man, I'm really not trying to edit war. It...      0   \n",
       "3  \"\\nMore\\nI can't make any real suggestions on ...      0   \n",
       "4  You, sir, are my hero. Any chance you remember...      0   \n",
       "\n",
       "                                           tokenized  \\\n",
       "0  [Explanation, Why, the, edits, made, under, my...   \n",
       "1  [D'aww, !, He, matches, this, background, colo...   \n",
       "2  [Hey, man, ,, I, 'm, really, not, trying, to, ...   \n",
       "3  [``, More, I, ca, n't, make, any, real, sugges...   \n",
       "4  [You, ,, sir, ,, are, my, hero, ., Any, chance...   \n",
       "\n",
       "                                           lemm_text  \n",
       "0  [Explanation, Why, the, edits, make, under, my...  \n",
       "1  [D'aww, !, He, match, this, background, colour...  \n",
       "2  [Hey, man, ,, I, 'm, really, not, try, to, edi...  \n",
       "3  [``, More, I, ca, n't, make, any, real, sugges...  \n",
       "4  [You, ,, sir, ,, be, my, hero, ., Any, chance,...  "
      ]
     },
     "execution_count": 29,
     "metadata": {},
     "output_type": "execute_result"
    }
   ],
   "source": [
    "df.head()"
   ]
  },
  {
   "cell_type": "markdown",
   "metadata": {},
   "source": [
    "Очистим от лишних символов"
   ]
  },
  {
   "cell_type": "code",
   "execution_count": 30,
   "metadata": {},
   "outputs": [
    {
     "data": {
      "text/plain": [
       "'You sir be my hero Any'"
      ]
     },
     "execution_count": 30,
     "metadata": {},
     "output_type": "execute_result"
    }
   ],
   "source": [
    "def remove_tag(text):\n",
    "    \n",
    "    text=' '.join(text)\n",
    "    cleared_text = re.sub(r'[^a-zA-Z]', ' ', text) \n",
    "    return \" \".join(cleared_text.split())\n",
    "\n",
    "#Test\n",
    "text = \"You, ,, sir, ,, be, my, hero, ., Any, \" \n",
    "remove_tag(text.split())"
   ]
  },
  {
   "cell_type": "code",
   "execution_count": 31,
   "metadata": {
    "scrolled": false
   },
   "outputs": [
    {
     "name": "stdout",
     "output_type": "stream",
     "text": [
      "CPU times: user 7.91 s, sys: 1.71 s, total: 9.62 s\n",
      "Wall time: 10.4 s\n"
     ]
    },
    {
     "data": {
      "text/html": [
       "<div>\n",
       "<style scoped>\n",
       "    .dataframe tbody tr th:only-of-type {\n",
       "        vertical-align: middle;\n",
       "    }\n",
       "\n",
       "    .dataframe tbody tr th {\n",
       "        vertical-align: top;\n",
       "    }\n",
       "\n",
       "    .dataframe thead th {\n",
       "        text-align: right;\n",
       "    }\n",
       "</style>\n",
       "<table border=\"1\" class=\"dataframe\">\n",
       "  <thead>\n",
       "    <tr style=\"text-align: right;\">\n",
       "      <th></th>\n",
       "      <th>text</th>\n",
       "      <th>toxic</th>\n",
       "      <th>tokenized</th>\n",
       "      <th>lemm_text</th>\n",
       "    </tr>\n",
       "  </thead>\n",
       "  <tbody>\n",
       "    <tr>\n",
       "      <th>0</th>\n",
       "      <td>Explanation\\nWhy the edits made under my usern...</td>\n",
       "      <td>0</td>\n",
       "      <td>[Explanation, Why, the, edits, made, under, my...</td>\n",
       "      <td>Explanation Why the edits make under my userna...</td>\n",
       "    </tr>\n",
       "    <tr>\n",
       "      <th>1</th>\n",
       "      <td>D'aww! He matches this background colour I'm s...</td>\n",
       "      <td>0</td>\n",
       "      <td>[D'aww, !, He, matches, this, background, colo...</td>\n",
       "      <td>D aww He match this background colour I m seem...</td>\n",
       "    </tr>\n",
       "    <tr>\n",
       "      <th>2</th>\n",
       "      <td>Hey man, I'm really not trying to edit war. It...</td>\n",
       "      <td>0</td>\n",
       "      <td>[Hey, man, ,, I, 'm, really, not, trying, to, ...</td>\n",
       "      <td>Hey man I m really not try to edit war It s ju...</td>\n",
       "    </tr>\n",
       "  </tbody>\n",
       "</table>\n",
       "</div>"
      ],
      "text/plain": [
       "                                                text  toxic  \\\n",
       "0  Explanation\\nWhy the edits made under my usern...      0   \n",
       "1  D'aww! He matches this background colour I'm s...      0   \n",
       "2  Hey man, I'm really not trying to edit war. It...      0   \n",
       "\n",
       "                                           tokenized  \\\n",
       "0  [Explanation, Why, the, edits, made, under, my...   \n",
       "1  [D'aww, !, He, matches, this, background, colo...   \n",
       "2  [Hey, man, ,, I, 'm, really, not, trying, to, ...   \n",
       "\n",
       "                                           lemm_text  \n",
       "0  Explanation Why the edits make under my userna...  \n",
       "1  D aww He match this background colour I m seem...  \n",
       "2  Hey man I m really not try to edit war It s ju...  "
      ]
     },
     "execution_count": 31,
     "metadata": {},
     "output_type": "execute_result"
    }
   ],
   "source": [
    "%%time\n",
    "df['lemm_text'] = df['lemm_text'].apply(remove_tag)\n",
    "df.head(3)"
   ]
  },
  {
   "cell_type": "markdown",
   "metadata": {},
   "source": [
    "Сохраним полученный датасет, чтобы иметь доступ к уже предобработанному тексту."
   ]
  },
  {
   "cell_type": "code",
   "execution_count": 32,
   "metadata": {},
   "outputs": [],
   "source": [
    "df.to_csv('/Users/egorgerasenko/ПРОЕКТЫ ДЛЯ JUPITER NOTEBOOK LOCAL/df_out.csv')"
   ]
  },
  {
   "cell_type": "markdown",
   "metadata": {},
   "source": [
    "Подготовим выборки с признаками и целевым признаком. Сделаем векторизацию выборок с признаками."
   ]
  },
  {
   "cell_type": "code",
   "execution_count": 33,
   "metadata": {},
   "outputs": [],
   "source": [
    "features_train, features_test, target_train, target_test = train_test_split(\n",
    "    df['lemm_text'], df['toxic'], test_size=0.25, random_state=42)"
   ]
  },
  {
   "cell_type": "code",
   "execution_count": 34,
   "metadata": {},
   "outputs": [],
   "source": [
    "stopwords = set(stopwords.words('english'))"
   ]
  },
  {
   "cell_type": "code",
   "execution_count": 35,
   "metadata": {
    "scrolled": true
   },
   "outputs": [
    {
     "name": "stdout",
     "output_type": "stream",
     "text": [
      "CPU times: user 9.05 s, sys: 254 ms, total: 9.3 s\n",
      "Wall time: 9.52 s\n"
     ]
    },
    {
     "data": {
      "text/plain": [
       "((119469, 135489), (39823, 135489))"
      ]
     },
     "execution_count": 35,
     "metadata": {},
     "output_type": "execute_result"
    }
   ],
   "source": [
    "%%time\n",
    "count_tf_idf = TfidfVectorizer(stop_words=stopwords)\n",
    "tf_idf = count_tf_idf.fit_transform(features_train)\n",
    "\n",
    "tf_idf_test = count_tf_idf.transform(features_test)\n",
    "tf_idf.shape, tf_idf_test.shape"
   ]
  },
  {
   "cell_type": "code",
   "execution_count": null,
   "metadata": {},
   "outputs": [],
   "source": [
    "Можем сохранить полученные матрицы."
   ]
  },
  {
   "cell_type": "code",
   "execution_count": 43,
   "metadata": {},
   "outputs": [],
   "source": [
    "scipy.sparse.save_npz(path+'/tf_idf.npz', tf_idf)\n",
    "scipy.sparse.save_npz(path+'/tf_idf_test.npz', tf_idf_test)"
   ]
  },
  {
   "cell_type": "markdown",
   "metadata": {},
   "source": [
    "**Промежуточный вывод этапа Подготовка**\n",
    "- Импортировали необходимые библиотеки\n",
    "- Удалили дублирующий индексы столбец в датасете\n",
    "- Очистили текст от стоп-слов, лишних знаков, лемматизировали (предварительно разбив на токены) и применили TF-idf\n",
    "- Разделили на выборки"
   ]
  },
  {
   "cell_type": "markdown",
   "metadata": {},
   "source": [
    "## Обучение"
   ]
  },
  {
   "cell_type": "markdown",
   "metadata": {},
   "source": [
    "Обучим следующие модели:\n",
    "- LogisticRegression\n",
    "- LGBMClassifier\n",
    "- RandomForestClassifier\n",
    "- DecisionTreeClassifier\n",
    "\n",
    "Проверку моделей будем осуществлять с помощью кросс-валидации на метрика F1"
   ]
  },
  {
   "cell_type": "code",
   "execution_count": 45,
   "metadata": {},
   "outputs": [],
   "source": [
    "#random_state\n",
    "R = 42"
   ]
  },
  {
   "cell_type": "markdown",
   "metadata": {},
   "source": [
    "### LogisticRegression"
   ]
  },
  {
   "cell_type": "code",
   "execution_count": 104,
   "metadata": {},
   "outputs": [],
   "source": [
    "# logistic = LogisticRegression(tol=0.1,random_state=R,solver='liblinear',class_weight='balanced')"
   ]
  },
  {
   "cell_type": "code",
   "execution_count": null,
   "metadata": {},
   "outputs": [],
   "source": [
    "logistic = LogisticRegression(tol=0.1,random_state=R,solver='liblinear',class_weight='balanced')"
   ]
  },
  {
   "cell_type": "code",
   "execution_count": 113,
   "metadata": {},
   "outputs": [],
   "source": [
    "parametrs_lr = {\"C\": range(1,10),\n",
    "              'max_iter': range (10,20,2)\n",
    "              }\n",
    "\n",
    "# parametrs_lr = { 'C': [0.001, 0.01, 0.1, 1, 5, 10, 20, 30, 50, 100],\n",
    "#               'max_iter': range (10,20,2),\n",
    "#               }"
   ]
  },
  {
   "cell_type": "code",
   "execution_count": 114,
   "metadata": {},
   "outputs": [],
   "source": [
    "grid_lr = GridSearchCV(logistic, param_grid=parametrs_lr , cv=5, scoring='f1')"
   ]
  },
  {
   "cell_type": "code",
   "execution_count": 115,
   "metadata": {
    "scrolled": true
   },
   "outputs": [
    {
     "name": "stdout",
     "output_type": "stream",
     "text": [
      "CPU times: user 6min 59s, sys: 13.2 s, total: 7min 13s\n",
      "Wall time: 3min 42s\n"
     ]
    },
    {
     "data": {
      "text/plain": [
       "{'C': 8, 'max_iter': 10}"
      ]
     },
     "execution_count": 115,
     "metadata": {},
     "output_type": "execute_result"
    }
   ],
   "source": [
    "%%time\n",
    "\n",
    "grid_lr.fit(tf_idf, target_train)\n",
    "grid_lr.best_params_"
   ]
  },
  {
   "cell_type": "code",
   "execution_count": 116,
   "metadata": {
    "scrolled": false
   },
   "outputs": [
    {
     "name": "stdout",
     "output_type": "stream",
     "text": [
      "F1 модели LogisticRegression GridSearch: 0.7600434271332069\n"
     ]
    }
   ],
   "source": [
    "print('F1 модели LogisticRegression GridSearch:', grid_lr.best_score_)"
   ]
  },
  {
   "cell_type": "markdown",
   "metadata": {},
   "source": [
    "### LGBMClassifier"
   ]
  },
  {
   "cell_type": "code",
   "execution_count": 135,
   "metadata": {},
   "outputs": [
    {
     "name": "stdout",
     "output_type": "stream",
     "text": [
      "CPU times: user 8h 41min 52s, sys: 9min 51s, total: 8h 51min 44s\n",
      "Wall time: 2h 45min 15s\n"
     ]
    },
    {
     "data": {
      "text/plain": [
       "GridSearchCV(cv=5, estimator=LGBMClassifier(random_state=42),\n",
       "             param_grid={'n_estimators': range(50, 100)}, scoring='f1')"
      ]
     },
     "execution_count": 135,
     "metadata": {},
     "output_type": "execute_result"
    }
   ],
   "source": [
    "%%time\n",
    "model_LGBM_f1 = LGBMClassifier(random_state=R)\n",
    "param_lgbm = {\"n_estimators\" : range (50,100)\n",
    "             }\n",
    "grid_LGBM = GridSearchCV(model_LGBM_f1, param_lgbm, cv=5, scoring='f1')\n",
    "grid_LGBM.fit(tf_idf, target_train)"
   ]
  },
  {
   "cell_type": "code",
   "execution_count": 136,
   "metadata": {},
   "outputs": [
    {
     "name": "stdout",
     "output_type": "stream",
     "text": [
      "F1 модели LGBMClassifier: 0.7390103531011086\n"
     ]
    }
   ],
   "source": [
    "print('F1 модели LGBMClassifier:', grid_LGBM.best_score_)"
   ]
  },
  {
   "cell_type": "markdown",
   "metadata": {},
   "source": [
    "### RandomForestClassifier"
   ]
  },
  {
   "cell_type": "code",
   "execution_count": 122,
   "metadata": {},
   "outputs": [
    {
     "name": "stdout",
     "output_type": "stream",
     "text": [
      "CPU times: user 183 µs, sys: 0 ns, total: 183 µs\n",
      "Wall time: 190 µs\n"
     ]
    }
   ],
   "source": [
    "%%time\n",
    "model_RF = make_pipeline(RandomForestClassifier(random_state=R))\n",
    "params_RF = {\"randomforestclassifier__n_estimators\":range(100, 150, 50),\n",
    "             \"randomforestclassifier__n_estimators\":range(2, 4)}\n",
    "grid_RF = GridSearchCV(model_RF,param_grid = params_RF,scoring='f1')"
   ]
  },
  {
   "cell_type": "code",
   "execution_count": 123,
   "metadata": {},
   "outputs": [
    {
     "name": "stdout",
     "output_type": "stream",
     "text": [
      "CPU times: user 5min 38s, sys: 3.47 s, total: 5min 42s\n",
      "Wall time: 6min 22s\n"
     ]
    },
    {
     "data": {
      "text/plain": [
       "GridSearchCV(estimator=Pipeline(steps=[('randomforestclassifier',\n",
       "                                        RandomForestClassifier(random_state=42))]),\n",
       "             param_grid={'randomforestclassifier__n_estimators': range(2, 4)},\n",
       "             scoring='f1')"
      ]
     },
     "execution_count": 123,
     "metadata": {},
     "output_type": "execute_result"
    }
   ],
   "source": [
    "%%time\n",
    "grid_RF.fit(tf_idf,target_train)"
   ]
  },
  {
   "cell_type": "code",
   "execution_count": 124,
   "metadata": {},
   "outputs": [
    {
     "name": "stdout",
     "output_type": "stream",
     "text": [
      "F1 модели RandomForestClassifier на кросс-валидации: 0.6476438830413752\n"
     ]
    }
   ],
   "source": [
    "print('F1 модели RandomForestClassifier на кросс-валидации:', grid_RF.best_score_)"
   ]
  },
  {
   "cell_type": "markdown",
   "metadata": {},
   "source": [
    "### DecisionTreeClassifier"
   ]
  },
  {
   "cell_type": "code",
   "execution_count": 131,
   "metadata": {},
   "outputs": [
    {
     "name": "stdout",
     "output_type": "stream",
     "text": [
      "CPU times: user 188 µs, sys: 1e+03 ns, total: 189 µs\n",
      "Wall time: 197 µs\n"
     ]
    }
   ],
   "source": [
    "%%time\n",
    "model_DT = make_pipeline(DecisionTreeClassifier(random_state=R))\n",
    "params_DT= {\"decisiontreeclassifier__max_depth\":range(2, 8)}\n",
    "grid_DT = GridSearchCV(model_DT,param_grid = params_DT,scoring='f1')"
   ]
  },
  {
   "cell_type": "code",
   "execution_count": 132,
   "metadata": {},
   "outputs": [
    {
     "name": "stdout",
     "output_type": "stream",
     "text": [
      "CPU times: user 6min 17s, sys: 5.2 s, total: 6min 22s\n",
      "Wall time: 7min 6s\n"
     ]
    },
    {
     "data": {
      "text/plain": [
       "GridSearchCV(estimator=Pipeline(steps=[('decisiontreeclassifier',\n",
       "                                        DecisionTreeClassifier(random_state=42))]),\n",
       "             param_grid={'decisiontreeclassifier__max_depth': range(2, 8)},\n",
       "             scoring='f1')"
      ]
     },
     "execution_count": 132,
     "metadata": {},
     "output_type": "execute_result"
    }
   ],
   "source": [
    "%%time\n",
    "grid_DT.fit(tf_idf,target_train)"
   ]
  },
  {
   "cell_type": "code",
   "execution_count": 133,
   "metadata": {},
   "outputs": [
    {
     "name": "stdout",
     "output_type": "stream",
     "text": [
      "F1 модели DecisionTreeClassifier на кросс-валидации: 0.5500672871266895\n"
     ]
    }
   ],
   "source": [
    "print('F1 модели DecisionTreeClassifier на кросс-валидации:', grid_DT.best_score_)"
   ]
  },
  {
   "cell_type": "markdown",
   "metadata": {},
   "source": [
    "### Промежуточный вывод на этапе Обучения"
   ]
  },
  {
   "cell_type": "markdown",
   "metadata": {},
   "source": [
    "**Соберем в одну таблицу все значения F1 на кросс-валидации по моделям, которые использовали для обучения**"
   ]
  },
  {
   "cell_type": "code",
   "execution_count": 137,
   "metadata": {},
   "outputs": [
    {
     "name": "stdout",
     "output_type": "stream",
     "text": [
      "+------------------------+----------+\n",
      "|                        |       F1 |\n",
      "+========================+==========+\n",
      "| LogisticRegression     | 0.760043 |\n",
      "+------------------------+----------+\n",
      "| LGBMClassifier         | 0.73901  |\n",
      "+------------------------+----------+\n",
      "| RandomForestClassifier | 0.647644 |\n",
      "+------------------------+----------+\n",
      "| DecisionTreeClassifier | 0.550067 |\n",
      "+------------------------+----------+\n"
     ]
    }
   ],
   "source": [
    "a = [\n",
    "    ['LogisticRegression', grid_lr.best_score_],\n",
    "    ['LGBMClassifier', grid_LGBM.best_score_],\n",
    "    ['RandomForestClassifier', grid_RF.best_score_],\n",
    "    ['DecisionTreeClassifier', grid_DT.best_score_]\n",
    "    \n",
    "]\n",
    "head=['F1']\n",
    "print(tabulate(a, headers=head, tablefmt=\"grid\"))"
   ]
  },
  {
   "cell_type": "markdown",
   "metadata": {},
   "source": [
    "**Промежуточный вывод**\n",
    "- Обучили 4 модели классификации и проверили их качество с помощью кросс-валидации на метрике F1\n",
    "- Дополнительно замеряли время: дольше всего обучалась и предсказывала модель на LGBMClassifier\n",
    "- Лучшее значение метрики достигнуто на LogisticRegression: F1 = 0.76\n"
   ]
  },
  {
   "cell_type": "markdown",
   "metadata": {},
   "source": [
    "## Тестирование на лучшей модели"
   ]
  },
  {
   "cell_type": "code",
   "execution_count": 138,
   "metadata": {},
   "outputs": [
    {
     "name": "stdout",
     "output_type": "stream",
     "text": [
      "F1 модели LogisticRegression на тестовой выборке: 0.7622780724002767\n"
     ]
    }
   ],
   "source": [
    "pred = grid_lr.predict(tf_idf_test)\n",
    "print('F1 модели LogisticRegression на тестовой выборке:', f1_score(target_test,pred))"
   ]
  },
  {
   "cell_type": "code",
   "execution_count": 139,
   "metadata": {},
   "outputs": [
    {
     "name": "stdout",
     "output_type": "stream",
     "text": [
      "              precision    recall  f1-score   support\n",
      "\n",
      "           0       0.98      0.96      0.97     35806\n",
      "           1       0.71      0.82      0.76      4017\n",
      "\n",
      "    accuracy                           0.95     39823\n",
      "   macro avg       0.84      0.89      0.87     39823\n",
      "weighted avg       0.95      0.95      0.95     39823\n",
      "\n"
     ]
    }
   ],
   "source": [
    "names = ['0','1']\n",
    "print(classification_report(target_test,pred, target_names=names))"
   ]
  },
  {
   "cell_type": "code",
   "execution_count": 140,
   "metadata": {},
   "outputs": [
    {
     "data": {
      "image/png": "[encoded data removed]",
      "text/plain": [
       "<Figure size 640x480 with 1 Axes>"
      ]
     },
     "metadata": {
      "image/png": {
       "height": 458,
       "width": 567
      }
     },
     "output_type": "display_data"
    }
   ],
   "source": [
    "sns.set(style=\"darkgrid\")\n",
    "fig = sns.kdeplot(target_test, shade=True, color=\"r\", label='Оригинальные значения')\n",
    "fig = sns.kdeplot(pred, shade=True, color=\"b\", label='Предсказанные значения')\n",
    "plt.legend()\n",
    "plt.title('Визуализация качества предсказания на тестовой выборке')\n",
    "plt.show()"
   ]
  },
  {
   "cell_type": "markdown",
   "metadata": {},
   "source": [
    "## Выводы"
   ]
  },
  {
   "cell_type": "markdown",
   "metadata": {},
   "source": [
    "Для интернет-магазина \"Викишоп\" разработали модель классификации комментариев на токсичные и позитивные **с качеством F1 на тестовой выборке равной 0.7622**.\n",
    "\n",
    "\n",
    "**Была выполнена следующая работа**\n",
    "\n",
    "- Предобработка текста: Очистили текст от стоп-слов, лишних знаков, лемматизировали и применили TF-idf\n",
    "- Обучение моделей: использовали 5 моделей классификации и проверяли их качество с помощью кросс-валидации на метрике F1\n",
    "- Лучший результат дала  модель LogisticRegression. Проверили ее работу на тестовой выборке"
   ]
  }
 ],
 "metadata": {
  "ExecuteTimeLog": [
   {
    "duration": 430,
    "start_time": "2022-12-08T12:13:04.860Z"
   },
   {
    "duration": 70,
    "start_time": "2022-12-08T12:14:41.102Z"
   },
   {
    "duration": 2534,
    "start_time": "2022-12-08T12:15:30.526Z"
   },
   {
    "duration": 107,
    "start_time": "2022-12-08T12:15:52.549Z"
   },
   {
    "duration": 2155,
    "start_time": "2022-12-08T12:15:55.597Z"
   },
   {
    "duration": 32,
    "start_time": "2022-12-08T12:16:06.036Z"
   },
   {
    "duration": 1881,
    "start_time": "2022-12-08T12:16:24.320Z"
   },
   {
    "duration": 30,
    "start_time": "2022-12-08T12:16:27.439Z"
   },
   {
    "duration": 13,
    "start_time": "2022-12-08T12:16:34.415Z"
   },
   {
    "duration": 18237,
    "start_time": "2022-12-08T12:17:16.358Z"
   },
   {
    "duration": 1234,
    "start_time": "2022-12-08T12:17:34.597Z"
   },
   {
    "duration": 10968,
    "start_time": "2022-12-08T12:17:38.299Z"
   },
   {
    "duration": 108,
    "start_time": "2022-12-08T12:19:44.468Z"
   },
   {
    "duration": 9,
    "start_time": "2022-12-08T12:19:57.265Z"
   },
   {
    "duration": 11,
    "start_time": "2022-12-08T12:20:29.914Z"
   },
   {
    "duration": 7,
    "start_time": "2022-12-08T12:20:31.811Z"
   },
   {
    "duration": 7,
    "start_time": "2022-12-08T12:21:11.488Z"
   },
   {
    "duration": 4,
    "start_time": "2022-12-08T12:24:30.015Z"
   },
   {
    "duration": 2214,
    "start_time": "2022-12-08T12:24:52.273Z"
   },
   {
    "duration": 46,
    "start_time": "2022-12-08T12:25:13.127Z"
   },
   {
    "duration": 435,
    "start_time": "2022-12-08T12:25:19.561Z"
   },
   {
    "duration": 2659,
    "start_time": "2022-12-08T12:25:19.998Z"
   },
   {
    "duration": 1217,
    "start_time": "2022-12-08T12:25:22.658Z"
   },
   {
    "duration": 2846,
    "start_time": "2022-12-08T12:25:23.877Z"
   },
   {
    "duration": 11769,
    "start_time": "2022-12-08T12:25:26.725Z"
   },
   {
    "duration": 11,
    "start_time": "2022-12-08T12:25:38.496Z"
   },
   {
    "duration": 27,
    "start_time": "2022-12-08T12:25:38.509Z"
   },
   {
    "duration": 2126,
    "start_time": "2022-12-08T12:25:38.537Z"
   },
   {
    "duration": 54,
    "start_time": "2022-12-08T12:26:01.135Z"
   },
   {
    "duration": 422,
    "start_time": "2022-12-08T12:26:05.766Z"
   },
   {
    "duration": 2225,
    "start_time": "2022-12-08T12:26:09.646Z"
   },
   {
    "duration": 15,
    "start_time": "2022-12-08T12:26:13.509Z"
   },
   {
    "duration": 12,
    "start_time": "2022-12-08T12:26:14.918Z"
   },
   {
    "duration": 1967,
    "start_time": "2022-12-08T12:26:17.004Z"
   },
   {
    "duration": 49,
    "start_time": "2022-12-08T12:28:21.250Z"
   },
   {
    "duration": 8,
    "start_time": "2022-12-08T12:28:29.860Z"
   },
   {
    "duration": 400,
    "start_time": "2022-12-08T12:28:36.194Z"
   },
   {
    "duration": 1564,
    "start_time": "2022-12-08T12:28:38.446Z"
   },
   {
    "duration": 15,
    "start_time": "2022-12-08T12:28:42.553Z"
   },
   {
    "duration": 13,
    "start_time": "2022-12-08T12:28:43.790Z"
   },
   {
    "duration": 1987,
    "start_time": "2022-12-08T12:28:45.874Z"
   },
   {
    "duration": 989,
    "start_time": "2022-12-08T12:28:49.430Z"
   },
   {
    "duration": 740,
    "start_time": "2022-12-08T12:32:38.525Z"
   },
   {
    "duration": 2,
    "start_time": "2022-12-08T12:32:51.255Z"
   },
   {
    "duration": 9723,
    "start_time": "2022-12-08T12:32:58.354Z"
   },
   {
    "duration": 3,
    "start_time": "2022-12-08T12:33:19.800Z"
   },
   {
    "duration": 198,
    "start_time": "2022-12-08T12:34:36.879Z"
   },
   {
    "duration": 227,
    "start_time": "2022-12-08T12:35:03.182Z"
   },
   {
    "duration": 4,
    "start_time": "2022-12-08T12:35:23.123Z"
   },
   {
    "duration": 9522,
    "start_time": "2022-12-08T12:35:43.498Z"
   },
   {
    "duration": 4,
    "start_time": "2022-12-08T12:35:57.248Z"
   },
   {
    "duration": 25,
    "start_time": "2022-12-08T12:39:58.041Z"
   },
   {
    "duration": 107,
    "start_time": "2022-12-08T12:41:20.484Z"
   },
   {
    "duration": 6,
    "start_time": "2022-12-08T12:41:31.770Z"
   },
   {
    "duration": 2290,
    "start_time": "2022-12-08T12:41:34.598Z"
   },
   {
    "duration": 12,
    "start_time": "2022-12-08T12:41:37.094Z"
   },
   {
    "duration": 7,
    "start_time": "2022-12-08T12:41:38.257Z"
   },
   {
    "duration": 1523,
    "start_time": "2022-12-08T12:41:51.444Z"
   },
   {
    "duration": 1718,
    "start_time": "2022-12-08T12:41:54.187Z"
   },
   {
    "duration": 14,
    "start_time": "2022-12-08T12:41:57.927Z"
   },
   {
    "duration": 1977,
    "start_time": "2022-12-08T12:42:00.434Z"
   },
   {
    "duration": 123,
    "start_time": "2022-12-08T12:42:04.414Z"
   },
   {
    "duration": 44,
    "start_time": "2022-12-08T13:02:11.967Z"
   },
   {
    "duration": 1573,
    "start_time": "2022-12-08T13:02:17.152Z"
   },
   {
    "duration": 2663,
    "start_time": "2022-12-08T13:02:18.727Z"
   },
   {
    "duration": 551,
    "start_time": "2022-12-08T13:02:21.392Z"
   },
   {
    "duration": 2230,
    "start_time": "2022-12-08T13:02:21.945Z"
   },
   {
    "duration": 2,
    "start_time": "2022-12-08T13:02:24.177Z"
   },
   {
    "duration": 20,
    "start_time": "2022-12-08T13:02:24.181Z"
   },
   {
    "duration": 16,
    "start_time": "2022-12-08T13:02:24.203Z"
   },
   {
    "duration": 1918,
    "start_time": "2022-12-08T13:02:24.220Z"
   },
   {
    "duration": 146,
    "start_time": "2022-12-08T13:02:26.140Z"
   },
   {
    "duration": 0,
    "start_time": "2022-12-08T13:02:26.288Z"
   },
   {
    "duration": 0,
    "start_time": "2022-12-08T13:02:26.289Z"
   },
   {
    "duration": 0,
    "start_time": "2022-12-08T13:02:26.290Z"
   },
   {
    "duration": 0,
    "start_time": "2022-12-08T13:02:26.292Z"
   },
   {
    "duration": 161,
    "start_time": "2022-12-08T14:55:39.708Z"
   },
   {
    "duration": 4,
    "start_time": "2022-12-08T14:55:41.724Z"
   },
   {
    "duration": 975,
    "start_time": "2022-12-08T14:56:31.260Z"
   },
   {
    "duration": 2401,
    "start_time": "2022-12-08T14:58:41.562Z"
   },
   {
    "duration": 3,
    "start_time": "2022-12-08T15:10:38.112Z"
   },
   {
    "duration": 3,
    "start_time": "2022-12-08T15:10:41.034Z"
   },
   {
    "duration": 2064,
    "start_time": "2022-12-08T15:10:52.338Z"
   },
   {
    "duration": 901,
    "start_time": "2022-12-08T15:11:13.666Z"
   },
   {
    "duration": 49,
    "start_time": "2022-12-08T15:12:09.334Z"
   },
   {
    "duration": 4761,
    "start_time": "2022-12-08T15:12:17.317Z"
   },
   {
    "duration": 2668,
    "start_time": "2022-12-08T15:12:22.080Z"
   },
   {
    "duration": 379,
    "start_time": "2022-12-08T15:12:24.753Z"
   },
   {
    "duration": 4643,
    "start_time": "2022-12-08T15:12:25.134Z"
   },
   {
    "duration": 2,
    "start_time": "2022-12-08T15:12:29.779Z"
   },
   {
    "duration": 46,
    "start_time": "2022-12-08T15:12:29.783Z"
   },
   {
    "duration": 31,
    "start_time": "2022-12-08T15:12:29.831Z"
   },
   {
    "duration": 1933,
    "start_time": "2022-12-08T15:12:29.864Z"
   },
   {
    "duration": 2636,
    "start_time": "2022-12-10T09:53:37.748Z"
   },
   {
    "duration": 2446,
    "start_time": "2022-12-10T09:53:43.923Z"
   },
   {
    "duration": 2897,
    "start_time": "2022-12-10T09:54:00.626Z"
   },
   {
    "duration": 3158,
    "start_time": "2022-12-10T09:54:08.501Z"
   },
   {
    "duration": 14,
    "start_time": "2022-12-10T09:54:19.456Z"
   },
   {
    "duration": 10,
    "start_time": "2022-12-10T09:54:22.571Z"
   },
   {
    "duration": 5374,
    "start_time": "2022-12-10T09:55:06.396Z"
   },
   {
    "duration": 2477,
    "start_time": "2022-12-10T09:55:14.750Z"
   },
   {
    "duration": 16,
    "start_time": "2022-12-10T09:55:20.379Z"
   },
   {
    "duration": 12,
    "start_time": "2022-12-10T09:55:22.767Z"
   },
   {
    "duration": 5485,
    "start_time": "2022-12-10T09:56:00.526Z"
   },
   {
    "duration": 1879,
    "start_time": "2022-12-10T09:56:09.179Z"
   },
   {
    "duration": 10500,
    "start_time": "2022-12-10T09:56:13.316Z"
   },
   {
    "duration": 2565,
    "start_time": "2022-12-10T10:05:49.677Z"
   },
   {
    "duration": 169,
    "start_time": "2022-12-10T10:06:40.321Z"
   },
   {
    "duration": 11,
    "start_time": "2022-12-10T10:07:10.302Z"
   },
   {
    "duration": 2489,
    "start_time": "2022-12-10T10:07:23.908Z"
   },
   {
    "duration": 2500,
    "start_time": "2022-12-10T10:07:39.708Z"
   },
   {
    "duration": 13,
    "start_time": "2022-12-10T10:07:42.728Z"
   },
   {
    "duration": 8,
    "start_time": "2022-12-10T10:07:44.072Z"
   },
   {
    "duration": 5363,
    "start_time": "2022-12-10T10:08:19.676Z"
   },
   {
    "duration": 3168,
    "start_time": "2022-12-10T10:08:25.961Z"
   },
   {
    "duration": 13,
    "start_time": "2022-12-10T10:08:29.229Z"
   },
   {
    "duration": 11,
    "start_time": "2022-12-10T10:08:31.182Z"
   },
   {
    "duration": 2044,
    "start_time": "2022-12-10T10:08:32.878Z"
   },
   {
    "duration": 144,
    "start_time": "2022-12-10T10:08:39.324Z"
   },
   {
    "duration": 2656,
    "start_time": "2022-12-10T10:09:55.382Z"
   },
   {
    "duration": 2672,
    "start_time": "2022-12-10T10:10:30.995Z"
   },
   {
    "duration": 1921,
    "start_time": "2022-12-10T10:10:36.551Z"
   },
   {
    "duration": 14,
    "start_time": "2022-12-10T10:10:38.855Z"
   },
   {
    "duration": 5381,
    "start_time": "2022-12-10T10:12:32.494Z"
   },
   {
    "duration": 2403,
    "start_time": "2022-12-10T10:12:39.710Z"
   },
   {
    "duration": 1911,
    "start_time": "2022-12-10T10:12:42.769Z"
   },
   {
    "duration": 20,
    "start_time": "2022-12-10T10:12:47.065Z"
   },
   {
    "duration": 6,
    "start_time": "2022-12-10T10:12:48.816Z"
   },
   {
    "duration": 11,
    "start_time": "2022-12-10T10:12:50.076Z"
   },
   {
    "duration": 17,
    "start_time": "2022-12-10T10:12:57.222Z"
   },
   {
    "duration": 234,
    "start_time": "2022-12-10T10:13:02.681Z"
   },
   {
    "duration": 149,
    "start_time": "2022-12-10T10:13:05.307Z"
   },
   {
    "duration": 11,
    "start_time": "2022-12-10T10:14:29.948Z"
   },
   {
    "duration": 2433,
    "start_time": "2022-12-10T10:14:45.932Z"
   },
   {
    "duration": 3,
    "start_time": "2022-12-10T10:20:16.807Z"
   },
   {
    "duration": 888,
    "start_time": "2022-12-10T10:20:34.990Z"
   },
   {
    "duration": 17,
    "start_time": "2022-12-10T10:22:52.341Z"
   },
   {
    "duration": 11,
    "start_time": "2022-12-10T10:23:01.218Z"
   },
   {
    "duration": 10,
    "start_time": "2022-12-10T10:23:05.413Z"
   },
   {
    "duration": 698,
    "start_time": "2022-12-10T10:23:22.918Z"
   },
   {
    "duration": 3,
    "start_time": "2022-12-10T10:23:46.861Z"
   },
   {
    "duration": 722,
    "start_time": "2022-12-10T10:23:48.198Z"
   },
   {
    "duration": 3,
    "start_time": "2022-12-10T10:24:04.624Z"
   },
   {
    "duration": 725,
    "start_time": "2022-12-10T10:24:06.589Z"
   },
   {
    "duration": 2432,
    "start_time": "2022-12-10T10:24:55.215Z"
   },
   {
    "duration": 2,
    "start_time": "2022-12-10T10:25:21.437Z"
   },
   {
    "duration": 16,
    "start_time": "2022-12-10T10:25:25.922Z"
   },
   {
    "duration": 38,
    "start_time": "2022-12-10T10:25:29.025Z"
   },
   {
    "duration": 2395,
    "start_time": "2022-12-10T10:25:33.546Z"
   },
   {
    "duration": 2013,
    "start_time": "2022-12-10T10:25:36.563Z"
   },
   {
    "duration": 23,
    "start_time": "2022-12-10T10:25:39.476Z"
   },
   {
    "duration": 6,
    "start_time": "2022-12-10T10:25:41.391Z"
   },
   {
    "duration": 18,
    "start_time": "2022-12-10T10:25:42.645Z"
   },
   {
    "duration": 7,
    "start_time": "2022-12-10T10:25:53.180Z"
   },
   {
    "duration": 3,
    "start_time": "2022-12-10T10:26:12.340Z"
   },
   {
    "duration": 3,
    "start_time": "2022-12-10T10:27:34.741Z"
   },
   {
    "duration": 678,
    "start_time": "2022-12-10T10:28:14.712Z"
   },
   {
    "duration": 3,
    "start_time": "2022-12-10T10:28:46.679Z"
   },
   {
    "duration": 675,
    "start_time": "2022-12-10T10:28:48.224Z"
   },
   {
    "duration": 670,
    "start_time": "2022-12-10T10:30:27.334Z"
   },
   {
    "duration": 665,
    "start_time": "2022-12-10T10:30:39.053Z"
   },
   {
    "duration": 709,
    "start_time": "2022-12-10T10:31:03.186Z"
   },
   {
    "duration": 2416,
    "start_time": "2022-12-10T10:32:06.050Z"
   },
   {
    "duration": 2367,
    "start_time": "2022-12-10T10:32:10.191Z"
   },
   {
    "duration": 21,
    "start_time": "2022-12-10T10:32:15.753Z"
   },
   {
    "duration": 5,
    "start_time": "2022-12-10T10:32:17.151Z"
   },
   {
    "duration": 17,
    "start_time": "2022-12-10T10:32:18.248Z"
   },
   {
    "duration": 8,
    "start_time": "2022-12-10T10:32:22.484Z"
   },
   {
    "duration": 3,
    "start_time": "2022-12-10T10:32:29.692Z"
   },
   {
    "duration": 3,
    "start_time": "2022-12-10T10:32:32.061Z"
   },
   {
    "duration": 667,
    "start_time": "2022-12-10T10:32:33.748Z"
   },
   {
    "duration": 699,
    "start_time": "2022-12-10T10:32:45.380Z"
   },
   {
    "duration": 3,
    "start_time": "2022-12-10T10:32:59.906Z"
   },
   {
    "duration": 2455,
    "start_time": "2022-12-10T10:33:03.637Z"
   },
   {
    "duration": 2090,
    "start_time": "2022-12-10T10:33:06.987Z"
   },
   {
    "duration": 22,
    "start_time": "2022-12-10T10:33:11.024Z"
   },
   {
    "duration": 7,
    "start_time": "2022-12-10T10:33:12.072Z"
   },
   {
    "duration": 18,
    "start_time": "2022-12-10T10:33:13.324Z"
   },
   {
    "duration": 224,
    "start_time": "2022-12-10T10:33:26.097Z"
   },
   {
    "duration": 3,
    "start_time": "2022-12-10T10:33:28.192Z"
   },
   {
    "duration": 3,
    "start_time": "2022-12-10T10:33:29.470Z"
   },
   {
    "duration": 728,
    "start_time": "2022-12-10T10:33:31.388Z"
   },
   {
    "duration": 716,
    "start_time": "2022-12-10T10:33:43.015Z"
   },
   {
    "duration": 22,
    "start_time": "2022-12-10T10:34:24.726Z"
   },
   {
    "duration": 2466,
    "start_time": "2022-12-10T10:34:35.478Z"
   },
   {
    "duration": 1545,
    "start_time": "2022-12-10T10:34:38.404Z"
   },
   {
    "duration": 24,
    "start_time": "2022-12-10T10:34:41.991Z"
   },
   {
    "duration": 6,
    "start_time": "2022-12-10T10:34:43.224Z"
   },
   {
    "duration": 17,
    "start_time": "2022-12-10T10:34:44.391Z"
   },
   {
    "duration": 16,
    "start_time": "2022-12-10T10:34:55.094Z"
   },
   {
    "duration": 8,
    "start_time": "2022-12-10T10:35:00.957Z"
   },
   {
    "duration": 3,
    "start_time": "2022-12-10T10:35:02.530Z"
   },
   {
    "duration": 3,
    "start_time": "2022-12-10T10:35:04.281Z"
   },
   {
    "duration": 694,
    "start_time": "2022-12-10T10:35:05.491Z"
   },
   {
    "duration": 24,
    "start_time": "2022-12-10T10:35:17.402Z"
   },
   {
    "duration": 682,
    "start_time": "2022-12-10T10:38:55.840Z"
   },
   {
    "duration": 35,
    "start_time": "2022-12-10T10:39:34.976Z"
   },
   {
    "duration": 16,
    "start_time": "2022-12-10T10:39:50.769Z"
   },
   {
    "duration": 17,
    "start_time": "2022-12-10T10:40:02.054Z"
   },
   {
    "duration": 16,
    "start_time": "2022-12-10T10:41:29.547Z"
   },
   {
    "duration": 11,
    "start_time": "2022-12-10T10:41:51.276Z"
   },
   {
    "duration": 12,
    "start_time": "2022-12-10T10:41:58.580Z"
   },
   {
    "duration": 7,
    "start_time": "2022-12-10T10:42:04.774Z"
   },
   {
    "duration": 4138,
    "start_time": "2022-12-10T10:42:15.602Z"
   },
   {
    "duration": 1876,
    "start_time": "2022-12-10T10:42:20.579Z"
   },
   {
    "duration": 25,
    "start_time": "2022-12-10T10:42:23.005Z"
   },
   {
    "duration": 6,
    "start_time": "2022-12-10T10:42:24.361Z"
   },
   {
    "duration": 20,
    "start_time": "2022-12-10T10:42:25.397Z"
   },
   {
    "duration": 7,
    "start_time": "2022-12-10T10:42:30.930Z"
   },
   {
    "duration": 3,
    "start_time": "2022-12-10T10:42:33.565Z"
   },
   {
    "duration": 3,
    "start_time": "2022-12-10T10:42:35.597Z"
   },
   {
    "duration": 679,
    "start_time": "2022-12-10T10:42:36.913Z"
   },
   {
    "duration": 137,
    "start_time": "2022-12-10T10:42:41.161Z"
   },
   {
    "duration": 14,
    "start_time": "2022-12-10T10:43:04.784Z"
   },
   {
    "duration": 25,
    "start_time": "2022-12-10T10:43:18.066Z"
   },
   {
    "duration": 10,
    "start_time": "2022-12-10T10:43:21.108Z"
   },
   {
    "duration": 15,
    "start_time": "2022-12-10T10:43:27.401Z"
   },
   {
    "duration": 15,
    "start_time": "2022-12-10T10:43:32.197Z"
   },
   {
    "duration": 3,
    "start_time": "2022-12-10T10:45:43.868Z"
   },
   {
    "duration": 660,
    "start_time": "2022-12-10T10:45:45.908Z"
   },
   {
    "duration": 4,
    "start_time": "2022-12-10T10:47:22.947Z"
   },
   {
    "duration": 22,
    "start_time": "2022-12-10T10:47:40.800Z"
   },
   {
    "duration": 9,
    "start_time": "2022-12-10T10:47:44.496Z"
   },
   {
    "duration": 3,
    "start_time": "2022-12-10T10:50:08.876Z"
   },
   {
    "duration": 10,
    "start_time": "2022-12-10T10:50:12.440Z"
   },
   {
    "duration": 11,
    "start_time": "2022-12-10T10:50:22.639Z"
   },
   {
    "duration": 78,
    "start_time": "2022-12-10T10:50:31.130Z"
   },
   {
    "duration": 826,
    "start_time": "2022-12-10T10:50:35.421Z"
   },
   {
    "duration": 661,
    "start_time": "2022-12-10T10:50:47.406Z"
   },
   {
    "duration": 15,
    "start_time": "2022-12-10T10:52:06.902Z"
   },
   {
    "duration": 2384,
    "start_time": "2022-12-10T10:52:56.513Z"
   },
   {
    "duration": 1595,
    "start_time": "2022-12-10T10:53:01.459Z"
   },
   {
    "duration": 21,
    "start_time": "2022-12-10T10:53:04.854Z"
   },
   {
    "duration": 6,
    "start_time": "2022-12-10T10:53:06.127Z"
   },
   {
    "duration": 17,
    "start_time": "2022-12-10T10:53:07.297Z"
   },
   {
    "duration": 7,
    "start_time": "2022-12-10T10:53:09.812Z"
   },
   {
    "duration": 3,
    "start_time": "2022-12-10T10:53:10.880Z"
   },
   {
    "duration": 3,
    "start_time": "2022-12-10T10:53:12.431Z"
   },
   {
    "duration": 662,
    "start_time": "2022-12-10T10:53:14.019Z"
   },
   {
    "duration": 3757764,
    "start_time": "2022-12-10T10:53:17.828Z"
   },
   {
    "duration": 0,
    "start_time": "2022-12-10T11:55:55.593Z"
   },
   {
    "duration": 5930,
    "start_time": "2022-12-10T11:56:03.272Z"
   },
   {
    "duration": 11,
    "start_time": "2022-12-10T11:56:20.647Z"
   },
   {
    "duration": 19,
    "start_time": "2022-12-10T11:56:21.957Z"
   },
   {
    "duration": 16,
    "start_time": "2022-12-10T11:56:27.187Z"
   },
   {
    "duration": 11,
    "start_time": "2022-12-10T11:56:30.299Z"
   },
   {
    "duration": 3,
    "start_time": "2022-12-10T11:56:31.742Z"
   },
   {
    "duration": 3,
    "start_time": "2022-12-10T11:56:32.712Z"
   },
   {
    "duration": 680,
    "start_time": "2022-12-10T11:56:34.270Z"
   },
   {
    "duration": 3377265,
    "start_time": "2022-12-10T11:56:41.763Z"
   },
   {
    "duration": 7,
    "start_time": "2022-12-10T12:53:04.172Z"
   },
   {
    "duration": 10,
    "start_time": "2022-12-10T12:53:18.014Z"
   },
   {
    "duration": 192,
    "start_time": "2022-12-10T13:02:08.652Z"
   },
   {
    "duration": 17,
    "start_time": "2022-12-10T13:02:14.572Z"
   },
   {
    "duration": 227,
    "start_time": "2022-12-10T13:45:33.060Z"
   },
   {
    "duration": 4,
    "start_time": "2022-12-10T13:55:19.461Z"
   },
   {
    "duration": 2,
    "start_time": "2022-12-10T13:56:15.789Z"
   },
   {
    "duration": 217,
    "start_time": "2022-12-10T13:56:32.055Z"
   },
   {
    "duration": 6,
    "start_time": "2022-12-10T13:58:26.715Z"
   },
   {
    "duration": 7,
    "start_time": "2022-12-10T13:58:30.605Z"
   },
   {
    "duration": 7,
    "start_time": "2022-12-10T13:58:47.392Z"
   },
   {
    "duration": 7,
    "start_time": "2022-12-10T14:00:03.456Z"
   },
   {
    "duration": 2,
    "start_time": "2022-12-10T14:03:10.524Z"
   },
   {
    "duration": 5,
    "start_time": "2022-12-10T14:03:12.085Z"
   },
   {
    "duration": 9,
    "start_time": "2022-12-10T14:03:16.461Z"
   },
   {
    "duration": 10,
    "start_time": "2022-12-10T14:03:38.411Z"
   },
   {
    "duration": 206,
    "start_time": "2022-12-10T14:03:40.243Z"
   },
   {
    "duration": 207,
    "start_time": "2022-12-10T14:03:51.489Z"
   },
   {
    "duration": 3,
    "start_time": "2022-12-10T14:04:05.222Z"
   },
   {
    "duration": 4,
    "start_time": "2022-12-10T14:06:33.103Z"
   },
   {
    "duration": 8,
    "start_time": "2022-12-10T14:06:38.846Z"
   },
   {
    "duration": 335,
    "start_time": "2022-12-10T14:06:53.022Z"
   },
   {
    "duration": 10,
    "start_time": "2022-12-10T14:08:30.561Z"
   },
   {
    "duration": 9,
    "start_time": "2022-12-10T14:08:33.898Z"
   },
   {
    "duration": 18,
    "start_time": "2022-12-10T14:09:16.086Z"
   },
   {
    "duration": 1803,
    "start_time": "2022-12-10T14:10:01.777Z"
   },
   {
    "duration": 2547,
    "start_time": "2022-12-10T14:15:00.395Z"
   },
   {
    "duration": 1566,
    "start_time": "2022-12-10T14:15:33.465Z"
   },
   {
    "duration": 17,
    "start_time": "2022-12-10T14:16:20.281Z"
   },
   {
    "duration": 2447,
    "start_time": "2022-12-10T14:16:39.187Z"
   },
   {
    "duration": 7,
    "start_time": "2022-12-10T14:16:48.565Z"
   },
   {
    "duration": 2442,
    "start_time": "2022-12-10T14:32:04.323Z"
   },
   {
    "duration": 6841,
    "start_time": "2022-12-10T14:39:40.114Z"
   },
   {
    "duration": 1636,
    "start_time": "2022-12-10T14:40:50.163Z"
   },
   {
    "duration": 5194,
    "start_time": "2022-12-10T14:42:09.293Z"
   },
   {
    "duration": 2540,
    "start_time": "2022-12-10T14:43:48.677Z"
   },
   {
    "duration": 2477,
    "start_time": "2022-12-10T14:45:19.191Z"
   },
   {
    "duration": 1608,
    "start_time": "2022-12-10T14:48:25.389Z"
   },
   {
    "duration": 3206,
    "start_time": "2022-12-10T14:48:34.572Z"
   },
   {
    "duration": 11342,
    "start_time": "2022-12-10T14:48:48.037Z"
   },
   {
    "duration": 98,
    "start_time": "2022-12-10T14:50:44.774Z"
   },
   {
    "duration": 447,
    "start_time": "2022-12-10T14:51:56.754Z"
   },
   {
    "duration": 2114,
    "start_time": "2022-12-10T14:52:00.079Z"
   },
   {
    "duration": 38115,
    "start_time": "2022-12-10T14:52:35.394Z"
   },
   {
    "duration": 98528,
    "start_time": "2022-12-10T14:53:18.354Z"
   },
   {
    "duration": 2644,
    "start_time": "2022-12-10T14:58:01.023Z"
   },
   {
    "duration": 3,
    "start_time": "2022-12-10T14:59:21.390Z"
   },
   {
    "duration": 9,
    "start_time": "2022-12-10T15:00:21.883Z"
   },
   {
    "duration": 489,
    "start_time": "2022-12-10T15:00:45.473Z"
   },
   {
    "duration": 2459,
    "start_time": "2022-12-10T15:03:02.649Z"
   },
   {
    "duration": 88,
    "start_time": "2022-12-10T15:06:31.074Z"
   },
   {
    "duration": 14,
    "start_time": "2022-12-10T15:06:55.970Z"
   },
   {
    "duration": 2422,
    "start_time": "2022-12-10T15:08:10.254Z"
   },
   {
    "duration": 109,
    "start_time": "2022-12-10T15:08:20.975Z"
   },
   {
    "duration": 81,
    "start_time": "2022-12-10T15:08:43.011Z"
   },
   {
    "duration": 4,
    "start_time": "2022-12-10T15:09:04.951Z"
   },
   {
    "duration": 5,
    "start_time": "2022-12-10T15:09:47.606Z"
   },
   {
    "duration": 1114,
    "start_time": "2022-12-10T15:10:01.273Z"
   },
   {
    "duration": 3,
    "start_time": "2022-12-10T15:10:46.601Z"
   },
   {
    "duration": 5,
    "start_time": "2022-12-10T15:19:00.647Z"
   },
   {
    "duration": 90,
    "start_time": "2022-12-10T15:19:04.396Z"
   },
   {
    "duration": 4,
    "start_time": "2022-12-10T15:19:38.353Z"
   },
   {
    "duration": 100,
    "start_time": "2022-12-10T15:19:39.988Z"
   },
   {
    "duration": 4,
    "start_time": "2022-12-10T15:20:06.595Z"
   },
   {
    "duration": 2015,
    "start_time": "2022-12-10T15:20:08.053Z"
   },
   {
    "duration": 3,
    "start_time": "2022-12-10T15:20:12.709Z"
   },
   {
    "duration": 11,
    "start_time": "2022-12-10T15:34:41.580Z"
   },
   {
    "duration": 11,
    "start_time": "2022-12-10T15:34:58.307Z"
   },
   {
    "duration": 4,
    "start_time": "2022-12-10T15:35:01.978Z"
   },
   {
    "duration": 11,
    "start_time": "2022-12-10T15:40:38.574Z"
   },
   {
    "duration": 3014,
    "start_time": "2022-12-10T15:42:04.769Z"
   },
   {
    "duration": 11,
    "start_time": "2022-12-10T15:51:23.523Z"
   },
   {
    "duration": 11,
    "start_time": "2022-12-10T15:51:35.471Z"
   },
   {
    "duration": 12,
    "start_time": "2022-12-10T15:51:41.749Z"
   },
   {
    "duration": 2442,
    "start_time": "2022-12-10T15:53:42.996Z"
   },
   {
    "duration": 28,
    "start_time": "2022-12-10T15:54:35.892Z"
   },
   {
    "duration": 10,
    "start_time": "2022-12-10T15:57:58.503Z"
   },
   {
    "duration": 11,
    "start_time": "2022-12-10T15:58:51.450Z"
   },
   {
    "duration": 164,
    "start_time": "2022-12-10T15:59:56.010Z"
   },
   {
    "duration": 9,
    "start_time": "2022-12-10T16:01:12.452Z"
   },
   {
    "duration": 161,
    "start_time": "2022-12-10T16:01:13.748Z"
   },
   {
    "duration": 896,
    "start_time": "2022-12-10T16:01:39.048Z"
   },
   {
    "duration": 3929,
    "start_time": "2022-12-10T16:01:42.456Z"
   },
   {
    "duration": 2867,
    "start_time": "2022-12-10T16:01:51.997Z"
   },
   {
    "duration": 12140,
    "start_time": "2022-12-10T16:01:56.422Z"
   },
   {
    "duration": 6196,
    "start_time": "2022-12-10T16:02:20.776Z"
   },
   {
    "duration": 26149,
    "start_time": "2022-12-10T16:02:28.874Z"
   },
   {
    "duration": 2812,
    "start_time": "2022-12-10T16:03:02.375Z"
   },
   {
    "duration": 12043,
    "start_time": "2022-12-10T16:03:07.292Z"
   },
   {
    "duration": 6,
    "start_time": "2022-12-10T16:05:36.319Z"
   },
   {
    "duration": 9,
    "start_time": "2022-12-10T16:05:46.970Z"
   },
   {
    "duration": 9,
    "start_time": "2022-12-10T16:05:48.695Z"
   },
   {
    "duration": 6,
    "start_time": "2022-12-10T16:05:50.078Z"
   },
   {
    "duration": 9,
    "start_time": "2022-12-10T16:05:54.012Z"
   },
   {
    "duration": 6,
    "start_time": "2022-12-10T16:05:55.752Z"
   },
   {
    "duration": 8,
    "start_time": "2022-12-10T16:06:09.549Z"
   },
   {
    "duration": 6,
    "start_time": "2022-12-10T16:06:11.348Z"
   },
   {
    "duration": 259,
    "start_time": "2022-12-10T16:06:15.653Z"
   },
   {
    "duration": 10,
    "start_time": "2022-12-10T16:06:50.511Z"
   },
   {
    "duration": 10,
    "start_time": "2022-12-10T16:07:12.344Z"
   },
   {
    "duration": 45990,
    "start_time": "2022-12-11T09:05:13.394Z"
   },
   {
    "duration": 195093,
    "start_time": "2022-12-11T09:06:04.790Z"
   },
   {
    "duration": 2862,
    "start_time": "2022-12-11T09:16:28.441Z"
   },
   {
    "duration": 12346,
    "start_time": "2022-12-11T09:16:34.366Z"
   },
   {
    "duration": 11,
    "start_time": "2022-12-11T09:19:31.089Z"
   },
   {
    "duration": 677,
    "start_time": "2022-12-11T09:19:36.359Z"
   },
   {
    "duration": 12,
    "start_time": "2022-12-11T09:20:00.773Z"
   },
   {
    "duration": 977,
    "start_time": "2022-12-11T09:21:08.045Z"
   },
   {
    "duration": 965,
    "start_time": "2022-12-11T09:21:42.261Z"
   },
   {
    "duration": 11,
    "start_time": "2022-12-11T09:21:57.405Z"
   },
   {
    "duration": 680,
    "start_time": "2022-12-11T09:22:42.784Z"
   },
   {
    "duration": 18,
    "start_time": "2022-12-11T09:22:52.243Z"
   },
   {
    "duration": 15,
    "start_time": "2022-12-11T09:26:05.844Z"
   },
   {
    "duration": 16,
    "start_time": "2022-12-11T09:26:30.985Z"
   },
   {
    "duration": 14,
    "start_time": "2022-12-11T09:26:39.806Z"
   },
   {
    "duration": 2,
    "start_time": "2022-12-11T09:26:52.300Z"
   },
   {
    "duration": 3,
    "start_time": "2022-12-11T09:26:54.955Z"
   },
   {
    "duration": 690,
    "start_time": "2022-12-11T09:27:22.278Z"
   },
   {
    "duration": 5,
    "start_time": "2022-12-11T09:27:40.552Z"
   },
   {
    "duration": 10,
    "start_time": "2022-12-11T09:27:48.124Z"
   },
   {
    "duration": 19,
    "start_time": "2022-12-11T09:28:34.385Z"
   },
   {
    "duration": 15,
    "start_time": "2022-12-11T09:28:40.747Z"
   },
   {
    "duration": 15,
    "start_time": "2022-12-11T09:28:47.182Z"
   },
   {
    "duration": 15,
    "start_time": "2022-12-11T09:29:03.513Z"
   },
   {
    "duration": 2,
    "start_time": "2022-12-11T09:29:37.447Z"
   },
   {
    "duration": 3,
    "start_time": "2022-12-11T09:29:42.867Z"
   },
   {
    "duration": 78,
    "start_time": "2022-12-11T09:31:42.867Z"
   },
   {
    "duration": 22,
    "start_time": "2022-12-11T09:31:52.113Z"
   },
   {
    "duration": 18,
    "start_time": "2022-12-11T09:32:01.026Z"
   },
   {
    "duration": 2720,
    "start_time": "2022-12-11T09:38:48.678Z"
   },
   {
    "duration": 3,
    "start_time": "2022-12-11T09:41:39.782Z"
   },
   {
    "duration": 2458,
    "start_time": "2022-12-11T09:42:11.323Z"
   },
   {
    "duration": 1138,
    "start_time": "2022-12-11T09:42:44.138Z"
   },
   {
    "duration": 29,
    "start_time": "2022-12-11T09:43:44.888Z"
   },
   {
    "duration": 4211,
    "start_time": "2022-12-11T09:44:45.356Z"
   },
   {
    "duration": 2369,
    "start_time": "2022-12-11T09:44:49.970Z"
   },
   {
    "duration": 14,
    "start_time": "2022-12-11T09:44:56.771Z"
   },
   {
    "duration": 18,
    "start_time": "2022-12-11T09:45:05.524Z"
   },
   {
    "duration": 17,
    "start_time": "2022-12-11T09:45:09.307Z"
   },
   {
    "duration": 99,
    "start_time": "2022-12-11T09:45:15.499Z"
   },
   {
    "duration": 133,
    "start_time": "2022-12-11T09:45:17.834Z"
   },
   {
    "duration": 262,
    "start_time": "2022-12-11T09:45:44.432Z"
   },
   {
    "duration": 273,
    "start_time": "2022-12-11T09:45:49.236Z"
   },
   {
    "duration": 2,
    "start_time": "2022-12-11T09:46:17.004Z"
   },
   {
    "duration": 4,
    "start_time": "2022-12-11T09:46:22.603Z"
   },
   {
    "duration": 14,
    "start_time": "2022-12-11T09:46:24.303Z"
   },
   {
    "duration": 2463,
    "start_time": "2022-12-11T09:48:24.257Z"
   },
   {
    "duration": 2178,
    "start_time": "2022-12-11T09:48:27.632Z"
   },
   {
    "duration": 11,
    "start_time": "2022-12-11T09:48:29.812Z"
   },
   {
    "duration": 19,
    "start_time": "2022-12-11T09:48:31.351Z"
   },
   {
    "duration": 14,
    "start_time": "2022-12-11T09:48:32.728Z"
   },
   {
    "duration": 5,
    "start_time": "2022-12-11T09:48:38.689Z"
   },
   {
    "duration": 19,
    "start_time": "2022-12-11T09:48:40.169Z"
   },
   {
    "duration": 2434,
    "start_time": "2022-12-11T09:49:57.587Z"
   },
   {
    "duration": 2164,
    "start_time": "2022-12-11T09:50:01.376Z"
   },
   {
    "duration": 15,
    "start_time": "2022-12-11T09:50:05.761Z"
   },
   {
    "duration": 19,
    "start_time": "2022-12-11T09:50:07.714Z"
   },
   {
    "duration": 14,
    "start_time": "2022-12-11T09:50:09.055Z"
   },
   {
    "duration": 2,
    "start_time": "2022-12-11T09:50:17.754Z"
   },
   {
    "duration": 110,
    "start_time": "2022-12-11T09:50:29.001Z"
   },
   {
    "duration": 22,
    "start_time": "2022-12-11T09:50:53.717Z"
   },
   {
    "duration": 2495,
    "start_time": "2022-12-11T10:05:42.728Z"
   },
   {
    "duration": 2516,
    "start_time": "2022-12-11T10:05:49.206Z"
   },
   {
    "duration": 14,
    "start_time": "2022-12-11T10:05:51.724Z"
   },
   {
    "duration": 20,
    "start_time": "2022-12-11T10:05:52.552Z"
   },
   {
    "duration": 18,
    "start_time": "2022-12-11T10:05:55.001Z"
   },
   {
    "duration": 113,
    "start_time": "2022-12-11T10:05:59.100Z"
   },
   {
    "duration": 604,
    "start_time": "2022-12-11T10:07:19.600Z"
   },
   {
    "duration": 600,
    "start_time": "2022-12-11T10:07:26.321Z"
   },
   {
    "duration": 580,
    "start_time": "2022-12-11T10:07:46.623Z"
   },
   {
    "duration": 577,
    "start_time": "2022-12-11T10:08:09.624Z"
   },
   {
    "duration": 2,
    "start_time": "2022-12-11T10:09:39.186Z"
   },
   {
    "duration": 5813,
    "start_time": "2022-12-11T10:09:53.494Z"
   },
   {
    "duration": 304,
    "start_time": "2022-12-11T10:10:57.677Z"
   },
   {
    "duration": 2557,
    "start_time": "2022-12-11T10:11:21.750Z"
   },
   {
    "duration": 2252,
    "start_time": "2022-12-11T10:11:25.339Z"
   },
   {
    "duration": 12,
    "start_time": "2022-12-11T10:11:27.593Z"
   },
   {
    "duration": 21,
    "start_time": "2022-12-11T10:11:30.059Z"
   },
   {
    "duration": 18,
    "start_time": "2022-12-11T10:11:31.375Z"
   },
   {
    "duration": 2,
    "start_time": "2022-12-11T10:11:48.836Z"
   },
   {
    "duration": 4,
    "start_time": "2022-12-11T10:12:00.562Z"
   },
   {
    "duration": 29,
    "start_time": "2022-12-11T10:12:02.476Z"
   },
   {
    "duration": 19,
    "start_time": "2022-12-11T10:12:23.654Z"
   },
   {
    "duration": 2572,
    "start_time": "2022-12-11T10:18:10.002Z"
   },
   {
    "duration": 1926,
    "start_time": "2022-12-11T10:18:16.784Z"
   },
   {
    "duration": 13,
    "start_time": "2022-12-11T10:18:18.711Z"
   },
   {
    "duration": 6663,
    "start_time": "2022-12-11T10:18:24.548Z"
   },
   {
    "duration": 5215,
    "start_time": "2022-12-11T10:34:30.672Z"
   },
   {
    "duration": 8,
    "start_time": "2022-12-11T10:34:42.793Z"
   },
   {
    "duration": 2580,
    "start_time": "2022-12-11T10:35:26.175Z"
   },
   {
    "duration": 2019,
    "start_time": "2022-12-11T10:35:29.675Z"
   },
   {
    "duration": 14,
    "start_time": "2022-12-11T10:35:32.142Z"
   },
   {
    "duration": 3,
    "start_time": "2022-12-11T10:35:37.433Z"
   },
   {
    "duration": 35,
    "start_time": "2022-12-11T10:35:38.926Z"
   },
   {
    "duration": 5138,
    "start_time": "2022-12-11T10:36:12.645Z"
   },
   {
    "duration": 7,
    "start_time": "2022-12-11T10:36:19.735Z"
   },
   {
    "duration": 2,
    "start_time": "2022-12-11T10:36:50.844Z"
   },
   {
    "duration": 2,
    "start_time": "2022-12-11T10:36:56.399Z"
   },
   {
    "duration": 2,
    "start_time": "2022-12-11T10:36:58.913Z"
   },
   {
    "duration": 2,
    "start_time": "2022-12-11T10:37:04.240Z"
   },
   {
    "duration": 2,
    "start_time": "2022-12-11T10:37:11.006Z"
   },
   {
    "duration": 3,
    "start_time": "2022-12-11T10:37:17.983Z"
   },
   {
    "duration": 2,
    "start_time": "2022-12-11T10:37:20.426Z"
   },
   {
    "duration": 2,
    "start_time": "2022-12-11T10:37:29.986Z"
   },
   {
    "duration": 3,
    "start_time": "2022-12-11T10:37:33.087Z"
   },
   {
    "duration": 2,
    "start_time": "2022-12-11T10:37:37.644Z"
   },
   {
    "duration": 3,
    "start_time": "2022-12-11T10:37:42.881Z"
   },
   {
    "duration": 2,
    "start_time": "2022-12-11T10:37:51.461Z"
   },
   {
    "duration": 2,
    "start_time": "2022-12-11T10:37:54.216Z"
   },
   {
    "duration": 2,
    "start_time": "2022-12-11T10:37:57.304Z"
   },
   {
    "duration": 2,
    "start_time": "2022-12-11T10:38:56.928Z"
   },
   {
    "duration": 3,
    "start_time": "2022-12-11T10:39:14.804Z"
   },
   {
    "duration": 2,
    "start_time": "2022-12-11T10:39:17.907Z"
   },
   {
    "duration": 31,
    "start_time": "2022-12-11T10:39:46.029Z"
   },
   {
    "duration": 4,
    "start_time": "2022-12-11T10:39:49.942Z"
   },
   {
    "duration": 5991,
    "start_time": "2022-12-11T10:40:20.254Z"
   },
   {
    "duration": 118779,
    "start_time": "2022-12-11T10:40:43.217Z"
   },
   {
    "duration": 491903,
    "start_time": "2022-12-11T10:43:22.742Z"
   },
   {
    "duration": 3,
    "start_time": "2022-12-11T11:24:25.712Z"
   },
   {
    "duration": 2,
    "start_time": "2022-12-11T11:24:29.200Z"
   },
   {
    "duration": 3,
    "start_time": "2022-12-11T11:24:36.194Z"
   },
   {
    "duration": 57558,
    "start_time": "2022-12-11T11:36:25.443Z"
   },
   {
    "duration": 204417,
    "start_time": "2022-12-11T11:37:27.865Z"
   },
   {
    "duration": 808827,
    "start_time": "2022-12-11T11:44:38.952Z"
   },
   {
    "duration": 21,
    "start_time": "2022-12-11T11:58:14.328Z"
   },
   {
    "duration": 115,
    "start_time": "2022-12-11T11:58:49.490Z"
   },
   {
    "duration": 87,
    "start_time": "2022-12-11T11:59:51.705Z"
   },
   {
    "duration": 4634,
    "start_time": "2022-12-11T12:00:04.018Z"
   },
   {
    "duration": 2254,
    "start_time": "2022-12-11T12:00:13.605Z"
   },
   {
    "duration": 11,
    "start_time": "2022-12-11T12:00:15.861Z"
   },
   {
    "duration": 37,
    "start_time": "2022-12-11T12:00:16.545Z"
   },
   {
    "duration": 6284,
    "start_time": "2022-12-11T12:00:19.702Z"
   },
   {
    "duration": 8,
    "start_time": "2022-12-11T12:00:28.347Z"
   },
   {
    "duration": 31,
    "start_time": "2022-12-11T12:00:33.241Z"
   },
   {
    "duration": 3,
    "start_time": "2022-12-11T12:00:34.641Z"
   },
   {
    "duration": 6050,
    "start_time": "2022-12-11T12:00:35.854Z"
   },
   {
    "duration": 25,
    "start_time": "2022-12-11T12:00:52.094Z"
   },
   {
    "duration": 407813,
    "start_time": "2022-12-11T12:00:53.881Z"
   },
   {
    "duration": 4,
    "start_time": "2022-12-11T12:08:15.618Z"
   },
   {
    "duration": 206514,
    "start_time": "2022-12-11T12:08:19.587Z"
   },
   {
    "duration": 2,
    "start_time": "2022-12-11T12:12:34.778Z"
   },
   {
    "duration": 4,
    "start_time": "2022-12-11T12:12:38.934Z"
   },
   {
    "duration": 235487,
    "start_time": "2022-12-11T12:12:41.330Z"
   },
   {
    "duration": 4,
    "start_time": "2022-12-11T12:16:40.757Z"
   },
   {
    "duration": 2475,
    "start_time": "2022-12-11T12:25:24.871Z"
   },
   {
    "duration": 116,
    "start_time": "2022-12-11T12:25:49.654Z"
   },
   {
    "duration": 79,
    "start_time": "2022-12-11T12:27:18.546Z"
   },
   {
    "duration": 4970,
    "start_time": "2022-12-11T12:27:24.447Z"
   },
   {
    "duration": 17,
    "start_time": "2022-12-11T12:27:35.012Z"
   },
   {
    "duration": 4517,
    "start_time": "2022-12-11T12:27:54.621Z"
   },
   {
    "duration": 4,
    "start_time": "2022-12-11T12:28:02.251Z"
   },
   {
    "duration": 4,
    "start_time": "2022-12-11T12:30:56.915Z"
   },
   {
    "duration": 4,
    "start_time": "2022-12-11T12:37:27.115Z"
   },
   {
    "duration": 4,
    "start_time": "2022-12-11T12:37:48.425Z"
   },
   {
    "duration": 17,
    "start_time": "2022-12-11T12:48:32.745Z"
   },
   {
    "duration": 123787,
    "start_time": "2022-12-11T12:48:49.706Z"
   },
   {
    "duration": 19,
    "start_time": "2022-12-11T12:51:01.127Z"
   },
   {
    "duration": 11,
    "start_time": "2022-12-11T13:02:23.142Z"
   },
   {
    "duration": 5444,
    "start_time": "2022-12-11T13:02:40.981Z"
   },
   {
    "duration": 158,
    "start_time": "2022-12-11T13:02:48.159Z"
   },
   {
    "duration": 153,
    "start_time": "2022-12-11T13:06:08.030Z"
   },
   {
    "duration": 152,
    "start_time": "2022-12-11T13:06:27.882Z"
   },
   {
    "duration": 5355,
    "start_time": "2022-12-11T13:07:03.588Z"
   },
   {
    "duration": 186,
    "start_time": "2022-12-11T13:07:10.573Z"
   },
   {
    "duration": 141,
    "start_time": "2022-12-11T13:11:23.147Z"
   },
   {
    "duration": 83,
    "start_time": "2022-12-11T13:11:44.199Z"
   },
   {
    "duration": 5340,
    "start_time": "2022-12-11T13:13:24.190Z"
   },
   {
    "duration": 109,
    "start_time": "2022-12-11T13:14:31.141Z"
   },
   {
    "duration": 132,
    "start_time": "2022-12-11T13:17:14.306Z"
   },
   {
    "duration": 1893,
    "start_time": "2022-12-11T13:18:26.503Z"
   },
   {
    "duration": 11,
    "start_time": "2022-12-11T13:20:47.013Z"
   },
   {
    "duration": 16,
    "start_time": "2022-12-11T13:21:02.285Z"
   },
   {
    "duration": 14,
    "start_time": "2022-12-11T13:21:12.821Z"
   },
   {
    "duration": 15,
    "start_time": "2022-12-11T13:22:03.474Z"
   },
   {
    "duration": 8290,
    "start_time": "2022-12-11T13:22:54.926Z"
   },
   {
    "duration": 22,
    "start_time": "2022-12-11T13:23:05.488Z"
   },
   {
    "duration": 13,
    "start_time": "2022-12-11T13:23:20.781Z"
   },
   {
    "duration": 14,
    "start_time": "2022-12-11T13:23:43.087Z"
   },
   {
    "duration": 13,
    "start_time": "2022-12-11T13:23:50.506Z"
   },
   {
    "duration": 66,
    "start_time": "2022-12-11T13:24:12.864Z"
   },
   {
    "duration": 21,
    "start_time": "2022-12-11T13:24:23.394Z"
   },
   {
    "duration": 61,
    "start_time": "2022-12-11T13:24:54.535Z"
   },
   {
    "duration": 391,
    "start_time": "2022-12-11T13:25:36.409Z"
   },
   {
    "duration": 4,
    "start_time": "2022-12-11T13:26:26.834Z"
   },
   {
    "duration": 250,
    "start_time": "2022-12-11T13:27:32.782Z"
   },
   {
    "duration": 15,
    "start_time": "2022-12-11T13:27:39.014Z"
   },
   {
    "duration": 340,
    "start_time": "2022-12-11T13:27:46.112Z"
   },
   {
    "duration": 14,
    "start_time": "2022-12-11T13:28:12.621Z"
   },
   {
    "duration": 13,
    "start_time": "2022-12-11T14:39:11.896Z"
   },
   {
    "duration": 6487,
    "start_time": "2022-12-11T14:39:26.065Z"
   },
   {
    "duration": 183,
    "start_time": "2022-12-11T14:39:33.949Z"
   },
   {
    "duration": 170,
    "start_time": "2022-12-11T14:39:53.255Z"
   },
   {
    "duration": 148,
    "start_time": "2022-12-11T14:40:15.639Z"
   },
   {
    "duration": 150,
    "start_time": "2022-12-11T14:40:37.107Z"
   },
   {
    "duration": 6254,
    "start_time": "2022-12-11T14:40:48.924Z"
   },
   {
    "duration": 2194,
    "start_time": "2022-12-11T14:41:03.076Z"
   },
   {
    "duration": 5801,
    "start_time": "2022-12-11T14:41:28.203Z"
   },
   {
    "duration": 718,
    "start_time": "2022-12-11T14:43:46.049Z"
   },
   {
    "duration": 660,
    "start_time": "2022-12-11T14:45:30.912Z"
   },
   {
    "duration": 791,
    "start_time": "2022-12-11T14:48:02.324Z"
   },
   {
    "duration": 818,
    "start_time": "2022-12-11T14:48:21.388Z"
   },
   {
    "duration": 778,
    "start_time": "2022-12-11T14:48:36.504Z"
   },
   {
    "duration": 746,
    "start_time": "2022-12-11T14:50:33.257Z"
   },
   {
    "duration": 672,
    "start_time": "2022-12-11T14:51:01.524Z"
   },
   {
    "duration": 24411,
    "start_time": "2022-12-12T09:10:03.374Z"
   },
   {
    "duration": 2972,
    "start_time": "2022-12-12T09:10:27.787Z"
   },
   {
    "duration": 14,
    "start_time": "2022-12-12T09:10:36.920Z"
   },
   {
    "duration": 37,
    "start_time": "2022-12-12T09:10:38.622Z"
   },
   {
    "duration": 5327,
    "start_time": "2022-12-12T09:15:22.876Z"
   },
   {
    "duration": 59,
    "start_time": "2022-12-12T09:16:26.335Z"
   },
   {
    "duration": 4,
    "start_time": "2022-12-12T09:16:35.747Z"
   },
   {
    "duration": 1763,
    "start_time": "2022-12-12T09:16:37.831Z"
   },
   {
    "duration": 4,
    "start_time": "2022-12-12T09:17:24.652Z"
   },
   {
    "duration": 6210,
    "start_time": "2022-12-12T09:17:26.163Z"
   },
   {
    "duration": 10,
    "start_time": "2022-12-12T09:17:41.169Z"
   },
   {
    "duration": 23,
    "start_time": "2022-12-12T09:18:09.654Z"
   },
   {
    "duration": 10,
    "start_time": "2022-12-12T09:19:16.295Z"
   },
   {
    "duration": 5,
    "start_time": "2022-12-12T09:19:18.937Z"
   },
   {
    "duration": 203,
    "start_time": "2022-12-12T09:19:29.396Z"
   },
   {
    "duration": 20,
    "start_time": "2022-12-12T09:19:49.173Z"
   },
   {
    "duration": 20,
    "start_time": "2022-12-12T09:19:51.868Z"
   },
   {
    "duration": 18,
    "start_time": "2022-12-12T09:20:14.418Z"
   },
   {
    "duration": 53,
    "start_time": "2022-12-12T09:23:15.897Z"
   },
   {
    "duration": 5214,
    "start_time": "2022-12-12T09:36:59.636Z"
   },
   {
    "duration": 2102,
    "start_time": "2022-12-12T09:37:08.632Z"
   },
   {
    "duration": 13,
    "start_time": "2022-12-12T09:37:13.142Z"
   },
   {
    "duration": 39,
    "start_time": "2022-12-12T09:37:14.375Z"
   },
   {
    "duration": 98982,
    "start_time": "2022-12-12T09:37:28.545Z"
   },
   {
    "duration": 4,
    "start_time": "2022-12-12T09:41:50.471Z"
   },
   {
    "duration": 321,
    "start_time": "2022-12-12T09:42:12.620Z"
   },
   {
    "duration": 4,
    "start_time": "2022-12-12T09:42:20.724Z"
   },
   {
    "duration": 366,
    "start_time": "2022-12-12T09:42:22.199Z"
   },
   {
    "duration": 5531,
    "start_time": "2022-12-12T09:42:54.540Z"
   },
   {
    "duration": 5,
    "start_time": "2022-12-12T09:43:02.568Z"
   },
   {
    "duration": 439,
    "start_time": "2022-12-12T09:43:04.069Z"
   },
   {
    "duration": 3,
    "start_time": "2022-12-12T09:43:14.917Z"
   },
   {
    "duration": 312,
    "start_time": "2022-12-12T09:43:16.355Z"
   },
   {
    "duration": 16,
    "start_time": "2022-12-12T09:47:12.846Z"
   },
   {
    "duration": 40,
    "start_time": "2022-12-12T09:47:32.440Z"
   },
   {
    "duration": 18,
    "start_time": "2022-12-12T09:47:40.808Z"
   },
   {
    "duration": 5203,
    "start_time": "2022-12-12T09:48:10.947Z"
   },
   {
    "duration": 26,
    "start_time": "2022-12-12T09:48:16.575Z"
   },
   {
    "duration": 27,
    "start_time": "2022-12-12T09:48:33.796Z"
   },
   {
    "duration": 5355,
    "start_time": "2022-12-12T09:48:48.943Z"
   },
   {
    "duration": 123,
    "start_time": "2022-12-12T09:48:59.672Z"
   },
   {
    "duration": 15,
    "start_time": "2022-12-12T09:49:32.040Z"
   },
   {
    "duration": 331,
    "start_time": "2022-12-12T09:49:38.487Z"
   },
   {
    "duration": 426054,
    "start_time": "2022-12-12T09:50:01.434Z"
   },
   {
    "duration": 0,
    "start_time": "2022-12-12T09:57:07.489Z"
   },
   {
    "duration": 31,
    "start_time": "2022-12-12T09:57:43.999Z"
   },
   {
    "duration": 5227,
    "start_time": "2022-12-12T09:57:53.923Z"
   },
   {
    "duration": 95700,
    "start_time": "2022-12-12T09:58:01.446Z"
   },
   {
    "duration": 19,
    "start_time": "2022-12-12T10:00:44.115Z"
   },
   {
    "duration": 3034,
    "start_time": "2022-12-12T10:00:45.964Z"
   },
   {
    "duration": 36,
    "start_time": "2022-12-12T10:01:52.751Z"
   },
   {
    "duration": 10802,
    "start_time": "2022-12-12T10:03:05.631Z"
   },
   {
    "duration": 4204,
    "start_time": "2022-12-12T10:04:54.731Z"
   },
   {
    "duration": 10,
    "start_time": "2022-12-12T10:05:09.995Z"
   },
   {
    "duration": 7,
    "start_time": "2022-12-12T10:05:18.879Z"
   },
   {
    "duration": 41,
    "start_time": "2022-12-12T10:06:17.339Z"
   },
   {
    "duration": 51,
    "start_time": "2022-12-12T10:06:29.013Z"
   },
   {
    "duration": 73,
    "start_time": "2022-12-12T10:07:13.633Z"
   },
   {
    "duration": 5654,
    "start_time": "2022-12-12T10:07:20.267Z"
   },
   {
    "duration": 2942,
    "start_time": "2022-12-12T10:07:30.448Z"
   },
   {
    "duration": 15,
    "start_time": "2022-12-12T10:07:35.726Z"
   },
   {
    "duration": 40,
    "start_time": "2022-12-12T10:07:36.909Z"
   },
   {
    "duration": 95022,
    "start_time": "2022-12-12T10:07:40.490Z"
   },
   {
    "duration": 7,
    "start_time": "2022-12-12T10:11:03.180Z"
   },
   {
    "duration": 71,
    "start_time": "2022-12-12T10:11:06.781Z"
   },
   {
    "duration": 479693,
    "start_time": "2022-12-12T10:11:22.638Z"
   },
   {
    "duration": 4484,
    "start_time": "2022-12-12T10:20:03.600Z"
   },
   {
    "duration": 12,
    "start_time": "2022-12-12T10:20:23.397Z"
   },
   {
    "duration": 6,
    "start_time": "2022-12-12T10:22:18.961Z"
   },
   {
    "duration": 296,
    "start_time": "2022-12-12T10:22:34.608Z"
   },
   {
    "duration": 4,
    "start_time": "2022-12-12T10:22:40.283Z"
   },
   {
    "duration": 296,
    "start_time": "2022-12-12T10:22:42.075Z"
   },
   {
    "duration": 5,
    "start_time": "2022-12-12T10:26:27.270Z"
   },
   {
    "duration": 6,
    "start_time": "2022-12-12T10:26:46.049Z"
   },
   {
    "duration": 6,
    "start_time": "2022-12-12T10:27:14.308Z"
   },
   {
    "duration": 5,
    "start_time": "2022-12-12T10:27:26.725Z"
   },
   {
    "duration": 5,
    "start_time": "2022-12-12T10:27:30.704Z"
   },
   {
    "duration": 27,
    "start_time": "2022-12-12T10:30:08.523Z"
   },
   {
    "duration": 5,
    "start_time": "2022-12-12T10:30:16.874Z"
   },
   {
    "duration": 83,
    "start_time": "2022-12-12T10:30:26.461Z"
   },
   {
    "duration": 5,
    "start_time": "2022-12-12T10:30:28.676Z"
   },
   {
    "duration": 5,
    "start_time": "2022-12-12T10:30:41.878Z"
   },
   {
    "duration": 5,
    "start_time": "2022-12-12T10:32:27.417Z"
   },
   {
    "duration": 5,
    "start_time": "2022-12-12T10:32:58.145Z"
   },
   {
    "duration": 5078,
    "start_time": "2022-12-12T10:33:25.179Z"
   },
   {
    "duration": 11,
    "start_time": "2022-12-12T10:33:43.810Z"
   },
   {
    "duration": 84,
    "start_time": "2022-12-12T10:47:00.559Z"
   },
   {
    "duration": 9,
    "start_time": "2022-12-12T10:48:27.746Z"
   },
   {
    "duration": 1125,
    "start_time": "2022-12-12T10:48:43.559Z"
   },
   {
    "duration": 72,
    "start_time": "2022-12-12T10:48:51.020Z"
   },
   {
    "duration": 13,
    "start_time": "2022-12-12T10:48:53.763Z"
   },
   {
    "duration": 11,
    "start_time": "2022-12-12T10:49:10.984Z"
   },
   {
    "duration": 35,
    "start_time": "2022-12-12T10:49:22.905Z"
   },
   {
    "duration": 4,
    "start_time": "2022-12-12T10:49:24.842Z"
   },
   {
    "duration": 7337,
    "start_time": "2022-12-12T10:49:26.423Z"
   },
   {
    "duration": 105,
    "start_time": "2022-12-12T10:55:31.804Z"
   },
   {
    "duration": 11,
    "start_time": "2022-12-12T10:56:12.988Z"
   },
   {
    "duration": 7495,
    "start_time": "2022-12-12T10:57:07.481Z"
   },
   {
    "duration": 111,
    "start_time": "2022-12-12T10:57:17.019Z"
   },
   {
    "duration": 41,
    "start_time": "2022-12-12T10:58:40.823Z"
   },
   {
    "duration": 87,
    "start_time": "2022-12-12T10:58:59.157Z"
   },
   {
    "duration": 80,
    "start_time": "2022-12-12T10:59:18.713Z"
   },
   {
    "duration": 114,
    "start_time": "2022-12-12T11:02:35.164Z"
   },
   {
    "duration": 104,
    "start_time": "2022-12-12T11:02:57.186Z"
   },
   {
    "duration": 112,
    "start_time": "2022-12-12T11:03:17.591Z"
   },
   {
    "duration": 2,
    "start_time": "2022-12-12T11:07:14.982Z"
   },
   {
    "duration": 7424,
    "start_time": "2022-12-12T11:22:49.395Z"
   },
   {
    "duration": 9261,
    "start_time": "2022-12-12T11:25:45.614Z"
   },
   {
    "duration": 845,
    "start_time": "2022-12-12T11:26:41.112Z"
   },
   {
    "duration": 3307,
    "start_time": "2022-12-12T11:27:00.089Z"
   },
   {
    "duration": 152,
    "start_time": "2022-12-12T11:27:22.067Z"
   },
   {
    "duration": 107,
    "start_time": "2022-12-12T17:53:04.013Z"
   },
   {
    "duration": 103,
    "start_time": "2022-12-12T17:53:16.761Z"
   },
   {
    "duration": 107,
    "start_time": "2022-12-12T17:53:28.127Z"
   },
   {
    "duration": 123,
    "start_time": "2022-12-12T17:57:50.918Z"
   },
   {
    "duration": 114,
    "start_time": "2022-12-12T17:58:23.219Z"
   },
   {
    "duration": 111,
    "start_time": "2022-12-12T17:58:27.647Z"
   },
   {
    "duration": 6,
    "start_time": "2022-12-12T18:01:13.930Z"
   },
   {
    "duration": 55307,
    "start_time": "2022-12-12T18:01:16.111Z"
   },
   {
    "duration": 4,
    "start_time": "2022-12-12T18:02:14.602Z"
   },
   {
    "duration": 32,
    "start_time": "2022-12-12T18:02:52.219Z"
   },
   {
    "duration": 131,
    "start_time": "2022-12-12T18:03:33.944Z"
   },
   {
    "duration": 3,
    "start_time": "2022-12-12T18:09:16.833Z"
   },
   {
    "duration": 2,
    "start_time": "2022-12-12T18:09:27.146Z"
   },
   {
    "duration": 2,
    "start_time": "2022-12-12T18:09:30.020Z"
   },
   {
    "duration": 3,
    "start_time": "2022-12-12T18:09:34.607Z"
   },
   {
    "duration": 2,
    "start_time": "2022-12-12T18:09:36.334Z"
   },
   {
    "duration": 1911,
    "start_time": "2022-12-12T18:09:46.081Z"
   },
   {
    "duration": 0,
    "start_time": "2022-12-12T18:09:47.995Z"
   },
   {
    "duration": 0,
    "start_time": "2022-12-12T18:09:47.996Z"
   },
   {
    "duration": 0,
    "start_time": "2022-12-12T18:09:47.997Z"
   },
   {
    "duration": 0,
    "start_time": "2022-12-12T18:09:47.998Z"
   },
   {
    "duration": 0,
    "start_time": "2022-12-12T18:09:48.000Z"
   },
   {
    "duration": 0,
    "start_time": "2022-12-12T18:09:48.001Z"
   },
   {
    "duration": 0,
    "start_time": "2022-12-12T18:09:48.002Z"
   },
   {
    "duration": 0,
    "start_time": "2022-12-12T18:09:48.003Z"
   },
   {
    "duration": 0,
    "start_time": "2022-12-12T18:09:48.004Z"
   },
   {
    "duration": 0,
    "start_time": "2022-12-12T18:09:48.006Z"
   },
   {
    "duration": 0,
    "start_time": "2022-12-12T18:09:48.007Z"
   },
   {
    "duration": 0,
    "start_time": "2022-12-12T18:09:48.008Z"
   },
   {
    "duration": 0,
    "start_time": "2022-12-12T18:09:48.037Z"
   },
   {
    "duration": 0,
    "start_time": "2022-12-12T18:09:48.038Z"
   },
   {
    "duration": 0,
    "start_time": "2022-12-12T18:09:48.040Z"
   },
   {
    "duration": 0,
    "start_time": "2022-12-12T18:09:48.041Z"
   },
   {
    "duration": 0,
    "start_time": "2022-12-12T18:09:48.042Z"
   },
   {
    "duration": 0,
    "start_time": "2022-12-12T18:09:48.043Z"
   },
   {
    "duration": 0,
    "start_time": "2022-12-12T18:09:48.044Z"
   },
   {
    "duration": 0,
    "start_time": "2022-12-12T18:09:48.045Z"
   },
   {
    "duration": 0,
    "start_time": "2022-12-12T18:09:48.047Z"
   },
   {
    "duration": 1,
    "start_time": "2022-12-12T18:09:48.047Z"
   },
   {
    "duration": 0,
    "start_time": "2022-12-12T18:09:48.049Z"
   },
   {
    "duration": 0,
    "start_time": "2022-12-12T18:09:48.050Z"
   },
   {
    "duration": 0,
    "start_time": "2022-12-12T18:09:48.052Z"
   },
   {
    "duration": 0,
    "start_time": "2022-12-12T18:09:48.053Z"
   },
   {
    "duration": 0,
    "start_time": "2022-12-12T18:09:48.055Z"
   },
   {
    "duration": 0,
    "start_time": "2022-12-12T18:09:48.057Z"
   },
   {
    "duration": 0,
    "start_time": "2022-12-12T18:09:48.058Z"
   },
   {
    "duration": 0,
    "start_time": "2022-12-12T18:09:48.059Z"
   },
   {
    "duration": 0,
    "start_time": "2022-12-12T18:09:48.060Z"
   },
   {
    "duration": 0,
    "start_time": "2022-12-12T18:09:48.061Z"
   },
   {
    "duration": 0,
    "start_time": "2022-12-12T18:09:48.062Z"
   },
   {
    "duration": 7484,
    "start_time": "2022-12-12T18:11:57.006Z"
   },
   {
    "duration": 2774,
    "start_time": "2022-12-12T18:12:04.493Z"
   },
   {
    "duration": 2,
    "start_time": "2022-12-12T18:12:07.269Z"
   },
   {
    "duration": 20,
    "start_time": "2022-12-12T18:12:07.273Z"
   },
   {
    "duration": 59,
    "start_time": "2022-12-12T18:12:07.295Z"
   },
   {
    "duration": 94994,
    "start_time": "2022-12-12T18:12:07.356Z"
   },
   {
    "duration": 2452,
    "start_time": "2022-12-12T18:13:42.351Z"
   },
   {
    "duration": 488118,
    "start_time": "2022-12-12T18:13:44.805Z"
   },
   {
    "duration": 21,
    "start_time": "2022-12-12T18:21:52.925Z"
   },
   {
    "duration": 6,
    "start_time": "2022-12-12T18:21:52.949Z"
   },
   {
    "duration": 5141,
    "start_time": "2022-12-12T18:21:52.957Z"
   },
   {
    "duration": 2,
    "start_time": "2022-12-12T18:21:58.101Z"
   },
   {
    "duration": 23,
    "start_time": "2022-12-12T18:21:58.105Z"
   },
   {
    "duration": 42,
    "start_time": "2022-12-12T18:21:58.138Z"
   },
   {
    "duration": 6,
    "start_time": "2022-12-12T18:21:58.182Z"
   },
   {
    "duration": 7092,
    "start_time": "2022-12-12T18:21:58.190Z"
   },
   {
    "duration": 2,
    "start_time": "2022-12-12T18:22:05.284Z"
   },
   {
    "duration": 63,
    "start_time": "2022-12-12T18:22:05.288Z"
   },
   {
    "duration": 0,
    "start_time": "2022-12-12T18:22:05.353Z"
   },
   {
    "duration": 0,
    "start_time": "2022-12-12T18:22:05.355Z"
   },
   {
    "duration": 0,
    "start_time": "2022-12-12T18:22:05.356Z"
   },
   {
    "duration": 0,
    "start_time": "2022-12-12T18:22:05.357Z"
   },
   {
    "duration": 0,
    "start_time": "2022-12-12T18:22:05.358Z"
   },
   {
    "duration": 0,
    "start_time": "2022-12-12T18:22:05.360Z"
   },
   {
    "duration": 0,
    "start_time": "2022-12-12T18:22:05.361Z"
   },
   {
    "duration": 0,
    "start_time": "2022-12-12T18:22:05.362Z"
   },
   {
    "duration": 0,
    "start_time": "2022-12-12T18:22:05.363Z"
   },
   {
    "duration": 0,
    "start_time": "2022-12-12T18:22:05.364Z"
   },
   {
    "duration": 0,
    "start_time": "2022-12-12T18:22:05.366Z"
   },
   {
    "duration": 0,
    "start_time": "2022-12-12T18:22:05.368Z"
   },
   {
    "duration": 0,
    "start_time": "2022-12-12T18:22:05.369Z"
   },
   {
    "duration": 0,
    "start_time": "2022-12-12T18:22:05.371Z"
   },
   {
    "duration": 0,
    "start_time": "2022-12-12T18:22:05.372Z"
   },
   {
    "duration": 0,
    "start_time": "2022-12-12T18:22:05.374Z"
   },
   {
    "duration": 4,
    "start_time": "2022-12-12T18:23:05.476Z"
   },
   {
    "duration": 145,
    "start_time": "2022-12-12T18:23:10.000Z"
   },
   {
    "duration": 4,
    "start_time": "2022-12-12T18:23:58.153Z"
   },
   {
    "duration": 240,
    "start_time": "2022-12-12T18:24:07.035Z"
   },
   {
    "duration": 83,
    "start_time": "2022-12-12T18:24:27.470Z"
   },
   {
    "duration": 99,
    "start_time": "2022-12-12T18:24:43.194Z"
   },
   {
    "duration": 4,
    "start_time": "2022-12-12T18:25:01.976Z"
   },
   {
    "duration": 94,
    "start_time": "2022-12-12T18:25:04.406Z"
   },
   {
    "duration": 4,
    "start_time": "2022-12-12T18:26:31.869Z"
   },
   {
    "duration": 55676,
    "start_time": "2022-12-12T18:26:33.763Z"
   },
   {
    "duration": 4,
    "start_time": "2022-12-12T18:27:34.493Z"
   },
   {
    "duration": 4,
    "start_time": "2022-12-12T18:28:17.302Z"
   },
   {
    "duration": 221155,
    "start_time": "2022-12-12T18:28:19.000Z"
   },
   {
    "duration": 4,
    "start_time": "2022-12-12T18:32:04.581Z"
   },
   {
    "duration": 5,
    "start_time": "2022-12-12T18:32:12.491Z"
   },
   {
    "duration": 271091,
    "start_time": "2022-12-12T18:32:14.219Z"
   },
   {
    "duration": 4,
    "start_time": "2022-12-12T18:36:52.529Z"
   },
   {
    "duration": 5477,
    "start_time": "2022-12-12T18:44:45.949Z"
   },
   {
    "duration": 648,
    "start_time": "2022-12-12T19:40:13.351Z"
   },
   {
    "duration": 760,
    "start_time": "2022-12-12T19:40:48.111Z"
   },
   {
    "duration": 754,
    "start_time": "2022-12-12T19:47:11.299Z"
   },
   {
    "duration": 780,
    "start_time": "2022-12-12T19:47:58.488Z"
   },
   {
    "duration": 76,
    "start_time": "2022-12-12T19:53:31.096Z"
   },
   {
    "duration": 69,
    "start_time": "2022-12-12T19:54:51.652Z"
   },
   {
    "duration": 14,
    "start_time": "2022-12-12T19:58:23.913Z"
   },
   {
    "duration": 13,
    "start_time": "2022-12-12T19:59:28.194Z"
   },
   {
    "duration": 5987,
    "start_time": "2022-12-12T19:59:34.999Z"
   },
   {
    "duration": 22,
    "start_time": "2022-12-12T19:59:50.860Z"
   },
   {
    "duration": 12,
    "start_time": "2022-12-12T20:00:27.119Z"
   },
   {
    "duration": 15,
    "start_time": "2022-12-12T20:00:33.952Z"
   },
   {
    "duration": 12,
    "start_time": "2022-12-12T20:00:54.949Z"
   },
   {
    "duration": 3,
    "start_time": "2022-12-12T20:01:29.162Z"
   },
   {
    "duration": 12,
    "start_time": "2022-12-12T20:01:56.758Z"
   },
   {
    "duration": 64,
    "start_time": "2022-12-12T20:03:58.904Z"
   },
   {
    "duration": 4,
    "start_time": "2022-12-12T20:04:32.548Z"
   },
   {
    "duration": 2,
    "start_time": "2022-12-12T20:04:34.742Z"
   },
   {
    "duration": 3,
    "start_time": "2022-12-12T20:04:41.284Z"
   },
   {
    "duration": 3,
    "start_time": "2022-12-12T20:09:22.351Z"
   },
   {
    "duration": 2,
    "start_time": "2022-12-12T20:09:27.453Z"
   },
   {
    "duration": 3,
    "start_time": "2022-12-12T20:09:33.275Z"
   },
   {
    "duration": 8095,
    "start_time": "2022-12-12T20:10:54.257Z"
   },
   {
    "duration": 3009,
    "start_time": "2022-12-12T20:11:02.355Z"
   },
   {
    "duration": 3,
    "start_time": "2022-12-12T20:11:05.366Z"
   },
   {
    "duration": 23,
    "start_time": "2022-12-12T20:11:05.370Z"
   },
   {
    "duration": 51,
    "start_time": "2022-12-12T20:11:05.396Z"
   },
   {
    "duration": 103955,
    "start_time": "2022-12-12T20:11:05.449Z"
   },
   {
    "duration": 2582,
    "start_time": "2022-12-12T20:12:49.407Z"
   },
   {
    "duration": 541710,
    "start_time": "2022-12-12T20:12:51.991Z"
   },
   {
    "duration": 14,
    "start_time": "2022-12-12T20:21:53.703Z"
   },
   {
    "duration": 21,
    "start_time": "2022-12-12T20:21:53.718Z"
   },
   {
    "duration": 5687,
    "start_time": "2022-12-12T20:21:53.742Z"
   },
   {
    "duration": 7,
    "start_time": "2022-12-12T20:21:59.431Z"
   },
   {
    "duration": 18,
    "start_time": "2022-12-12T20:21:59.441Z"
   },
   {
    "duration": 36,
    "start_time": "2022-12-12T20:21:59.462Z"
   },
   {
    "duration": 6,
    "start_time": "2022-12-12T20:21:59.501Z"
   },
   {
    "duration": 7910,
    "start_time": "2022-12-12T20:21:59.509Z"
   },
   {
    "duration": 177341,
    "start_time": "2022-12-12T20:22:07.421Z"
   },
   {
    "duration": 161,
    "start_time": "2022-12-12T20:25:04.764Z"
   },
   {
    "duration": 0,
    "start_time": "2022-12-12T20:25:04.927Z"
   },
   {
    "duration": 0,
    "start_time": "2022-12-12T20:25:04.936Z"
   },
   {
    "duration": 0,
    "start_time": "2022-12-12T20:25:04.938Z"
   },
   {
    "duration": 0,
    "start_time": "2022-12-12T20:25:04.939Z"
   },
   {
    "duration": 0,
    "start_time": "2022-12-12T20:25:04.941Z"
   },
   {
    "duration": 0,
    "start_time": "2022-12-12T20:25:04.942Z"
   },
   {
    "duration": 0,
    "start_time": "2022-12-12T20:25:04.943Z"
   },
   {
    "duration": 0,
    "start_time": "2022-12-12T20:25:04.945Z"
   },
   {
    "duration": 0,
    "start_time": "2022-12-12T20:25:04.947Z"
   },
   {
    "duration": 0,
    "start_time": "2022-12-12T20:25:04.948Z"
   },
   {
    "duration": 0,
    "start_time": "2022-12-12T20:25:04.949Z"
   },
   {
    "duration": 1,
    "start_time": "2022-12-12T20:25:04.950Z"
   },
   {
    "duration": 0,
    "start_time": "2022-12-12T20:25:04.952Z"
   },
   {
    "duration": 0,
    "start_time": "2022-12-12T20:25:04.953Z"
   },
   {
    "duration": 0,
    "start_time": "2022-12-12T20:25:04.955Z"
   },
   {
    "duration": 0,
    "start_time": "2022-12-12T20:25:04.956Z"
   },
   {
    "duration": 0,
    "start_time": "2022-12-12T20:25:04.957Z"
   },
   {
    "duration": 0,
    "start_time": "2022-12-12T20:25:04.958Z"
   },
   {
    "duration": 0,
    "start_time": "2022-12-12T20:25:04.959Z"
   },
   {
    "duration": 0,
    "start_time": "2022-12-12T20:25:04.960Z"
   },
   {
    "duration": 0,
    "start_time": "2022-12-12T20:25:04.961Z"
   },
   {
    "duration": 4,
    "start_time": "2022-12-12T20:25:38.962Z"
   },
   {
    "duration": 8129,
    "start_time": "2022-12-12T20:50:58.346Z"
   },
   {
    "duration": 2166,
    "start_time": "2022-12-12T20:51:06.478Z"
   },
   {
    "duration": 3,
    "start_time": "2022-12-12T20:51:08.646Z"
   },
   {
    "duration": 15,
    "start_time": "2022-12-12T20:51:08.651Z"
   },
   {
    "duration": 56,
    "start_time": "2022-12-12T20:51:08.668Z"
   },
   {
    "duration": 96898,
    "start_time": "2022-12-12T20:51:08.726Z"
   },
   {
    "duration": 2453,
    "start_time": "2022-12-12T20:52:45.626Z"
   },
   {
    "duration": 488718,
    "start_time": "2022-12-12T20:52:48.081Z"
   },
   {
    "duration": 14,
    "start_time": "2022-12-12T21:00:56.801Z"
   },
   {
    "duration": 21,
    "start_time": "2022-12-12T21:00:56.817Z"
   },
   {
    "duration": 5059,
    "start_time": "2022-12-12T21:00:56.840Z"
   },
   {
    "duration": 2,
    "start_time": "2022-12-12T21:01:01.901Z"
   },
   {
    "duration": 13,
    "start_time": "2022-12-12T21:01:01.905Z"
   },
   {
    "duration": 44,
    "start_time": "2022-12-12T21:01:01.920Z"
   },
   {
    "duration": 4,
    "start_time": "2022-12-12T21:01:01.966Z"
   },
   {
    "duration": 7212,
    "start_time": "2022-12-12T21:01:01.972Z"
   },
   {
    "duration": 165911,
    "start_time": "2022-12-12T21:01:09.187Z"
   },
   {
    "duration": 3,
    "start_time": "2022-12-12T21:03:55.100Z"
   },
   {
    "duration": 5,
    "start_time": "2022-12-12T21:03:55.105Z"
   },
   {
    "duration": 7,
    "start_time": "2022-12-12T21:03:55.112Z"
   },
   {
    "duration": 17,
    "start_time": "2022-12-12T21:03:55.121Z"
   },
   {
    "duration": 3,
    "start_time": "2022-12-12T21:03:55.139Z"
   },
   {
    "duration": 5,
    "start_time": "2022-12-12T21:03:55.144Z"
   },
   {
    "duration": 11,
    "start_time": "2022-12-12T21:03:55.151Z"
   },
   {
    "duration": 5,
    "start_time": "2022-12-12T21:03:55.164Z"
   },
   {
    "duration": 5,
    "start_time": "2022-12-12T21:03:55.171Z"
   },
   {
    "duration": 33878863,
    "start_time": "2022-12-12T21:03:55.178Z"
   },
   {
    "duration": 3,
    "start_time": "2022-12-13T06:28:34.044Z"
   },
   {
    "duration": 6,
    "start_time": "2022-12-13T06:28:34.049Z"
   },
   {
    "duration": 5,
    "start_time": "2022-12-13T06:28:34.056Z"
   },
   {
    "duration": 5,
    "start_time": "2022-12-13T06:28:34.063Z"
   },
   {
    "duration": 9,
    "start_time": "2022-12-13T06:28:34.069Z"
   },
   {
    "duration": 210371,
    "start_time": "2022-12-13T06:28:34.079Z"
   },
   {
    "duration": 4,
    "start_time": "2022-12-13T06:32:04.452Z"
   },
   {
    "duration": 8,
    "start_time": "2022-12-13T06:32:04.457Z"
   },
   {
    "duration": 256353,
    "start_time": "2022-12-13T06:32:04.467Z"
   },
   {
    "duration": 15,
    "start_time": "2022-12-13T06:36:20.822Z"
   },
   {
    "duration": 5,
    "start_time": "2022-12-13T06:36:20.839Z"
   },
   {
    "duration": 21,
    "start_time": "2022-12-13T06:36:20.846Z"
   },
   {
    "duration": 68,
    "start_time": "2022-12-13T06:36:20.869Z"
   },
   {
    "duration": 845,
    "start_time": "2022-12-13T06:36:20.940Z"
   },
   {
    "duration": 147,
    "start_time": "2022-12-13T07:40:16.663Z"
   },
   {
    "duration": 4,
    "start_time": "2022-12-13T07:41:05.208Z"
   }
  ],
  "kernelspec": {
   "display_name": "Python 3 (ipykernel)",
   "language": "python",
   "name": "python3"
  },
  "language_info": {
   "codemirror_mode": {
    "name": "ipython",
    "version": 3
   },
   "file_extension": ".py",
   "mimetype": "text/x-python",
   "name": "python",
   "nbconvert_exporter": "python",
   "pygments_lexer": "ipython3",
   "version": "3.9.13"
  },
  "toc": {
   "base_numbering": 1,
   "nav_menu": {},
   "number_sections": true,
   "sideBar": true,
   "skip_h1_title": true,
   "title_cell": "Содержание",
   "title_sidebar": "Contents",
   "toc_cell": true,
   "toc_position": {
    "height": "calc(100% - 180px)",
    "left": "10px",
    "top": "150px",
    "width": "302.391px"
   },
   "toc_section_display": true,
   "toc_window_display": true
  }
 },
 "nbformat": 4,
 "nbformat_minor": 2
}
